{
 "cells": [
  {
   "cell_type": "code",
   "execution_count": 1,
   "id": "b4cf8e77",
   "metadata": {},
   "outputs": [],
   "source": [
    "## Import packages \n",
    "\n",
    "import numpy as np\n",
    "import pandas as pd \n",
    "import matplotlib.pyplot as plt \n",
    "import seaborn as sns\n"
   ]
  },
  {
   "cell_type": "code",
   "execution_count": 2,
   "id": "b84a5a15",
   "metadata": {},
   "outputs": [],
   "source": [
    "insurance = pd.read_csv(r\"new_insurance_data.csv\")"
   ]
  },
  {
   "cell_type": "code",
   "execution_count": 3,
   "id": "a335dae8",
   "metadata": {},
   "outputs": [],
   "source": [
    "from sklearn.preprocessing import LabelEncoder\n",
    "\n",
    "le = LabelEncoder()\n",
    "\n",
    "insurance['smoker']=le.fit_transform(insurance['smoker'])\n",
    "insurance['smoker']=insurance['smoker'].astype(int)\n",
    "\n",
    "insurance['sex']=le.fit_transform(insurance['sex'])\n",
    "insurance['sex']=insurance['sex'].astype(int)\n",
    "\n",
    "insurance['region']=le.fit_transform(insurance['region'])\n",
    "insurance['region']=insurance['region'].astype(int)"
   ]
  },
  {
   "cell_type": "code",
   "execution_count": 4,
   "id": "f763eb86",
   "metadata": {},
   "outputs": [
    {
     "data": {
      "text/html": [
       "<div>\n",
       "<style scoped>\n",
       "    .dataframe tbody tr th:only-of-type {\n",
       "        vertical-align: middle;\n",
       "    }\n",
       "\n",
       "    .dataframe tbody tr th {\n",
       "        vertical-align: top;\n",
       "    }\n",
       "\n",
       "    .dataframe thead th {\n",
       "        text-align: right;\n",
       "    }\n",
       "</style>\n",
       "<table border=\"1\" class=\"dataframe\">\n",
       "  <thead>\n",
       "    <tr style=\"text-align: right;\">\n",
       "      <th></th>\n",
       "      <th>age</th>\n",
       "      <th>sex</th>\n",
       "      <th>bmi</th>\n",
       "      <th>children</th>\n",
       "      <th>smoker</th>\n",
       "      <th>Claim_Amount</th>\n",
       "      <th>past_consultations</th>\n",
       "      <th>num_of_steps</th>\n",
       "      <th>Hospital_expenditure</th>\n",
       "      <th>NUmber_of_past_hospitalizations</th>\n",
       "      <th>Anual_Salary</th>\n",
       "      <th>region</th>\n",
       "      <th>charges</th>\n",
       "    </tr>\n",
       "  </thead>\n",
       "  <tbody>\n",
       "    <tr>\n",
       "      <th>0</th>\n",
       "      <td>18.0</td>\n",
       "      <td>1</td>\n",
       "      <td>23.21</td>\n",
       "      <td>0.0</td>\n",
       "      <td>0</td>\n",
       "      <td>29087.54313</td>\n",
       "      <td>17.0</td>\n",
       "      <td>715428.0</td>\n",
       "      <td>4720920.992</td>\n",
       "      <td>0.0</td>\n",
       "      <td>55784970.05</td>\n",
       "      <td>2</td>\n",
       "      <td>1121.8739</td>\n",
       "    </tr>\n",
       "    <tr>\n",
       "      <th>1</th>\n",
       "      <td>18.0</td>\n",
       "      <td>1</td>\n",
       "      <td>30.14</td>\n",
       "      <td>0.0</td>\n",
       "      <td>0</td>\n",
       "      <td>39053.67437</td>\n",
       "      <td>7.0</td>\n",
       "      <td>699157.0</td>\n",
       "      <td>4329831.676</td>\n",
       "      <td>0.0</td>\n",
       "      <td>13700885.19</td>\n",
       "      <td>2</td>\n",
       "      <td>1131.5066</td>\n",
       "    </tr>\n",
       "    <tr>\n",
       "      <th>2</th>\n",
       "      <td>18.0</td>\n",
       "      <td>1</td>\n",
       "      <td>33.33</td>\n",
       "      <td>0.0</td>\n",
       "      <td>0</td>\n",
       "      <td>39023.62759</td>\n",
       "      <td>19.0</td>\n",
       "      <td>702341.0</td>\n",
       "      <td>6884860.774</td>\n",
       "      <td>0.0</td>\n",
       "      <td>73523107.27</td>\n",
       "      <td>2</td>\n",
       "      <td>1135.9407</td>\n",
       "    </tr>\n",
       "    <tr>\n",
       "      <th>3</th>\n",
       "      <td>18.0</td>\n",
       "      <td>1</td>\n",
       "      <td>33.66</td>\n",
       "      <td>0.0</td>\n",
       "      <td>0</td>\n",
       "      <td>28185.39332</td>\n",
       "      <td>11.0</td>\n",
       "      <td>700250.0</td>\n",
       "      <td>4274773.550</td>\n",
       "      <td>0.0</td>\n",
       "      <td>75819679.60</td>\n",
       "      <td>2</td>\n",
       "      <td>1136.3994</td>\n",
       "    </tr>\n",
       "    <tr>\n",
       "      <th>4</th>\n",
       "      <td>18.0</td>\n",
       "      <td>1</td>\n",
       "      <td>34.10</td>\n",
       "      <td>0.0</td>\n",
       "      <td>0</td>\n",
       "      <td>14697.85941</td>\n",
       "      <td>16.0</td>\n",
       "      <td>711584.0</td>\n",
       "      <td>3787293.921</td>\n",
       "      <td>0.0</td>\n",
       "      <td>23012320.01</td>\n",
       "      <td>2</td>\n",
       "      <td>1137.0110</td>\n",
       "    </tr>\n",
       "  </tbody>\n",
       "</table>\n",
       "</div>"
      ],
      "text/plain": [
       "    age  sex    bmi  children  smoker  Claim_Amount  past_consultations  \\\n",
       "0  18.0    1  23.21       0.0       0   29087.54313                17.0   \n",
       "1  18.0    1  30.14       0.0       0   39053.67437                 7.0   \n",
       "2  18.0    1  33.33       0.0       0   39023.62759                19.0   \n",
       "3  18.0    1  33.66       0.0       0   28185.39332                11.0   \n",
       "4  18.0    1  34.10       0.0       0   14697.85941                16.0   \n",
       "\n",
       "   num_of_steps  Hospital_expenditure  NUmber_of_past_hospitalizations  \\\n",
       "0      715428.0           4720920.992                              0.0   \n",
       "1      699157.0           4329831.676                              0.0   \n",
       "2      702341.0           6884860.774                              0.0   \n",
       "3      700250.0           4274773.550                              0.0   \n",
       "4      711584.0           3787293.921                              0.0   \n",
       "\n",
       "   Anual_Salary  region    charges  \n",
       "0   55784970.05       2  1121.8739  \n",
       "1   13700885.19       2  1131.5066  \n",
       "2   73523107.27       2  1135.9407  \n",
       "3   75819679.60       2  1136.3994  \n",
       "4   23012320.01       2  1137.0110  "
      ]
     },
     "execution_count": 4,
     "metadata": {},
     "output_type": "execute_result"
    }
   ],
   "source": [
    "insurance.head()"
   ]
  },
  {
   "cell_type": "code",
   "execution_count": 5,
   "id": "0852d88f",
   "metadata": {},
   "outputs": [
    {
     "data": {
      "text/plain": [
       "(1338, 13)"
      ]
     },
     "execution_count": 5,
     "metadata": {},
     "output_type": "execute_result"
    }
   ],
   "source": [
    "insurance.shape"
   ]
  },
  {
   "cell_type": "code",
   "execution_count": 6,
   "id": "1416ae70",
   "metadata": {},
   "outputs": [
    {
     "data": {
      "text/html": [
       "<div>\n",
       "<style scoped>\n",
       "    .dataframe tbody tr th:only-of-type {\n",
       "        vertical-align: middle;\n",
       "    }\n",
       "\n",
       "    .dataframe tbody tr th {\n",
       "        vertical-align: top;\n",
       "    }\n",
       "\n",
       "    .dataframe thead th {\n",
       "        text-align: right;\n",
       "    }\n",
       "</style>\n",
       "<table border=\"1\" class=\"dataframe\">\n",
       "  <thead>\n",
       "    <tr style=\"text-align: right;\">\n",
       "      <th></th>\n",
       "      <th>age</th>\n",
       "      <th>sex</th>\n",
       "      <th>bmi</th>\n",
       "      <th>children</th>\n",
       "      <th>smoker</th>\n",
       "      <th>Claim_Amount</th>\n",
       "      <th>past_consultations</th>\n",
       "      <th>num_of_steps</th>\n",
       "      <th>Hospital_expenditure</th>\n",
       "      <th>NUmber_of_past_hospitalizations</th>\n",
       "      <th>Anual_Salary</th>\n",
       "      <th>region</th>\n",
       "      <th>charges</th>\n",
       "    </tr>\n",
       "  </thead>\n",
       "  <tbody>\n",
       "    <tr>\n",
       "      <th>count</th>\n",
       "      <td>1329.0</td>\n",
       "      <td>1338.0</td>\n",
       "      <td>1335.0</td>\n",
       "      <td>1333.0</td>\n",
       "      <td>1338.0</td>\n",
       "      <td>1324.0</td>\n",
       "      <td>1332.0</td>\n",
       "      <td>1335.0</td>\n",
       "      <td>1334.0</td>\n",
       "      <td>1336.0</td>\n",
       "      <td>1.332000e+03</td>\n",
       "      <td>1338.0</td>\n",
       "      <td>1338.0</td>\n",
       "    </tr>\n",
       "    <tr>\n",
       "      <th>mean</th>\n",
       "      <td>39.0</td>\n",
       "      <td>1.0</td>\n",
       "      <td>31.0</td>\n",
       "      <td>1.0</td>\n",
       "      <td>0.0</td>\n",
       "      <td>33361.0</td>\n",
       "      <td>15.0</td>\n",
       "      <td>910005.0</td>\n",
       "      <td>15841792.0</td>\n",
       "      <td>1.0</td>\n",
       "      <td>3.696849e+08</td>\n",
       "      <td>2.0</td>\n",
       "      <td>13270.0</td>\n",
       "    </tr>\n",
       "    <tr>\n",
       "      <th>std</th>\n",
       "      <td>14.0</td>\n",
       "      <td>1.0</td>\n",
       "      <td>6.0</td>\n",
       "      <td>1.0</td>\n",
       "      <td>0.0</td>\n",
       "      <td>15617.0</td>\n",
       "      <td>7.0</td>\n",
       "      <td>91886.0</td>\n",
       "      <td>26693048.0</td>\n",
       "      <td>1.0</td>\n",
       "      <td>5.668843e+08</td>\n",
       "      <td>1.0</td>\n",
       "      <td>12110.0</td>\n",
       "    </tr>\n",
       "    <tr>\n",
       "      <th>min</th>\n",
       "      <td>18.0</td>\n",
       "      <td>0.0</td>\n",
       "      <td>16.0</td>\n",
       "      <td>0.0</td>\n",
       "      <td>0.0</td>\n",
       "      <td>1920.0</td>\n",
       "      <td>1.0</td>\n",
       "      <td>695430.0</td>\n",
       "      <td>29453.0</td>\n",
       "      <td>0.0</td>\n",
       "      <td>2.747072e+06</td>\n",
       "      <td>0.0</td>\n",
       "      <td>1122.0</td>\n",
       "    </tr>\n",
       "    <tr>\n",
       "      <th>25%</th>\n",
       "      <td>27.0</td>\n",
       "      <td>0.0</td>\n",
       "      <td>26.0</td>\n",
       "      <td>0.0</td>\n",
       "      <td>0.0</td>\n",
       "      <td>20769.0</td>\n",
       "      <td>9.0</td>\n",
       "      <td>847200.0</td>\n",
       "      <td>4077633.0</td>\n",
       "      <td>1.0</td>\n",
       "      <td>7.701932e+07</td>\n",
       "      <td>1.0</td>\n",
       "      <td>4740.0</td>\n",
       "    </tr>\n",
       "    <tr>\n",
       "      <th>50%</th>\n",
       "      <td>39.0</td>\n",
       "      <td>1.0</td>\n",
       "      <td>30.0</td>\n",
       "      <td>1.0</td>\n",
       "      <td>0.0</td>\n",
       "      <td>33700.0</td>\n",
       "      <td>15.0</td>\n",
       "      <td>914300.0</td>\n",
       "      <td>7490337.0</td>\n",
       "      <td>1.0</td>\n",
       "      <td>1.419361e+08</td>\n",
       "      <td>2.0</td>\n",
       "      <td>9382.0</td>\n",
       "    </tr>\n",
       "    <tr>\n",
       "      <th>75%</th>\n",
       "      <td>51.0</td>\n",
       "      <td>1.0</td>\n",
       "      <td>35.0</td>\n",
       "      <td>2.0</td>\n",
       "      <td>0.0</td>\n",
       "      <td>45052.0</td>\n",
       "      <td>20.0</td>\n",
       "      <td>971684.0</td>\n",
       "      <td>10840822.0</td>\n",
       "      <td>1.0</td>\n",
       "      <td>3.243499e+08</td>\n",
       "      <td>2.0</td>\n",
       "      <td>16640.0</td>\n",
       "    </tr>\n",
       "    <tr>\n",
       "      <th>max</th>\n",
       "      <td>64.0</td>\n",
       "      <td>1.0</td>\n",
       "      <td>53.0</td>\n",
       "      <td>5.0</td>\n",
       "      <td>1.0</td>\n",
       "      <td>77278.0</td>\n",
       "      <td>40.0</td>\n",
       "      <td>1107872.0</td>\n",
       "      <td>261631699.0</td>\n",
       "      <td>3.0</td>\n",
       "      <td>4.117197e+09</td>\n",
       "      <td>3.0</td>\n",
       "      <td>63770.0</td>\n",
       "    </tr>\n",
       "  </tbody>\n",
       "</table>\n",
       "</div>"
      ],
      "text/plain": [
       "          age     sex     bmi  children  smoker  Claim_Amount  \\\n",
       "count  1329.0  1338.0  1335.0    1333.0  1338.0        1324.0   \n",
       "mean     39.0     1.0    31.0       1.0     0.0       33361.0   \n",
       "std      14.0     1.0     6.0       1.0     0.0       15617.0   \n",
       "min      18.0     0.0    16.0       0.0     0.0        1920.0   \n",
       "25%      27.0     0.0    26.0       0.0     0.0       20769.0   \n",
       "50%      39.0     1.0    30.0       1.0     0.0       33700.0   \n",
       "75%      51.0     1.0    35.0       2.0     0.0       45052.0   \n",
       "max      64.0     1.0    53.0       5.0     1.0       77278.0   \n",
       "\n",
       "       past_consultations  num_of_steps  Hospital_expenditure  \\\n",
       "count              1332.0        1335.0                1334.0   \n",
       "mean                 15.0      910005.0            15841792.0   \n",
       "std                   7.0       91886.0            26693048.0   \n",
       "min                   1.0      695430.0               29453.0   \n",
       "25%                   9.0      847200.0             4077633.0   \n",
       "50%                  15.0      914300.0             7490337.0   \n",
       "75%                  20.0      971684.0            10840822.0   \n",
       "max                  40.0     1107872.0           261631699.0   \n",
       "\n",
       "       NUmber_of_past_hospitalizations  Anual_Salary  region  charges  \n",
       "count                           1336.0  1.332000e+03  1338.0   1338.0  \n",
       "mean                               1.0  3.696849e+08     2.0  13270.0  \n",
       "std                                1.0  5.668843e+08     1.0  12110.0  \n",
       "min                                0.0  2.747072e+06     0.0   1122.0  \n",
       "25%                                1.0  7.701932e+07     1.0   4740.0  \n",
       "50%                                1.0  1.419361e+08     2.0   9382.0  \n",
       "75%                                1.0  3.243499e+08     2.0  16640.0  \n",
       "max                                3.0  4.117197e+09     3.0  63770.0  "
      ]
     },
     "execution_count": 6,
     "metadata": {},
     "output_type": "execute_result"
    }
   ],
   "source": [
    "insurance.describe().round()"
   ]
  },
  {
   "cell_type": "code",
   "execution_count": 7,
   "id": "8a442340",
   "metadata": {},
   "outputs": [
    {
     "name": "stdout",
     "output_type": "stream",
     "text": [
      "<class 'pandas.core.frame.DataFrame'>\n",
      "RangeIndex: 1338 entries, 0 to 1337\n",
      "Data columns (total 13 columns):\n",
      " #   Column                           Non-Null Count  Dtype  \n",
      "---  ------                           --------------  -----  \n",
      " 0   age                              1329 non-null   float64\n",
      " 1   sex                              1338 non-null   int32  \n",
      " 2   bmi                              1335 non-null   float64\n",
      " 3   children                         1333 non-null   float64\n",
      " 4   smoker                           1338 non-null   int32  \n",
      " 5   Claim_Amount                     1324 non-null   float64\n",
      " 6   past_consultations               1332 non-null   float64\n",
      " 7   num_of_steps                     1335 non-null   float64\n",
      " 8   Hospital_expenditure             1334 non-null   float64\n",
      " 9   NUmber_of_past_hospitalizations  1336 non-null   float64\n",
      " 10  Anual_Salary                     1332 non-null   float64\n",
      " 11  region                           1338 non-null   int32  \n",
      " 12  charges                          1338 non-null   float64\n",
      "dtypes: float64(10), int32(3)\n",
      "memory usage: 120.3 KB\n"
     ]
    }
   ],
   "source": [
    "insurance.info()"
   ]
  },
  {
   "cell_type": "code",
   "execution_count": 8,
   "id": "9d83c3b8",
   "metadata": {},
   "outputs": [
    {
     "data": {
      "text/plain": [
       "Index(['age', 'sex', 'bmi', 'children', 'smoker', 'Claim_Amount',\n",
       "       'past_consultations', 'num_of_steps', 'Hospital_expenditure',\n",
       "       'NUmber_of_past_hospitalizations', 'Anual_Salary', 'region', 'charges'],\n",
       "      dtype='object')"
      ]
     },
     "execution_count": 8,
     "metadata": {},
     "output_type": "execute_result"
    }
   ],
   "source": [
    "insurance.columns"
   ]
  },
  {
   "cell_type": "code",
   "execution_count": 9,
   "id": "94e403d3",
   "metadata": {},
   "outputs": [
    {
     "name": "stderr",
     "output_type": "stream",
     "text": [
      "C:\\Users\\souri\\anaconda3\\lib\\site-packages\\seaborn\\distributions.py:2619: FutureWarning: `distplot` is a deprecated function and will be removed in a future version. Please adapt your code to use either `displot` (a figure-level function with similar flexibility) or `histplot` (an axes-level function for histograms).\n",
      "  warnings.warn(msg, FutureWarning)\n"
     ]
    },
    {
     "data": {
      "text/plain": [
       "<AxesSubplot:xlabel='age', ylabel='Density'>"
      ]
     },
     "execution_count": 9,
     "metadata": {},
     "output_type": "execute_result"
    },
    {
     "data": {
      "image/png": "[encoded data removed]",
      "text/plain": [
       "<Figure size 432x288 with 1 Axes>"
      ]
     },
     "metadata": {
      "needs_background": "light"
     },
     "output_type": "display_data"
    }
   ],
   "source": [
    "## Graph exploration \n",
    "sns.distplot(insurance[\"age\"])"
   ]
  },
  {
   "cell_type": "code",
   "execution_count": 10,
   "id": "3255c23d",
   "metadata": {},
   "outputs": [],
   "source": [
    "## Above graph : peak at 20.. Infer : most of the people are yound and the dist is right skewed "
   ]
  },
  {
   "cell_type": "code",
   "execution_count": 11,
   "id": "e340aa93",
   "metadata": {},
   "outputs": [
    {
     "name": "stderr",
     "output_type": "stream",
     "text": [
      "C:\\Users\\souri\\anaconda3\\lib\\site-packages\\seaborn\\distributions.py:2619: FutureWarning: `distplot` is a deprecated function and will be removed in a future version. Please adapt your code to use either `displot` (a figure-level function with similar flexibility) or `histplot` (an axes-level function for histograms).\n",
      "  warnings.warn(msg, FutureWarning)\n"
     ]
    },
    {
     "data": {
      "text/plain": [
       "<AxesSubplot:xlabel='bmi', ylabel='Density'>"
      ]
     },
     "execution_count": 11,
     "metadata": {},
     "output_type": "execute_result"
    },
    {
     "data": {
      "image/png": "[encoded data removed]",
      "text/plain": [
       "<Figure size 432x288 with 1 Axes>"
      ]
     },
     "metadata": {
      "needs_background": "light"
     },
     "output_type": "display_data"
    }
   ],
   "source": [
    "sns.distplot(insurance['bmi'])"
   ]
  },
  {
   "cell_type": "code",
   "execution_count": 12,
   "id": "174a4a02",
   "metadata": {},
   "outputs": [
    {
     "name": "stderr",
     "output_type": "stream",
     "text": [
      "C:\\Users\\souri\\anaconda3\\lib\\site-packages\\seaborn\\_decorators.py:36: FutureWarning: Pass the following variable as a keyword arg: x. From version 0.12, the only valid positional argument will be `data`, and passing other arguments without an explicit keyword will result in an error or misinterpretation.\n",
      "  warnings.warn(\n"
     ]
    },
    {
     "data": {
      "text/plain": [
       "<AxesSubplot:xlabel='children', ylabel='count'>"
      ]
     },
     "execution_count": 12,
     "metadata": {},
     "output_type": "execute_result"
    },
    {
     "data": {
      "image/png": "[encoded data removed]",
      "text/plain": [
       "<Figure size 432x288 with 1 Axes>"
      ]
     },
     "metadata": {
      "needs_background": "light"
     },
     "output_type": "display_data"
    }
   ],
   "source": [
    "sns.countplot(insurance[\"children\"])"
   ]
  },
  {
   "cell_type": "code",
   "execution_count": 13,
   "id": "9056e5db",
   "metadata": {},
   "outputs": [
    {
     "name": "stderr",
     "output_type": "stream",
     "text": [
      "C:\\Users\\souri\\anaconda3\\lib\\site-packages\\seaborn\\_decorators.py:36: FutureWarning: Pass the following variable as a keyword arg: x. From version 0.12, the only valid positional argument will be `data`, and passing other arguments without an explicit keyword will result in an error or misinterpretation.\n",
      "  warnings.warn(\n"
     ]
    },
    {
     "data": {
      "text/plain": [
       "<AxesSubplot:xlabel='smoker', ylabel='count'>"
      ]
     },
     "execution_count": 13,
     "metadata": {},
     "output_type": "execute_result"
    },
    {
     "data": {
      "image/png": "[encoded data removed]",
      "text/plain": [
       "<Figure size 432x288 with 1 Axes>"
      ]
     },
     "metadata": {
      "needs_background": "light"
     },
     "output_type": "display_data"
    }
   ],
   "source": [
    "sns.countplot(insurance[\"smoker\"])"
   ]
  },
  {
   "cell_type": "code",
   "execution_count": 14,
   "id": "21f3f39a",
   "metadata": {},
   "outputs": [
    {
     "name": "stderr",
     "output_type": "stream",
     "text": [
      "C:\\Users\\souri\\anaconda3\\lib\\site-packages\\seaborn\\distributions.py:2619: FutureWarning: `distplot` is a deprecated function and will be removed in a future version. Please adapt your code to use either `displot` (a figure-level function with similar flexibility) or `histplot` (an axes-level function for histograms).\n",
      "  warnings.warn(msg, FutureWarning)\n"
     ]
    },
    {
     "data": {
      "text/plain": [
       "<AxesSubplot:xlabel='Claim_Amount', ylabel='Density'>"
      ]
     },
     "execution_count": 14,
     "metadata": {},
     "output_type": "execute_result"
    },
    {
     "data": {
      "image/png": "[encoded data removed]",
      "text/plain": [
       "<Figure size 432x288 with 1 Axes>"
      ]
     },
     "metadata": {
      "needs_background": "light"
     },
     "output_type": "display_data"
    }
   ],
   "source": [
    "sns.distplot(insurance[\"Claim_Amount\"])"
   ]
  },
  {
   "cell_type": "code",
   "execution_count": 15,
   "id": "44a6c6de",
   "metadata": {},
   "outputs": [
    {
     "name": "stderr",
     "output_type": "stream",
     "text": [
      "C:\\Users\\souri\\anaconda3\\lib\\site-packages\\seaborn\\distributions.py:2619: FutureWarning: `distplot` is a deprecated function and will be removed in a future version. Please adapt your code to use either `displot` (a figure-level function with similar flexibility) or `histplot` (an axes-level function for histograms).\n",
      "  warnings.warn(msg, FutureWarning)\n"
     ]
    },
    {
     "data": {
      "text/plain": [
       "<AxesSubplot:xlabel='past_consultations', ylabel='Density'>"
      ]
     },
     "execution_count": 15,
     "metadata": {},
     "output_type": "execute_result"
    },
    {
     "data": {
      "image/png": "[encoded data removed]",
      "text/plain": [
       "<Figure size 432x288 with 1 Axes>"
      ]
     },
     "metadata": {
      "needs_background": "light"
     },
     "output_type": "display_data"
    }
   ],
   "source": [
    "sns.distplot(insurance[\"past_consultations\"])"
   ]
  },
  {
   "cell_type": "code",
   "execution_count": 16,
   "id": "76293019",
   "metadata": {},
   "outputs": [
    {
     "name": "stderr",
     "output_type": "stream",
     "text": [
      "C:\\Users\\souri\\anaconda3\\lib\\site-packages\\seaborn\\distributions.py:2619: FutureWarning: `distplot` is a deprecated function and will be removed in a future version. Please adapt your code to use either `displot` (a figure-level function with similar flexibility) or `histplot` (an axes-level function for histograms).\n",
      "  warnings.warn(msg, FutureWarning)\n"
     ]
    },
    {
     "data": {
      "text/plain": [
       "<AxesSubplot:xlabel='num_of_steps', ylabel='Density'>"
      ]
     },
     "execution_count": 16,
     "metadata": {},
     "output_type": "execute_result"
    },
    {
     "data": {
      "image/png": "[encoded data removed]",
      "text/plain": [
       "<Figure size 432x288 with 1 Axes>"
      ]
     },
     "metadata": {
      "needs_background": "light"
     },
     "output_type": "display_data"
    }
   ],
   "source": [
    "sns.distplot(insurance[\"num_of_steps\"])"
   ]
  },
  {
   "cell_type": "code",
   "execution_count": 17,
   "id": "0330e867",
   "metadata": {},
   "outputs": [
    {
     "name": "stderr",
     "output_type": "stream",
     "text": [
      "C:\\Users\\souri\\anaconda3\\lib\\site-packages\\seaborn\\distributions.py:2619: FutureWarning: `distplot` is a deprecated function and will be removed in a future version. Please adapt your code to use either `displot` (a figure-level function with similar flexibility) or `histplot` (an axes-level function for histograms).\n",
      "  warnings.warn(msg, FutureWarning)\n"
     ]
    },
    {
     "data": {
      "text/plain": [
       "<AxesSubplot:xlabel='Hospital_expenditure', ylabel='Density'>"
      ]
     },
     "execution_count": 17,
     "metadata": {},
     "output_type": "execute_result"
    },
    {
     "data": {
      "image/png": "[encoded data removed]",
      "text/plain": [
       "<Figure size 432x288 with 1 Axes>"
      ]
     },
     "metadata": {
      "needs_background": "light"
     },
     "output_type": "display_data"
    }
   ],
   "source": [
    "sns.distplot(insurance[\"Hospital_expenditure\"])"
   ]
  },
  {
   "cell_type": "code",
   "execution_count": 18,
   "id": "637a7cb3",
   "metadata": {},
   "outputs": [
    {
     "name": "stderr",
     "output_type": "stream",
     "text": [
      "C:\\Users\\souri\\anaconda3\\lib\\site-packages\\seaborn\\_decorators.py:36: FutureWarning: Pass the following variable as a keyword arg: x. From version 0.12, the only valid positional argument will be `data`, and passing other arguments without an explicit keyword will result in an error or misinterpretation.\n",
      "  warnings.warn(\n"
     ]
    },
    {
     "data": {
      "text/plain": [
       "<AxesSubplot:xlabel='NUmber_of_past_hospitalizations', ylabel='count'>"
      ]
     },
     "execution_count": 18,
     "metadata": {},
     "output_type": "execute_result"
    },
    {
     "data": {
      "image/png": "[encoded data removed]",
      "text/plain": [
       "<Figure size 432x288 with 1 Axes>"
      ]
     },
     "metadata": {
      "needs_background": "light"
     },
     "output_type": "display_data"
    }
   ],
   "source": [
    "sns.countplot(insurance[\"NUmber_of_past_hospitalizations\"])"
   ]
  },
  {
   "cell_type": "code",
   "execution_count": 19,
   "id": "ca3fdb9d",
   "metadata": {},
   "outputs": [
    {
     "name": "stderr",
     "output_type": "stream",
     "text": [
      "C:\\Users\\souri\\anaconda3\\lib\\site-packages\\seaborn\\_decorators.py:36: FutureWarning: Pass the following variable as a keyword arg: x. From version 0.12, the only valid positional argument will be `data`, and passing other arguments without an explicit keyword will result in an error or misinterpretation.\n",
      "  warnings.warn(\n"
     ]
    },
    {
     "data": {
      "text/plain": [
       "<AxesSubplot:xlabel='sex', ylabel='count'>"
      ]
     },
     "execution_count": 19,
     "metadata": {},
     "output_type": "execute_result"
    },
    {
     "data": {
      "image/png": "[encoded data removed]",
      "text/plain": [
       "<Figure size 432x288 with 1 Axes>"
      ]
     },
     "metadata": {
      "needs_background": "light"
     },
     "output_type": "display_data"
    }
   ],
   "source": [
    "sns.countplot(insurance[\"sex\"])"
   ]
  },
  {
   "cell_type": "code",
   "execution_count": 20,
   "id": "9faee784",
   "metadata": {},
   "outputs": [
    {
     "name": "stderr",
     "output_type": "stream",
     "text": [
      "C:\\Users\\souri\\anaconda3\\lib\\site-packages\\seaborn\\distributions.py:2619: FutureWarning: `distplot` is a deprecated function and will be removed in a future version. Please adapt your code to use either `displot` (a figure-level function with similar flexibility) or `histplot` (an axes-level function for histograms).\n",
      "  warnings.warn(msg, FutureWarning)\n"
     ]
    },
    {
     "data": {
      "text/plain": [
       "<AxesSubplot:xlabel='Anual_Salary', ylabel='Density'>"
      ]
     },
     "execution_count": 20,
     "metadata": {},
     "output_type": "execute_result"
    },
    {
     "data": {
      "image/png": "[encoded data removed]",
      "text/plain": [
       "<Figure size 432x288 with 1 Axes>"
      ]
     },
     "metadata": {
      "needs_background": "light"
     },
     "output_type": "display_data"
    }
   ],
   "source": [
    "sns.distplot(insurance[\"Anual_Salary\"])"
   ]
  },
  {
   "cell_type": "code",
   "execution_count": 21,
   "id": "21e45462",
   "metadata": {},
   "outputs": [
    {
     "name": "stderr",
     "output_type": "stream",
     "text": [
      "C:\\Users\\souri\\anaconda3\\lib\\site-packages\\seaborn\\distributions.py:2619: FutureWarning: `distplot` is a deprecated function and will be removed in a future version. Please adapt your code to use either `displot` (a figure-level function with similar flexibility) or `histplot` (an axes-level function for histograms).\n",
      "  warnings.warn(msg, FutureWarning)\n"
     ]
    },
    {
     "data": {
      "text/plain": [
       "<AxesSubplot:xlabel='charges', ylabel='Density'>"
      ]
     },
     "execution_count": 21,
     "metadata": {},
     "output_type": "execute_result"
    },
    {
     "data": {
      "image/png": "[encoded data removed]",
      "text/plain": [
       "<Figure size 432x288 with 1 Axes>"
      ]
     },
     "metadata": {
      "needs_background": "light"
     },
     "output_type": "display_data"
    }
   ],
   "source": [
    "sns.distplot(insurance[\"charges\"])"
   ]
  },
  {
   "cell_type": "code",
   "execution_count": 22,
   "id": "20b1e90a",
   "metadata": {},
   "outputs": [
    {
     "name": "stderr",
     "output_type": "stream",
     "text": [
      "C:\\Users\\souri\\anaconda3\\lib\\site-packages\\seaborn\\_decorators.py:36: FutureWarning: Pass the following variable as a keyword arg: x. From version 0.12, the only valid positional argument will be `data`, and passing other arguments without an explicit keyword will result in an error or misinterpretation.\n",
      "  warnings.warn(\n"
     ]
    },
    {
     "data": {
      "text/plain": [
       "<AxesSubplot:xlabel='region', ylabel='count'>"
      ]
     },
     "execution_count": 22,
     "metadata": {},
     "output_type": "execute_result"
    },
    {
     "data": {
      "image/png": "[encoded data removed]",
      "text/plain": [
       "<Figure size 432x288 with 1 Axes>"
      ]
     },
     "metadata": {
      "needs_background": "light"
     },
     "output_type": "display_data"
    }
   ],
   "source": [
    "sns.countplot(insurance[\"region\"])"
   ]
  },
  {
   "cell_type": "code",
   "execution_count": 23,
   "id": "4183fdee",
   "metadata": {},
   "outputs": [
    {
     "name": "stderr",
     "output_type": "stream",
     "text": [
      "C:\\Users\\souri\\anaconda3\\lib\\site-packages\\seaborn\\_decorators.py:36: FutureWarning: Pass the following variable as a keyword arg: x. From version 0.12, the only valid positional argument will be `data`, and passing other arguments without an explicit keyword will result in an error or misinterpretation.\n",
      "  warnings.warn(\n"
     ]
    },
    {
     "data": {
      "text/plain": [
       "<AxesSubplot:xlabel='age'>"
      ]
     },
     "execution_count": 23,
     "metadata": {},
     "output_type": "execute_result"
    },
    {
     "data": {
      "image/png": "[encoded data removed]",
      "text/plain": [
       "<Figure size 432x288 with 1 Axes>"
      ]
     },
     "metadata": {
      "needs_background": "light"
     },
     "output_type": "display_data"
    }
   ],
   "source": [
    "## Outliers\n",
    "\n",
    "sns.boxplot(insurance[\"age\"])"
   ]
  },
  {
   "cell_type": "code",
   "execution_count": 24,
   "id": "1d7c1734",
   "metadata": {},
   "outputs": [
    {
     "name": "stderr",
     "output_type": "stream",
     "text": [
      "C:\\Users\\souri\\anaconda3\\lib\\site-packages\\seaborn\\_decorators.py:36: FutureWarning: Pass the following variable as a keyword arg: x. From version 0.12, the only valid positional argument will be `data`, and passing other arguments without an explicit keyword will result in an error or misinterpretation.\n",
      "  warnings.warn(\n"
     ]
    },
    {
     "data": {
      "text/plain": [
       "<AxesSubplot:xlabel='bmi'>"
      ]
     },
     "execution_count": 24,
     "metadata": {},
     "output_type": "execute_result"
    },
    {
     "data": {
      "image/png": "[encoded data removed]",
      "text/plain": [
       "<Figure size 432x288 with 1 Axes>"
      ]
     },
     "metadata": {
      "needs_background": "light"
     },
     "output_type": "display_data"
    }
   ],
   "source": [
    "sns.boxplot(insurance[\"bmi\"])"
   ]
  },
  {
   "cell_type": "code",
   "execution_count": 25,
   "id": "9b4df188",
   "metadata": {},
   "outputs": [
    {
     "name": "stderr",
     "output_type": "stream",
     "text": [
      "C:\\Users\\souri\\anaconda3\\lib\\site-packages\\seaborn\\_decorators.py:36: FutureWarning: Pass the following variable as a keyword arg: x. From version 0.12, the only valid positional argument will be `data`, and passing other arguments without an explicit keyword will result in an error or misinterpretation.\n",
      "  warnings.warn(\n"
     ]
    },
    {
     "data": {
      "text/plain": [
       "<AxesSubplot:xlabel='Claim_Amount'>"
      ]
     },
     "execution_count": 25,
     "metadata": {},
     "output_type": "execute_result"
    },
    {
     "data": {
      "image/png": "[encoded data removed]",
      "text/plain": [
       "<Figure size 432x288 with 1 Axes>"
      ]
     },
     "metadata": {
      "needs_background": "light"
     },
     "output_type": "display_data"
    }
   ],
   "source": [
    "sns.boxplot(insurance[\"Claim_Amount\"])"
   ]
  },
  {
   "cell_type": "code",
   "execution_count": 26,
   "id": "842293e3",
   "metadata": {},
   "outputs": [
    {
     "name": "stderr",
     "output_type": "stream",
     "text": [
      "C:\\Users\\souri\\anaconda3\\lib\\site-packages\\seaborn\\_decorators.py:36: FutureWarning: Pass the following variable as a keyword arg: x. From version 0.12, the only valid positional argument will be `data`, and passing other arguments without an explicit keyword will result in an error or misinterpretation.\n",
      "  warnings.warn(\n"
     ]
    },
    {
     "data": {
      "text/plain": [
       "<AxesSubplot:xlabel='past_consultations'>"
      ]
     },
     "execution_count": 26,
     "metadata": {},
     "output_type": "execute_result"
    },
    {
     "data": {
      "image/png": "[encoded data removed]",
      "text/plain": [
       "<Figure size 432x288 with 1 Axes>"
      ]
     },
     "metadata": {
      "needs_background": "light"
     },
     "output_type": "display_data"
    }
   ],
   "source": [
    "sns.boxplot(insurance[\"past_consultations\"])"
   ]
  },
  {
   "cell_type": "code",
   "execution_count": 27,
   "id": "6e0699e4",
   "metadata": {},
   "outputs": [
    {
     "name": "stderr",
     "output_type": "stream",
     "text": [
      "C:\\Users\\souri\\anaconda3\\lib\\site-packages\\seaborn\\_decorators.py:36: FutureWarning: Pass the following variable as a keyword arg: x. From version 0.12, the only valid positional argument will be `data`, and passing other arguments without an explicit keyword will result in an error or misinterpretation.\n",
      "  warnings.warn(\n"
     ]
    },
    {
     "data": {
      "text/plain": [
       "<AxesSubplot:xlabel='num_of_steps'>"
      ]
     },
     "execution_count": 27,
     "metadata": {},
     "output_type": "execute_result"
    },
    {
     "data": {
      "image/png": "[encoded data removed]",
      "text/plain": [
       "<Figure size 432x288 with 1 Axes>"
      ]
     },
     "metadata": {
      "needs_background": "light"
     },
     "output_type": "display_data"
    }
   ],
   "source": [
    "sns.boxplot(insurance[\"num_of_steps\"])"
   ]
  },
  {
   "cell_type": "code",
   "execution_count": 28,
   "id": "4f3e940f",
   "metadata": {},
   "outputs": [
    {
     "name": "stderr",
     "output_type": "stream",
     "text": [
      "C:\\Users\\souri\\anaconda3\\lib\\site-packages\\seaborn\\_decorators.py:36: FutureWarning: Pass the following variable as a keyword arg: x. From version 0.12, the only valid positional argument will be `data`, and passing other arguments without an explicit keyword will result in an error or misinterpretation.\n",
      "  warnings.warn(\n"
     ]
    },
    {
     "data": {
      "text/plain": [
       "<AxesSubplot:xlabel='Hospital_expenditure'>"
      ]
     },
     "execution_count": 28,
     "metadata": {},
     "output_type": "execute_result"
    },
    {
     "data": {
      "image/png": "[encoded data removed]",
      "text/plain": [
       "<Figure size 432x288 with 1 Axes>"
      ]
     },
     "metadata": {
      "needs_background": "light"
     },
     "output_type": "display_data"
    }
   ],
   "source": [
    "sns.boxplot(insurance[\"Hospital_expenditure\"])"
   ]
  },
  {
   "cell_type": "code",
   "execution_count": 29,
   "id": "ce58d79c",
   "metadata": {},
   "outputs": [
    {
     "name": "stderr",
     "output_type": "stream",
     "text": [
      "C:\\Users\\souri\\anaconda3\\lib\\site-packages\\seaborn\\_decorators.py:36: FutureWarning: Pass the following variable as a keyword arg: x. From version 0.12, the only valid positional argument will be `data`, and passing other arguments without an explicit keyword will result in an error or misinterpretation.\n",
      "  warnings.warn(\n"
     ]
    },
    {
     "data": {
      "text/plain": [
       "<AxesSubplot:xlabel='Anual_Salary'>"
      ]
     },
     "execution_count": 29,
     "metadata": {},
     "output_type": "execute_result"
    },
    {
     "data": {
      "image/png": "[encoded data removed]",
      "text/plain": [
       "<Figure size 432x288 with 1 Axes>"
      ]
     },
     "metadata": {
      "needs_background": "light"
     },
     "output_type": "display_data"
    }
   ],
   "source": [
    "sns.boxplot(insurance[\"Anual_Salary\"])"
   ]
  },
  {
   "cell_type": "code",
   "execution_count": 30,
   "id": "bfaf2a19",
   "metadata": {},
   "outputs": [
    {
     "name": "stderr",
     "output_type": "stream",
     "text": [
      "C:\\Users\\souri\\anaconda3\\lib\\site-packages\\seaborn\\_decorators.py:36: FutureWarning: Pass the following variable as a keyword arg: x. From version 0.12, the only valid positional argument will be `data`, and passing other arguments without an explicit keyword will result in an error or misinterpretation.\n",
      "  warnings.warn(\n"
     ]
    },
    {
     "data": {
      "text/plain": [
       "<AxesSubplot:xlabel='charges'>"
      ]
     },
     "execution_count": 30,
     "metadata": {},
     "output_type": "execute_result"
    },
    {
     "data": {
      "image/png": "[encoded data removed]",
      "text/plain": [
       "<Figure size 432x288 with 1 Axes>"
      ]
     },
     "metadata": {
      "needs_background": "light"
     },
     "output_type": "display_data"
    }
   ],
   "source": [
    "sns.boxplot(insurance[\"charges\"])"
   ]
  },
  {
   "cell_type": "code",
   "execution_count": 31,
   "id": "f090ccb2",
   "metadata": {},
   "outputs": [
    {
     "data": {
      "text/plain": [
       "<seaborn.axisgrid.PairGrid at 0x1a1562d0310>"
      ]
     },
     "execution_count": 31,
     "metadata": {},
     "output_type": "execute_result"
    },
    {
     "data": {
      "image/png": "[encoded data removed]",
      "text/plain": [
       "<Figure size 2160x180 with 12 Axes>"
      ]
     },
     "metadata": {
      "needs_background": "light"
     },
     "output_type": "display_data"
    }
   ],
   "source": [
    "# Relationship between X & Y \n",
    "\n",
    "sns.pairplot(data = insurance, y_vars=['charges'], x_vars=['age', 'sex', 'bmi', 'children', 'smoker', 'Claim_Amount',\n",
    "       'past_consultations', 'num_of_steps', 'Hospital_expenditure',\n",
    "       'NUmber_of_past_hospitalizations', 'Anual_Salary', 'region'])"
   ]
  },
  {
   "cell_type": "code",
   "execution_count": 32,
   "id": "866a9c42",
   "metadata": {},
   "outputs": [
    {
     "data": {
      "text/plain": [
       "Index(['age', 'sex', 'bmi', 'children', 'smoker', 'Claim_Amount',\n",
       "       'past_consultations', 'num_of_steps', 'Hospital_expenditure',\n",
       "       'NUmber_of_past_hospitalizations', 'Anual_Salary', 'region', 'charges'],\n",
       "      dtype='object')"
      ]
     },
     "execution_count": 32,
     "metadata": {},
     "output_type": "execute_result"
    }
   ],
   "source": [
    "insurance.columns"
   ]
  },
  {
   "cell_type": "code",
   "execution_count": 33,
   "id": "a3bb9aa1",
   "metadata": {},
   "outputs": [
    {
     "data": {
      "text/plain": [
       "age                                 9\n",
       "sex                                 0\n",
       "bmi                                 3\n",
       "children                            5\n",
       "smoker                              0\n",
       "Claim_Amount                       14\n",
       "past_consultations                  6\n",
       "num_of_steps                        3\n",
       "Hospital_expenditure                4\n",
       "NUmber_of_past_hospitalizations     2\n",
       "Anual_Salary                        6\n",
       "region                              0\n",
       "charges                             0\n",
       "dtype: int64"
      ]
     },
     "execution_count": 33,
     "metadata": {},
     "output_type": "execute_result"
    }
   ],
   "source": [
    "## Imputation \n",
    "\n",
    "insurance.isna().sum()"
   ]
  },
  {
   "cell_type": "code",
   "execution_count": 34,
   "id": "71933ada",
   "metadata": {},
   "outputs": [],
   "source": [
    "insurance['age'] = insurance['age'].fillna(insurance['age'].mean()) \n",
    "insurance['bmi'] = insurance['bmi'].fillna(insurance['bmi'].mean())\n",
    "insurance['Claim_Amount'] = insurance['Claim_Amount'].fillna(insurance['Claim_Amount'].mean())\n",
    "insurance['past_consultations'] = insurance['past_consultations'].fillna(insurance['past_consultations'].mean())\n",
    "insurance['num_of_steps'] = insurance['num_of_steps'].fillna(insurance['num_of_steps'].mean())\n",
    "\n",
    "insurance['children'] = insurance['children'].fillna(insurance['children'].median())\n",
    "insurance['Hospital_expenditure'] = insurance['Hospital_expenditure'].fillna(insurance['Hospital_expenditure'].median())\n",
    "insurance['NUmber_of_past_hospitalizations'] = insurance['NUmber_of_past_hospitalizations'].fillna(insurance['NUmber_of_past_hospitalizations'].median())\n",
    "insurance['Anual_Salary'] = insurance['Anual_Salary'].fillna(insurance['Anual_Salary'].median())"
   ]
  },
  {
   "cell_type": "code",
   "execution_count": 35,
   "id": "2ca08bb8",
   "metadata": {},
   "outputs": [
    {
     "data": {
      "text/plain": [
       "age                                0\n",
       "sex                                0\n",
       "bmi                                0\n",
       "children                           0\n",
       "smoker                             0\n",
       "Claim_Amount                       0\n",
       "past_consultations                 0\n",
       "num_of_steps                       0\n",
       "Hospital_expenditure               0\n",
       "NUmber_of_past_hospitalizations    0\n",
       "Anual_Salary                       0\n",
       "region                             0\n",
       "charges                            0\n",
       "dtype: int64"
      ]
     },
     "execution_count": 35,
     "metadata": {},
     "output_type": "execute_result"
    }
   ],
   "source": [
    "insurance.isna().sum()"
   ]
  },
  {
   "cell_type": "code",
   "execution_count": 36,
   "id": "1450174c",
   "metadata": {},
   "outputs": [
    {
     "data": {
      "text/html": [
       "<div>\n",
       "<style scoped>\n",
       "    .dataframe tbody tr th:only-of-type {\n",
       "        vertical-align: middle;\n",
       "    }\n",
       "\n",
       "    .dataframe tbody tr th {\n",
       "        vertical-align: top;\n",
       "    }\n",
       "\n",
       "    .dataframe thead th {\n",
       "        text-align: right;\n",
       "    }\n",
       "</style>\n",
       "<table border=\"1\" class=\"dataframe\">\n",
       "  <thead>\n",
       "    <tr style=\"text-align: right;\">\n",
       "      <th></th>\n",
       "      <th>age</th>\n",
       "      <th>sex</th>\n",
       "      <th>bmi</th>\n",
       "      <th>children</th>\n",
       "      <th>smoker</th>\n",
       "      <th>Claim_Amount</th>\n",
       "      <th>past_consultations</th>\n",
       "      <th>num_of_steps</th>\n",
       "      <th>Hospital_expenditure</th>\n",
       "      <th>NUmber_of_past_hospitalizations</th>\n",
       "      <th>Anual_Salary</th>\n",
       "      <th>region</th>\n",
       "      <th>charges</th>\n",
       "    </tr>\n",
       "  </thead>\n",
       "  <tbody>\n",
       "    <tr>\n",
       "      <th>age</th>\n",
       "      <td>1.000000</td>\n",
       "      <td>-0.019105</td>\n",
       "      <td>0.112161</td>\n",
       "      <td>0.041616</td>\n",
       "      <td>-0.028868</td>\n",
       "      <td>0.122828</td>\n",
       "      <td>0.168311</td>\n",
       "      <td>0.512985</td>\n",
       "      <td>0.137146</td>\n",
       "      <td>0.359434</td>\n",
       "      <td>0.163392</td>\n",
       "      <td>0.004659</td>\n",
       "      <td>0.293604</td>\n",
       "    </tr>\n",
       "    <tr>\n",
       "      <th>sex</th>\n",
       "      <td>-0.019105</td>\n",
       "      <td>1.000000</td>\n",
       "      <td>0.045170</td>\n",
       "      <td>0.018533</td>\n",
       "      <td>0.076185</td>\n",
       "      <td>-0.003884</td>\n",
       "      <td>0.050403</td>\n",
       "      <td>0.010342</td>\n",
       "      <td>0.069940</td>\n",
       "      <td>0.000214</td>\n",
       "      <td>0.072702</td>\n",
       "      <td>0.004588</td>\n",
       "      <td>0.057292</td>\n",
       "    </tr>\n",
       "    <tr>\n",
       "      <th>bmi</th>\n",
       "      <td>0.112161</td>\n",
       "      <td>0.045170</td>\n",
       "      <td>1.000000</td>\n",
       "      <td>0.007755</td>\n",
       "      <td>0.003610</td>\n",
       "      <td>0.093313</td>\n",
       "      <td>0.130667</td>\n",
       "      <td>0.135903</td>\n",
       "      <td>0.256892</td>\n",
       "      <td>0.137043</td>\n",
       "      <td>0.241505</td>\n",
       "      <td>0.158261</td>\n",
       "      <td>0.198691</td>\n",
       "    </tr>\n",
       "    <tr>\n",
       "      <th>children</th>\n",
       "      <td>0.041616</td>\n",
       "      <td>0.018533</td>\n",
       "      <td>0.007755</td>\n",
       "      <td>1.000000</td>\n",
       "      <td>0.009608</td>\n",
       "      <td>0.041502</td>\n",
       "      <td>0.054832</td>\n",
       "      <td>0.163487</td>\n",
       "      <td>0.025315</td>\n",
       "      <td>0.185546</td>\n",
       "      <td>0.041260</td>\n",
       "      <td>0.015011</td>\n",
       "      <td>0.070877</td>\n",
       "    </tr>\n",
       "    <tr>\n",
       "      <th>smoker</th>\n",
       "      <td>-0.028868</td>\n",
       "      <td>0.076185</td>\n",
       "      <td>0.003610</td>\n",
       "      <td>0.009608</td>\n",
       "      <td>1.000000</td>\n",
       "      <td>0.334406</td>\n",
       "      <td>0.502836</td>\n",
       "      <td>0.665711</td>\n",
       "      <td>0.662698</td>\n",
       "      <td>0.588682</td>\n",
       "      <td>0.739676</td>\n",
       "      <td>-0.002181</td>\n",
       "      <td>0.787251</td>\n",
       "    </tr>\n",
       "    <tr>\n",
       "      <th>Claim_Amount</th>\n",
       "      <td>0.122828</td>\n",
       "      <td>-0.003884</td>\n",
       "      <td>0.093313</td>\n",
       "      <td>0.041502</td>\n",
       "      <td>0.334406</td>\n",
       "      <td>1.000000</td>\n",
       "      <td>0.271482</td>\n",
       "      <td>0.398342</td>\n",
       "      <td>0.369921</td>\n",
       "      <td>0.379889</td>\n",
       "      <td>0.403974</td>\n",
       "      <td>0.009028</td>\n",
       "      <td>0.435635</td>\n",
       "    </tr>\n",
       "    <tr>\n",
       "      <th>past_consultations</th>\n",
       "      <td>0.168311</td>\n",
       "      <td>0.050403</td>\n",
       "      <td>0.130667</td>\n",
       "      <td>0.054832</td>\n",
       "      <td>0.502836</td>\n",
       "      <td>0.271482</td>\n",
       "      <td>1.000000</td>\n",
       "      <td>0.559682</td>\n",
       "      <td>0.542172</td>\n",
       "      <td>0.500131</td>\n",
       "      <td>0.589304</td>\n",
       "      <td>-0.001866</td>\n",
       "      <td>0.627592</td>\n",
       "    </tr>\n",
       "    <tr>\n",
       "      <th>num_of_steps</th>\n",
       "      <td>0.512985</td>\n",
       "      <td>0.010342</td>\n",
       "      <td>0.135903</td>\n",
       "      <td>0.163487</td>\n",
       "      <td>0.665711</td>\n",
       "      <td>0.398342</td>\n",
       "      <td>0.559682</td>\n",
       "      <td>1.000000</td>\n",
       "      <td>0.624835</td>\n",
       "      <td>0.845128</td>\n",
       "      <td>0.733685</td>\n",
       "      <td>-0.041920</td>\n",
       "      <td>0.889848</td>\n",
       "    </tr>\n",
       "    <tr>\n",
       "      <th>Hospital_expenditure</th>\n",
       "      <td>0.137146</td>\n",
       "      <td>0.069940</td>\n",
       "      <td>0.256892</td>\n",
       "      <td>0.025315</td>\n",
       "      <td>0.662698</td>\n",
       "      <td>0.369921</td>\n",
       "      <td>0.542172</td>\n",
       "      <td>0.624835</td>\n",
       "      <td>1.000000</td>\n",
       "      <td>0.651827</td>\n",
       "      <td>0.957189</td>\n",
       "      <td>0.029446</td>\n",
       "      <td>0.871796</td>\n",
       "    </tr>\n",
       "    <tr>\n",
       "      <th>NUmber_of_past_hospitalizations</th>\n",
       "      <td>0.359434</td>\n",
       "      <td>0.000214</td>\n",
       "      <td>0.137043</td>\n",
       "      <td>0.185546</td>\n",
       "      <td>0.588682</td>\n",
       "      <td>0.379889</td>\n",
       "      <td>0.500131</td>\n",
       "      <td>0.845128</td>\n",
       "      <td>0.651827</td>\n",
       "      <td>1.000000</td>\n",
       "      <td>0.735802</td>\n",
       "      <td>-0.031450</td>\n",
       "      <td>0.820682</td>\n",
       "    </tr>\n",
       "    <tr>\n",
       "      <th>Anual_Salary</th>\n",
       "      <td>0.163392</td>\n",
       "      <td>0.072702</td>\n",
       "      <td>0.241505</td>\n",
       "      <td>0.041260</td>\n",
       "      <td>0.739676</td>\n",
       "      <td>0.403974</td>\n",
       "      <td>0.589304</td>\n",
       "      <td>0.733685</td>\n",
       "      <td>0.957189</td>\n",
       "      <td>0.735802</td>\n",
       "      <td>1.000000</td>\n",
       "      <td>0.015843</td>\n",
       "      <td>0.946398</td>\n",
       "    </tr>\n",
       "    <tr>\n",
       "      <th>region</th>\n",
       "      <td>0.004659</td>\n",
       "      <td>0.004588</td>\n",
       "      <td>0.158261</td>\n",
       "      <td>0.015011</td>\n",
       "      <td>-0.002181</td>\n",
       "      <td>0.009028</td>\n",
       "      <td>-0.001866</td>\n",
       "      <td>-0.041920</td>\n",
       "      <td>0.029446</td>\n",
       "      <td>-0.031450</td>\n",
       "      <td>0.015843</td>\n",
       "      <td>1.000000</td>\n",
       "      <td>-0.006208</td>\n",
       "    </tr>\n",
       "    <tr>\n",
       "      <th>charges</th>\n",
       "      <td>0.293604</td>\n",
       "      <td>0.057292</td>\n",
       "      <td>0.198691</td>\n",
       "      <td>0.070877</td>\n",
       "      <td>0.787251</td>\n",
       "      <td>0.435635</td>\n",
       "      <td>0.627592</td>\n",
       "      <td>0.889848</td>\n",
       "      <td>0.871796</td>\n",
       "      <td>0.820682</td>\n",
       "      <td>0.946398</td>\n",
       "      <td>-0.006208</td>\n",
       "      <td>1.000000</td>\n",
       "    </tr>\n",
       "  </tbody>\n",
       "</table>\n",
       "</div>"
      ],
      "text/plain": [
       "                                      age       sex       bmi  children  \\\n",
       "age                              1.000000 -0.019105  0.112161  0.041616   \n",
       "sex                             -0.019105  1.000000  0.045170  0.018533   \n",
       "bmi                              0.112161  0.045170  1.000000  0.007755   \n",
       "children                         0.041616  0.018533  0.007755  1.000000   \n",
       "smoker                          -0.028868  0.076185  0.003610  0.009608   \n",
       "Claim_Amount                     0.122828 -0.003884  0.093313  0.041502   \n",
       "past_consultations               0.168311  0.050403  0.130667  0.054832   \n",
       "num_of_steps                     0.512985  0.010342  0.135903  0.163487   \n",
       "Hospital_expenditure             0.137146  0.069940  0.256892  0.025315   \n",
       "NUmber_of_past_hospitalizations  0.359434  0.000214  0.137043  0.185546   \n",
       "Anual_Salary                     0.163392  0.072702  0.241505  0.041260   \n",
       "region                           0.004659  0.004588  0.158261  0.015011   \n",
       "charges                          0.293604  0.057292  0.198691  0.070877   \n",
       "\n",
       "                                   smoker  Claim_Amount  past_consultations  \\\n",
       "age                             -0.028868      0.122828            0.168311   \n",
       "sex                              0.076185     -0.003884            0.050403   \n",
       "bmi                              0.003610      0.093313            0.130667   \n",
       "children                         0.009608      0.041502            0.054832   \n",
       "smoker                           1.000000      0.334406            0.502836   \n",
       "Claim_Amount                     0.334406      1.000000            0.271482   \n",
       "past_consultations               0.502836      0.271482            1.000000   \n",
       "num_of_steps                     0.665711      0.398342            0.559682   \n",
       "Hospital_expenditure             0.662698      0.369921            0.542172   \n",
       "NUmber_of_past_hospitalizations  0.588682      0.379889            0.500131   \n",
       "Anual_Salary                     0.739676      0.403974            0.589304   \n",
       "region                          -0.002181      0.009028           -0.001866   \n",
       "charges                          0.787251      0.435635            0.627592   \n",
       "\n",
       "                                 num_of_steps  Hospital_expenditure  \\\n",
       "age                                  0.512985              0.137146   \n",
       "sex                                  0.010342              0.069940   \n",
       "bmi                                  0.135903              0.256892   \n",
       "children                             0.163487              0.025315   \n",
       "smoker                               0.665711              0.662698   \n",
       "Claim_Amount                         0.398342              0.369921   \n",
       "past_consultations                   0.559682              0.542172   \n",
       "num_of_steps                         1.000000              0.624835   \n",
       "Hospital_expenditure                 0.624835              1.000000   \n",
       "NUmber_of_past_hospitalizations      0.845128              0.651827   \n",
       "Anual_Salary                         0.733685              0.957189   \n",
       "region                              -0.041920              0.029446   \n",
       "charges                              0.889848              0.871796   \n",
       "\n",
       "                                 NUmber_of_past_hospitalizations  \\\n",
       "age                                                     0.359434   \n",
       "sex                                                     0.000214   \n",
       "bmi                                                     0.137043   \n",
       "children                                                0.185546   \n",
       "smoker                                                  0.588682   \n",
       "Claim_Amount                                            0.379889   \n",
       "past_consultations                                      0.500131   \n",
       "num_of_steps                                            0.845128   \n",
       "Hospital_expenditure                                    0.651827   \n",
       "NUmber_of_past_hospitalizations                         1.000000   \n",
       "Anual_Salary                                            0.735802   \n",
       "region                                                 -0.031450   \n",
       "charges                                                 0.820682   \n",
       "\n",
       "                                 Anual_Salary    region   charges  \n",
       "age                                  0.163392  0.004659  0.293604  \n",
       "sex                                  0.072702  0.004588  0.057292  \n",
       "bmi                                  0.241505  0.158261  0.198691  \n",
       "children                             0.041260  0.015011  0.070877  \n",
       "smoker                               0.739676 -0.002181  0.787251  \n",
       "Claim_Amount                         0.403974  0.009028  0.435635  \n",
       "past_consultations                   0.589304 -0.001866  0.627592  \n",
       "num_of_steps                         0.733685 -0.041920  0.889848  \n",
       "Hospital_expenditure                 0.957189  0.029446  0.871796  \n",
       "NUmber_of_past_hospitalizations      0.735802 -0.031450  0.820682  \n",
       "Anual_Salary                         1.000000  0.015843  0.946398  \n",
       "region                               0.015843  1.000000 -0.006208  \n",
       "charges                              0.946398 -0.006208  1.000000  "
      ]
     },
     "execution_count": 36,
     "metadata": {},
     "output_type": "execute_result"
    }
   ],
   "source": [
    "## Feature selection using corrleation analysis \n",
    "\n",
    "correlation = insurance.corr()\n",
    "correlation"
   ]
  },
  {
   "cell_type": "code",
   "execution_count": 37,
   "id": "8232d763",
   "metadata": {},
   "outputs": [
    {
     "data": {
      "text/plain": [
       "<AxesSubplot:>"
      ]
     },
     "execution_count": 37,
     "metadata": {},
     "output_type": "execute_result"
    },
    {
     "data": {
      "image/png": "[encoded data removed]",
      "text/plain": [
       "<Figure size 432x288 with 2 Axes>"
      ]
     },
     "metadata": {
      "needs_background": "light"
     },
     "output_type": "display_data"
    }
   ],
   "source": [
    "sns.heatmap(correlation)"
   ]
  },
  {
   "cell_type": "code",
   "execution_count": 38,
   "id": "590bfe98",
   "metadata": {},
   "outputs": [
    {
     "data": {
      "text/plain": [
       "Index(['age', 'sex', 'bmi', 'children', 'smoker', 'Claim_Amount',\n",
       "       'past_consultations', 'num_of_steps', 'Hospital_expenditure',\n",
       "       'NUmber_of_past_hospitalizations', 'Anual_Salary', 'region', 'charges'],\n",
       "      dtype='object')"
      ]
     },
     "execution_count": 38,
     "metadata": {},
     "output_type": "execute_result"
    }
   ],
   "source": [
    "insurance.columns"
   ]
  },
  {
   "cell_type": "code",
   "execution_count": 39,
   "id": "93fd7836",
   "metadata": {},
   "outputs": [],
   "source": [
    "from sklearn.model_selection import train_test_split\n",
    "\n",
    "X = insurance.drop(['charges','age','sex','bmi','children','region'],axis=1)\n",
    "y = insurance.iloc[:,-1]\n",
    "\n",
    "X2 = insurance.drop(['charges'],axis=1)\n",
    "\n",
    "X3 = insurance.drop(['charges','region','sex','children'],axis=1)\n",
    "\n",
    "## splitting the data \n",
    "\n",
    "X_train, X_test, y_train, y_test = train_test_split(X,y,test_size=0.1, random_state =123)\n",
    "X_train2, X_test2, y_train2, y_test2 = train_test_split(X2,y,random_state =123)\n",
    "X_train3, X_test3, y_train3, y_test3 = train_test_split(X3,y,test_size=0.2, random_state =123)\n",
    "\n"
   ]
  },
  {
   "cell_type": "code",
   "execution_count": 40,
   "id": "844be20f",
   "metadata": {},
   "outputs": [
    {
     "data": {
      "text/html": [
       "<div>\n",
       "<style scoped>\n",
       "    .dataframe tbody tr th:only-of-type {\n",
       "        vertical-align: middle;\n",
       "    }\n",
       "\n",
       "    .dataframe tbody tr th {\n",
       "        vertical-align: top;\n",
       "    }\n",
       "\n",
       "    .dataframe thead th {\n",
       "        text-align: right;\n",
       "    }\n",
       "</style>\n",
       "<table border=\"1\" class=\"dataframe\">\n",
       "  <thead>\n",
       "    <tr style=\"text-align: right;\">\n",
       "      <th></th>\n",
       "      <th>smoker</th>\n",
       "      <th>Claim_Amount</th>\n",
       "      <th>past_consultations</th>\n",
       "      <th>num_of_steps</th>\n",
       "      <th>Hospital_expenditure</th>\n",
       "      <th>NUmber_of_past_hospitalizations</th>\n",
       "      <th>Anual_Salary</th>\n",
       "    </tr>\n",
       "  </thead>\n",
       "  <tbody>\n",
       "    <tr>\n",
       "      <th>1309</th>\n",
       "      <td>1</td>\n",
       "      <td>43439.07829</td>\n",
       "      <td>21.0</td>\n",
       "      <td>1076159.0</td>\n",
       "      <td>1.084164e+08</td>\n",
       "      <td>2.0</td>\n",
       "      <td>2.176866e+09</td>\n",
       "    </tr>\n",
       "    <tr>\n",
       "      <th>817</th>\n",
       "      <td>0</td>\n",
       "      <td>14315.85883</td>\n",
       "      <td>7.0</td>\n",
       "      <td>932303.0</td>\n",
       "      <td>4.428250e+06</td>\n",
       "      <td>1.0</td>\n",
       "      <td>1.504863e+08</td>\n",
       "    </tr>\n",
       "    <tr>\n",
       "      <th>671</th>\n",
       "      <td>0</td>\n",
       "      <td>23461.85847</td>\n",
       "      <td>11.0</td>\n",
       "      <td>904254.0</td>\n",
       "      <td>7.768411e+06</td>\n",
       "      <td>1.0</td>\n",
       "      <td>1.558992e+08</td>\n",
       "    </tr>\n",
       "    <tr>\n",
       "      <th>249</th>\n",
       "      <td>0</td>\n",
       "      <td>14849.40517</td>\n",
       "      <td>4.0</td>\n",
       "      <td>823135.0</td>\n",
       "      <td>6.586375e+06</td>\n",
       "      <td>1.0</td>\n",
       "      <td>1.009286e+08</td>\n",
       "    </tr>\n",
       "    <tr>\n",
       "      <th>981</th>\n",
       "      <td>0</td>\n",
       "      <td>12913.56272</td>\n",
       "      <td>11.0</td>\n",
       "      <td>962029.0</td>\n",
       "      <td>9.236606e+06</td>\n",
       "      <td>1.0</td>\n",
       "      <td>3.199317e+08</td>\n",
       "    </tr>\n",
       "    <tr>\n",
       "      <th>...</th>\n",
       "      <td>...</td>\n",
       "      <td>...</td>\n",
       "      <td>...</td>\n",
       "      <td>...</td>\n",
       "      <td>...</td>\n",
       "      <td>...</td>\n",
       "      <td>...</td>\n",
       "    </tr>\n",
       "    <tr>\n",
       "      <th>1238</th>\n",
       "      <td>1</td>\n",
       "      <td>33677.11676</td>\n",
       "      <td>21.0</td>\n",
       "      <td>1040225.0</td>\n",
       "      <td>5.892443e+07</td>\n",
       "      <td>2.0</td>\n",
       "      <td>1.483202e+09</td>\n",
       "    </tr>\n",
       "    <tr>\n",
       "      <th>1147</th>\n",
       "      <td>1</td>\n",
       "      <td>49372.24572</td>\n",
       "      <td>21.0</td>\n",
       "      <td>1027599.0</td>\n",
       "      <td>2.180519e+07</td>\n",
       "      <td>2.0</td>\n",
       "      <td>7.000519e+08</td>\n",
       "    </tr>\n",
       "    <tr>\n",
       "      <th>106</th>\n",
       "      <td>0</td>\n",
       "      <td>22477.93596</td>\n",
       "      <td>17.0</td>\n",
       "      <td>760843.0</td>\n",
       "      <td>2.978933e+06</td>\n",
       "      <td>0.0</td>\n",
       "      <td>5.300693e+07</td>\n",
       "    </tr>\n",
       "    <tr>\n",
       "      <th>1041</th>\n",
       "      <td>0</td>\n",
       "      <td>27184.27803</td>\n",
       "      <td>9.0</td>\n",
       "      <td>980010.0</td>\n",
       "      <td>1.266673e+07</td>\n",
       "      <td>1.0</td>\n",
       "      <td>3.743228e+08</td>\n",
       "    </tr>\n",
       "    <tr>\n",
       "      <th>1122</th>\n",
       "      <td>1</td>\n",
       "      <td>35897.03152</td>\n",
       "      <td>22.0</td>\n",
       "      <td>1005265.0</td>\n",
       "      <td>2.047761e+07</td>\n",
       "      <td>2.0</td>\n",
       "      <td>6.235602e+08</td>\n",
       "    </tr>\n",
       "  </tbody>\n",
       "</table>\n",
       "<p>1204 rows × 7 columns</p>\n",
       "</div>"
      ],
      "text/plain": [
       "      smoker  Claim_Amount  past_consultations  num_of_steps  \\\n",
       "1309       1   43439.07829                21.0     1076159.0   \n",
       "817        0   14315.85883                 7.0      932303.0   \n",
       "671        0   23461.85847                11.0      904254.0   \n",
       "249        0   14849.40517                 4.0      823135.0   \n",
       "981        0   12913.56272                11.0      962029.0   \n",
       "...      ...           ...                 ...           ...   \n",
       "1238       1   33677.11676                21.0     1040225.0   \n",
       "1147       1   49372.24572                21.0     1027599.0   \n",
       "106        0   22477.93596                17.0      760843.0   \n",
       "1041       0   27184.27803                 9.0      980010.0   \n",
       "1122       1   35897.03152                22.0     1005265.0   \n",
       "\n",
       "      Hospital_expenditure  NUmber_of_past_hospitalizations  Anual_Salary  \n",
       "1309          1.084164e+08                              2.0  2.176866e+09  \n",
       "817           4.428250e+06                              1.0  1.504863e+08  \n",
       "671           7.768411e+06                              1.0  1.558992e+08  \n",
       "249           6.586375e+06                              1.0  1.009286e+08  \n",
       "981           9.236606e+06                              1.0  3.199317e+08  \n",
       "...                    ...                              ...           ...  \n",
       "1238          5.892443e+07                              2.0  1.483202e+09  \n",
       "1147          2.180519e+07                              2.0  7.000519e+08  \n",
       "106           2.978933e+06                              0.0  5.300693e+07  \n",
       "1041          1.266673e+07                              1.0  3.743228e+08  \n",
       "1122          2.047761e+07                              2.0  6.235602e+08  \n",
       "\n",
       "[1204 rows x 7 columns]"
      ]
     },
     "execution_count": 40,
     "metadata": {},
     "output_type": "execute_result"
    }
   ],
   "source": [
    "X_train"
   ]
  },
  {
   "cell_type": "code",
   "execution_count": 41,
   "id": "9c1c5478",
   "metadata": {},
   "outputs": [],
   "source": [
    "## Standardise the features \n",
    "\n",
    "from sklearn.preprocessing import StandardScaler\n",
    "sc = StandardScaler()\n",
    "\n",
    "# M1\n",
    "X_train = sc.fit_transform(X_train)\n",
    "X_test = sc.transform(X_test)\n",
    "\n",
    "# M2\n",
    "X_train2 = sc.fit_transform(X_train2)\n",
    "X_test2 = sc.transform(X_test2)\n",
    "\n",
    "# M3\n",
    "X_train3 = sc.fit_transform(X_train3)\n",
    "X_test3 = sc.transform(X_test3)"
   ]
  },
  {
   "cell_type": "code",
   "execution_count": 42,
   "id": "38df7658",
   "metadata": {},
   "outputs": [],
   "source": [
    "## M1\n",
    "y_train_arr = y_train.values\n",
    "y_train = y_train_arr.reshape(-1,1)\n",
    "\n",
    "#M2\n",
    "y_train_arr2 = y_train2.values\n",
    "y_train2 = y_train_arr2.reshape(-1,1)\n",
    "\n",
    "#M3\n",
    "y_train_arr3 = y_train3.values\n",
    "y_train3 = y_train_arr3.reshape(-1,1)"
   ]
  },
  {
   "cell_type": "code",
   "execution_count": 43,
   "id": "af3977f7",
   "metadata": {},
   "outputs": [],
   "source": [
    "y_train = sc.fit_transform(y_train)\n",
    "y_train2 = sc.fit_transform(y_train2)\n",
    "y_train3 = sc.fit_transform(y_train3)"
   ]
  },
  {
   "cell_type": "code",
   "execution_count": 44,
   "id": "00b285da",
   "metadata": {},
   "outputs": [
    {
     "data": {
      "text/plain": [
       "LinearRegression()"
      ]
     },
     "execution_count": 44,
     "metadata": {},
     "output_type": "execute_result"
    }
   ],
   "source": [
    "## Model building \n",
    "\n",
    "from sklearn.linear_model import LinearRegression\n",
    "\n",
    "m1 = LinearRegression()\n",
    "m2 = LinearRegression()\n",
    "m3 = LinearRegression()\n",
    "\n",
    "m1.fit(X_train,y_train)\n",
    "m2.fit(X_train2,y_train2)\n",
    "m3.fit(X_train3,y_train3)\n"
   ]
  },
  {
   "cell_type": "code",
   "execution_count": 45,
   "id": "dae4cd04",
   "metadata": {},
   "outputs": [],
   "source": [
    "p1 = m1.predict(X_test)\n",
    "p1 = sc.inverse_transform(p1)\n",
    "\n",
    "p2 = m2.predict(X_test2)\n",
    "p2 = sc.inverse_transform(p2)\n",
    "\n",
    "p3 = m3.predict(X_test3)\n",
    "p3 = sc.inverse_transform(p3)"
   ]
  },
  {
   "cell_type": "code",
   "execution_count": 46,
   "id": "2cc675ee",
   "metadata": {},
   "outputs": [
    {
     "name": "stdout",
     "output_type": "stream",
     "text": [
      "0.9847140475091763\n",
      "0.9343208283724433\n",
      "0.9675328393321339\n"
     ]
    }
   ],
   "source": [
    "## Evaluation \n",
    "\n",
    "from sklearn.metrics import r2_score\n",
    "from sklearn.metrics import *\n",
    "\n",
    "m1r2 = r2_score(y_test, p1)\n",
    "\n",
    "m2r2 = r2_score(y_test2, p2)\n",
    "\n",
    "m3r2 = r2_score(y_test3, p3)\n",
    "\n",
    "print(m1r2)\n",
    "print(m2r2)\n",
    "print(m3r2)"
   ]
  },
  {
   "cell_type": "code",
   "execution_count": null,
   "id": "bf51d9a9",
   "metadata": {},
   "outputs": [],
   "source": []
  },
  {
   "cell_type": "code",
   "execution_count": null,
   "id": "0cdacbda",
   "metadata": {},
   "outputs": [],
   "source": []
  },
  {
   "cell_type": "code",
   "execution_count": null,
   "id": "a354ecaa",
   "metadata": {},
   "outputs": [],
   "source": []
  }
 ],
 "metadata": {
  "kernelspec": {
   "display_name": "Python 3 (ipykernel)",
   "language": "python",
   "name": "python3"
  },
  "language_info": {
   "codemirror_mode": {
    "name": "ipython",
    "version": 3
   },
   "file_extension": ".py",
   "mimetype": "text/x-python",
   "name": "python",
   "nbconvert_exporter": "python",
   "pygments_lexer": "ipython3",
   "version": "3.9.7"
  }
 },
 "nbformat": 4,
 "nbformat_minor": 5
}

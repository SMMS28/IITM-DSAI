{
  "nbformat": 4,
  "nbformat_minor": 0,
  "metadata": {
    "colab": {
      "name": "Module1_Assignments.ipynb",
      "provenance": [],
      "collapsed_sections": []
    },
    "kernelspec": {
      "name": "python3",
      "display_name": "Python 3"
    },
    "language_info": {
      "name": "python"
    }
  },
  "cells": [
    {
      "cell_type": "code",
      "execution_count": null,
      "metadata": {
        "colab": {
          "base_uri": "https://localhost:8080/"
        },
        "id": "HwUkkk0Y62fV",
        "outputId": "023f718a-f1b6-40cd-b1cf-d21637163df1"
      },
      "outputs": [
        {
          "output_type": "stream",
          "name": "stdout",
          "text": [
            "Enter first number: 20\n",
            "Enter second number: 20\n",
            "Please give proper Input !\n"
          ]
        }
      ],
      "source": [
        "# If-Else Assignment\n",
        "#check which is Greater\n",
        "\n",
        "# Taking input for A & B from user\n",
        "a = float(input(\"Enter first number: \"))\n",
        "b = float(input(\"Enter second number: \"))\n",
        "\n",
        "if a > b:\n",
        "    print (\"A is greater than B !\")\n",
        "elif b>a:\n",
        "    print (\"B is greater than A !\")\n",
        "else:\n",
        "    print (\"Invalid Case !\")"
      ]
    },
    {
      "cell_type": "code",
      "source": [
        "# Conditional Statements Assignment\n",
        "# Find the Greatest number\n",
        "\n",
        "# Taking three numbers from user\n",
        "num1 = float(input(\"Enter first number: \"))\n",
        "num2 = float(input(\"Enter second number: \"))\n",
        "num3 = float(input(\"Enter third number: \"))\n",
        "\n",
        "if (num1 >= num2) and (num1 >= num3):\n",
        "   largest = num1\n",
        "elif (num2 >= num1) and (num2 >= num3):\n",
        "   largest = num2\n",
        "else:\n",
        "   largest = num3\n",
        "\n",
        "print(\"The largest number is\", largest)"
      ],
      "metadata": {
        "colab": {
          "base_uri": "https://localhost:8080/"
        },
        "id": "BKKZny3I8Shz",
        "outputId": "e2d852b4-a556-4c48-afef-26ea27c61fac"
      },
      "execution_count": null,
      "outputs": [
        {
          "output_type": "stream",
          "name": "stdout",
          "text": [
            "Enter first number: 11\n",
            "Enter second number: 25\n",
            "Enter third number: 36\n",
            "The largest number is 36.0\n"
          ]
        }
      ]
    },
    {
      "cell_type": "code",
      "source": [
        "# Module 1: Introduction to Python Assignment - 1\n",
        "# Task 1\n",
        "# Create a list containing squares of numbers from 1 to 10\n",
        "\n",
        "def printValues():\n",
        "\tl = list()\n",
        "\tfor i in range(1,11):\n",
        "\t\tl.append(i**2)\n",
        "\tprint(\"The List containing squares of numbers from 1 to 10 is following:\\n\", l)\n",
        "\t\t\n",
        "printValues()"
      ],
      "metadata": {
        "colab": {
          "base_uri": "https://localhost:8080/"
        },
        "id": "vH8C3-oeF7G3",
        "outputId": "ac7eef23-b98b-4de2-a3e2-d2c5c3536403"
      },
      "execution_count": null,
      "outputs": [
        {
          "output_type": "stream",
          "name": "stdout",
          "text": [
            "The List containing squares of numbers from 1 to 10 is following:\n",
            " [1, 4, 9, 16, 25, 36, 49, 64, 81, 100]\n"
          ]
        }
      ]
    },
    {
      "cell_type": "code",
      "source": [
        "# Module 1: Introduction to Python Assignment - 1\n",
        "# Task 2\n",
        "# Write a Function to check if year number is a leap year\n",
        "\n",
        "# Using user-defined function\n",
        "def CheckLeap(Year):  \n",
        "  \n",
        "  # Checking if the given year is leap year  \n",
        "  if((Year % 400 == 0) or  \n",
        "     (Year % 100 != 0) and  \n",
        "     (Year % 4 == 0)):   \n",
        "    print(\"Given Year is a leap Year\");  \n",
        "  else:  \n",
        "    print (\"Given Year is not a leap Year\")  \n",
        "\n",
        "# Taking an input year from user  \n",
        "Year = int(input(\"Enter the number: \"))  \n",
        "\n",
        "# Printing result  \n",
        "CheckLeap(Year)  "
      ],
      "metadata": {
        "colab": {
          "base_uri": "https://localhost:8080/"
        },
        "id": "h5Zl7wDHHEZG",
        "outputId": "b9b791b8-4b56-4e94-83c4-20bb96e3e0ad"
      },
      "execution_count": null,
      "outputs": [
        {
          "output_type": "stream",
          "name": "stdout",
          "text": [
            "Enter the number: 2020\n",
            "Given Year is a leap Year\n"
          ]
        }
      ]
    },
    {
      "cell_type": "code",
      "source": [
        "# Module 1: Introduction to Python Assignment - 1\n",
        "# Task 3\n",
        "''' Write a Function to take an array and \n",
        "return another array that contains \n",
        "the members of first array that are even '''\n",
        "\n",
        "# Creating function \n",
        "def MatchEven():\n",
        "\n",
        "  #Initializing array\n",
        "  arr = [1, 2, 3, 4, 5];     \n",
        "     \n",
        "  print(\"Elements of given array present on even position: \");    \n",
        "  #Loop through the array by incrementing the value of i by 2    \n",
        "  for i in range(1, len(arr), 2):    \n",
        "    print(arr[i]);   \n",
        "\n",
        "# Calling the Function\n",
        "MatchEven()\n"
      ],
      "metadata": {
        "colab": {
          "base_uri": "https://localhost:8080/"
        },
        "id": "eVL7pXqxIDjE",
        "outputId": "1682988c-1036-4d83-c110-2d1f4753a207"
      },
      "execution_count": null,
      "outputs": [
        {
          "output_type": "stream",
          "name": "stdout",
          "text": [
            "Elements of given array present on even position: \n",
            "2\n",
            "4\n"
          ]
        }
      ]
    },
    {
      "cell_type": "code",
      "source": [
        "# Module 1: Introduction to Python Assignment - 1\n",
        "# Task 4\n",
        "'''\n",
        "Write a Function that takes 2 arrays and\n",
        "prints the members of first array \n",
        "that are present of second array\n",
        "'''\n",
        "\n",
        "# Creating function for match array elements\n",
        "def MatchArray():\n",
        "\n",
        "   # number of elements\n",
        "   n = int(input(\"Enter number of elements : \"))\n",
        "\n",
        "   # Read inputs from user using map() function\n",
        "   a = list(map(int,input(\"\\nEnter the numbers for list 1 : \").strip().split()))[:n]\n",
        "   b = list(map(int,input(\"\\nEnter the numbers for list 2 : \").strip().split()))[:n]\n",
        "\n",
        "   # Printing result \n",
        "   print (\"Matching Elements: \\n\")\n",
        "\n",
        "   for element in a: \n",
        "     if element in b: \n",
        "         print(element) \n",
        "\n",
        "# Calling the Function\n",
        "MatchArray()"
      ],
      "metadata": {
        "id": "l8eQDOL-LOIq",
        "colab": {
          "base_uri": "https://localhost:8080/"
        },
        "outputId": "f7cae2d4-b7e4-46c2-841f-1a8b77c4fff4"
      },
      "execution_count": null,
      "outputs": [
        {
          "output_type": "stream",
          "name": "stdout",
          "text": [
            "Enter number of elements : 5\n",
            "\n",
            "Enter the numbers for list 1 : 11 55 22 66 99\n",
            "\n",
            "Enter the numbers for list 2 : 21 55 10 62 66\n",
            "Matching Elements: \n",
            "\n",
            "55\n",
            "66\n"
          ]
        }
      ]
    },
    {
      "cell_type": "code",
      "source": [
        "# Module 1: Introduction to Python Assignment - 2\n",
        "# Task 1\n",
        "from itertools import repeat #for using repeat\n",
        "\n",
        "tup1 = (10,20,30)\n",
        "tup2 = (40,50,60)\n",
        "\n",
        "t_combine = tup1 + tup2\n",
        "\n",
        "res = ((t_combine, ) * 3)\n",
        "res1 = tuple(repeat(t_combine, 3))\n",
        "\n",
        "print (t_combine)\n",
        "print (res)\n",
        "print (res1) #same result as res\n",
        "\n",
        "print(t_combine[2])  #access 3rd element\n",
        "print(t_combine[:3]) #access 1st 3 element\n",
        "print(t_combine[3:])  #access last 3 element\n"
      ],
      "metadata": {
        "colab": {
          "base_uri": "https://localhost:8080/"
        },
        "id": "KvAoktaBbu3i",
        "outputId": "fbc1c79c-32ea-4fd9-acbb-89ffb6aa0b36"
      },
      "execution_count": 16,
      "outputs": [
        {
          "output_type": "stream",
          "name": "stdout",
          "text": [
            "(10, 20, 30, 40, 50, 60)\n",
            "((10, 20, 30, 40, 50, 60), (10, 20, 30, 40, 50, 60), (10, 20, 30, 40, 50, 60))\n",
            "((10, 20, 30, 40, 50, 60), (10, 20, 30, 40, 50, 60), (10, 20, 30, 40, 50, 60))\n",
            "30\n",
            "(10, 20, 30)\n",
            "(40, 50, 60)\n"
          ]
        }
      ]
    }
  ]
}
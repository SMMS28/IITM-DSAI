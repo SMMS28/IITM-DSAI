{
  "nbformat": 4,
  "nbformat_minor": 0,
  "metadata": {
    "colab": {
      "name": "Module2_Assignments.ipynb",
      "provenance": [],
      "collapsed_sections": []
    },
    "kernelspec": {
      "name": "python3",
      "display_name": "Python 3"
    },
    "language_info": {
      "name": "python"
    }
  },
  "cells": [
    {
      "cell_type": "code",
      "execution_count": 1,
      "metadata": {
        "colab": {
          "base_uri": "https://localhost:8080/"
        },
        "id": "d2E_CTu5mx0I",
        "outputId": "5f05d952-478e-489f-a430-2cf972170882"
      },
      "outputs": [
        {
          "output_type": "stream",
          "name": "stdout",
          "text": [
            "1\n",
            "2\n",
            "3\n",
            "4\n",
            "5\n",
            "6\n",
            "7\n",
            "8\n",
            "9\n",
            "10\n"
          ]
        }
      ],
      "source": [
        "# Loops Assignment 1\n",
        "# Print the numbers from 1 to 10 using while loop\n",
        "i = 1\n",
        "while(i<=10):\n",
        "  print(i)\n",
        "  i+=1"
      ]
    },
    {
      "cell_type": "code",
      "source": [
        "# Loops Assignment 2\n",
        "''' Create a list that is having 10,23,4,26,4,75,24,54 values\n",
        "and with the help of while loop, fetch \n",
        "the even numbers and print the numbers '''\n",
        "\n",
        "list1 = [10,23,4,26,4,75,24,54]\n",
        "num = 0\n",
        "print (\"Even numbers in the list:\\n\") \n",
        "\n",
        "# using while loop\n",
        "while(num < len(list1)):\n",
        "  \n",
        "  # checking condition\n",
        "  if list1[num] % 2 == 0:\n",
        "    print(list1[num], end=\" \")\n",
        " \n",
        "  # increment num\n",
        "  num += 1"
      ],
      "metadata": {
        "colab": {
          "base_uri": "https://localhost:8080/"
        },
        "id": "ztqeSc29oVBd",
        "outputId": "384b80cd-6560-4742-dc5a-9c23a02bd7ed"
      },
      "execution_count": 16,
      "outputs": [
        {
          "output_type": "stream",
          "name": "stdout",
          "text": [
            "Even numbers in the list:\n",
            "\n",
            "10 4 26 4 24 54 "
          ]
        }
      ]
    },
    {
      "cell_type": "code",
      "source": [
        "# Loops Assignment 3\n",
        "''' Create an array that is having user defined inputs\n",
        "and with the help of for loop, fetch all the prime \n",
        "numbers and print the numbers '''\n",
        "\n",
        "#User Defined function to check Prime\n",
        "def prime(n): \n",
        "    if n <= 0: \n",
        "        return \"Not defined\" \n",
        "    elif n == 1: \n",
        "        return \"1 is Not prime\" \n",
        "    for i in range(2, n): \n",
        "        if n%i == 0: \n",
        "            return \"Not prime\" \n",
        "    return \"Prime Number\" \n",
        " \n",
        "#User defined function to make the Prime Numbers in a list \n",
        "def list_prime(lst): \n",
        "\tprime_list =[ ] \n",
        "\tfor i in lst: \n",
        "\t\tx = prime(i) \n",
        "\t\tif x == \"Prime Number\": \n",
        "\t\t\tprime_list.append(i) \n",
        "\treturn prime_list \n",
        "\t \n",
        "#Driver Code    \n",
        "lst = []\n",
        "# number of elements as input\n",
        "n = int(input(\"Enter number of elements : \"))\n",
        "for i in range(0, n):\n",
        "    ele = int(input())1\n",
        "    lst.append(ele) \n",
        "#print input    \n",
        "print(\"User Input list is\",lst)\n",
        "#print output\n",
        "print(\"Prime number list is: \")\n",
        "print(list_prime(lst))      "
      ],
      "metadata": {
        "colab": {
          "base_uri": "https://localhost:8080/"
        },
        "id": "kdTCbKwYsEYS",
        "outputId": "5253fac2-ce98-40ff-cba2-b19cbed627e2"
      },
      "execution_count": 21,
      "outputs": [
        {
          "output_type": "stream",
          "name": "stdout",
          "text": [
            "Enter number of elements : 5\n",
            "11\n",
            "99\n",
            "66\n",
            "19\n",
            "7\n",
            "User Input list is [11, 99, 66, 19, 7]\n",
            "Prime number list is: \n",
            "[11, 19, 7]\n"
          ]
        }
      ]
    }
  ]
}
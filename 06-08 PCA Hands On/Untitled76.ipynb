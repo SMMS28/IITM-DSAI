{
 "cells": [
  {
   "cell_type": "code",
   "execution_count": 1,
   "id": "0b4faecf",
   "metadata": {},
   "outputs": [],
   "source": [
    "#Principal Component Analysis is an unsupervised learning algorithm that is used for the dimensionality reduction \n",
    "#in machine learning. It is a statistical process that converts the observations of correlated features into a set of \n",
    "#linearly uncorrelated features with the help of orthogonal transformation."
   ]
  },
  {
   "cell_type": "code",
   "execution_count": 2,
   "id": "d521fe17",
   "metadata": {},
   "outputs": [],
   "source": [
    "import numpy as np \n",
    "import pandas as pd  \n",
    "from sklearn.decomposition import PCA \n",
    "  \n",
    "import matplotlib.pyplot as plt \n",
    "import seaborn as sns\n",
    "%matplotlib inline\n",
    "\n",
    "from sklearn.model_selection import train_test_split\n",
    "from sklearn.tree import DecisionTreeClassifier\n",
    "from sklearn.metrics import accuracy_score,confusion_matrix"
   ]
  },
  {
   "cell_type": "code",
   "execution_count": 3,
   "id": "63981f1f",
   "metadata": {},
   "outputs": [],
   "source": [
    "from sklearn import datasets"
   ]
  },
  {
   "cell_type": "code",
   "execution_count": 4,
   "id": "19ce74ef",
   "metadata": {},
   "outputs": [],
   "source": [
    "from sklearn.datasets import load_digits\n",
    "digits = load_digits()"
   ]
  },
  {
   "cell_type": "code",
   "execution_count": 5,
   "id": "ab7cbd51",
   "metadata": {},
   "outputs": [
    {
     "data": {
      "text/plain": [
       "{'data': array([[ 0.,  0.,  5., ...,  0.,  0.,  0.],\n",
       "        [ 0.,  0.,  0., ..., 10.,  0.,  0.],\n",
       "        [ 0.,  0.,  0., ..., 16.,  9.,  0.],\n",
       "        ...,\n",
       "        [ 0.,  0.,  1., ...,  6.,  0.,  0.],\n",
       "        [ 0.,  0.,  2., ..., 12.,  0.,  0.],\n",
       "        [ 0.,  0., 10., ..., 12.,  1.,  0.]]),\n",
       " 'target': array([0, 1, 2, ..., 8, 9, 8]),\n",
       " 'frame': None,\n",
       " 'feature_names': ['pixel_0_0',\n",
       "  'pixel_0_1',\n",
       "  'pixel_0_2',\n",
       "  'pixel_0_3',\n",
       "  'pixel_0_4',\n",
       "  'pixel_0_5',\n",
       "  'pixel_0_6',\n",
       "  'pixel_0_7',\n",
       "  'pixel_1_0',\n",
       "  'pixel_1_1',\n",
       "  'pixel_1_2',\n",
       "  'pixel_1_3',\n",
       "  'pixel_1_4',\n",
       "  'pixel_1_5',\n",
       "  'pixel_1_6',\n",
       "  'pixel_1_7',\n",
       "  'pixel_2_0',\n",
       "  'pixel_2_1',\n",
       "  'pixel_2_2',\n",
       "  'pixel_2_3',\n",
       "  'pixel_2_4',\n",
       "  'pixel_2_5',\n",
       "  'pixel_2_6',\n",
       "  'pixel_2_7',\n",
       "  'pixel_3_0',\n",
       "  'pixel_3_1',\n",
       "  'pixel_3_2',\n",
       "  'pixel_3_3',\n",
       "  'pixel_3_4',\n",
       "  'pixel_3_5',\n",
       "  'pixel_3_6',\n",
       "  'pixel_3_7',\n",
       "  'pixel_4_0',\n",
       "  'pixel_4_1',\n",
       "  'pixel_4_2',\n",
       "  'pixel_4_3',\n",
       "  'pixel_4_4',\n",
       "  'pixel_4_5',\n",
       "  'pixel_4_6',\n",
       "  'pixel_4_7',\n",
       "  'pixel_5_0',\n",
       "  'pixel_5_1',\n",
       "  'pixel_5_2',\n",
       "  'pixel_5_3',\n",
       "  'pixel_5_4',\n",
       "  'pixel_5_5',\n",
       "  'pixel_5_6',\n",
       "  'pixel_5_7',\n",
       "  'pixel_6_0',\n",
       "  'pixel_6_1',\n",
       "  'pixel_6_2',\n",
       "  'pixel_6_3',\n",
       "  'pixel_6_4',\n",
       "  'pixel_6_5',\n",
       "  'pixel_6_6',\n",
       "  'pixel_6_7',\n",
       "  'pixel_7_0',\n",
       "  'pixel_7_1',\n",
       "  'pixel_7_2',\n",
       "  'pixel_7_3',\n",
       "  'pixel_7_4',\n",
       "  'pixel_7_5',\n",
       "  'pixel_7_6',\n",
       "  'pixel_7_7'],\n",
       " 'target_names': array([0, 1, 2, 3, 4, 5, 6, 7, 8, 9]),\n",
       " 'images': array([[[ 0.,  0.,  5., ...,  1.,  0.,  0.],\n",
       "         [ 0.,  0., 13., ..., 15.,  5.,  0.],\n",
       "         [ 0.,  3., 15., ..., 11.,  8.,  0.],\n",
       "         ...,\n",
       "         [ 0.,  4., 11., ..., 12.,  7.,  0.],\n",
       "         [ 0.,  2., 14., ..., 12.,  0.,  0.],\n",
       "         [ 0.,  0.,  6., ...,  0.,  0.,  0.]],\n",
       " \n",
       "        [[ 0.,  0.,  0., ...,  5.,  0.,  0.],\n",
       "         [ 0.,  0.,  0., ...,  9.,  0.,  0.],\n",
       "         [ 0.,  0.,  3., ...,  6.,  0.,  0.],\n",
       "         ...,\n",
       "         [ 0.,  0.,  1., ...,  6.,  0.,  0.],\n",
       "         [ 0.,  0.,  1., ...,  6.,  0.,  0.],\n",
       "         [ 0.,  0.,  0., ..., 10.,  0.,  0.]],\n",
       " \n",
       "        [[ 0.,  0.,  0., ..., 12.,  0.,  0.],\n",
       "         [ 0.,  0.,  3., ..., 14.,  0.,  0.],\n",
       "         [ 0.,  0.,  8., ..., 16.,  0.,  0.],\n",
       "         ...,\n",
       "         [ 0.,  9., 16., ...,  0.,  0.,  0.],\n",
       "         [ 0.,  3., 13., ..., 11.,  5.,  0.],\n",
       "         [ 0.,  0.,  0., ..., 16.,  9.,  0.]],\n",
       " \n",
       "        ...,\n",
       " \n",
       "        [[ 0.,  0.,  1., ...,  1.,  0.,  0.],\n",
       "         [ 0.,  0., 13., ...,  2.,  1.,  0.],\n",
       "         [ 0.,  0., 16., ..., 16.,  5.,  0.],\n",
       "         ...,\n",
       "         [ 0.,  0., 16., ..., 15.,  0.,  0.],\n",
       "         [ 0.,  0., 15., ..., 16.,  0.,  0.],\n",
       "         [ 0.,  0.,  2., ...,  6.,  0.,  0.]],\n",
       " \n",
       "        [[ 0.,  0.,  2., ...,  0.,  0.,  0.],\n",
       "         [ 0.,  0., 14., ..., 15.,  1.,  0.],\n",
       "         [ 0.,  4., 16., ..., 16.,  7.,  0.],\n",
       "         ...,\n",
       "         [ 0.,  0.,  0., ..., 16.,  2.,  0.],\n",
       "         [ 0.,  0.,  4., ..., 16.,  2.,  0.],\n",
       "         [ 0.,  0.,  5., ..., 12.,  0.,  0.]],\n",
       " \n",
       "        [[ 0.,  0., 10., ...,  1.,  0.,  0.],\n",
       "         [ 0.,  2., 16., ...,  1.,  0.,  0.],\n",
       "         [ 0.,  0., 15., ..., 15.,  0.,  0.],\n",
       "         ...,\n",
       "         [ 0.,  4., 16., ..., 16.,  6.,  0.],\n",
       "         [ 0.,  8., 16., ..., 16.,  8.,  0.],\n",
       "         [ 0.,  1.,  8., ..., 12.,  1.,  0.]]]),\n",
       " 'DESCR': \".. _digits_dataset:\\n\\nOptical recognition of handwritten digits dataset\\n--------------------------------------------------\\n\\n**Data Set Characteristics:**\\n\\n    :Number of Instances: 1797\\n    :Number of Attributes: 64\\n    :Attribute Information: 8x8 image of integer pixels in the range 0..16.\\n    :Missing Attribute Values: None\\n    :Creator: E. Alpaydin (alpaydin '@' boun.edu.tr)\\n    :Date: July; 1998\\n\\nThis is a copy of the test set of the UCI ML hand-written digits datasets\\nhttps://archive.ics.uci.edu/ml/datasets/Optical+Recognition+of+Handwritten+Digits\\n\\nThe data set contains images of hand-written digits: 10 classes where\\neach class refers to a digit.\\n\\nPreprocessing programs made available by NIST were used to extract\\nnormalized bitmaps of handwritten digits from a preprinted form. From a\\ntotal of 43 people, 30 contributed to the training set and different 13\\nto the test set. 32x32 bitmaps are divided into nonoverlapping blocks of\\n4x4 and the number of on pixels are counted in each block. This generates\\nan input matrix of 8x8 where each element is an integer in the range\\n0..16. This reduces dimensionality and gives invariance to small\\ndistortions.\\n\\nFor info on NIST preprocessing routines, see M. D. Garris, J. L. Blue, G.\\nT. Candela, D. L. Dimmick, J. Geist, P. J. Grother, S. A. Janet, and C.\\nL. Wilson, NIST Form-Based Handprint Recognition System, NISTIR 5469,\\n1994.\\n\\n.. topic:: References\\n\\n  - C. Kaynak (1995) Methods of Combining Multiple Classifiers and Their\\n    Applications to Handwritten Digit Recognition, MSc Thesis, Institute of\\n    Graduate Studies in Science and Engineering, Bogazici University.\\n  - E. Alpaydin, C. Kaynak (1998) Cascading Classifiers, Kybernetika.\\n  - Ken Tang and Ponnuthurai N. Suganthan and Xi Yao and A. Kai Qin.\\n    Linear dimensionalityreduction using relevance weighted LDA. School of\\n    Electrical and Electronic Engineering Nanyang Technological University.\\n    2005.\\n  - Claudio Gentile. A New Approximate Maximal Margin Classification\\n    Algorithm. NIPS. 2000.\\n\"}"
      ]
     },
     "execution_count": 5,
     "metadata": {},
     "output_type": "execute_result"
    }
   ],
   "source": [
    "digits"
   ]
  },
  {
   "cell_type": "code",
   "execution_count": 6,
   "id": "4dbdee2e",
   "metadata": {},
   "outputs": [
    {
     "data": {
      "text/plain": [
       "<matplotlib.image.AxesImage at 0x1533013e340>"
      ]
     },
     "execution_count": 6,
     "metadata": {},
     "output_type": "execute_result"
    },
    {
     "data": {
      "image/png": "[encoded data removed]",
      "text/plain": [
       "<Figure size 432x288 with 1 Axes>"
      ]
     },
     "metadata": {
      "needs_background": "light"
     },
     "output_type": "display_data"
    }
   ],
   "source": [
    "plt.imshow(digits.images[0], cmap=plt.cm.gray)"
   ]
  },
  {
   "cell_type": "code",
   "execution_count": 7,
   "id": "114f1c10",
   "metadata": {},
   "outputs": [],
   "source": [
    "data1=pd.DataFrame(digits.data)"
   ]
  },
  {
   "cell_type": "code",
   "execution_count": 8,
   "id": "332a041e",
   "metadata": {},
   "outputs": [
    {
     "data": {
      "text/html": [
       "<div>\n",
       "<style scoped>\n",
       "    .dataframe tbody tr th:only-of-type {\n",
       "        vertical-align: middle;\n",
       "    }\n",
       "\n",
       "    .dataframe tbody tr th {\n",
       "        vertical-align: top;\n",
       "    }\n",
       "\n",
       "    .dataframe thead th {\n",
       "        text-align: right;\n",
       "    }\n",
       "</style>\n",
       "<table border=\"1\" class=\"dataframe\">\n",
       "  <thead>\n",
       "    <tr style=\"text-align: right;\">\n",
       "      <th></th>\n",
       "      <th>0</th>\n",
       "      <th>1</th>\n",
       "      <th>2</th>\n",
       "      <th>3</th>\n",
       "      <th>4</th>\n",
       "      <th>5</th>\n",
       "      <th>6</th>\n",
       "      <th>7</th>\n",
       "      <th>8</th>\n",
       "      <th>9</th>\n",
       "      <th>...</th>\n",
       "      <th>54</th>\n",
       "      <th>55</th>\n",
       "      <th>56</th>\n",
       "      <th>57</th>\n",
       "      <th>58</th>\n",
       "      <th>59</th>\n",
       "      <th>60</th>\n",
       "      <th>61</th>\n",
       "      <th>62</th>\n",
       "      <th>63</th>\n",
       "    </tr>\n",
       "  </thead>\n",
       "  <tbody>\n",
       "    <tr>\n",
       "      <th>0</th>\n",
       "      <td>0.0</td>\n",
       "      <td>0.0</td>\n",
       "      <td>5.0</td>\n",
       "      <td>13.0</td>\n",
       "      <td>9.0</td>\n",
       "      <td>1.0</td>\n",
       "      <td>0.0</td>\n",
       "      <td>0.0</td>\n",
       "      <td>0.0</td>\n",
       "      <td>0.0</td>\n",
       "      <td>...</td>\n",
       "      <td>0.0</td>\n",
       "      <td>0.0</td>\n",
       "      <td>0.0</td>\n",
       "      <td>0.0</td>\n",
       "      <td>6.0</td>\n",
       "      <td>13.0</td>\n",
       "      <td>10.0</td>\n",
       "      <td>0.0</td>\n",
       "      <td>0.0</td>\n",
       "      <td>0.0</td>\n",
       "    </tr>\n",
       "    <tr>\n",
       "      <th>1</th>\n",
       "      <td>0.0</td>\n",
       "      <td>0.0</td>\n",
       "      <td>0.0</td>\n",
       "      <td>12.0</td>\n",
       "      <td>13.0</td>\n",
       "      <td>5.0</td>\n",
       "      <td>0.0</td>\n",
       "      <td>0.0</td>\n",
       "      <td>0.0</td>\n",
       "      <td>0.0</td>\n",
       "      <td>...</td>\n",
       "      <td>0.0</td>\n",
       "      <td>0.0</td>\n",
       "      <td>0.0</td>\n",
       "      <td>0.0</td>\n",
       "      <td>0.0</td>\n",
       "      <td>11.0</td>\n",
       "      <td>16.0</td>\n",
       "      <td>10.0</td>\n",
       "      <td>0.0</td>\n",
       "      <td>0.0</td>\n",
       "    </tr>\n",
       "    <tr>\n",
       "      <th>2</th>\n",
       "      <td>0.0</td>\n",
       "      <td>0.0</td>\n",
       "      <td>0.0</td>\n",
       "      <td>4.0</td>\n",
       "      <td>15.0</td>\n",
       "      <td>12.0</td>\n",
       "      <td>0.0</td>\n",
       "      <td>0.0</td>\n",
       "      <td>0.0</td>\n",
       "      <td>0.0</td>\n",
       "      <td>...</td>\n",
       "      <td>5.0</td>\n",
       "      <td>0.0</td>\n",
       "      <td>0.0</td>\n",
       "      <td>0.0</td>\n",
       "      <td>0.0</td>\n",
       "      <td>3.0</td>\n",
       "      <td>11.0</td>\n",
       "      <td>16.0</td>\n",
       "      <td>9.0</td>\n",
       "      <td>0.0</td>\n",
       "    </tr>\n",
       "    <tr>\n",
       "      <th>3</th>\n",
       "      <td>0.0</td>\n",
       "      <td>0.0</td>\n",
       "      <td>7.0</td>\n",
       "      <td>15.0</td>\n",
       "      <td>13.0</td>\n",
       "      <td>1.0</td>\n",
       "      <td>0.0</td>\n",
       "      <td>0.0</td>\n",
       "      <td>0.0</td>\n",
       "      <td>8.0</td>\n",
       "      <td>...</td>\n",
       "      <td>9.0</td>\n",
       "      <td>0.0</td>\n",
       "      <td>0.0</td>\n",
       "      <td>0.0</td>\n",
       "      <td>7.0</td>\n",
       "      <td>13.0</td>\n",
       "      <td>13.0</td>\n",
       "      <td>9.0</td>\n",
       "      <td>0.0</td>\n",
       "      <td>0.0</td>\n",
       "    </tr>\n",
       "    <tr>\n",
       "      <th>4</th>\n",
       "      <td>0.0</td>\n",
       "      <td>0.0</td>\n",
       "      <td>0.0</td>\n",
       "      <td>1.0</td>\n",
       "      <td>11.0</td>\n",
       "      <td>0.0</td>\n",
       "      <td>0.0</td>\n",
       "      <td>0.0</td>\n",
       "      <td>0.0</td>\n",
       "      <td>0.0</td>\n",
       "      <td>...</td>\n",
       "      <td>0.0</td>\n",
       "      <td>0.0</td>\n",
       "      <td>0.0</td>\n",
       "      <td>0.0</td>\n",
       "      <td>0.0</td>\n",
       "      <td>2.0</td>\n",
       "      <td>16.0</td>\n",
       "      <td>4.0</td>\n",
       "      <td>0.0</td>\n",
       "      <td>0.0</td>\n",
       "    </tr>\n",
       "  </tbody>\n",
       "</table>\n",
       "<p>5 rows × 64 columns</p>\n",
       "</div>"
      ],
      "text/plain": [
       "    0    1    2     3     4     5    6    7    8    9   ...   54   55   56  \\\n",
       "0  0.0  0.0  5.0  13.0   9.0   1.0  0.0  0.0  0.0  0.0  ...  0.0  0.0  0.0   \n",
       "1  0.0  0.0  0.0  12.0  13.0   5.0  0.0  0.0  0.0  0.0  ...  0.0  0.0  0.0   \n",
       "2  0.0  0.0  0.0   4.0  15.0  12.0  0.0  0.0  0.0  0.0  ...  5.0  0.0  0.0   \n",
       "3  0.0  0.0  7.0  15.0  13.0   1.0  0.0  0.0  0.0  8.0  ...  9.0  0.0  0.0   \n",
       "4  0.0  0.0  0.0   1.0  11.0   0.0  0.0  0.0  0.0  0.0  ...  0.0  0.0  0.0   \n",
       "\n",
       "    57   58    59    60    61   62   63  \n",
       "0  0.0  6.0  13.0  10.0   0.0  0.0  0.0  \n",
       "1  0.0  0.0  11.0  16.0  10.0  0.0  0.0  \n",
       "2  0.0  0.0   3.0  11.0  16.0  9.0  0.0  \n",
       "3  0.0  7.0  13.0  13.0   9.0  0.0  0.0  \n",
       "4  0.0  0.0   2.0  16.0   4.0  0.0  0.0  \n",
       "\n",
       "[5 rows x 64 columns]"
      ]
     },
     "execution_count": 8,
     "metadata": {},
     "output_type": "execute_result"
    }
   ],
   "source": [
    "data1.head()"
   ]
  },
  {
   "cell_type": "code",
   "execution_count": 9,
   "id": "1081a058",
   "metadata": {},
   "outputs": [
    {
     "data": {
      "text/html": [
       "<div>\n",
       "<style scoped>\n",
       "    .dataframe tbody tr th:only-of-type {\n",
       "        vertical-align: middle;\n",
       "    }\n",
       "\n",
       "    .dataframe tbody tr th {\n",
       "        vertical-align: top;\n",
       "    }\n",
       "\n",
       "    .dataframe thead th {\n",
       "        text-align: right;\n",
       "    }\n",
       "</style>\n",
       "<table border=\"1\" class=\"dataframe\">\n",
       "  <thead>\n",
       "    <tr style=\"text-align: right;\">\n",
       "      <th></th>\n",
       "      <th>0</th>\n",
       "      <th>1</th>\n",
       "      <th>2</th>\n",
       "      <th>3</th>\n",
       "      <th>4</th>\n",
       "      <th>5</th>\n",
       "      <th>6</th>\n",
       "      <th>7</th>\n",
       "      <th>8</th>\n",
       "      <th>9</th>\n",
       "      <th>...</th>\n",
       "      <th>54</th>\n",
       "      <th>55</th>\n",
       "      <th>56</th>\n",
       "      <th>57</th>\n",
       "      <th>58</th>\n",
       "      <th>59</th>\n",
       "      <th>60</th>\n",
       "      <th>61</th>\n",
       "      <th>62</th>\n",
       "      <th>63</th>\n",
       "    </tr>\n",
       "  </thead>\n",
       "  <tbody>\n",
       "    <tr>\n",
       "      <th>count</th>\n",
       "      <td>1797.0</td>\n",
       "      <td>1797.000000</td>\n",
       "      <td>1797.000000</td>\n",
       "      <td>1797.000000</td>\n",
       "      <td>1797.000000</td>\n",
       "      <td>1797.000000</td>\n",
       "      <td>1797.000000</td>\n",
       "      <td>1797.000000</td>\n",
       "      <td>1797.000000</td>\n",
       "      <td>1797.000000</td>\n",
       "      <td>...</td>\n",
       "      <td>1797.000000</td>\n",
       "      <td>1797.000000</td>\n",
       "      <td>1797.000000</td>\n",
       "      <td>1797.000000</td>\n",
       "      <td>1797.000000</td>\n",
       "      <td>1797.000000</td>\n",
       "      <td>1797.000000</td>\n",
       "      <td>1797.000000</td>\n",
       "      <td>1797.000000</td>\n",
       "      <td>1797.000000</td>\n",
       "    </tr>\n",
       "    <tr>\n",
       "      <th>mean</th>\n",
       "      <td>0.0</td>\n",
       "      <td>0.303840</td>\n",
       "      <td>5.204786</td>\n",
       "      <td>11.835838</td>\n",
       "      <td>11.848080</td>\n",
       "      <td>5.781859</td>\n",
       "      <td>1.362270</td>\n",
       "      <td>0.129661</td>\n",
       "      <td>0.005565</td>\n",
       "      <td>1.993879</td>\n",
       "      <td>...</td>\n",
       "      <td>3.725097</td>\n",
       "      <td>0.206455</td>\n",
       "      <td>0.000556</td>\n",
       "      <td>0.279354</td>\n",
       "      <td>5.557596</td>\n",
       "      <td>12.089037</td>\n",
       "      <td>11.809126</td>\n",
       "      <td>6.764051</td>\n",
       "      <td>2.067891</td>\n",
       "      <td>0.364496</td>\n",
       "    </tr>\n",
       "    <tr>\n",
       "      <th>std</th>\n",
       "      <td>0.0</td>\n",
       "      <td>0.907192</td>\n",
       "      <td>4.754826</td>\n",
       "      <td>4.248842</td>\n",
       "      <td>4.287388</td>\n",
       "      <td>5.666418</td>\n",
       "      <td>3.325775</td>\n",
       "      <td>1.037383</td>\n",
       "      <td>0.094222</td>\n",
       "      <td>3.196160</td>\n",
       "      <td>...</td>\n",
       "      <td>4.919406</td>\n",
       "      <td>0.984401</td>\n",
       "      <td>0.023590</td>\n",
       "      <td>0.934302</td>\n",
       "      <td>5.103019</td>\n",
       "      <td>4.374694</td>\n",
       "      <td>4.933947</td>\n",
       "      <td>5.900623</td>\n",
       "      <td>4.090548</td>\n",
       "      <td>1.860122</td>\n",
       "    </tr>\n",
       "    <tr>\n",
       "      <th>min</th>\n",
       "      <td>0.0</td>\n",
       "      <td>0.000000</td>\n",
       "      <td>0.000000</td>\n",
       "      <td>0.000000</td>\n",
       "      <td>0.000000</td>\n",
       "      <td>0.000000</td>\n",
       "      <td>0.000000</td>\n",
       "      <td>0.000000</td>\n",
       "      <td>0.000000</td>\n",
       "      <td>0.000000</td>\n",
       "      <td>...</td>\n",
       "      <td>0.000000</td>\n",
       "      <td>0.000000</td>\n",
       "      <td>0.000000</td>\n",
       "      <td>0.000000</td>\n",
       "      <td>0.000000</td>\n",
       "      <td>0.000000</td>\n",
       "      <td>0.000000</td>\n",
       "      <td>0.000000</td>\n",
       "      <td>0.000000</td>\n",
       "      <td>0.000000</td>\n",
       "    </tr>\n",
       "    <tr>\n",
       "      <th>25%</th>\n",
       "      <td>0.0</td>\n",
       "      <td>0.000000</td>\n",
       "      <td>1.000000</td>\n",
       "      <td>10.000000</td>\n",
       "      <td>10.000000</td>\n",
       "      <td>0.000000</td>\n",
       "      <td>0.000000</td>\n",
       "      <td>0.000000</td>\n",
       "      <td>0.000000</td>\n",
       "      <td>0.000000</td>\n",
       "      <td>...</td>\n",
       "      <td>0.000000</td>\n",
       "      <td>0.000000</td>\n",
       "      <td>0.000000</td>\n",
       "      <td>0.000000</td>\n",
       "      <td>1.000000</td>\n",
       "      <td>11.000000</td>\n",
       "      <td>10.000000</td>\n",
       "      <td>0.000000</td>\n",
       "      <td>0.000000</td>\n",
       "      <td>0.000000</td>\n",
       "    </tr>\n",
       "    <tr>\n",
       "      <th>50%</th>\n",
       "      <td>0.0</td>\n",
       "      <td>0.000000</td>\n",
       "      <td>4.000000</td>\n",
       "      <td>13.000000</td>\n",
       "      <td>13.000000</td>\n",
       "      <td>4.000000</td>\n",
       "      <td>0.000000</td>\n",
       "      <td>0.000000</td>\n",
       "      <td>0.000000</td>\n",
       "      <td>0.000000</td>\n",
       "      <td>...</td>\n",
       "      <td>1.000000</td>\n",
       "      <td>0.000000</td>\n",
       "      <td>0.000000</td>\n",
       "      <td>0.000000</td>\n",
       "      <td>4.000000</td>\n",
       "      <td>13.000000</td>\n",
       "      <td>14.000000</td>\n",
       "      <td>6.000000</td>\n",
       "      <td>0.000000</td>\n",
       "      <td>0.000000</td>\n",
       "    </tr>\n",
       "    <tr>\n",
       "      <th>75%</th>\n",
       "      <td>0.0</td>\n",
       "      <td>0.000000</td>\n",
       "      <td>9.000000</td>\n",
       "      <td>15.000000</td>\n",
       "      <td>15.000000</td>\n",
       "      <td>11.000000</td>\n",
       "      <td>0.000000</td>\n",
       "      <td>0.000000</td>\n",
       "      <td>0.000000</td>\n",
       "      <td>3.000000</td>\n",
       "      <td>...</td>\n",
       "      <td>7.000000</td>\n",
       "      <td>0.000000</td>\n",
       "      <td>0.000000</td>\n",
       "      <td>0.000000</td>\n",
       "      <td>10.000000</td>\n",
       "      <td>16.000000</td>\n",
       "      <td>16.000000</td>\n",
       "      <td>12.000000</td>\n",
       "      <td>2.000000</td>\n",
       "      <td>0.000000</td>\n",
       "    </tr>\n",
       "    <tr>\n",
       "      <th>max</th>\n",
       "      <td>0.0</td>\n",
       "      <td>8.000000</td>\n",
       "      <td>16.000000</td>\n",
       "      <td>16.000000</td>\n",
       "      <td>16.000000</td>\n",
       "      <td>16.000000</td>\n",
       "      <td>16.000000</td>\n",
       "      <td>15.000000</td>\n",
       "      <td>2.000000</td>\n",
       "      <td>16.000000</td>\n",
       "      <td>...</td>\n",
       "      <td>16.000000</td>\n",
       "      <td>13.000000</td>\n",
       "      <td>1.000000</td>\n",
       "      <td>9.000000</td>\n",
       "      <td>16.000000</td>\n",
       "      <td>16.000000</td>\n",
       "      <td>16.000000</td>\n",
       "      <td>16.000000</td>\n",
       "      <td>16.000000</td>\n",
       "      <td>16.000000</td>\n",
       "    </tr>\n",
       "  </tbody>\n",
       "</table>\n",
       "<p>8 rows × 64 columns</p>\n",
       "</div>"
      ],
      "text/plain": [
       "           0            1            2            3            4   \\\n",
       "count  1797.0  1797.000000  1797.000000  1797.000000  1797.000000   \n",
       "mean      0.0     0.303840     5.204786    11.835838    11.848080   \n",
       "std       0.0     0.907192     4.754826     4.248842     4.287388   \n",
       "min       0.0     0.000000     0.000000     0.000000     0.000000   \n",
       "25%       0.0     0.000000     1.000000    10.000000    10.000000   \n",
       "50%       0.0     0.000000     4.000000    13.000000    13.000000   \n",
       "75%       0.0     0.000000     9.000000    15.000000    15.000000   \n",
       "max       0.0     8.000000    16.000000    16.000000    16.000000   \n",
       "\n",
       "                5            6            7            8            9   ...  \\\n",
       "count  1797.000000  1797.000000  1797.000000  1797.000000  1797.000000  ...   \n",
       "mean      5.781859     1.362270     0.129661     0.005565     1.993879  ...   \n",
       "std       5.666418     3.325775     1.037383     0.094222     3.196160  ...   \n",
       "min       0.000000     0.000000     0.000000     0.000000     0.000000  ...   \n",
       "25%       0.000000     0.000000     0.000000     0.000000     0.000000  ...   \n",
       "50%       4.000000     0.000000     0.000000     0.000000     0.000000  ...   \n",
       "75%      11.000000     0.000000     0.000000     0.000000     3.000000  ...   \n",
       "max      16.000000    16.000000    15.000000     2.000000    16.000000  ...   \n",
       "\n",
       "                54           55           56           57           58  \\\n",
       "count  1797.000000  1797.000000  1797.000000  1797.000000  1797.000000   \n",
       "mean      3.725097     0.206455     0.000556     0.279354     5.557596   \n",
       "std       4.919406     0.984401     0.023590     0.934302     5.103019   \n",
       "min       0.000000     0.000000     0.000000     0.000000     0.000000   \n",
       "25%       0.000000     0.000000     0.000000     0.000000     1.000000   \n",
       "50%       1.000000     0.000000     0.000000     0.000000     4.000000   \n",
       "75%       7.000000     0.000000     0.000000     0.000000    10.000000   \n",
       "max      16.000000    13.000000     1.000000     9.000000    16.000000   \n",
       "\n",
       "                59           60           61           62           63  \n",
       "count  1797.000000  1797.000000  1797.000000  1797.000000  1797.000000  \n",
       "mean     12.089037    11.809126     6.764051     2.067891     0.364496  \n",
       "std       4.374694     4.933947     5.900623     4.090548     1.860122  \n",
       "min       0.000000     0.000000     0.000000     0.000000     0.000000  \n",
       "25%      11.000000    10.000000     0.000000     0.000000     0.000000  \n",
       "50%      13.000000    14.000000     6.000000     0.000000     0.000000  \n",
       "75%      16.000000    16.000000    12.000000     2.000000     0.000000  \n",
       "max      16.000000    16.000000    16.000000    16.000000    16.000000  \n",
       "\n",
       "[8 rows x 64 columns]"
      ]
     },
     "execution_count": 9,
     "metadata": {},
     "output_type": "execute_result"
    }
   ],
   "source": [
    "data1.describe()"
   ]
  },
  {
   "cell_type": "code",
   "execution_count": 10,
   "id": "c3870729",
   "metadata": {},
   "outputs": [
    {
     "data": {
      "text/plain": [
       "(1797, 64)"
      ]
     },
     "execution_count": 10,
     "metadata": {},
     "output_type": "execute_result"
    }
   ],
   "source": [
    "digits.data.shape"
   ]
  },
  {
   "cell_type": "code",
   "execution_count": 11,
   "id": "848c74b3",
   "metadata": {},
   "outputs": [
    {
     "data": {
      "text/plain": [
       "(1797, 8, 8)"
      ]
     },
     "execution_count": 11,
     "metadata": {},
     "output_type": "execute_result"
    }
   ],
   "source": [
    "digits.images.shape"
   ]
  },
  {
   "cell_type": "code",
   "execution_count": 12,
   "id": "22bc2e6e",
   "metadata": {},
   "outputs": [
    {
     "data": {
      "text/plain": [
       "{'data': array([[ 0.,  0.,  5., ...,  0.,  0.,  0.],\n",
       "        [ 0.,  0.,  0., ..., 10.,  0.,  0.],\n",
       "        [ 0.,  0.,  0., ..., 16.,  9.,  0.],\n",
       "        ...,\n",
       "        [ 0.,  0.,  1., ...,  6.,  0.,  0.],\n",
       "        [ 0.,  0.,  2., ..., 12.,  0.,  0.],\n",
       "        [ 0.,  0., 10., ..., 12.,  1.,  0.]]),\n",
       " 'target': array([0, 1, 2, ..., 8, 9, 8]),\n",
       " 'frame': None,\n",
       " 'feature_names': ['pixel_0_0',\n",
       "  'pixel_0_1',\n",
       "  'pixel_0_2',\n",
       "  'pixel_0_3',\n",
       "  'pixel_0_4',\n",
       "  'pixel_0_5',\n",
       "  'pixel_0_6',\n",
       "  'pixel_0_7',\n",
       "  'pixel_1_0',\n",
       "  'pixel_1_1',\n",
       "  'pixel_1_2',\n",
       "  'pixel_1_3',\n",
       "  'pixel_1_4',\n",
       "  'pixel_1_5',\n",
       "  'pixel_1_6',\n",
       "  'pixel_1_7',\n",
       "  'pixel_2_0',\n",
       "  'pixel_2_1',\n",
       "  'pixel_2_2',\n",
       "  'pixel_2_3',\n",
       "  'pixel_2_4',\n",
       "  'pixel_2_5',\n",
       "  'pixel_2_6',\n",
       "  'pixel_2_7',\n",
       "  'pixel_3_0',\n",
       "  'pixel_3_1',\n",
       "  'pixel_3_2',\n",
       "  'pixel_3_3',\n",
       "  'pixel_3_4',\n",
       "  'pixel_3_5',\n",
       "  'pixel_3_6',\n",
       "  'pixel_3_7',\n",
       "  'pixel_4_0',\n",
       "  'pixel_4_1',\n",
       "  'pixel_4_2',\n",
       "  'pixel_4_3',\n",
       "  'pixel_4_4',\n",
       "  'pixel_4_5',\n",
       "  'pixel_4_6',\n",
       "  'pixel_4_7',\n",
       "  'pixel_5_0',\n",
       "  'pixel_5_1',\n",
       "  'pixel_5_2',\n",
       "  'pixel_5_3',\n",
       "  'pixel_5_4',\n",
       "  'pixel_5_5',\n",
       "  'pixel_5_6',\n",
       "  'pixel_5_7',\n",
       "  'pixel_6_0',\n",
       "  'pixel_6_1',\n",
       "  'pixel_6_2',\n",
       "  'pixel_6_3',\n",
       "  'pixel_6_4',\n",
       "  'pixel_6_5',\n",
       "  'pixel_6_6',\n",
       "  'pixel_6_7',\n",
       "  'pixel_7_0',\n",
       "  'pixel_7_1',\n",
       "  'pixel_7_2',\n",
       "  'pixel_7_3',\n",
       "  'pixel_7_4',\n",
       "  'pixel_7_5',\n",
       "  'pixel_7_6',\n",
       "  'pixel_7_7'],\n",
       " 'target_names': array([0, 1, 2, 3, 4, 5, 6, 7, 8, 9]),\n",
       " 'images': array([[[ 0.,  0.,  5., ...,  1.,  0.,  0.],\n",
       "         [ 0.,  0., 13., ..., 15.,  5.,  0.],\n",
       "         [ 0.,  3., 15., ..., 11.,  8.,  0.],\n",
       "         ...,\n",
       "         [ 0.,  4., 11., ..., 12.,  7.,  0.],\n",
       "         [ 0.,  2., 14., ..., 12.,  0.,  0.],\n",
       "         [ 0.,  0.,  6., ...,  0.,  0.,  0.]],\n",
       " \n",
       "        [[ 0.,  0.,  0., ...,  5.,  0.,  0.],\n",
       "         [ 0.,  0.,  0., ...,  9.,  0.,  0.],\n",
       "         [ 0.,  0.,  3., ...,  6.,  0.,  0.],\n",
       "         ...,\n",
       "         [ 0.,  0.,  1., ...,  6.,  0.,  0.],\n",
       "         [ 0.,  0.,  1., ...,  6.,  0.,  0.],\n",
       "         [ 0.,  0.,  0., ..., 10.,  0.,  0.]],\n",
       " \n",
       "        [[ 0.,  0.,  0., ..., 12.,  0.,  0.],\n",
       "         [ 0.,  0.,  3., ..., 14.,  0.,  0.],\n",
       "         [ 0.,  0.,  8., ..., 16.,  0.,  0.],\n",
       "         ...,\n",
       "         [ 0.,  9., 16., ...,  0.,  0.,  0.],\n",
       "         [ 0.,  3., 13., ..., 11.,  5.,  0.],\n",
       "         [ 0.,  0.,  0., ..., 16.,  9.,  0.]],\n",
       " \n",
       "        ...,\n",
       " \n",
       "        [[ 0.,  0.,  1., ...,  1.,  0.,  0.],\n",
       "         [ 0.,  0., 13., ...,  2.,  1.,  0.],\n",
       "         [ 0.,  0., 16., ..., 16.,  5.,  0.],\n",
       "         ...,\n",
       "         [ 0.,  0., 16., ..., 15.,  0.,  0.],\n",
       "         [ 0.,  0., 15., ..., 16.,  0.,  0.],\n",
       "         [ 0.,  0.,  2., ...,  6.,  0.,  0.]],\n",
       " \n",
       "        [[ 0.,  0.,  2., ...,  0.,  0.,  0.],\n",
       "         [ 0.,  0., 14., ..., 15.,  1.,  0.],\n",
       "         [ 0.,  4., 16., ..., 16.,  7.,  0.],\n",
       "         ...,\n",
       "         [ 0.,  0.,  0., ..., 16.,  2.,  0.],\n",
       "         [ 0.,  0.,  4., ..., 16.,  2.,  0.],\n",
       "         [ 0.,  0.,  5., ..., 12.,  0.,  0.]],\n",
       " \n",
       "        [[ 0.,  0., 10., ...,  1.,  0.,  0.],\n",
       "         [ 0.,  2., 16., ...,  1.,  0.,  0.],\n",
       "         [ 0.,  0., 15., ..., 15.,  0.,  0.],\n",
       "         ...,\n",
       "         [ 0.,  4., 16., ..., 16.,  6.,  0.],\n",
       "         [ 0.,  8., 16., ..., 16.,  8.,  0.],\n",
       "         [ 0.,  1.,  8., ..., 12.,  1.,  0.]]]),\n",
       " 'DESCR': \".. _digits_dataset:\\n\\nOptical recognition of handwritten digits dataset\\n--------------------------------------------------\\n\\n**Data Set Characteristics:**\\n\\n    :Number of Instances: 1797\\n    :Number of Attributes: 64\\n    :Attribute Information: 8x8 image of integer pixels in the range 0..16.\\n    :Missing Attribute Values: None\\n    :Creator: E. Alpaydin (alpaydin '@' boun.edu.tr)\\n    :Date: July; 1998\\n\\nThis is a copy of the test set of the UCI ML hand-written digits datasets\\nhttps://archive.ics.uci.edu/ml/datasets/Optical+Recognition+of+Handwritten+Digits\\n\\nThe data set contains images of hand-written digits: 10 classes where\\neach class refers to a digit.\\n\\nPreprocessing programs made available by NIST were used to extract\\nnormalized bitmaps of handwritten digits from a preprinted form. From a\\ntotal of 43 people, 30 contributed to the training set and different 13\\nto the test set. 32x32 bitmaps are divided into nonoverlapping blocks of\\n4x4 and the number of on pixels are counted in each block. This generates\\nan input matrix of 8x8 where each element is an integer in the range\\n0..16. This reduces dimensionality and gives invariance to small\\ndistortions.\\n\\nFor info on NIST preprocessing routines, see M. D. Garris, J. L. Blue, G.\\nT. Candela, D. L. Dimmick, J. Geist, P. J. Grother, S. A. Janet, and C.\\nL. Wilson, NIST Form-Based Handprint Recognition System, NISTIR 5469,\\n1994.\\n\\n.. topic:: References\\n\\n  - C. Kaynak (1995) Methods of Combining Multiple Classifiers and Their\\n    Applications to Handwritten Digit Recognition, MSc Thesis, Institute of\\n    Graduate Studies in Science and Engineering, Bogazici University.\\n  - E. Alpaydin, C. Kaynak (1998) Cascading Classifiers, Kybernetika.\\n  - Ken Tang and Ponnuthurai N. Suganthan and Xi Yao and A. Kai Qin.\\n    Linear dimensionalityreduction using relevance weighted LDA. School of\\n    Electrical and Electronic Engineering Nanyang Technological University.\\n    2005.\\n  - Claudio Gentile. A New Approximate Maximal Margin Classification\\n    Algorithm. NIPS. 2000.\\n\"}"
      ]
     },
     "execution_count": 12,
     "metadata": {},
     "output_type": "execute_result"
    }
   ],
   "source": [
    "digits"
   ]
  },
  {
   "cell_type": "code",
   "execution_count": 13,
   "id": "ecacc9ec",
   "metadata": {},
   "outputs": [
    {
     "data": {
      "text/plain": [
       "array([[ 0.,  0.,  5., 13.,  9.,  1.,  0.,  0.,  0.,  0., 13., 15., 10.,\n",
       "        15.,  5.,  0.,  0.,  3., 15.,  2.,  0., 11.,  8.,  0.,  0.,  4.,\n",
       "        12.,  0.,  0.,  8.,  8.,  0.,  0.,  5.,  8.,  0.,  0.,  9.,  8.,\n",
       "         0.,  0.,  4., 11.,  0.,  1., 12.,  7.,  0.,  0.,  2., 14.,  5.,\n",
       "        10., 12.,  0.,  0.,  0.,  0.,  6., 13., 10.,  0.,  0.,  0.],\n",
       "       [ 0.,  0.,  0., 12., 13.,  5.,  0.,  0.,  0.,  0.,  0., 11., 16.,\n",
       "         9.,  0.,  0.,  0.,  0.,  3., 15., 16.,  6.,  0.,  0.,  0.,  7.,\n",
       "        15., 16., 16.,  2.,  0.,  0.,  0.,  0.,  1., 16., 16.,  3.,  0.,\n",
       "         0.,  0.,  0.,  1., 16., 16.,  6.,  0.,  0.,  0.,  0.,  1., 16.,\n",
       "        16.,  6.,  0.,  0.,  0.,  0.,  0., 11., 16., 10.,  0.,  0.],\n",
       "       [ 0.,  0.,  0.,  4., 15., 12.,  0.,  0.,  0.,  0.,  3., 16., 15.,\n",
       "        14.,  0.,  0.,  0.,  0.,  8., 13.,  8., 16.,  0.,  0.,  0.,  0.,\n",
       "         1.,  6., 15., 11.,  0.,  0.,  0.,  1.,  8., 13., 15.,  1.,  0.,\n",
       "         0.,  0.,  9., 16., 16.,  5.,  0.,  0.,  0.,  0.,  3., 13., 16.,\n",
       "        16., 11.,  5.,  0.,  0.,  0.,  0.,  3., 11., 16.,  9.,  0.],\n",
       "       [ 0.,  0.,  7., 15., 13.,  1.,  0.,  0.,  0.,  8., 13.,  6., 15.,\n",
       "         4.,  0.,  0.,  0.,  2.,  1., 13., 13.,  0.,  0.,  0.,  0.,  0.,\n",
       "         2., 15., 11.,  1.,  0.,  0.,  0.,  0.,  0.,  1., 12., 12.,  1.,\n",
       "         0.,  0.,  0.,  0.,  0.,  1., 10.,  8.,  0.,  0.,  0.,  8.,  4.,\n",
       "         5., 14.,  9.,  0.,  0.,  0.,  7., 13., 13.,  9.,  0.,  0.],\n",
       "       [ 0.,  0.,  0.,  1., 11.,  0.,  0.,  0.,  0.,  0.,  0.,  7.,  8.,\n",
       "         0.,  0.,  0.,  0.,  0.,  1., 13.,  6.,  2.,  2.,  0.,  0.,  0.,\n",
       "         7., 15.,  0.,  9.,  8.,  0.,  0.,  5., 16., 10.,  0., 16.,  6.,\n",
       "         0.,  0.,  4., 15., 16., 13., 16.,  1.,  0.,  0.,  0.,  0.,  3.,\n",
       "        15., 10.,  0.,  0.,  0.,  0.,  0.,  2., 16.,  4.,  0.,  0.]])"
      ]
     },
     "execution_count": 13,
     "metadata": {},
     "output_type": "execute_result"
    }
   ],
   "source": [
    "digits.data[0:5]"
   ]
  },
  {
   "cell_type": "code",
   "execution_count": 14,
   "id": "d0b27d2c",
   "metadata": {},
   "outputs": [
    {
     "data": {
      "text/plain": [
       "array([0, 1, 2, 3, 4])"
      ]
     },
     "execution_count": 14,
     "metadata": {},
     "output_type": "execute_result"
    }
   ],
   "source": [
    "digits.target[0:5]"
   ]
  },
  {
   "cell_type": "code",
   "execution_count": 15,
   "id": "02f7fced",
   "metadata": {},
   "outputs": [
    {
     "name": "stdout",
     "output_type": "stream",
     "text": [
      "0\n",
      "el1\n",
      "1\n",
      "ele2\n",
      "2\n",
      "ele3\n"
     ]
    }
   ],
   "source": [
    "for i,j in enumerate(['el1','ele2','ele3']):\n",
    "    print(i)\n",
    "    print(j)"
   ]
  },
  {
   "cell_type": "code",
   "execution_count": 16,
   "id": "9935dfb4",
   "metadata": {},
   "outputs": [
    {
     "data": {
      "image/png": "[encoded data removed]",
      "text/plain": [
       "<Figure size 1080x288 with 5 Axes>"
      ]
     },
     "metadata": {
      "needs_background": "light"
     },
     "output_type": "display_data"
    }
   ],
   "source": [
    "#Displaying some of the images and labels\n",
    "import numpy as np\n",
    "import matplotlib.pyplot as plt\n",
    "\n",
    "plt.figure(figsize=(15,4))\n",
    "for index, (image, label) in enumerate(zip(digits.data[0:5], digits.target[0:5])):\n",
    "    plt.subplot(1,5, index+1)\n",
    "    plt.imshow(np.reshape(image, (8,8)), cmap=plt.cm.gray)\n",
    "    plt.title(f\"Training: {label}\", fontsize=20 )  "
   ]
  },
  {
   "cell_type": "code",
   "execution_count": 17,
   "id": "7403451f",
   "metadata": {},
   "outputs": [],
   "source": [
    "x=digits.data\n",
    "y=digits.target"
   ]
  },
  {
   "cell_type": "code",
   "execution_count": 18,
   "id": "898dc3aa",
   "metadata": {},
   "outputs": [
    {
     "data": {
      "text/plain": [
       "array([[ 0.,  0.,  5., ...,  0.,  0.,  0.],\n",
       "       [ 0.,  0.,  0., ..., 10.,  0.,  0.],\n",
       "       [ 0.,  0.,  0., ..., 16.,  9.,  0.],\n",
       "       ...,\n",
       "       [ 0.,  0.,  1., ...,  6.,  0.,  0.],\n",
       "       [ 0.,  0.,  2., ..., 12.,  0.,  0.],\n",
       "       [ 0.,  0., 10., ..., 12.,  1.,  0.]])"
      ]
     },
     "execution_count": 18,
     "metadata": {},
     "output_type": "execute_result"
    }
   ],
   "source": [
    "x"
   ]
  },
  {
   "cell_type": "code",
   "execution_count": 19,
   "id": "1f387037",
   "metadata": {},
   "outputs": [
    {
     "data": {
      "text/plain": [
       "array([0, 1, 2, ..., 8, 9, 8])"
      ]
     },
     "execution_count": 19,
     "metadata": {},
     "output_type": "execute_result"
    }
   ],
   "source": [
    "y"
   ]
  },
  {
   "cell_type": "code",
   "execution_count": 20,
   "id": "d2a7e24a",
   "metadata": {},
   "outputs": [
    {
     "data": {
      "text/plain": [
       "(1797, 64)"
      ]
     },
     "execution_count": 20,
     "metadata": {},
     "output_type": "execute_result"
    }
   ],
   "source": [
    "x.shape"
   ]
  },
  {
   "cell_type": "code",
   "execution_count": 21,
   "id": "4caff62d",
   "metadata": {},
   "outputs": [
    {
     "data": {
      "text/plain": [
       "(1797,)"
      ]
     },
     "execution_count": 21,
     "metadata": {},
     "output_type": "execute_result"
    }
   ],
   "source": [
    "y.shape"
   ]
  },
  {
   "cell_type": "code",
   "execution_count": 22,
   "id": "3c4d0c41",
   "metadata": {},
   "outputs": [],
   "source": [
    "from sklearn.preprocessing import StandardScaler\n",
    "# Data Normalization\n",
    "X_std = StandardScaler().fit_transform(x)"
   ]
  },
  {
   "cell_type": "code",
   "execution_count": 23,
   "id": "7afbb83c",
   "metadata": {},
   "outputs": [
    {
     "data": {
      "text/plain": [
       "array([[ 0.        , -0.33501649, -0.04308102, ..., -1.14664746,\n",
       "        -0.5056698 , -0.19600752],\n",
       "       [ 0.        , -0.33501649, -1.09493684, ...,  0.54856067,\n",
       "        -0.5056698 , -0.19600752],\n",
       "       [ 0.        , -0.33501649, -1.09493684, ...,  1.56568555,\n",
       "         1.6951369 , -0.19600752],\n",
       "       ...,\n",
       "       [ 0.        , -0.33501649, -0.88456568, ..., -0.12952258,\n",
       "        -0.5056698 , -0.19600752],\n",
       "       [ 0.        , -0.33501649, -0.67419451, ...,  0.8876023 ,\n",
       "        -0.5056698 , -0.19600752],\n",
       "       [ 0.        , -0.33501649,  1.00877481, ...,  0.8876023 ,\n",
       "        -0.26113572, -0.19600752]])"
      ]
     },
     "execution_count": 23,
     "metadata": {},
     "output_type": "execute_result"
    }
   ],
   "source": [
    "X_std"
   ]
  },
  {
   "cell_type": "code",
   "execution_count": 24,
   "id": "05cee43c",
   "metadata": {},
   "outputs": [
    {
     "data": {
      "text/plain": [
       "(1797, 64)"
      ]
     },
     "execution_count": 24,
     "metadata": {},
     "output_type": "execute_result"
    }
   ],
   "source": [
    "X_std.shape"
   ]
  },
  {
   "cell_type": "code",
   "execution_count": 25,
   "id": "c609c57a",
   "metadata": {},
   "outputs": [
    {
     "data": {
      "text/plain": [
       "array([[ 0.        ,  0.        ,  0.        , ...,  0.        ,\n",
       "         0.        ,  0.        ],\n",
       "       [-0.33501649, -0.33501649, -0.33501649, ..., -0.33501649,\n",
       "        -0.33501649, -0.33501649],\n",
       "       [-0.04308102, -1.09493684, -1.09493684, ..., -0.88456568,\n",
       "        -0.67419451,  1.00877481],\n",
       "       ...,\n",
       "       [-1.14664746,  0.54856067,  1.56568555, ..., -0.12952258,\n",
       "         0.8876023 ,  0.8876023 ],\n",
       "       [-0.5056698 , -0.5056698 ,  1.6951369 , ..., -0.5056698 ,\n",
       "        -0.5056698 , -0.26113572],\n",
       "       [-0.19600752, -0.19600752, -0.19600752, ..., -0.19600752,\n",
       "        -0.19600752, -0.19600752]])"
      ]
     },
     "execution_count": 25,
     "metadata": {},
     "output_type": "execute_result"
    }
   ],
   "source": [
    "x1=X_std.T\n",
    "x1"
   ]
  },
  {
   "cell_type": "code",
   "execution_count": 26,
   "id": "f4e181ca",
   "metadata": {},
   "outputs": [
    {
     "data": {
      "text/plain": [
       "(64, 1797)"
      ]
     },
     "execution_count": 26,
     "metadata": {},
     "output_type": "execute_result"
    }
   ],
   "source": [
    "x1.shape"
   ]
  },
  {
   "cell_type": "code",
   "execution_count": 27,
   "id": "211a9a72",
   "metadata": {},
   "outputs": [],
   "source": [
    "cov_mat = np.cov(X_std.T)"
   ]
  },
  {
   "cell_type": "code",
   "execution_count": 28,
   "id": "bff28e95",
   "metadata": {},
   "outputs": [
    {
     "data": {
      "text/plain": [
       "array([[ 0.        ,  0.        ,  0.        , ...,  0.        ,\n",
       "         0.        ,  0.        ],\n",
       "       [ 0.        ,  1.00055679,  0.55692803, ..., -0.02988686,\n",
       "         0.02656195, -0.04391324],\n",
       "       [ 0.        ,  0.55692803,  1.00055679, ..., -0.04120565,\n",
       "         0.07263924,  0.08256908],\n",
       "       ...,\n",
       "       [ 0.        , -0.02988686, -0.04120565, ...,  1.00055679,\n",
       "         0.64868875,  0.26213704],\n",
       "       [ 0.        ,  0.02656195,  0.07263924, ...,  0.64868875,\n",
       "         1.00055679,  0.62077355],\n",
       "       [ 0.        , -0.04391324,  0.08256908, ...,  0.26213704,\n",
       "         0.62077355,  1.00055679]])"
      ]
     },
     "execution_count": 28,
     "metadata": {},
     "output_type": "execute_result"
    }
   ],
   "source": [
    "cov_mat"
   ]
  },
  {
   "cell_type": "code",
   "execution_count": 29,
   "id": "26388a77",
   "metadata": {},
   "outputs": [],
   "source": [
    "eig_vals, eig_vecs = np.linalg.eig(cov_mat)#"
   ]
  },
  {
   "cell_type": "code",
   "execution_count": 30,
   "id": "3914037d",
   "metadata": {},
   "outputs": [
    {
     "data": {
      "text/plain": [
       "array([7.34477606, 5.83549054, 5.15396118, 3.96623597, 2.9663452 ,\n",
       "       2.57204442, 2.40600941, 2.06867355, 1.82993314, 1.78951739,\n",
       "       1.69784616, 1.57287889, 1.38870781, 1.35933609, 1.32152536,\n",
       "       1.16829176, 1.08368678, 0.99977862, 0.97438293, 0.90891242,\n",
       "       0.82271926, 0.77631014, 0.71155675, 0.64552365, 0.59527399,\n",
       "       0.5765018 , 0.52673155, 0.5106363 , 0.48686381, 0.45560107,\n",
       "       0.44285155, 0.42230086, 0.3991063 , 0.39110111, 0.36094517,\n",
       "       0.34860306, 0.3195963 , 0.29406627, 0.05037444, 0.27692285,\n",
       "       0.06328961, 0.258273  , 0.24783029, 0.2423566 , 0.07635394,\n",
       "       0.08246812, 0.09018543, 0.09840876, 0.10250434, 0.11188655,\n",
       "       0.11932898, 0.12426371, 0.13321081, 0.14311427, 0.217582  ,\n",
       "       0.15818474, 0.16875236, 0.20799593, 0.17612894, 0.2000909 ,\n",
       "       0.18983516, 0.        , 0.        , 0.        ])"
      ]
     },
     "execution_count": 30,
     "metadata": {},
     "output_type": "execute_result"
    }
   ],
   "source": [
    "eig_vals"
   ]
  },
  {
   "cell_type": "code",
   "execution_count": 31,
   "id": "cd9fa8b0",
   "metadata": {},
   "outputs": [
    {
     "data": {
      "text/plain": [
       "[12.033916097734894,\n",
       " 9.56105440309788,\n",
       " 8.444414892624565,\n",
       " 6.498407907524173,\n",
       " 4.860154875966409,\n",
       " 4.2141198692719515,\n",
       " 3.9420828035673763,\n",
       " 3.3893809246383335,\n",
       " 2.998221011625226,\n",
       " 2.9320025512522165,\n",
       " 2.781805463550327,\n",
       " 2.577055092582007,\n",
       " 2.2753033157642455,\n",
       " 2.2271797395143476,\n",
       " 2.1652294318492356,\n",
       " 1.914166606442134,\n",
       " 1.7755470851681974,\n",
       " 1.638069274284425,\n",
       " 1.5964601688623428,\n",
       " 1.4891911870878216,\n",
       " 1.3479695658179338,\n",
       " 1.271931370234749,\n",
       " 1.165837350591944,\n",
       " 1.0576465985363168,\n",
       " 0.9753159471981123,\n",
       " 0.9445589897319994,\n",
       " 0.863013826970724,\n",
       " 0.8366428536685143,\n",
       " 0.7976932484112387,\n",
       " 0.7464713709260622,\n",
       " 0.725582151370274,\n",
       " 0.6919112454811797,\n",
       " 0.6539085355726144,\n",
       " 0.6407925738459825,\n",
       " 0.5913841117223403,\n",
       " 0.5711624052235229,\n",
       " 0.5236368034166352,\n",
       " 0.48180758644514105,\n",
       " 0.45371925985845,\n",
       " 0.42316275323277913,\n",
       " 0.40605306997903745,\n",
       " 0.3970848082758267,\n",
       " 0.35649330314261674,\n",
       " 0.3407871814702999,\n",
       " 0.32783533528795356,\n",
       " 0.3110320073453563,\n",
       " 0.28857529410893396,\n",
       " 0.2764892635235455,\n",
       " 0.2591749408814639,\n",
       " 0.2344830055356342,\n",
       " 0.21825685771200737,\n",
       " 0.20359763452537671,\n",
       " 0.1955124260198181,\n",
       " 0.1833184991971829,\n",
       " 0.16794638749558313,\n",
       " 0.16123606225672824,\n",
       " 0.14776269410608828,\n",
       " 0.13511841133708613,\n",
       " 0.1251007424973021,\n",
       " 0.10369573015571848,\n",
       " 0.08253509448180193,\n",
       " 0.0,\n",
       " 0.0,\n",
       " 0.0]"
      ]
     },
     "execution_count": 31,
     "metadata": {},
     "output_type": "execute_result"
    }
   ],
   "source": [
    "# Calculation of Explained Variance from the eigenvalues\n",
    "tot = sum(eig_vals)\n",
    "var_exp = [(i/tot)*100 for i in sorted(eig_vals, reverse=True)] # Individual explained variance\n",
    "var_exp"
   ]
  },
  {
   "cell_type": "code",
   "execution_count": 32,
   "id": "419cc2e1",
   "metadata": {},
   "outputs": [
    {
     "data": {
      "text/plain": [
       "array([ 12.0339161 ,  21.5949705 ,  30.03938539,  36.5377933 ,\n",
       "        41.39794818,  45.61206805,  49.55415085,  52.94353177,\n",
       "        55.94175279,  58.87375534,  61.6555608 ,  64.23261589,\n",
       "        66.50791921,  68.73509895,  70.90032838,  72.81449499,\n",
       "        74.59004207,  76.22811135,  77.82457152,  79.3137627 ,\n",
       "        80.66173227,  81.93366364,  83.09950099,  84.15714759,\n",
       "        85.13246353,  86.07702252,  86.94003635,  87.77667921,\n",
       "        88.57437245,  89.32084382,  90.04642598,  90.73833722,\n",
       "        91.39224576,  92.03303833,  92.62442244,  93.19558485,\n",
       "        93.71922165,  94.20102924,  94.6547485 ,  95.07791125,\n",
       "        95.48396432,  95.88104913,  96.23754243,  96.57832961,\n",
       "        96.90616495,  97.21719696,  97.50577225,  97.78226151,\n",
       "        98.04143645,  98.27591946,  98.49417632,  98.69777395,\n",
       "        98.89328638,  99.07660488,  99.24455127,  99.40578733,\n",
       "        99.55355002,  99.68866843,  99.81376918,  99.91746491,\n",
       "       100.        , 100.        , 100.        , 100.        ])"
      ]
     },
     "execution_count": 32,
     "metadata": {},
     "output_type": "execute_result"
    }
   ],
   "source": [
    "cum_var_exp = np.cumsum(var_exp) # Cumulative explained variance\n",
    "cum_var_exp"
   ]
  },
  {
   "cell_type": "code",
   "execution_count": 33,
   "id": "8d82d696",
   "metadata": {},
   "outputs": [
    {
     "data": {
      "image/png": "[encoded data removed]",
      "text/plain": [
       "<Figure size 720x360 with 1 Axes>"
      ]
     },
     "metadata": {
      "needs_background": "light"
     },
     "output_type": "display_data"
    }
   ],
   "source": [
    "plt.figure(figsize=(10, 5))\n",
    "plt.bar(range(len(var_exp)), var_exp, label='individual explained variance', color = 'g')\n",
    "plt.step(range(len(cum_var_exp)), cum_var_exp,label='cumulative explained variance')\n",
    "plt.ylabel('Explained variance ratio')\n",
    "plt.xlabel('Principal components')\n",
    "plt.legend()\n",
    "plt.show()"
   ]
  },
  {
   "cell_type": "code",
   "execution_count": 34,
   "id": "c16fd4c1",
   "metadata": {},
   "outputs": [],
   "source": [
    "x_train,x_test,y_train,y_test=train_test_split(X_std,y, train_size=0.8)"
   ]
  },
  {
   "cell_type": "code",
   "execution_count": 35,
   "id": "e6842838",
   "metadata": {},
   "outputs": [
    {
     "data": {
      "text/plain": [
       "(1437, 64)"
      ]
     },
     "execution_count": 35,
     "metadata": {},
     "output_type": "execute_result"
    }
   ],
   "source": [
    "x_train.shape"
   ]
  },
  {
   "cell_type": "code",
   "execution_count": 36,
   "id": "4c8b450f",
   "metadata": {},
   "outputs": [
    {
     "data": {
      "text/plain": [
       "(360, 64)"
      ]
     },
     "execution_count": 36,
     "metadata": {},
     "output_type": "execute_result"
    }
   ],
   "source": [
    "x_test.shape"
   ]
  },
  {
   "cell_type": "code",
   "execution_count": 37,
   "id": "a93b4d08",
   "metadata": {},
   "outputs": [],
   "source": [
    "pca = PCA(n_components=20)\n",
    "pca_x_train = pca.fit_transform(x_train)\n",
    "pca_x_test = pca.transform(x_test)#same chnages will ge applied on x test dataset"
   ]
  },
  {
   "cell_type": "code",
   "execution_count": 38,
   "id": "52e26c89",
   "metadata": {},
   "outputs": [
    {
     "data": {
      "text/plain": [
       "(1437, 20)"
      ]
     },
     "execution_count": 38,
     "metadata": {},
     "output_type": "execute_result"
    }
   ],
   "source": [
    "pca_x_train.shape"
   ]
  },
  {
   "cell_type": "code",
   "execution_count": 39,
   "id": "b7c234e3",
   "metadata": {},
   "outputs": [],
   "source": [
    "rf=DecisionTreeClassifier().fit(pca_x_train,y_train)"
   ]
  },
  {
   "cell_type": "code",
   "execution_count": 40,
   "id": "6e05332e",
   "metadata": {},
   "outputs": [],
   "source": [
    "predicted=rf.predict(pca_x_test)"
   ]
  },
  {
   "cell_type": "code",
   "execution_count": 41,
   "id": "f290954a",
   "metadata": {},
   "outputs": [
    {
     "data": {
      "text/plain": [
       "array([6, 6, 6, 9, 3, 3, 9, 9, 9, 0, 0, 6, 8, 8, 9, 9, 0, 8, 0, 4, 6, 6,\n",
       "       4, 6, 4, 6, 3, 8, 1, 4, 0, 9, 8, 8, 1, 3, 2, 9, 0, 8, 3, 3, 9, 1,\n",
       "       0, 6, 0, 6, 5, 1, 8, 6, 4, 6, 5, 2, 9, 4, 2, 9, 3, 6, 9, 3, 1, 8,\n",
       "       2, 4, 8, 4, 1, 5, 1, 5, 0, 8, 2, 5, 3, 0, 2, 4, 0, 5, 1, 0, 0, 9,\n",
       "       7, 1, 5, 7, 3, 8, 3, 1, 1, 4, 2, 0, 6, 9, 4, 4, 1, 4, 3, 1, 2, 4,\n",
       "       1, 2, 6, 4, 6, 7, 2, 3, 4, 2, 4, 9, 0, 8, 6, 3, 8, 6, 0, 1, 5, 5,\n",
       "       5, 7, 1, 3, 9, 5, 4, 9, 7, 8, 7, 5, 9, 6, 9, 4, 5, 2, 9, 9, 6, 6,\n",
       "       8, 9, 7, 7, 0, 1, 9, 3, 6, 8, 2, 0, 8, 6, 0, 8, 8, 1, 4, 7, 5, 9,\n",
       "       8, 3, 0, 2, 5, 5, 3, 3, 5, 4, 5, 7, 4, 3, 8, 5, 9, 3, 6, 5, 9, 5,\n",
       "       2, 5, 0, 2, 3, 4, 7, 6, 6, 1, 8, 8, 8, 9, 9, 1, 3, 4, 9, 5, 4, 2,\n",
       "       0, 5, 0, 0, 8, 5, 4, 1, 2, 6, 3, 6, 5, 3, 2, 9, 5, 0, 1, 0, 0, 2,\n",
       "       0, 9, 3, 6, 3, 9, 4, 5, 2, 8, 3, 0, 0, 9, 5, 1, 2, 3, 3, 0, 6, 6,\n",
       "       4, 8, 1, 8, 7, 8, 5, 5, 7, 9, 5, 3, 3, 8, 1, 4, 6, 8, 0, 1, 0, 1,\n",
       "       8, 9, 2, 4, 4, 5, 6, 0, 0, 8, 7, 7, 1, 2, 0, 7, 6, 9, 8, 2, 4, 7,\n",
       "       0, 0, 8, 2, 6, 5, 9, 7, 6, 4, 5, 2, 2, 2, 3, 0, 5, 1, 7, 0, 6, 5,\n",
       "       2, 6, 7, 3, 2, 2, 2, 8, 5, 2, 0, 7, 4, 9, 6, 2, 6, 2, 4, 9, 9, 0,\n",
       "       9, 8, 2, 6, 1, 1, 5, 6])"
      ]
     },
     "execution_count": 41,
     "metadata": {},
     "output_type": "execute_result"
    }
   ],
   "source": [
    "predicted"
   ]
  },
  {
   "cell_type": "code",
   "execution_count": 42,
   "id": "ea11b3b9",
   "metadata": {},
   "outputs": [
    {
     "data": {
      "text/plain": [
       "array([6, 6, 6, 9, 3, 3, 9, 9, 3, 0, 0, 6, 8, 3, 9, 9, 0, 9, 0, 4, 6, 6,\n",
       "       4, 6, 4, 6, 3, 8, 2, 4, 0, 9, 3, 8, 1, 3, 2, 8, 0, 8, 3, 3, 8, 1,\n",
       "       0, 6, 4, 6, 5, 1, 8, 6, 4, 6, 5, 2, 9, 4, 2, 9, 8, 6, 1, 3, 1, 8,\n",
       "       2, 4, 8, 4, 1, 9, 1, 5, 0, 8, 9, 5, 8, 0, 2, 4, 0, 4, 1, 0, 0, 9,\n",
       "       7, 1, 5, 7, 3, 8, 3, 1, 1, 4, 2, 0, 6, 3, 4, 8, 1, 4, 3, 1, 2, 4,\n",
       "       1, 7, 6, 4, 6, 7, 2, 3, 4, 2, 4, 9, 0, 8, 0, 2, 8, 6, 0, 1, 5, 5,\n",
       "       5, 7, 1, 3, 9, 7, 4, 5, 7, 8, 7, 5, 5, 6, 9, 4, 5, 2, 1, 9, 6, 6,\n",
       "       8, 9, 7, 7, 0, 1, 1, 3, 6, 8, 2, 6, 8, 6, 0, 3, 8, 1, 4, 7, 5, 4,\n",
       "       6, 3, 0, 8, 5, 5, 7, 3, 5, 4, 5, 7, 4, 8, 8, 5, 9, 7, 6, 6, 9, 5,\n",
       "       9, 5, 6, 2, 3, 4, 7, 6, 6, 1, 8, 8, 8, 4, 9, 1, 6, 4, 9, 5, 4, 3,\n",
       "       0, 5, 0, 0, 4, 5, 4, 6, 2, 6, 7, 6, 5, 3, 2, 9, 1, 0, 1, 0, 0, 2,\n",
       "       0, 9, 3, 6, 5, 9, 4, 5, 2, 8, 3, 0, 0, 3, 5, 1, 2, 3, 3, 0, 4, 8,\n",
       "       4, 3, 1, 8, 7, 8, 5, 5, 7, 9, 5, 3, 3, 8, 1, 4, 6, 9, 0, 1, 0, 1,\n",
       "       8, 9, 8, 4, 4, 5, 6, 0, 0, 8, 7, 7, 1, 2, 0, 7, 6, 9, 9, 2, 4, 7,\n",
       "       0, 0, 8, 2, 6, 5, 4, 7, 6, 4, 5, 2, 2, 2, 3, 0, 5, 6, 7, 0, 6, 8,\n",
       "       2, 6, 8, 6, 2, 2, 2, 8, 5, 2, 0, 7, 4, 9, 6, 2, 1, 2, 4, 9, 9, 0,\n",
       "       5, 8, 2, 6, 9, 1, 5, 6])"
      ]
     },
     "execution_count": 42,
     "metadata": {},
     "output_type": "execute_result"
    }
   ],
   "source": [
    "y_test"
   ]
  },
  {
   "cell_type": "code",
   "execution_count": 43,
   "id": "dcdbe0c1",
   "metadata": {},
   "outputs": [
    {
     "data": {
      "text/plain": [
       "0.8388888888888889"
      ]
     },
     "execution_count": 43,
     "metadata": {},
     "output_type": "execute_result"
    }
   ],
   "source": [
    "accuracy_score(predicted,y_test)"
   ]
  },
  {
   "cell_type": "code",
   "execution_count": 44,
   "id": "a6c95954",
   "metadata": {},
   "outputs": [
    {
     "data": {
      "text/plain": [
       "array([[39,  0,  0,  0,  1,  0,  2,  0,  0,  0],\n",
       "       [ 0, 27,  1,  0,  0,  0,  2,  0,  0,  1],\n",
       "       [ 0,  0, 31,  1,  0,  0,  0,  1,  2,  2],\n",
       "       [ 0,  0,  1, 24,  0,  1,  2,  3,  3,  0],\n",
       "       [ 0,  0,  0,  0, 34,  0,  0,  0,  1,  0],\n",
       "       [ 0,  1,  0,  0,  1, 33,  1,  1,  1,  1],\n",
       "       [ 1,  1,  0,  0,  1,  0, 38,  0,  1,  0],\n",
       "       [ 0,  0,  0,  0,  0,  0,  0, 20,  1,  0],\n",
       "       [ 0,  0,  0,  4,  1,  0,  1,  0, 29,  3],\n",
       "       [ 0,  3,  0,  3,  3,  3,  0,  0,  2, 27]], dtype=int64)"
      ]
     },
     "execution_count": 44,
     "metadata": {},
     "output_type": "execute_result"
    }
   ],
   "source": [
    "confusion_matrix(predicted,y_test)"
   ]
  },
  {
   "cell_type": "code",
   "execution_count": 45,
   "id": "0585a329",
   "metadata": {},
   "outputs": [
    {
     "data": {
      "text/plain": [
       "array([[ 0.,  0.,  5., ...,  0.,  0.,  0.],\n",
       "       [ 0.,  0.,  0., ..., 10.,  0.,  0.],\n",
       "       [ 0.,  0.,  0., ..., 16.,  9.,  0.],\n",
       "       ...,\n",
       "       [ 0.,  0.,  1., ...,  6.,  0.,  0.],\n",
       "       [ 0.,  0.,  2., ..., 12.,  0.,  0.],\n",
       "       [ 0.,  0., 10., ..., 12.,  1.,  0.]])"
      ]
     },
     "execution_count": 45,
     "metadata": {},
     "output_type": "execute_result"
    }
   ],
   "source": [
    "digits.data"
   ]
  },
  {
   "cell_type": "code",
   "execution_count": 46,
   "id": "b97756ea",
   "metadata": {},
   "outputs": [
    {
     "data": {
      "text/plain": [
       "array([0, 1, 2, 3, 4])"
      ]
     },
     "execution_count": 46,
     "metadata": {},
     "output_type": "execute_result"
    }
   ],
   "source": [
    "digits.target[0:5]"
   ]
  },
  {
   "cell_type": "code",
   "execution_count": 47,
   "id": "06c801e1",
   "metadata": {},
   "outputs": [],
   "source": [
    "#for i,a in enumerate([2,3,4,54]):\n",
    "    #print(i,a)"
   ]
  },
  {
   "cell_type": "code",
   "execution_count": 48,
   "id": "a1511149",
   "metadata": {},
   "outputs": [
    {
     "data": {
      "text/plain": [
       "array([6, 6, 6, 9, 3, 3, 9, 9, 9, 0, 0, 6, 8, 8, 9, 9, 0, 8, 0, 4, 6, 6,\n",
       "       4, 6, 4, 6, 3, 8, 1, 4, 0, 9, 8, 8, 1, 3, 2, 9, 0, 8, 3, 3, 9, 1,\n",
       "       0, 6, 0, 6, 5, 1, 8, 6, 4, 6, 5, 2, 9, 4, 2, 9, 3, 6, 9, 3, 1, 8,\n",
       "       2, 4, 8, 4, 1, 5, 1, 5, 0, 8, 2, 5, 3, 0, 2, 4, 0, 5, 1, 0, 0, 9,\n",
       "       7, 1, 5, 7, 3, 8, 3, 1, 1, 4, 2, 0, 6, 9, 4, 4, 1, 4, 3, 1, 2, 4,\n",
       "       1, 2, 6, 4, 6, 7, 2, 3, 4, 2, 4, 9, 0, 8, 6, 3, 8, 6, 0, 1, 5, 5,\n",
       "       5, 7, 1, 3, 9, 5, 4, 9, 7, 8, 7, 5, 9, 6, 9, 4, 5, 2, 9, 9, 6, 6,\n",
       "       8, 9, 7, 7, 0, 1, 9, 3, 6, 8, 2, 0, 8, 6, 0, 8, 8, 1, 4, 7, 5, 9,\n",
       "       8, 3, 0, 2, 5, 5, 3, 3, 5, 4, 5, 7, 4, 3, 8, 5, 9, 3, 6, 5, 9, 5,\n",
       "       2, 5, 0, 2, 3, 4, 7, 6, 6, 1, 8, 8, 8, 9, 9, 1, 3, 4, 9, 5, 4, 2,\n",
       "       0, 5, 0, 0, 8, 5, 4, 1, 2, 6, 3, 6, 5, 3, 2, 9, 5, 0, 1, 0, 0, 2,\n",
       "       0, 9, 3, 6, 3, 9, 4, 5, 2, 8, 3, 0, 0, 9, 5, 1, 2, 3, 3, 0, 6, 6,\n",
       "       4, 8, 1, 8, 7, 8, 5, 5, 7, 9, 5, 3, 3, 8, 1, 4, 6, 8, 0, 1, 0, 1,\n",
       "       8, 9, 2, 4, 4, 5, 6, 0, 0, 8, 7, 7, 1, 2, 0, 7, 6, 9, 8, 2, 4, 7,\n",
       "       0, 0, 8, 2, 6, 5, 9, 7, 6, 4, 5, 2, 2, 2, 3, 0, 5, 1, 7, 0, 6, 5,\n",
       "       2, 6, 7, 3, 2, 2, 2, 8, 5, 2, 0, 7, 4, 9, 6, 2, 6, 2, 4, 9, 9, 0,\n",
       "       9, 8, 2, 6, 1, 1, 5, 6])"
      ]
     },
     "execution_count": 48,
     "metadata": {},
     "output_type": "execute_result"
    }
   ],
   "source": [
    "predicted"
   ]
  },
  {
   "cell_type": "code",
   "execution_count": 49,
   "id": "71698aff",
   "metadata": {},
   "outputs": [
    {
     "data": {
      "text/plain": [
       "array([6, 6, 6, 9, 3, 3, 9, 9, 3, 0, 0, 6, 8, 3, 9, 9, 0, 9, 0, 4, 6, 6,\n",
       "       4, 6, 4, 6, 3, 8, 2, 4, 0, 9, 3, 8, 1, 3, 2, 8, 0, 8, 3, 3, 8, 1,\n",
       "       0, 6, 4, 6, 5, 1, 8, 6, 4, 6, 5, 2, 9, 4, 2, 9, 8, 6, 1, 3, 1, 8,\n",
       "       2, 4, 8, 4, 1, 9, 1, 5, 0, 8, 9, 5, 8, 0, 2, 4, 0, 4, 1, 0, 0, 9,\n",
       "       7, 1, 5, 7, 3, 8, 3, 1, 1, 4, 2, 0, 6, 3, 4, 8, 1, 4, 3, 1, 2, 4,\n",
       "       1, 7, 6, 4, 6, 7, 2, 3, 4, 2, 4, 9, 0, 8, 0, 2, 8, 6, 0, 1, 5, 5,\n",
       "       5, 7, 1, 3, 9, 7, 4, 5, 7, 8, 7, 5, 5, 6, 9, 4, 5, 2, 1, 9, 6, 6,\n",
       "       8, 9, 7, 7, 0, 1, 1, 3, 6, 8, 2, 6, 8, 6, 0, 3, 8, 1, 4, 7, 5, 4,\n",
       "       6, 3, 0, 8, 5, 5, 7, 3, 5, 4, 5, 7, 4, 8, 8, 5, 9, 7, 6, 6, 9, 5,\n",
       "       9, 5, 6, 2, 3, 4, 7, 6, 6, 1, 8, 8, 8, 4, 9, 1, 6, 4, 9, 5, 4, 3,\n",
       "       0, 5, 0, 0, 4, 5, 4, 6, 2, 6, 7, 6, 5, 3, 2, 9, 1, 0, 1, 0, 0, 2,\n",
       "       0, 9, 3, 6, 5, 9, 4, 5, 2, 8, 3, 0, 0, 3, 5, 1, 2, 3, 3, 0, 4, 8,\n",
       "       4, 3, 1, 8, 7, 8, 5, 5, 7, 9, 5, 3, 3, 8, 1, 4, 6, 9, 0, 1, 0, 1,\n",
       "       8, 9, 8, 4, 4, 5, 6, 0, 0, 8, 7, 7, 1, 2, 0, 7, 6, 9, 9, 2, 4, 7,\n",
       "       0, 0, 8, 2, 6, 5, 4, 7, 6, 4, 5, 2, 2, 2, 3, 0, 5, 6, 7, 0, 6, 8,\n",
       "       2, 6, 8, 6, 2, 2, 2, 8, 5, 2, 0, 7, 4, 9, 6, 2, 1, 2, 4, 9, 9, 0,\n",
       "       5, 8, 2, 6, 9, 1, 5, 6])"
      ]
     },
     "execution_count": 49,
     "metadata": {},
     "output_type": "execute_result"
    }
   ],
   "source": [
    "y_test"
   ]
  },
  {
   "cell_type": "code",
   "execution_count": 50,
   "id": "091096f3",
   "metadata": {},
   "outputs": [],
   "source": [
    "def get_misclassified_index(y_pred,y_test):\n",
    "    misclassification=[]#help us out to get the misclassified index value\n",
    "    for index,(predicted,actual) in enumerate(zip(y_pred,y_test)):\n",
    "        if predicted!=actual:\n",
    "            misclassification.append(index)\n",
    "            \n",
    "    return misclassification"
   ]
  },
  {
   "cell_type": "code",
   "execution_count": 51,
   "id": "98ee002f",
   "metadata": {},
   "outputs": [],
   "source": [
    "misclassification = get_misclassified_index(predicted,y_test)"
   ]
  },
  {
   "cell_type": "code",
   "execution_count": 52,
   "id": "c2de3c33",
   "metadata": {},
   "outputs": [
    {
     "data": {
      "text/plain": [
       "[8,\n",
       " 13,\n",
       " 17,\n",
       " 28,\n",
       " 32,\n",
       " 37,\n",
       " 42,\n",
       " 46,\n",
       " 60,\n",
       " 62,\n",
       " 71,\n",
       " 76,\n",
       " 78,\n",
       " 83,\n",
       " 101,\n",
       " 103,\n",
       " 111,\n",
       " 124,\n",
       " 125,\n",
       " 137,\n",
       " 139,\n",
       " 144,\n",
       " 150,\n",
       " 160,\n",
       " 165,\n",
       " 169,\n",
       " 175,\n",
       " 176,\n",
       " 179,\n",
       " 182,\n",
       " 189,\n",
       " 193,\n",
       " 195,\n",
       " 198,\n",
       " 200,\n",
       " 211,\n",
       " 214,\n",
       " 219,\n",
       " 224,\n",
       " 227,\n",
       " 230,\n",
       " 236,\n",
       " 246,\n",
       " 255,\n",
       " 262,\n",
       " 263,\n",
       " 265,\n",
       " 281,\n",
       " 288,\n",
       " 304,\n",
       " 314,\n",
       " 325,\n",
       " 329,\n",
       " 332,\n",
       " 333,\n",
       " 346,\n",
       " 352,\n",
       " 356]"
      ]
     },
     "execution_count": 52,
     "metadata": {},
     "output_type": "execute_result"
    }
   ],
   "source": [
    "misclassification"
   ]
  },
  {
   "cell_type": "code",
   "execution_count": 53,
   "id": "4b50d024",
   "metadata": {},
   "outputs": [
    {
     "data": {
      "text/plain": [
       "array([[ 0.80655239, -3.98584728, -1.39418422, ..., -0.52466131,\n",
       "         0.43445549, -0.61287374],\n",
       "       [ 1.38054598, -4.34829522, -0.51224126, ..., -0.48110806,\n",
       "        -0.14179724, -0.5463653 ],\n",
       "       [ 0.69872364, -4.12349346,  0.32064322, ..., -0.44207397,\n",
       "        -0.17914218,  0.37254037],\n",
       "       ...,\n",
       "       [-0.7185433 , -4.69403642, -4.78328944, ...,  0.0792976 ,\n",
       "        -0.7191144 , -2.86299107],\n",
       "       [-1.73836683,  0.60773579, -1.89566298, ...,  0.25114832,\n",
       "        -0.09098922,  1.49107407],\n",
       "       [ 1.12509702, -5.04595312, -3.0154933 , ...,  0.46141859,\n",
       "         0.95473281,  2.04490187]])"
      ]
     },
     "execution_count": 53,
     "metadata": {},
     "output_type": "execute_result"
    }
   ],
   "source": [
    "pca_x_test"
   ]
  },
  {
   "cell_type": "code",
   "execution_count": 54,
   "id": "4ad86191",
   "metadata": {},
   "outputs": [
    {
     "data": {
      "text/plain": [
       "[8, 13, 17, 28, 32]"
      ]
     },
     "execution_count": 54,
     "metadata": {},
     "output_type": "execute_result"
    }
   ],
   "source": [
    "misclassification[:5]"
   ]
  },
  {
   "cell_type": "code",
   "execution_count": 55,
   "id": "d3008794",
   "metadata": {},
   "outputs": [],
   "source": [
    "def plot_misclassifications(misclassification):\n",
    "    plt.figure(figsize=(20,4))\n",
    "    for index,wrong in enumerate(misclassification[0:5]):\n",
    "        plt.subplot(1,5,index+1)\n",
    "        plt.imshow(np.reshape(pca_x_test[wrong],(5,4)),cmap=plt.cm.gray)\n",
    "        plt.title(\"Predicted:{} Actual:{}\".format(predicted[wrong],y_test[wrong]))"
   ]
  },
  {
   "cell_type": "code",
   "execution_count": 56,
   "id": "9258f836",
   "metadata": {},
   "outputs": [
    {
     "data": {
      "image/png": "[encoded data removed]",
      "text/plain": [
       "<Figure size 1440x288 with 5 Axes>"
      ]
     },
     "metadata": {
      "needs_background": "light"
     },
     "output_type": "display_data"
    }
   ],
   "source": [
    "plot_misclassifications(misclassification)"
   ]
  },
  {
   "cell_type": "code",
   "execution_count": null,
   "id": "002ad699",
   "metadata": {},
   "outputs": [],
   "source": []
  }
 ],
 "metadata": {
  "kernelspec": {
   "display_name": "Python 3 (ipykernel)",
   "language": "python",
   "name": "python3"
  },
  "language_info": {
   "codemirror_mode": {
    "name": "ipython",
    "version": 3
   },
   "file_extension": ".py",
   "mimetype": "text/x-python",
   "name": "python",
   "nbconvert_exporter": "python",
   "pygments_lexer": "ipython3",
   "version": "3.9.7"
  }
 },
 "nbformat": 4,
 "nbformat_minor": 5
}

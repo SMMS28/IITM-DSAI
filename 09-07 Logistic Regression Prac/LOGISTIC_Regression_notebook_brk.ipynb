{
 "cells": [
  {
   "cell_type": "raw",
   "id": "e276e167",
   "metadata": {
    "id": "e276e167"
   },
   "source": [
    "Agenda :\n",
    "1.Importing the dataset\n",
    "2.Missing value Analysis\n",
    "3.Feature selection  feature -->independent variables    target-->dependent variable\n",
    "       1.Chi-Square test\n",
    "       2.IV-Score Analysis\n",
    "       3.VIF \n",
    "4.Model fitting"
   ]
  },
  {
   "cell_type": "markdown",
   "id": "c35379cc",
   "metadata": {
    "id": "c35379cc"
   },
   "source": [
    "# Importing the data"
   ]
  },
  {
   "cell_type": "code",
   "execution_count": 1,
   "id": "e92ab33f",
   "metadata": {
    "id": "e92ab33f"
   },
   "outputs": [],
   "source": [
    "import pandas as pd\n",
    "import numpy as np\n",
    "import warnings\n",
    "warnings.filterwarnings('ignore')"
   ]
  },
  {
   "cell_type": "code",
   "execution_count": 2,
   "id": "5634b252",
   "metadata": {
    "id": "5634b252"
   },
   "outputs": [],
   "source": [
    "data=pd.read_csv('bank-additional-full.csv',sep=';')"
   ]
  },
  {
   "cell_type": "code",
   "execution_count": 3,
   "id": "5e794970",
   "metadata": {
    "colab": {
     "base_uri": "https://localhost:8080/",
     "height": 299
    },
    "executionInfo": {
     "elapsed": 167,
     "status": "ok",
     "timestamp": 1651139402460,
     "user": {
      "displayName": "Iqubal Hussain",
      "userId": "18357245883090445037"
     },
     "user_tz": -330
    },
    "id": "5e794970",
    "outputId": "1c0247e6-44e7-4b09-abc4-1b88e151616a"
   },
   "outputs": [
    {
     "data": {
      "text/html": [
       "<div>\n",
       "<style scoped>\n",
       "    .dataframe tbody tr th:only-of-type {\n",
       "        vertical-align: middle;\n",
       "    }\n",
       "\n",
       "    .dataframe tbody tr th {\n",
       "        vertical-align: top;\n",
       "    }\n",
       "\n",
       "    .dataframe thead th {\n",
       "        text-align: right;\n",
       "    }\n",
       "</style>\n",
       "<table border=\"1\" class=\"dataframe\">\n",
       "  <thead>\n",
       "    <tr style=\"text-align: right;\">\n",
       "      <th></th>\n",
       "      <th>age</th>\n",
       "      <th>job</th>\n",
       "      <th>marital</th>\n",
       "      <th>education</th>\n",
       "      <th>default</th>\n",
       "      <th>housing</th>\n",
       "      <th>loan</th>\n",
       "      <th>contact</th>\n",
       "      <th>month</th>\n",
       "      <th>day_of_week</th>\n",
       "      <th>...</th>\n",
       "      <th>campaign</th>\n",
       "      <th>pdays</th>\n",
       "      <th>previous</th>\n",
       "      <th>poutcome</th>\n",
       "      <th>emp.var.rate</th>\n",
       "      <th>cons.price.idx</th>\n",
       "      <th>cons.conf.idx</th>\n",
       "      <th>euribor3m</th>\n",
       "      <th>nr.employed</th>\n",
       "      <th>y</th>\n",
       "    </tr>\n",
       "  </thead>\n",
       "  <tbody>\n",
       "    <tr>\n",
       "      <th>0</th>\n",
       "      <td>56.0</td>\n",
       "      <td>housemaid</td>\n",
       "      <td>married</td>\n",
       "      <td>basic.4y</td>\n",
       "      <td>no</td>\n",
       "      <td>no</td>\n",
       "      <td>no</td>\n",
       "      <td>telephone</td>\n",
       "      <td>may</td>\n",
       "      <td>mon</td>\n",
       "      <td>...</td>\n",
       "      <td>1.0</td>\n",
       "      <td>999.0</td>\n",
       "      <td>0.0</td>\n",
       "      <td>nonexistent</td>\n",
       "      <td>1.1</td>\n",
       "      <td>93.994</td>\n",
       "      <td>-36.4</td>\n",
       "      <td>4.857</td>\n",
       "      <td>5191.0</td>\n",
       "      <td>no</td>\n",
       "    </tr>\n",
       "    <tr>\n",
       "      <th>1</th>\n",
       "      <td>57.0</td>\n",
       "      <td>services</td>\n",
       "      <td>married</td>\n",
       "      <td>high.school</td>\n",
       "      <td>unknown</td>\n",
       "      <td>no</td>\n",
       "      <td>no</td>\n",
       "      <td>telephone</td>\n",
       "      <td>may</td>\n",
       "      <td>mon</td>\n",
       "      <td>...</td>\n",
       "      <td>1.0</td>\n",
       "      <td>999.0</td>\n",
       "      <td>0.0</td>\n",
       "      <td>nonexistent</td>\n",
       "      <td>1.1</td>\n",
       "      <td>93.994</td>\n",
       "      <td>-36.4</td>\n",
       "      <td>4.857</td>\n",
       "      <td>5191.0</td>\n",
       "      <td>no</td>\n",
       "    </tr>\n",
       "    <tr>\n",
       "      <th>2</th>\n",
       "      <td>37.0</td>\n",
       "      <td>services</td>\n",
       "      <td>married</td>\n",
       "      <td>high.school</td>\n",
       "      <td>no</td>\n",
       "      <td>yes</td>\n",
       "      <td>no</td>\n",
       "      <td>telephone</td>\n",
       "      <td>may</td>\n",
       "      <td>mon</td>\n",
       "      <td>...</td>\n",
       "      <td>1.0</td>\n",
       "      <td>999.0</td>\n",
       "      <td>0.0</td>\n",
       "      <td>nonexistent</td>\n",
       "      <td>1.1</td>\n",
       "      <td>93.994</td>\n",
       "      <td>-36.4</td>\n",
       "      <td>4.857</td>\n",
       "      <td>5191.0</td>\n",
       "      <td>no</td>\n",
       "    </tr>\n",
       "    <tr>\n",
       "      <th>3</th>\n",
       "      <td>40.0</td>\n",
       "      <td>admin.</td>\n",
       "      <td>married</td>\n",
       "      <td>basic.6y</td>\n",
       "      <td>no</td>\n",
       "      <td>no</td>\n",
       "      <td>no</td>\n",
       "      <td>telephone</td>\n",
       "      <td>may</td>\n",
       "      <td>mon</td>\n",
       "      <td>...</td>\n",
       "      <td>1.0</td>\n",
       "      <td>999.0</td>\n",
       "      <td>0.0</td>\n",
       "      <td>nonexistent</td>\n",
       "      <td>1.1</td>\n",
       "      <td>93.994</td>\n",
       "      <td>-36.4</td>\n",
       "      <td>4.857</td>\n",
       "      <td>5191.0</td>\n",
       "      <td>no</td>\n",
       "    </tr>\n",
       "    <tr>\n",
       "      <th>4</th>\n",
       "      <td>56.0</td>\n",
       "      <td>services</td>\n",
       "      <td>married</td>\n",
       "      <td>high.school</td>\n",
       "      <td>no</td>\n",
       "      <td>no</td>\n",
       "      <td>yes</td>\n",
       "      <td>telephone</td>\n",
       "      <td>may</td>\n",
       "      <td>mon</td>\n",
       "      <td>...</td>\n",
       "      <td>1.0</td>\n",
       "      <td>999.0</td>\n",
       "      <td>0.0</td>\n",
       "      <td>nonexistent</td>\n",
       "      <td>1.1</td>\n",
       "      <td>93.994</td>\n",
       "      <td>-36.4</td>\n",
       "      <td>4.857</td>\n",
       "      <td>5191.0</td>\n",
       "      <td>no</td>\n",
       "    </tr>\n",
       "  </tbody>\n",
       "</table>\n",
       "<p>5 rows × 21 columns</p>\n",
       "</div>"
      ],
      "text/plain": [
       "    age        job  marital    education  default housing loan    contact  \\\n",
       "0  56.0  housemaid  married     basic.4y       no      no   no  telephone   \n",
       "1  57.0   services  married  high.school  unknown      no   no  telephone   \n",
       "2  37.0   services  married  high.school       no     yes   no  telephone   \n",
       "3  40.0     admin.  married     basic.6y       no      no   no  telephone   \n",
       "4  56.0   services  married  high.school       no      no  yes  telephone   \n",
       "\n",
       "  month day_of_week  ...  campaign  pdays  previous     poutcome emp.var.rate  \\\n",
       "0   may         mon  ...       1.0  999.0       0.0  nonexistent          1.1   \n",
       "1   may         mon  ...       1.0  999.0       0.0  nonexistent          1.1   \n",
       "2   may         mon  ...       1.0  999.0       0.0  nonexistent          1.1   \n",
       "3   may         mon  ...       1.0  999.0       0.0  nonexistent          1.1   \n",
       "4   may         mon  ...       1.0  999.0       0.0  nonexistent          1.1   \n",
       "\n",
       "   cons.price.idx  cons.conf.idx  euribor3m  nr.employed   y  \n",
       "0          93.994          -36.4      4.857       5191.0  no  \n",
       "1          93.994          -36.4      4.857       5191.0  no  \n",
       "2          93.994          -36.4      4.857       5191.0  no  \n",
       "3          93.994          -36.4      4.857       5191.0  no  \n",
       "4          93.994          -36.4      4.857       5191.0  no  \n",
       "\n",
       "[5 rows x 21 columns]"
      ]
     },
     "execution_count": 3,
     "metadata": {},
     "output_type": "execute_result"
    }
   ],
   "source": [
    "data.head()"
   ]
  },
  {
   "cell_type": "code",
   "execution_count": 4,
   "id": "600ffc47",
   "metadata": {
    "colab": {
     "base_uri": "https://localhost:8080/",
     "height": 364
    },
    "executionInfo": {
     "elapsed": 164,
     "status": "ok",
     "timestamp": 1651139402461,
     "user": {
      "displayName": "Iqubal Hussain",
      "userId": "18357245883090445037"
     },
     "user_tz": -330
    },
    "id": "600ffc47",
    "outputId": "853e4983-6b37-41b1-ee6a-d04e551b0e57"
   },
   "outputs": [
    {
     "data": {
      "text/html": [
       "<div>\n",
       "<style scoped>\n",
       "    .dataframe tbody tr th:only-of-type {\n",
       "        vertical-align: middle;\n",
       "    }\n",
       "\n",
       "    .dataframe tbody tr th {\n",
       "        vertical-align: top;\n",
       "    }\n",
       "\n",
       "    .dataframe thead th {\n",
       "        text-align: right;\n",
       "    }\n",
       "</style>\n",
       "<table border=\"1\" class=\"dataframe\">\n",
       "  <thead>\n",
       "    <tr style=\"text-align: right;\">\n",
       "      <th></th>\n",
       "      <th>age</th>\n",
       "      <th>duration</th>\n",
       "      <th>campaign</th>\n",
       "      <th>pdays</th>\n",
       "      <th>previous</th>\n",
       "      <th>emp.var.rate</th>\n",
       "      <th>cons.price.idx</th>\n",
       "      <th>cons.conf.idx</th>\n",
       "      <th>euribor3m</th>\n",
       "      <th>nr.employed</th>\n",
       "    </tr>\n",
       "  </thead>\n",
       "  <tbody>\n",
       "    <tr>\n",
       "      <th>count</th>\n",
       "      <td>41195.000000</td>\n",
       "      <td>41196.000000</td>\n",
       "      <td>41196.000000</td>\n",
       "      <td>41196.000000</td>\n",
       "      <td>41196.000000</td>\n",
       "      <td>41196.000000</td>\n",
       "      <td>41195.000000</td>\n",
       "      <td>41196.000000</td>\n",
       "      <td>41196.000000</td>\n",
       "      <td>41196.000000</td>\n",
       "    </tr>\n",
       "    <tr>\n",
       "      <th>mean</th>\n",
       "      <td>40.030319</td>\n",
       "      <td>258.281265</td>\n",
       "      <td>2.567676</td>\n",
       "      <td>962.482547</td>\n",
       "      <td>0.173124</td>\n",
       "      <td>0.081656</td>\n",
       "      <td>93.575867</td>\n",
       "      <td>-40.504600</td>\n",
       "      <td>3.620787</td>\n",
       "      <td>5166.996405</td>\n",
       "    </tr>\n",
       "    <tr>\n",
       "      <th>std</th>\n",
       "      <td>10.431818</td>\n",
       "      <td>259.254211</td>\n",
       "      <td>2.769751</td>\n",
       "      <td>186.893451</td>\n",
       "      <td>0.494987</td>\n",
       "      <td>1.570894</td>\n",
       "      <td>0.578999</td>\n",
       "      <td>4.629972</td>\n",
       "      <td>1.734655</td>\n",
       "      <td>72.300104</td>\n",
       "    </tr>\n",
       "    <tr>\n",
       "      <th>min</th>\n",
       "      <td>17.000000</td>\n",
       "      <td>0.000000</td>\n",
       "      <td>1.000000</td>\n",
       "      <td>0.000000</td>\n",
       "      <td>0.000000</td>\n",
       "      <td>-3.400000</td>\n",
       "      <td>92.201000</td>\n",
       "      <td>-50.800000</td>\n",
       "      <td>0.634000</td>\n",
       "      <td>4963.600000</td>\n",
       "    </tr>\n",
       "    <tr>\n",
       "      <th>25%</th>\n",
       "      <td>32.000000</td>\n",
       "      <td>102.000000</td>\n",
       "      <td>1.000000</td>\n",
       "      <td>999.000000</td>\n",
       "      <td>0.000000</td>\n",
       "      <td>-1.800000</td>\n",
       "      <td>93.075000</td>\n",
       "      <td>-42.700000</td>\n",
       "      <td>1.344000</td>\n",
       "      <td>5099.100000</td>\n",
       "    </tr>\n",
       "    <tr>\n",
       "      <th>50%</th>\n",
       "      <td>38.000000</td>\n",
       "      <td>180.000000</td>\n",
       "      <td>2.000000</td>\n",
       "      <td>999.000000</td>\n",
       "      <td>0.000000</td>\n",
       "      <td>1.100000</td>\n",
       "      <td>93.749000</td>\n",
       "      <td>-41.800000</td>\n",
       "      <td>4.857000</td>\n",
       "      <td>5191.000000</td>\n",
       "    </tr>\n",
       "    <tr>\n",
       "      <th>75%</th>\n",
       "      <td>47.000000</td>\n",
       "      <td>319.000000</td>\n",
       "      <td>3.000000</td>\n",
       "      <td>999.000000</td>\n",
       "      <td>0.000000</td>\n",
       "      <td>1.400000</td>\n",
       "      <td>93.994000</td>\n",
       "      <td>-36.400000</td>\n",
       "      <td>4.961000</td>\n",
       "      <td>5228.100000</td>\n",
       "    </tr>\n",
       "    <tr>\n",
       "      <th>max</th>\n",
       "      <td>98.000000</td>\n",
       "      <td>4918.000000</td>\n",
       "      <td>56.000000</td>\n",
       "      <td>999.000000</td>\n",
       "      <td>7.000000</td>\n",
       "      <td>1.400000</td>\n",
       "      <td>94.767000</td>\n",
       "      <td>-26.900000</td>\n",
       "      <td>5.045000</td>\n",
       "      <td>5228.100000</td>\n",
       "    </tr>\n",
       "  </tbody>\n",
       "</table>\n",
       "</div>"
      ],
      "text/plain": [
       "                age      duration      campaign         pdays      previous  \\\n",
       "count  41195.000000  41196.000000  41196.000000  41196.000000  41196.000000   \n",
       "mean      40.030319    258.281265      2.567676    962.482547      0.173124   \n",
       "std       10.431818    259.254211      2.769751    186.893451      0.494987   \n",
       "min       17.000000      0.000000      1.000000      0.000000      0.000000   \n",
       "25%       32.000000    102.000000      1.000000    999.000000      0.000000   \n",
       "50%       38.000000    180.000000      2.000000    999.000000      0.000000   \n",
       "75%       47.000000    319.000000      3.000000    999.000000      0.000000   \n",
       "max       98.000000   4918.000000     56.000000    999.000000      7.000000   \n",
       "\n",
       "       emp.var.rate  cons.price.idx  cons.conf.idx     euribor3m   nr.employed  \n",
       "count  41196.000000    41195.000000   41196.000000  41196.000000  41196.000000  \n",
       "mean       0.081656       93.575867     -40.504600      3.620787   5166.996405  \n",
       "std        1.570894        0.578999       4.629972      1.734655     72.300104  \n",
       "min       -3.400000       92.201000     -50.800000      0.634000   4963.600000  \n",
       "25%       -1.800000       93.075000     -42.700000      1.344000   5099.100000  \n",
       "50%        1.100000       93.749000     -41.800000      4.857000   5191.000000  \n",
       "75%        1.400000       93.994000     -36.400000      4.961000   5228.100000  \n",
       "max        1.400000       94.767000     -26.900000      5.045000   5228.100000  "
      ]
     },
     "execution_count": 4,
     "metadata": {},
     "output_type": "execute_result"
    }
   ],
   "source": [
    "data.describe()"
   ]
  },
  {
   "cell_type": "code",
   "execution_count": 5,
   "id": "29991181",
   "metadata": {
    "colab": {
     "base_uri": "https://localhost:8080/"
    },
    "executionInfo": {
     "elapsed": 162,
     "status": "ok",
     "timestamp": 1651139402463,
     "user": {
      "displayName": "Iqubal Hussain",
      "userId": "18357245883090445037"
     },
     "user_tz": -330
    },
    "id": "29991181",
    "outputId": "fdf32d7e-bb1a-430c-dd57-d1402cc63bdd"
   },
   "outputs": [
    {
     "data": {
      "text/plain": [
       "(41199, 21)"
      ]
     },
     "execution_count": 5,
     "metadata": {},
     "output_type": "execute_result"
    }
   ],
   "source": [
    "data.shape"
   ]
  },
  {
   "cell_type": "code",
   "execution_count": 6,
   "id": "e6b4076b",
   "metadata": {
    "colab": {
     "base_uri": "https://localhost:8080/"
    },
    "executionInfo": {
     "elapsed": 101,
     "status": "ok",
     "timestamp": 1651139402464,
     "user": {
      "displayName": "Iqubal Hussain",
      "userId": "18357245883090445037"
     },
     "user_tz": -330
    },
    "id": "e6b4076b",
    "outputId": "e411c661-4e0e-41ee-810b-4095addd2aa0"
   },
   "outputs": [
    {
     "data": {
      "text/plain": [
       "age               float64\n",
       "job                object\n",
       "marital            object\n",
       "education          object\n",
       "default            object\n",
       "housing            object\n",
       "loan               object\n",
       "contact            object\n",
       "month              object\n",
       "day_of_week        object\n",
       "duration          float64\n",
       "campaign          float64\n",
       "pdays             float64\n",
       "previous          float64\n",
       "poutcome           object\n",
       "emp.var.rate      float64\n",
       "cons.price.idx    float64\n",
       "cons.conf.idx     float64\n",
       "euribor3m         float64\n",
       "nr.employed       float64\n",
       "y                  object\n",
       "dtype: object"
      ]
     },
     "execution_count": 6,
     "metadata": {},
     "output_type": "execute_result"
    }
   ],
   "source": [
    "data.dtypes"
   ]
  },
  {
   "cell_type": "code",
   "execution_count": 7,
   "id": "8baac199",
   "metadata": {},
   "outputs": [
    {
     "data": {
      "text/plain": [
       "0        married\n",
       "1        married\n",
       "2        married\n",
       "3        married\n",
       "4        married\n",
       "          ...   \n",
       "41194    married\n",
       "41195    married\n",
       "41196    married\n",
       "41197        NaN\n",
       "41198    married\n",
       "Name: marital, Length: 41199, dtype: object"
      ]
     },
     "execution_count": 7,
     "metadata": {},
     "output_type": "execute_result"
    }
   ],
   "source": [
    "data['marital']"
   ]
  },
  {
   "cell_type": "code",
   "execution_count": 8,
   "id": "2dff7f1f",
   "metadata": {
    "colab": {
     "base_uri": "https://localhost:8080/"
    },
    "executionInfo": {
     "elapsed": 95,
     "status": "ok",
     "timestamp": 1651139402465,
     "user": {
      "displayName": "Iqubal Hussain",
      "userId": "18357245883090445037"
     },
     "user_tz": -330
    },
    "id": "2dff7f1f",
    "outputId": "268b3e25-193b-41a2-889b-4b878b2b85b5"
   },
   "outputs": [
    {
     "data": {
      "text/plain": [
       "[24934, 11568, 4612, 80]"
      ]
     },
     "execution_count": 8,
     "metadata": {},
     "output_type": "execute_result"
    }
   ],
   "source": [
    "c=data['marital'].value_counts().tolist()\n",
    "c"
   ]
  },
  {
   "cell_type": "code",
   "execution_count": 9,
   "id": "4e55d0da",
   "metadata": {
    "colab": {
     "base_uri": "https://localhost:8080/"
    },
    "executionInfo": {
     "elapsed": 85,
     "status": "ok",
     "timestamp": 1651139402467,
     "user": {
      "displayName": "Iqubal Hussain",
      "userId": "18357245883090445037"
     },
     "user_tz": -330
    },
    "id": "4e55d0da",
    "outputId": "e1274ed3-e5af-4af5-9be4-9eabfec06831"
   },
   "outputs": [
    {
     "data": {
      "text/plain": [
       "['age',\n",
       " 'job',\n",
       " 'marital',\n",
       " 'education',\n",
       " 'default',\n",
       " 'housing',\n",
       " 'loan',\n",
       " 'contact',\n",
       " 'month',\n",
       " 'day_of_week',\n",
       " 'duration',\n",
       " 'campaign',\n",
       " 'pdays',\n",
       " 'previous',\n",
       " 'poutcome',\n",
       " 'emp.var.rate',\n",
       " 'cons.price.idx',\n",
       " 'cons.conf.idx',\n",
       " 'euribor3m',\n",
       " 'nr.employed',\n",
       " 'y']"
      ]
     },
     "execution_count": 9,
     "metadata": {},
     "output_type": "execute_result"
    }
   ],
   "source": [
    "col=list(data.columns)\n",
    "col"
   ]
  },
  {
   "cell_type": "markdown",
   "id": "c09391f7",
   "metadata": {
    "id": "c09391f7"
   },
   "source": [
    "# Boxplot\n",
    "\n",
    "Using boxplot we will be visualizing the outliers,after that we will be using IQR method and handling the outliers.\n",
    "\n",
    "with the help of boxplot we can visualize that 'age','duration','campaign','cons.conf.idx' columns has a outlier.1"
   ]
  },
  {
   "cell_type": "code",
   "execution_count": 10,
   "id": "5b71246b",
   "metadata": {
    "colab": {
     "base_uri": "https://localhost:8080/",
     "height": 1000
    },
    "executionInfo": {
     "elapsed": 1264,
     "status": "ok",
     "timestamp": 1651139403655,
     "user": {
      "displayName": "Iqubal Hussain",
      "userId": "18357245883090445037"
     },
     "user_tz": -330
    },
    "id": "5b71246b",
    "outputId": "202c078d-5114-4749-a025-dcafe077f511",
    "scrolled": false
   },
   "outputs": [
    {
     "data": {
      "image/png": "[encoded data removed]",
      "text/plain": [
       "<Figure size 432x288 with 1 Axes>"
      ]
     },
     "metadata": {
      "needs_background": "light"
     },
     "output_type": "display_data"
    },
    {
     "data": {
      "image/png": "[encoded data removed]",
      "text/plain": [
       "<Figure size 432x288 with 1 Axes>"
      ]
     },
     "metadata": {
      "needs_background": "light"
     },
     "output_type": "display_data"
    },
    {
     "data": {
      "image/png": "[encoded data removed]",
      "text/plain": [
       "<Figure size 432x288 with 1 Axes>"
      ]
     },
     "metadata": {
      "needs_background": "light"
     },
     "output_type": "display_data"
    },
    {
     "data": {
      "image/png": "[encoded data removed]",
      "text/plain": [
       "<Figure size 432x288 with 1 Axes>"
      ]
     },
     "metadata": {
      "needs_background": "light"
     },
     "output_type": "display_data"
    },
    {
     "data": {
      "image/png": "[encoded data removed]",
      "text/plain": [
       "<Figure size 432x288 with 1 Axes>"
      ]
     },
     "metadata": {
      "needs_background": "light"
     },
     "output_type": "display_data"
    },
    {
     "data": {
      "image/png": "[encoded data removed]",
      "text/plain": [
       "<Figure size 432x288 with 1 Axes>"
      ]
     },
     "metadata": {
      "needs_background": "light"
     },
     "output_type": "display_data"
    },
    {
     "data": {
      "image/png": "[encoded data removed]",
      "text/plain": [
       "<Figure size 432x288 with 1 Axes>"
      ]
     },
     "metadata": {
      "needs_background": "light"
     },
     "output_type": "display_data"
    },
    {
     "data": {
      "image/png": "[encoded data removed]",
      "text/plain": [
       "<Figure size 432x288 with 1 Axes>"
      ]
     },
     "metadata": {
      "needs_background": "light"
     },
     "output_type": "display_data"
    },
    {
     "data": {
      "image/png": "[encoded data removed]",
      "text/plain": [
       "<Figure size 432x288 with 1 Axes>"
      ]
     },
     "metadata": {
      "needs_background": "light"
     },
     "output_type": "display_data"
    },
    {
     "data": {
      "image/png": "[encoded data removed]",
      "text/plain": [
       "<Figure size 432x288 with 1 Axes>"
      ]
     },
     "metadata": {
      "needs_background": "light"
     },
     "output_type": "display_data"
    }
   ],
   "source": [
    "import seaborn as sns\n",
    "import matplotlib.pyplot as plt\n",
    "for col_name in col:\n",
    "    if(data[col_name].dtypes=='int64' or data[col_name].dtypes=='float64'):\n",
    "        sns.boxplot(data[col_name])\n",
    "        plt.xlabel(col_name)\n",
    "        plt.ylabel('count')\n",
    "        plt.show()"
   ]
  },
  {
   "cell_type": "markdown",
   "id": "c23301cc",
   "metadata": {
    "id": "c23301cc"
   },
   "source": [
    "With reference to the above plot we can observe that some columns are having outliers .\n",
    "So what actually outliers are  ,The values greater than upper limit and values lesser than lower limit .\n",
    "\n",
    "Consider for age column\n",
    "where  1st quantile /25th percentile value(Q1)  and 3rd quantile /75th percentile value(Q3)values are \n",
    "data.age.quantile(.25),data.age.quantile(.75)=(32.0, 47.0)\n",
    "\n",
    "With the help of Q1 and Q3 we will be finding out Inter Quantile Range (IQR) for Outlier analysis\n",
    "\n",
    "Lets start with  age column \n",
    "\n",
    "1.age\n",
    "\n",
    "There are outliers\n",
    "\n",
    "2.duration\n",
    "\n",
    "There are outliers\n",
    "\n",
    "3.campaign\n",
    "\n",
    "There are outliers\n",
    "\n",
    "4.pdays\n",
    "\n",
    "There are no outliers\n",
    "\n",
    "5.previous\n",
    "\n",
    "There are no outliers\n",
    "\n",
    "6.emp.var.rate\n",
    "\n",
    "There are no outliers\n",
    "\n",
    "7.cons.price.idx\n",
    "\n",
    "There are no outliers\n",
    "\n",
    "8.cons.conf.idx\n",
    "\n",
    "There are  outliers\n",
    "\n",
    "9.nr.employed\n",
    "\n",
    "There are no outliers\n",
    "\n",
    "so from above inference only 4 columns as outliers those are 'age','duration','campaign','cons.conf.idx' .\n",
    "So in next step we'll be handling it,\n"
   ]
  },
  {
   "cell_type": "code",
   "execution_count": null,
   "id": "57635cad",
   "metadata": {
    "id": "57635cad"
   },
   "outputs": [],
   "source": []
  },
  {
   "cell_type": "code",
   "execution_count": null,
   "id": "ec37b721",
   "metadata": {
    "id": "ec37b721"
   },
   "outputs": [],
   "source": []
  },
  {
   "cell_type": "markdown",
   "id": "cd1aa2e4",
   "metadata": {
    "id": "cd1aa2e4"
   },
   "source": [
    "# IQR method\n",
    "\n",
    "Now with the IQR method we will be removing the outlier \n",
    "\n",
    "\n",
    "The interquartile range is calculated in much the same way as the range. All you do to find it is subtract the first quartile from the third quartile: IQR = Q3 – Q1. The interquartile range shows how the data is spread about the median\n",
    "\n",
    "\n",
    "(data >= Q1 - 1.5*IQR) & (data <= Q3 + 1.5*IQR)\n",
    "\n",
    "Where 1.5 is standard range set to check the outliers\n",
    "\n",
    "So with the help of above formula and IQR value we can remove the outliers ,to remove the outliers we have to calculate the values within upper and lower limit\n",
    "\n",
    "IQR=Q3-Q1\n",
    "\n",
    "lower limit=Q1-1.5*IQR\n",
    "upper limit=Q3+1.5*IQR\n",
    "\n",
    "so consider for age column\n",
    "\n",
    "Q1 = data.age.quantile(0.25)\n",
    "Q3 = data.age.quantile(0.75)\n",
    "IQR = Q3 - Q1\n",
    "print(Q1-1.5*IQR,Q3+1.5*IQR)\n",
    "\n",
    "(9.5 , 69.5)\n",
    "\n",
    "so we'll consider values between (9.5 , 69.5) and rest all values will be outliers.\n",
    "\n",
    "Same follows for all 4 ('age','duration','campaign','cons.conf.idx' ) columns."
   ]
  },
  {
   "cell_type": "code",
   "execution_count": 11,
   "id": "898e4f16",
   "metadata": {
    "id": "898e4f16"
   },
   "outputs": [],
   "source": [
    "#handling outliers\n",
    "\n",
    "col_names=['age','duration','campaign','cons.conf.idx']\n",
    "Q1 = data.age.quantile(0.25)\n",
    "Q3 = data.age.quantile(0.75)\n",
    "IQR = Q3 - Q1\n",
    "data = data[(data.age >= Q1 - 1.5*IQR) & (data.age <= Q3 + 1.5*IQR)]\n",
    "\n",
    "\n",
    "Q1 = data.duration.quantile(0.25)\n",
    "Q3 = data.duration.quantile(0.75)\n",
    "IQR = Q3 - Q1\n",
    "data = data[(data.duration >= Q1 - 1.5*IQR) & (data.duration <= Q3 + 1.5*IQR)]\n",
    "\n",
    "Q1 = data.campaign.quantile(0.25)\n",
    "Q3 = data.campaign.quantile(0.75)\n",
    "IQR = Q3 - Q1\n",
    "data = data[(data.campaign >= Q1 - 1.5*IQR) & (data.campaign <= Q3 + 1.5*IQR)]\n",
    "\n",
    "Q1 = data['cons.conf.idx'].quantile(0.25)\n",
    "Q3 = data['cons.conf.idx'].quantile(0.75)\n",
    "IQR = Q3 - Q1\n",
    "data = data[(data['cons.conf.idx'] >= Q1 - 1.5*IQR) & (data['cons.conf.idx'] <= Q3 + 1.5*IQR)]"
   ]
  },
  {
   "cell_type": "code",
   "execution_count": 12,
   "id": "3957c271",
   "metadata": {
    "colab": {
     "base_uri": "https://localhost:8080/"
    },
    "executionInfo": {
     "elapsed": 1433,
     "status": "ok",
     "timestamp": 1651139405082,
     "user": {
      "displayName": "Iqubal Hussain",
      "userId": "18357245883090445037"
     },
     "user_tz": -330
    },
    "id": "3957c271",
    "outputId": "c1fbe624-f3ce-4f14-959f-443cc8da8cf6"
   },
   "outputs": [
    {
     "data": {
      "image/png": "[encoded data removed]",
      "text/plain": [
       "<Figure size 432x288 with 1 Axes>"
      ]
     },
     "metadata": {
      "needs_background": "light"
     },
     "output_type": "display_data"
    },
    {
     "data": {
      "image/png": "[encoded data removed]",
      "text/plain": [
       "<Figure size 432x288 with 1 Axes>"
      ]
     },
     "metadata": {
      "needs_background": "light"
     },
     "output_type": "display_data"
    },
    {
     "data": {
      "image/png": "[encoded data removed]",
      "text/plain": [
       "<Figure size 432x288 with 1 Axes>"
      ]
     },
     "metadata": {
      "needs_background": "light"
     },
     "output_type": "display_data"
    },
    {
     "data": {
      "image/png": "[encoded data removed]",
      "text/plain": [
       "<Figure size 432x288 with 1 Axes>"
      ]
     },
     "metadata": {
      "needs_background": "light"
     },
     "output_type": "display_data"
    },
    {
     "data": {
      "image/png": "[encoded data removed]",
      "text/plain": [
       "<Figure size 432x288 with 1 Axes>"
      ]
     },
     "metadata": {
      "needs_background": "light"
     },
     "output_type": "display_data"
    },
    {
     "data": {
      "image/png": "[encoded data removed]",
      "text/plain": [
       "<Figure size 432x288 with 1 Axes>"
      ]
     },
     "metadata": {
      "needs_background": "light"
     },
     "output_type": "display_data"
    },
    {
     "data": {
      "image/png": "[encoded data removed]",
      "text/plain": [
       "<Figure size 432x288 with 1 Axes>"
      ]
     },
     "metadata": {
      "needs_background": "light"
     },
     "output_type": "display_data"
    },
    {
     "data": {
      "image/png": "[encoded data removed]",
      "text/plain": [
       "<Figure size 432x288 with 1 Axes>"
      ]
     },
     "metadata": {
      "needs_background": "light"
     },
     "output_type": "display_data"
    },
    {
     "data": {
      "image/png": "[encoded data removed]",
      "text/plain": [
       "<Figure size 432x288 with 1 Axes>"
      ]
     },
     "metadata": {
      "needs_background": "light"
     },
     "output_type": "display_data"
    },
    {
     "data": {
      "image/png": "[encoded data removed]",
      "text/plain": [
       "<Figure size 432x288 with 1 Axes>"
      ]
     },
     "metadata": {
      "needs_background": "light"
     },
     "output_type": "display_data"
    }
   ],
   "source": [
    "for col_name in col:\n",
    "    if(data[col_name].dtypes=='int64' or data[col_name].dtypes=='float64'):\n",
    "        sns.boxplot(data[col_name])\n",
    "        plt.xlabel(col_name)\n",
    "        plt.ylabel('count')\n",
    "        plt.show()"
   ]
  },
  {
   "cell_type": "raw",
   "id": "a765b923",
   "metadata": {
    "id": "a765b923"
   },
   "source": [
    "So we are done with Handling outliers so once again we'll plot the box plot and check the difference before and after.\n",
    "\n",
    "From the above box plot we can visualize that all the outliers have been removed ."
   ]
  },
  {
   "cell_type": "markdown",
   "id": "3c97cee1",
   "metadata": {
    "id": "3c97cee1"
   },
   "source": [
    "# Missing Value Analysis\n",
    "\n",
    "\n",
    "Checking for missing values and replacing the respective numerical and categorical values with mean/median and mode"
   ]
  },
  {
   "cell_type": "code",
   "execution_count": 13,
   "id": "1a62f587",
   "metadata": {
    "colab": {
     "base_uri": "https://localhost:8080/"
    },
    "executionInfo": {
     "elapsed": 47,
     "status": "ok",
     "timestamp": 1651139405083,
     "user": {
      "displayName": "Iqubal Hussain",
      "userId": "18357245883090445037"
     },
     "user_tz": -330
    },
    "id": "1a62f587",
    "outputId": "a59c8ea2-48e1-459d-d94e-812a04987a98"
   },
   "outputs": [
    {
     "data": {
      "text/plain": [
       "age               0\n",
       "job               0\n",
       "marital           0\n",
       "education         0\n",
       "default           0\n",
       "housing           0\n",
       "loan              0\n",
       "contact           0\n",
       "month             0\n",
       "day_of_week       0\n",
       "duration          0\n",
       "campaign          0\n",
       "pdays             0\n",
       "previous          0\n",
       "poutcome          0\n",
       "emp.var.rate      0\n",
       "cons.price.idx    0\n",
       "cons.conf.idx     0\n",
       "euribor3m         0\n",
       "nr.employed       0\n",
       "y                 0\n",
       "dtype: int64"
      ]
     },
     "execution_count": 13,
     "metadata": {},
     "output_type": "execute_result"
    }
   ],
   "source": [
    "#Checking for missing values and replacing the respective numerical and categorical values with mean/median and mode\n",
    "\n",
    "data.isna().sum()"
   ]
  },
  {
   "cell_type": "code",
   "execution_count": 14,
   "id": "a8cc08cb",
   "metadata": {
    "id": "a8cc08cb"
   },
   "outputs": [],
   "source": [
    "\n",
    "data['y'] = np.where(data['y'] == 'yes',1,0)\n"
   ]
  },
  {
   "cell_type": "code",
   "execution_count": 15,
   "id": "4753abbf",
   "metadata": {
    "id": "4753abbf"
   },
   "outputs": [],
   "source": [
    "data['y'] = data['y'].astype(str)"
   ]
  },
  {
   "cell_type": "code",
   "execution_count": 16,
   "id": "6f2e67ad",
   "metadata": {
    "colab": {
     "base_uri": "https://localhost:8080/"
    },
    "executionInfo": {
     "elapsed": 45,
     "status": "ok",
     "timestamp": 1651139405087,
     "user": {
      "displayName": "Iqubal Hussain",
      "userId": "18357245883090445037"
     },
     "user_tz": -330
    },
    "id": "6f2e67ad",
    "outputId": "8dc3aa69-6b41-46eb-d228-4d2746f4322a"
   },
   "outputs": [
    {
     "data": {
      "text/plain": [
       "age               float64\n",
       "job                object\n",
       "marital            object\n",
       "education          object\n",
       "default            object\n",
       "housing            object\n",
       "loan               object\n",
       "contact            object\n",
       "month              object\n",
       "day_of_week        object\n",
       "duration          float64\n",
       "campaign          float64\n",
       "pdays             float64\n",
       "previous          float64\n",
       "poutcome           object\n",
       "emp.var.rate      float64\n",
       "cons.price.idx    float64\n",
       "cons.conf.idx     float64\n",
       "euribor3m         float64\n",
       "nr.employed       float64\n",
       "y                  object\n",
       "dtype: object"
      ]
     },
     "execution_count": 16,
     "metadata": {},
     "output_type": "execute_result"
    }
   ],
   "source": [
    "data.dtypes"
   ]
  },
  {
   "cell_type": "code",
   "execution_count": 17,
   "id": "34cfabc7",
   "metadata": {
    "id": "34cfabc7"
   },
   "outputs": [],
   "source": [
    "#taking all columns in single list\n",
    "col_list = list(data.columns)"
   ]
  },
  {
   "cell_type": "code",
   "execution_count": 18,
   "id": "20f96d85",
   "metadata": {
    "colab": {
     "base_uri": "https://localhost:8080/"
    },
    "executionInfo": {
     "elapsed": 46,
     "status": "ok",
     "timestamp": 1651139405092,
     "user": {
      "displayName": "Iqubal Hussain",
      "userId": "18357245883090445037"
     },
     "user_tz": -330
    },
    "id": "20f96d85",
    "outputId": "6d1f0f52-4da2-4ac8-a425-36ce2b72dfd8"
   },
   "outputs": [
    {
     "data": {
      "text/plain": [
       "Index(['age', 'job', 'marital', 'education', 'default', 'housing', 'loan',\n",
       "       'contact', 'month', 'day_of_week', 'duration', 'campaign', 'pdays',\n",
       "       'previous', 'poutcome', 'emp.var.rate', 'cons.price.idx',\n",
       "       'cons.conf.idx', 'euribor3m', 'nr.employed', 'y'],\n",
       "      dtype='object')"
      ]
     },
     "execution_count": 18,
     "metadata": {},
     "output_type": "execute_result"
    }
   ],
   "source": [
    "data.columns"
   ]
  },
  {
   "cell_type": "code",
   "execution_count": 19,
   "id": "b6694fa3",
   "metadata": {
    "colab": {
     "base_uri": "https://localhost:8080/"
    },
    "executionInfo": {
     "elapsed": 46,
     "status": "ok",
     "timestamp": 1651139405094,
     "user": {
      "displayName": "Iqubal Hussain",
      "userId": "18357245883090445037"
     },
     "user_tz": -330
    },
    "id": "b6694fa3",
    "outputId": "61c5d087-1930-420b-92df-85b35fd92e3e"
   },
   "outputs": [
    {
     "data": {
      "text/plain": [
       "['age',\n",
       " 'job',\n",
       " 'marital',\n",
       " 'education',\n",
       " 'default',\n",
       " 'housing',\n",
       " 'loan',\n",
       " 'contact',\n",
       " 'month',\n",
       " 'day_of_week',\n",
       " 'duration',\n",
       " 'campaign',\n",
       " 'pdays',\n",
       " 'previous',\n",
       " 'poutcome',\n",
       " 'emp.var.rate',\n",
       " 'cons.price.idx',\n",
       " 'cons.conf.idx',\n",
       " 'euribor3m',\n",
       " 'nr.employed',\n",
       " 'y']"
      ]
     },
     "execution_count": 19,
     "metadata": {},
     "output_type": "execute_result"
    }
   ],
   "source": [
    "col_list"
   ]
  },
  {
   "cell_type": "raw",
   "id": "64bfbb72",
   "metadata": {
    "id": "64bfbb72"
   },
   "source": [
    "using for loop we are replacing all the null/na values with mean/median and mode for numerical \n",
    "and categorical values respectively"
   ]
  },
  {
   "cell_type": "raw",
   "id": "7ac2f19c",
   "metadata": {
    "id": "7ac2f19c"
   },
   "source": [
    "Missing values can be replaced in two ways based on thier data type.\n",
    "\n",
    "If colums are numerical we'll be replacing it by either mean /median .\n",
    "        \n",
    "If columns are object format or string we'll be replacing value by mode ."
   ]
  },
  {
   "cell_type": "code",
   "execution_count": 28,
   "id": "e78ebb69",
   "metadata": {
    "id": "e78ebb69"
   },
   "outputs": [],
   "source": [
    "\n",
    "for col in col_list:\n",
    "    if data[col].dtypes=='object':\n",
    "        #print('ob')\n",
    "        data[col] = data[col].fillna(data[col].mode()[0])\n",
    "    else:\n",
    "        #print('num')\n",
    "        data[col] = data[col].fillna(data[col].mean())"
   ]
  },
  {
   "cell_type": "code",
   "execution_count": null,
   "id": "d066458e",
   "metadata": {
    "id": "d066458e"
   },
   "outputs": [],
   "source": []
  },
  {
   "cell_type": "code",
   "execution_count": null,
   "id": "2bcaccb0",
   "metadata": {
    "id": "2bcaccb0"
   },
   "outputs": [],
   "source": []
  },
  {
   "cell_type": "code",
   "execution_count": 21,
   "id": "0ff4fd96",
   "metadata": {
    "colab": {
     "base_uri": "https://localhost:8080/"
    },
    "executionInfo": {
     "elapsed": 49,
     "status": "ok",
     "timestamp": 1651139405101,
     "user": {
      "displayName": "Iqubal Hussain",
      "userId": "18357245883090445037"
     },
     "user_tz": -330
    },
    "id": "0ff4fd96",
    "outputId": "fa934f88-76d9-47c8-be94-e09b6ad48ec0"
   },
   "outputs": [
    {
     "data": {
      "text/html": [
       "<div>\n",
       "<style scoped>\n",
       "    .dataframe tbody tr th:only-of-type {\n",
       "        vertical-align: middle;\n",
       "    }\n",
       "\n",
       "    .dataframe tbody tr th {\n",
       "        vertical-align: top;\n",
       "    }\n",
       "\n",
       "    .dataframe thead th {\n",
       "        text-align: right;\n",
       "    }\n",
       "</style>\n",
       "<table border=\"1\" class=\"dataframe\">\n",
       "  <thead>\n",
       "    <tr style=\"text-align: right;\">\n",
       "      <th></th>\n",
       "      <th>age</th>\n",
       "      <th>job</th>\n",
       "      <th>marital</th>\n",
       "      <th>education</th>\n",
       "      <th>default</th>\n",
       "      <th>housing</th>\n",
       "      <th>loan</th>\n",
       "      <th>contact</th>\n",
       "      <th>month</th>\n",
       "      <th>day_of_week</th>\n",
       "      <th>...</th>\n",
       "      <th>campaign</th>\n",
       "      <th>pdays</th>\n",
       "      <th>previous</th>\n",
       "      <th>poutcome</th>\n",
       "      <th>emp.var.rate</th>\n",
       "      <th>cons.price.idx</th>\n",
       "      <th>cons.conf.idx</th>\n",
       "      <th>euribor3m</th>\n",
       "      <th>nr.employed</th>\n",
       "      <th>y</th>\n",
       "    </tr>\n",
       "  </thead>\n",
       "  <tbody>\n",
       "    <tr>\n",
       "      <th>41181</th>\n",
       "      <td>37.0</td>\n",
       "      <td>admin.</td>\n",
       "      <td>married</td>\n",
       "      <td>university.degree</td>\n",
       "      <td>no</td>\n",
       "      <td>yes</td>\n",
       "      <td>no</td>\n",
       "      <td>cellular</td>\n",
       "      <td>nov</td>\n",
       "      <td>fri</td>\n",
       "      <td>...</td>\n",
       "      <td>1.0</td>\n",
       "      <td>999.0</td>\n",
       "      <td>0.0</td>\n",
       "      <td>nonexistent</td>\n",
       "      <td>-1.1</td>\n",
       "      <td>94.767</td>\n",
       "      <td>-50.8</td>\n",
       "      <td>1.028</td>\n",
       "      <td>4963.6</td>\n",
       "      <td>1</td>\n",
       "    </tr>\n",
       "    <tr>\n",
       "      <th>41182</th>\n",
       "      <td>29.0</td>\n",
       "      <td>unemployed</td>\n",
       "      <td>single</td>\n",
       "      <td>basic.4y</td>\n",
       "      <td>no</td>\n",
       "      <td>yes</td>\n",
       "      <td>no</td>\n",
       "      <td>cellular</td>\n",
       "      <td>nov</td>\n",
       "      <td>fri</td>\n",
       "      <td>...</td>\n",
       "      <td>1.0</td>\n",
       "      <td>9.0</td>\n",
       "      <td>1.0</td>\n",
       "      <td>success</td>\n",
       "      <td>-1.1</td>\n",
       "      <td>94.767</td>\n",
       "      <td>-50.8</td>\n",
       "      <td>1.028</td>\n",
       "      <td>4963.6</td>\n",
       "      <td>0</td>\n",
       "    </tr>\n",
       "    <tr>\n",
       "      <th>41184</th>\n",
       "      <td>46.0</td>\n",
       "      <td>blue-collar</td>\n",
       "      <td>married</td>\n",
       "      <td>professional.course</td>\n",
       "      <td>no</td>\n",
       "      <td>no</td>\n",
       "      <td>no</td>\n",
       "      <td>cellular</td>\n",
       "      <td>nov</td>\n",
       "      <td>fri</td>\n",
       "      <td>...</td>\n",
       "      <td>1.0</td>\n",
       "      <td>999.0</td>\n",
       "      <td>0.0</td>\n",
       "      <td>nonexistent</td>\n",
       "      <td>-1.1</td>\n",
       "      <td>94.767</td>\n",
       "      <td>-50.8</td>\n",
       "      <td>1.028</td>\n",
       "      <td>4963.6</td>\n",
       "      <td>0</td>\n",
       "    </tr>\n",
       "    <tr>\n",
       "      <th>41185</th>\n",
       "      <td>56.0</td>\n",
       "      <td>retired</td>\n",
       "      <td>married</td>\n",
       "      <td>university.degree</td>\n",
       "      <td>no</td>\n",
       "      <td>yes</td>\n",
       "      <td>no</td>\n",
       "      <td>cellular</td>\n",
       "      <td>nov</td>\n",
       "      <td>fri</td>\n",
       "      <td>...</td>\n",
       "      <td>2.0</td>\n",
       "      <td>999.0</td>\n",
       "      <td>0.0</td>\n",
       "      <td>nonexistent</td>\n",
       "      <td>-1.1</td>\n",
       "      <td>94.767</td>\n",
       "      <td>-50.8</td>\n",
       "      <td>1.028</td>\n",
       "      <td>4963.6</td>\n",
       "      <td>0</td>\n",
       "    </tr>\n",
       "    <tr>\n",
       "      <th>41186</th>\n",
       "      <td>44.0</td>\n",
       "      <td>technician</td>\n",
       "      <td>married</td>\n",
       "      <td>professional.course</td>\n",
       "      <td>no</td>\n",
       "      <td>no</td>\n",
       "      <td>no</td>\n",
       "      <td>cellular</td>\n",
       "      <td>nov</td>\n",
       "      <td>fri</td>\n",
       "      <td>...</td>\n",
       "      <td>1.0</td>\n",
       "      <td>999.0</td>\n",
       "      <td>0.0</td>\n",
       "      <td>nonexistent</td>\n",
       "      <td>-1.1</td>\n",
       "      <td>94.767</td>\n",
       "      <td>-50.8</td>\n",
       "      <td>1.028</td>\n",
       "      <td>4963.6</td>\n",
       "      <td>1</td>\n",
       "    </tr>\n",
       "  </tbody>\n",
       "</table>\n",
       "<p>5 rows × 21 columns</p>\n",
       "</div>"
      ],
      "text/plain": [
       "        age          job  marital            education default housing loan  \\\n",
       "41181  37.0       admin.  married    university.degree      no     yes   no   \n",
       "41182  29.0   unemployed   single             basic.4y      no     yes   no   \n",
       "41184  46.0  blue-collar  married  professional.course      no      no   no   \n",
       "41185  56.0      retired  married    university.degree      no     yes   no   \n",
       "41186  44.0   technician  married  professional.course      no      no   no   \n",
       "\n",
       "        contact month day_of_week  ...  campaign  pdays  previous  \\\n",
       "41181  cellular   nov         fri  ...       1.0  999.0       0.0   \n",
       "41182  cellular   nov         fri  ...       1.0    9.0       1.0   \n",
       "41184  cellular   nov         fri  ...       1.0  999.0       0.0   \n",
       "41185  cellular   nov         fri  ...       2.0  999.0       0.0   \n",
       "41186  cellular   nov         fri  ...       1.0  999.0       0.0   \n",
       "\n",
       "          poutcome emp.var.rate  cons.price.idx  cons.conf.idx  euribor3m  \\\n",
       "41181  nonexistent         -1.1          94.767          -50.8      1.028   \n",
       "41182      success         -1.1          94.767          -50.8      1.028   \n",
       "41184  nonexistent         -1.1          94.767          -50.8      1.028   \n",
       "41185  nonexistent         -1.1          94.767          -50.8      1.028   \n",
       "41186  nonexistent         -1.1          94.767          -50.8      1.028   \n",
       "\n",
       "       nr.employed  y  \n",
       "41181       4963.6  1  \n",
       "41182       4963.6  0  \n",
       "41184       4963.6  0  \n",
       "41185       4963.6  0  \n",
       "41186       4963.6  1  \n",
       "\n",
       "[5 rows x 21 columns]"
      ]
     },
     "execution_count": 21,
     "metadata": {},
     "output_type": "execute_result"
    }
   ],
   "source": [
    "data.tail()"
   ]
  },
  {
   "cell_type": "raw",
   "id": "a03f6fbb",
   "metadata": {
    "id": "a03f6fbb"
   },
   "source": [
    "after replacing with mean/median and mode ,we can check for the null values again and check the result"
   ]
  },
  {
   "cell_type": "code",
   "execution_count": 22,
   "id": "948da157",
   "metadata": {
    "colab": {
     "base_uri": "https://localhost:8080/"
    },
    "executionInfo": {
     "elapsed": 47,
     "status": "ok",
     "timestamp": 1651139405102,
     "user": {
      "displayName": "Iqubal Hussain",
      "userId": "18357245883090445037"
     },
     "user_tz": -330
    },
    "id": "948da157",
    "outputId": "28848477-9b19-4d64-8288-1562a927659d"
   },
   "outputs": [
    {
     "data": {
      "text/plain": [
       "age               0\n",
       "job               0\n",
       "marital           0\n",
       "education         0\n",
       "default           0\n",
       "housing           0\n",
       "loan              0\n",
       "contact           0\n",
       "month             0\n",
       "day_of_week       0\n",
       "duration          0\n",
       "campaign          0\n",
       "pdays             0\n",
       "previous          0\n",
       "poutcome          0\n",
       "emp.var.rate      0\n",
       "cons.price.idx    0\n",
       "cons.conf.idx     0\n",
       "euribor3m         0\n",
       "nr.employed       0\n",
       "y                 0\n",
       "dtype: int64"
      ]
     },
     "execution_count": 22,
     "metadata": {},
     "output_type": "execute_result"
    }
   ],
   "source": [
    "\n",
    "\n",
    "data.isna().sum()"
   ]
  },
  {
   "cell_type": "markdown",
   "id": "432b8be3",
   "metadata": {
    "id": "432b8be3"
   },
   "source": [
    "# Feature Selection\n",
    "\n",
    "Why feature selection methods on the data?\n",
    "\n",
    "\n",
    "because once you select a relevant features(independent attributes) ,then your model become more interpretable and model training speeds up and you'll end up with a efficient model."
   ]
  },
  {
   "cell_type": "raw",
   "id": "92621d43",
   "metadata": {
    "id": "92621d43"
   },
   "source": [
    "\n",
    "\n",
    "Bin values into discrete intervals.\n",
    "\n",
    "Use `cut` when you need to segment and sort data values into bins. This\n",
    "function is also useful for going from a continuous variable to a\n",
    "categorical variable.\n",
    "\n"
   ]
  },
  {
   "cell_type": "code",
   "execution_count": 29,
   "id": "f2a52a49",
   "metadata": {
    "id": "f2a52a49"
   },
   "outputs": [],
   "source": [
    "\n",
    "bins = [0, 50, 100]\n",
    "data['age'] = pd.cut(data['age'], bins)\n",
    "\n",
    "data['age'] = data.age.astype(str)"
   ]
  },
  {
   "cell_type": "code",
   "execution_count": 31,
   "id": "6393ccee",
   "metadata": {
    "colab": {
     "base_uri": "https://localhost:8080/"
    },
    "executionInfo": {
     "elapsed": 869,
     "status": "ok",
     "timestamp": 1651139405928,
     "user": {
      "displayName": "Iqubal Hussain",
      "userId": "18357245883090445037"
     },
     "user_tz": -330
    },
    "id": "6393ccee",
    "outputId": "12be1636-ab72-4a52-cb82-3af013013bd2"
   },
   "outputs": [
    {
     "data": {
      "text/plain": [
       "(0, 50]      0.836081\n",
       "(50, 100]    0.163919\n",
       "Name: age, dtype: float64"
      ]
     },
     "execution_count": 31,
     "metadata": {},
     "output_type": "execute_result"
    }
   ],
   "source": [
    "data['age'].value_counts()/len(data['age'])"
   ]
  },
  {
   "cell_type": "code",
   "execution_count": 32,
   "id": "75caec3c",
   "metadata": {
    "colab": {
     "base_uri": "https://localhost:8080/"
    },
    "executionInfo": {
     "elapsed": 75,
     "status": "ok",
     "timestamp": 1651139405929,
     "user": {
      "displayName": "Iqubal Hussain",
      "userId": "18357245883090445037"
     },
     "user_tz": -330
    },
    "id": "75caec3c",
    "outputId": "6d52dcdb-b788-4a20-efc3-e50b34a7366b"
   },
   "outputs": [
    {
     "data": {
      "text/html": [
       "<div>\n",
       "<style scoped>\n",
       "    .dataframe tbody tr th:only-of-type {\n",
       "        vertical-align: middle;\n",
       "    }\n",
       "\n",
       "    .dataframe tbody tr th {\n",
       "        vertical-align: top;\n",
       "    }\n",
       "\n",
       "    .dataframe thead th {\n",
       "        text-align: right;\n",
       "    }\n",
       "</style>\n",
       "<table border=\"1\" class=\"dataframe\">\n",
       "  <thead>\n",
       "    <tr style=\"text-align: right;\">\n",
       "      <th></th>\n",
       "      <th>age</th>\n",
       "      <th>job</th>\n",
       "      <th>marital</th>\n",
       "      <th>education</th>\n",
       "      <th>default</th>\n",
       "      <th>housing</th>\n",
       "      <th>loan</th>\n",
       "      <th>contact</th>\n",
       "      <th>month</th>\n",
       "      <th>day_of_week</th>\n",
       "      <th>...</th>\n",
       "      <th>campaign</th>\n",
       "      <th>pdays</th>\n",
       "      <th>previous</th>\n",
       "      <th>poutcome</th>\n",
       "      <th>emp.var.rate</th>\n",
       "      <th>cons.price.idx</th>\n",
       "      <th>cons.conf.idx</th>\n",
       "      <th>euribor3m</th>\n",
       "      <th>nr.employed</th>\n",
       "      <th>y</th>\n",
       "    </tr>\n",
       "  </thead>\n",
       "  <tbody>\n",
       "    <tr>\n",
       "      <th>0</th>\n",
       "      <td>(50, 100]</td>\n",
       "      <td>housemaid</td>\n",
       "      <td>married</td>\n",
       "      <td>basic.4y</td>\n",
       "      <td>no</td>\n",
       "      <td>no</td>\n",
       "      <td>no</td>\n",
       "      <td>telephone</td>\n",
       "      <td>may</td>\n",
       "      <td>mon</td>\n",
       "      <td>...</td>\n",
       "      <td>1.0</td>\n",
       "      <td>999.0</td>\n",
       "      <td>0.0</td>\n",
       "      <td>nonexistent</td>\n",
       "      <td>1.1</td>\n",
       "      <td>93.994</td>\n",
       "      <td>-36.4</td>\n",
       "      <td>4.857</td>\n",
       "      <td>5191.0</td>\n",
       "      <td>0</td>\n",
       "    </tr>\n",
       "    <tr>\n",
       "      <th>1</th>\n",
       "      <td>(50, 100]</td>\n",
       "      <td>services</td>\n",
       "      <td>married</td>\n",
       "      <td>high.school</td>\n",
       "      <td>unknown</td>\n",
       "      <td>no</td>\n",
       "      <td>no</td>\n",
       "      <td>telephone</td>\n",
       "      <td>may</td>\n",
       "      <td>mon</td>\n",
       "      <td>...</td>\n",
       "      <td>1.0</td>\n",
       "      <td>999.0</td>\n",
       "      <td>0.0</td>\n",
       "      <td>nonexistent</td>\n",
       "      <td>1.1</td>\n",
       "      <td>93.994</td>\n",
       "      <td>-36.4</td>\n",
       "      <td>4.857</td>\n",
       "      <td>5191.0</td>\n",
       "      <td>0</td>\n",
       "    </tr>\n",
       "    <tr>\n",
       "      <th>2</th>\n",
       "      <td>(0, 50]</td>\n",
       "      <td>services</td>\n",
       "      <td>married</td>\n",
       "      <td>high.school</td>\n",
       "      <td>no</td>\n",
       "      <td>yes</td>\n",
       "      <td>no</td>\n",
       "      <td>telephone</td>\n",
       "      <td>may</td>\n",
       "      <td>mon</td>\n",
       "      <td>...</td>\n",
       "      <td>1.0</td>\n",
       "      <td>999.0</td>\n",
       "      <td>0.0</td>\n",
       "      <td>nonexistent</td>\n",
       "      <td>1.1</td>\n",
       "      <td>93.994</td>\n",
       "      <td>-36.4</td>\n",
       "      <td>4.857</td>\n",
       "      <td>5191.0</td>\n",
       "      <td>0</td>\n",
       "    </tr>\n",
       "    <tr>\n",
       "      <th>3</th>\n",
       "      <td>(0, 50]</td>\n",
       "      <td>admin.</td>\n",
       "      <td>married</td>\n",
       "      <td>basic.6y</td>\n",
       "      <td>no</td>\n",
       "      <td>no</td>\n",
       "      <td>no</td>\n",
       "      <td>telephone</td>\n",
       "      <td>may</td>\n",
       "      <td>mon</td>\n",
       "      <td>...</td>\n",
       "      <td>1.0</td>\n",
       "      <td>999.0</td>\n",
       "      <td>0.0</td>\n",
       "      <td>nonexistent</td>\n",
       "      <td>1.1</td>\n",
       "      <td>93.994</td>\n",
       "      <td>-36.4</td>\n",
       "      <td>4.857</td>\n",
       "      <td>5191.0</td>\n",
       "      <td>0</td>\n",
       "    </tr>\n",
       "    <tr>\n",
       "      <th>4</th>\n",
       "      <td>(50, 100]</td>\n",
       "      <td>services</td>\n",
       "      <td>married</td>\n",
       "      <td>high.school</td>\n",
       "      <td>no</td>\n",
       "      <td>no</td>\n",
       "      <td>yes</td>\n",
       "      <td>telephone</td>\n",
       "      <td>may</td>\n",
       "      <td>mon</td>\n",
       "      <td>...</td>\n",
       "      <td>1.0</td>\n",
       "      <td>999.0</td>\n",
       "      <td>0.0</td>\n",
       "      <td>nonexistent</td>\n",
       "      <td>1.1</td>\n",
       "      <td>93.994</td>\n",
       "      <td>-36.4</td>\n",
       "      <td>4.857</td>\n",
       "      <td>5191.0</td>\n",
       "      <td>0</td>\n",
       "    </tr>\n",
       "    <tr>\n",
       "      <th>...</th>\n",
       "      <td>...</td>\n",
       "      <td>...</td>\n",
       "      <td>...</td>\n",
       "      <td>...</td>\n",
       "      <td>...</td>\n",
       "      <td>...</td>\n",
       "      <td>...</td>\n",
       "      <td>...</td>\n",
       "      <td>...</td>\n",
       "      <td>...</td>\n",
       "      <td>...</td>\n",
       "      <td>...</td>\n",
       "      <td>...</td>\n",
       "      <td>...</td>\n",
       "      <td>...</td>\n",
       "      <td>...</td>\n",
       "      <td>...</td>\n",
       "      <td>...</td>\n",
       "      <td>...</td>\n",
       "      <td>...</td>\n",
       "      <td>...</td>\n",
       "    </tr>\n",
       "    <tr>\n",
       "      <th>41181</th>\n",
       "      <td>(0, 50]</td>\n",
       "      <td>admin.</td>\n",
       "      <td>married</td>\n",
       "      <td>university.degree</td>\n",
       "      <td>no</td>\n",
       "      <td>yes</td>\n",
       "      <td>no</td>\n",
       "      <td>cellular</td>\n",
       "      <td>nov</td>\n",
       "      <td>fri</td>\n",
       "      <td>...</td>\n",
       "      <td>1.0</td>\n",
       "      <td>999.0</td>\n",
       "      <td>0.0</td>\n",
       "      <td>nonexistent</td>\n",
       "      <td>-1.1</td>\n",
       "      <td>94.767</td>\n",
       "      <td>-50.8</td>\n",
       "      <td>1.028</td>\n",
       "      <td>4963.6</td>\n",
       "      <td>1</td>\n",
       "    </tr>\n",
       "    <tr>\n",
       "      <th>41182</th>\n",
       "      <td>(0, 50]</td>\n",
       "      <td>unemployed</td>\n",
       "      <td>single</td>\n",
       "      <td>basic.4y</td>\n",
       "      <td>no</td>\n",
       "      <td>yes</td>\n",
       "      <td>no</td>\n",
       "      <td>cellular</td>\n",
       "      <td>nov</td>\n",
       "      <td>fri</td>\n",
       "      <td>...</td>\n",
       "      <td>1.0</td>\n",
       "      <td>9.0</td>\n",
       "      <td>1.0</td>\n",
       "      <td>success</td>\n",
       "      <td>-1.1</td>\n",
       "      <td>94.767</td>\n",
       "      <td>-50.8</td>\n",
       "      <td>1.028</td>\n",
       "      <td>4963.6</td>\n",
       "      <td>0</td>\n",
       "    </tr>\n",
       "    <tr>\n",
       "      <th>41184</th>\n",
       "      <td>(0, 50]</td>\n",
       "      <td>blue-collar</td>\n",
       "      <td>married</td>\n",
       "      <td>professional.course</td>\n",
       "      <td>no</td>\n",
       "      <td>no</td>\n",
       "      <td>no</td>\n",
       "      <td>cellular</td>\n",
       "      <td>nov</td>\n",
       "      <td>fri</td>\n",
       "      <td>...</td>\n",
       "      <td>1.0</td>\n",
       "      <td>999.0</td>\n",
       "      <td>0.0</td>\n",
       "      <td>nonexistent</td>\n",
       "      <td>-1.1</td>\n",
       "      <td>94.767</td>\n",
       "      <td>-50.8</td>\n",
       "      <td>1.028</td>\n",
       "      <td>4963.6</td>\n",
       "      <td>0</td>\n",
       "    </tr>\n",
       "    <tr>\n",
       "      <th>41185</th>\n",
       "      <td>(50, 100]</td>\n",
       "      <td>retired</td>\n",
       "      <td>married</td>\n",
       "      <td>university.degree</td>\n",
       "      <td>no</td>\n",
       "      <td>yes</td>\n",
       "      <td>no</td>\n",
       "      <td>cellular</td>\n",
       "      <td>nov</td>\n",
       "      <td>fri</td>\n",
       "      <td>...</td>\n",
       "      <td>2.0</td>\n",
       "      <td>999.0</td>\n",
       "      <td>0.0</td>\n",
       "      <td>nonexistent</td>\n",
       "      <td>-1.1</td>\n",
       "      <td>94.767</td>\n",
       "      <td>-50.8</td>\n",
       "      <td>1.028</td>\n",
       "      <td>4963.6</td>\n",
       "      <td>0</td>\n",
       "    </tr>\n",
       "    <tr>\n",
       "      <th>41186</th>\n",
       "      <td>(0, 50]</td>\n",
       "      <td>technician</td>\n",
       "      <td>married</td>\n",
       "      <td>professional.course</td>\n",
       "      <td>no</td>\n",
       "      <td>no</td>\n",
       "      <td>no</td>\n",
       "      <td>cellular</td>\n",
       "      <td>nov</td>\n",
       "      <td>fri</td>\n",
       "      <td>...</td>\n",
       "      <td>1.0</td>\n",
       "      <td>999.0</td>\n",
       "      <td>0.0</td>\n",
       "      <td>nonexistent</td>\n",
       "      <td>-1.1</td>\n",
       "      <td>94.767</td>\n",
       "      <td>-50.8</td>\n",
       "      <td>1.028</td>\n",
       "      <td>4963.6</td>\n",
       "      <td>1</td>\n",
       "    </tr>\n",
       "  </tbody>\n",
       "</table>\n",
       "<p>35176 rows × 21 columns</p>\n",
       "</div>"
      ],
      "text/plain": [
       "             age          job  marital            education  default housing  \\\n",
       "0      (50, 100]    housemaid  married             basic.4y       no      no   \n",
       "1      (50, 100]     services  married          high.school  unknown      no   \n",
       "2        (0, 50]     services  married          high.school       no     yes   \n",
       "3        (0, 50]       admin.  married             basic.6y       no      no   \n",
       "4      (50, 100]     services  married          high.school       no      no   \n",
       "...          ...          ...      ...                  ...      ...     ...   \n",
       "41181    (0, 50]       admin.  married    university.degree       no     yes   \n",
       "41182    (0, 50]   unemployed   single             basic.4y       no     yes   \n",
       "41184    (0, 50]  blue-collar  married  professional.course       no      no   \n",
       "41185  (50, 100]      retired  married    university.degree       no     yes   \n",
       "41186    (0, 50]   technician  married  professional.course       no      no   \n",
       "\n",
       "      loan    contact month day_of_week  ...  campaign  pdays  previous  \\\n",
       "0       no  telephone   may         mon  ...       1.0  999.0       0.0   \n",
       "1       no  telephone   may         mon  ...       1.0  999.0       0.0   \n",
       "2       no  telephone   may         mon  ...       1.0  999.0       0.0   \n",
       "3       no  telephone   may         mon  ...       1.0  999.0       0.0   \n",
       "4      yes  telephone   may         mon  ...       1.0  999.0       0.0   \n",
       "...    ...        ...   ...         ...  ...       ...    ...       ...   \n",
       "41181   no   cellular   nov         fri  ...       1.0  999.0       0.0   \n",
       "41182   no   cellular   nov         fri  ...       1.0    9.0       1.0   \n",
       "41184   no   cellular   nov         fri  ...       1.0  999.0       0.0   \n",
       "41185   no   cellular   nov         fri  ...       2.0  999.0       0.0   \n",
       "41186   no   cellular   nov         fri  ...       1.0  999.0       0.0   \n",
       "\n",
       "          poutcome emp.var.rate  cons.price.idx  cons.conf.idx  euribor3m  \\\n",
       "0      nonexistent          1.1          93.994          -36.4      4.857   \n",
       "1      nonexistent          1.1          93.994          -36.4      4.857   \n",
       "2      nonexistent          1.1          93.994          -36.4      4.857   \n",
       "3      nonexistent          1.1          93.994          -36.4      4.857   \n",
       "4      nonexistent          1.1          93.994          -36.4      4.857   \n",
       "...            ...          ...             ...            ...        ...   \n",
       "41181  nonexistent         -1.1          94.767          -50.8      1.028   \n",
       "41182      success         -1.1          94.767          -50.8      1.028   \n",
       "41184  nonexistent         -1.1          94.767          -50.8      1.028   \n",
       "41185  nonexistent         -1.1          94.767          -50.8      1.028   \n",
       "41186  nonexistent         -1.1          94.767          -50.8      1.028   \n",
       "\n",
       "       nr.employed  y  \n",
       "0           5191.0  0  \n",
       "1           5191.0  0  \n",
       "2           5191.0  0  \n",
       "3           5191.0  0  \n",
       "4           5191.0  0  \n",
       "...            ... ..  \n",
       "41181       4963.6  1  \n",
       "41182       4963.6  0  \n",
       "41184       4963.6  0  \n",
       "41185       4963.6  0  \n",
       "41186       4963.6  1  \n",
       "\n",
       "[35176 rows x 21 columns]"
      ]
     },
     "execution_count": 32,
     "metadata": {},
     "output_type": "execute_result"
    }
   ],
   "source": [
    "data"
   ]
  },
  {
   "cell_type": "code",
   "execution_count": 33,
   "id": "54610977",
   "metadata": {
    "colab": {
     "base_uri": "https://localhost:8080/"
    },
    "executionInfo": {
     "elapsed": 71,
     "status": "ok",
     "timestamp": 1651139405930,
     "user": {
      "displayName": "Iqubal Hussain",
      "userId": "18357245883090445037"
     },
     "user_tz": -330
    },
    "id": "54610977",
    "outputId": "4788b05e-c7f5-4de8-bf26-8de402bb91a5"
   },
   "outputs": [
    {
     "data": {
      "text/plain": [
       "Index(['age', 'job', 'marital', 'education', 'default', 'housing', 'loan',\n",
       "       'contact', 'month', 'day_of_week', 'duration', 'campaign', 'pdays',\n",
       "       'previous', 'poutcome', 'emp.var.rate', 'cons.price.idx',\n",
       "       'cons.conf.idx', 'euribor3m', 'nr.employed', 'y'],\n",
       "      dtype='object')"
      ]
     },
     "execution_count": 33,
     "metadata": {},
     "output_type": "execute_result"
    }
   ],
   "source": [
    "data.columns"
   ]
  },
  {
   "cell_type": "code",
   "execution_count": 34,
   "id": "61b0e862",
   "metadata": {
    "colab": {
     "base_uri": "https://localhost:8080/"
    },
    "executionInfo": {
     "elapsed": 68,
     "status": "ok",
     "timestamp": 1651139405931,
     "user": {
      "displayName": "Iqubal Hussain",
      "userId": "18357245883090445037"
     },
     "user_tz": -330
    },
    "id": "61b0e862",
    "outputId": "e5254928-442a-4d6e-b277-e91846f5fc98"
   },
   "outputs": [
    {
     "data": {
      "text/plain": [
       "(0, 50]      29410\n",
       "(50, 100]     5766\n",
       "Name: age, dtype: int64"
      ]
     },
     "execution_count": 34,
     "metadata": {},
     "output_type": "execute_result"
    }
   ],
   "source": [
    "data.age.value_counts()"
   ]
  },
  {
   "cell_type": "markdown",
   "id": "4f27c19e",
   "metadata": {
    "id": "4f27c19e"
   },
   "source": [
    "# 1.Chi-Square test"
   ]
  },
  {
   "cell_type": "raw",
   "id": "723ddda7",
   "metadata": {
    "id": "723ddda7"
   },
   "source": [
    "Chi-Square test is normally done on Categorical data(object) ,where we will select each independent attribute and calculating chi-Square statistics value with the help of  observed value and expected value. \n",
    "\n",
    "if observed and expected values are close then we'll have high chi-square statistics.(high chi-square stats implies attributes are highly independent)\n",
    "if observed and expected values are far then we'll have less chi-square statistics.(less chi-square stats implies attributes are  not independent)\n",
    "\n",
    "With the above concept we'll set null and alternative hypothesis and check for its acceptance or rejection through p-value and alpha value (significance value)\n",
    "\n",
    "if p -value > alpha value ,we reject null hypothesis\n",
    "if p-value  < alpha value ,we accept null hypothesis"
   ]
  },
  {
   "cell_type": "code",
   "execution_count": null,
   "id": "555f9758",
   "metadata": {
    "id": "555f9758"
   },
   "outputs": [],
   "source": []
  },
  {
   "cell_type": "code",
   "execution_count": null,
   "id": "8e0d649f",
   "metadata": {
    "colab": {
     "base_uri": "https://localhost:8080/"
    },
    "executionInfo": {
     "elapsed": 70,
     "status": "ok",
     "timestamp": 1651139405936,
     "user": {
      "displayName": "Iqubal Hussain",
      "userId": "18357245883090445037"
     },
     "user_tz": -330
    },
    "id": "8e0d649f",
    "outputId": "37b10c0b-1e3e-44de-bcff-d65f4ed12829"
   },
   "outputs": [],
   "source": [
    "from scipy.stats import chisquare\n",
    "import scipy.stats\n",
    "from scipy.stats import chi2\n",
    "#from scipy import stats\n",
    "from scipy.stats import chi2_contingency\n",
    "\n",
    "###Chisq Test for Independence\n",
    "dataset_table=pd.crosstab(data['age'],data['y'])\n",
    "print(dataset_table)"
   ]
  },
  {
   "cell_type": "code",
   "execution_count": null,
   "id": "be7c613a",
   "metadata": {
    "colab": {
     "base_uri": "https://localhost:8080/"
    },
    "executionInfo": {
     "elapsed": 70,
     "status": "ok",
     "timestamp": 1651139405937,
     "user": {
      "displayName": "Iqubal Hussain",
      "userId": "18357245883090445037"
     },
     "user_tz": -330
    },
    "id": "be7c613a",
    "outputId": "93bfd357-d1a6-429a-ce12-f315d443065c"
   },
   "outputs": [],
   "source": [
    "#Observed Values\n",
    "Observed_Values = dataset_table.values \n",
    "print(\"Observed Values :-\\n\",Observed_Values)"
   ]
  },
  {
   "cell_type": "code",
   "execution_count": null,
   "id": "740141d5",
   "metadata": {
    "colab": {
     "base_uri": "https://localhost:8080/"
    },
    "executionInfo": {
     "elapsed": 68,
     "status": "ok",
     "timestamp": 1651139405937,
     "user": {
      "displayName": "Iqubal Hussain",
      "userId": "18357245883090445037"
     },
     "user_tz": -330
    },
    "id": "740141d5",
    "outputId": "123f109a-3274-4517-e2dc-f751db70c444",
    "scrolled": true
   },
   "outputs": [],
   "source": [
    "val=chi2_contingency(dataset_table)\n",
    "val"
   ]
  },
  {
   "cell_type": "code",
   "execution_count": null,
   "id": "19b5e635",
   "metadata": {
    "colab": {
     "base_uri": "https://localhost:8080/"
    },
    "executionInfo": {
     "elapsed": 68,
     "status": "ok",
     "timestamp": 1651139405938,
     "user": {
      "displayName": "Iqubal Hussain",
      "userId": "18357245883090445037"
     },
     "user_tz": -330
    },
    "id": "19b5e635",
    "outputId": "ce0fe0ca-fedf-4995-cb31-8a55a6671a16"
   },
   "outputs": [],
   "source": [
    "val[3]"
   ]
  },
  {
   "cell_type": "code",
   "execution_count": null,
   "id": "e4f4e074",
   "metadata": {
    "colab": {
     "base_uri": "https://localhost:8080/"
    },
    "executionInfo": {
     "elapsed": 75,
     "status": "ok",
     "timestamp": 1651139405946,
     "user": {
      "displayName": "Iqubal Hussain",
      "userId": "18357245883090445037"
     },
     "user_tz": -330
    },
    "id": "e4f4e074",
    "outputId": "1d00696d-380a-46a5-c70a-498872156e3e"
   },
   "outputs": [],
   "source": [
    "Expected_Values=val[3]\n",
    "Expected_Values"
   ]
  },
  {
   "cell_type": "code",
   "execution_count": null,
   "id": "8205a21b",
   "metadata": {
    "id": "8205a21b"
   },
   "outputs": [],
   "source": [
    "a=zip(Observed_Values,Expected_Values)"
   ]
  },
  {
   "cell_type": "code",
   "execution_count": null,
   "id": "e0c5044d",
   "metadata": {
    "colab": {
     "base_uri": "https://localhost:8080/"
    },
    "executionInfo": {
     "elapsed": 73,
     "status": "ok",
     "timestamp": 1651139405949,
     "user": {
      "displayName": "Iqubal Hussain",
      "userId": "18357245883090445037"
     },
     "user_tz": -330
    },
    "id": "e0c5044d",
    "outputId": "b95dbb4b-c2f4-4d94-be8b-afd9bdf1cf24"
   },
   "outputs": [],
   "source": [
    "a"
   ]
  },
  {
   "cell_type": "code",
   "execution_count": null,
   "id": "a35dab6e",
   "metadata": {
    "colab": {
     "base_uri": "https://localhost:8080/"
    },
    "executionInfo": {
     "elapsed": 72,
     "status": "ok",
     "timestamp": 1651139405951,
     "user": {
      "displayName": "Iqubal Hussain",
      "userId": "18357245883090445037"
     },
     "user_tz": -330
    },
    "id": "a35dab6e",
    "outputId": "b0affc32-ad5a-48a3-e843-fff75a88c8f6"
   },
   "outputs": [],
   "source": [
    "chi_square=sum([(o-e)**2./e for o,e in zip(Observed_Values,Expected_Values)])\n",
    "chi_square_statistic=chi_square[0]+chi_square[1]\n",
    "chi_square_statistic"
   ]
  },
  {
   "cell_type": "code",
   "execution_count": null,
   "id": "a8c06cb7",
   "metadata": {
    "colab": {
     "base_uri": "https://localhost:8080/"
    },
    "executionInfo": {
     "elapsed": 72,
     "status": "ok",
     "timestamp": 1651139405953,
     "user": {
      "displayName": "Iqubal Hussain",
      "userId": "18357245883090445037"
     },
     "user_tz": -330
    },
    "id": "a8c06cb7",
    "outputId": "4a26e5f0-6f4b-4a8c-ce07-a197e91e2354"
   },
   "outputs": [],
   "source": [
    "no_of_rows=len(dataset_table.iloc[0:2,0])\n",
    "no_of_columns=len(dataset_table.iloc[0,0:2])\n",
    "ddof=(no_of_rows-1)*(no_of_columns-1)\n",
    "print(\"Degree of Freedom:-\",ddof)"
   ]
  },
  {
   "cell_type": "code",
   "execution_count": null,
   "id": "a41891a3",
   "metadata": {
    "colab": {
     "base_uri": "https://localhost:8080/"
    },
    "executionInfo": {
     "elapsed": 76,
     "status": "ok",
     "timestamp": 1651139405959,
     "user": {
      "displayName": "Iqubal Hussain",
      "userId": "18357245883090445037"
     },
     "user_tz": -330
    },
    "id": "a41891a3",
    "outputId": "804390db-f06b-4bfe-fbc3-af7e1a362c19"
   },
   "outputs": [],
   "source": [
    "alpha = 0.05\n",
    "print(\"chi-square statistic:-\",chi_square_statistic)\n"
   ]
  },
  {
   "cell_type": "code",
   "execution_count": null,
   "id": "3c1b2f38",
   "metadata": {
    "colab": {
     "base_uri": "https://localhost:8080/"
    },
    "executionInfo": {
     "elapsed": 77,
     "status": "ok",
     "timestamp": 1651139405960,
     "user": {
      "displayName": "Iqubal Hussain",
      "userId": "18357245883090445037"
     },
     "user_tz": -330
    },
    "id": "3c1b2f38",
    "outputId": "02fd7ae2-9336-4313-811d-1fab9e68ed15"
   },
   "outputs": [],
   "source": [
    "critical_value=scipy.stats.chi2.ppf(q=1-alpha,df=ddof)\n",
    "print('critical_value:',critical_value)"
   ]
  },
  {
   "cell_type": "code",
   "execution_count": null,
   "id": "787a9259",
   "metadata": {
    "colab": {
     "base_uri": "https://localhost:8080/"
    },
    "executionInfo": {
     "elapsed": 76,
     "status": "ok",
     "timestamp": 1651139405962,
     "user": {
      "displayName": "Iqubal Hussain",
      "userId": "18357245883090445037"
     },
     "user_tz": -330
    },
    "id": "787a9259",
    "outputId": "71d68f76-dfb4-4452-b88b-89fcc73f30d4"
   },
   "outputs": [],
   "source": [
    "#p-value\n",
    "p_value=1-chi2.cdf(x=chi_square_statistic,df=ddof)\n",
    "print('p-value:',p_value)\n",
    "print('Significance level: ',alpha)\n",
    "print('Degree of Freedom: ',ddof)\n",
    "print('p-value:',p_value)"
   ]
  },
  {
   "cell_type": "code",
   "execution_count": null,
   "id": "1ff8f011",
   "metadata": {
    "colab": {
     "base_uri": "https://localhost:8080/"
    },
    "executionInfo": {
     "elapsed": 78,
     "status": "ok",
     "timestamp": 1651139405966,
     "user": {
      "displayName": "Iqubal Hussain",
      "userId": "18357245883090445037"
     },
     "user_tz": -330
    },
    "id": "1ff8f011",
    "outputId": "a6671352-eb9c-4a90-f9c6-a9c63b71fa89"
   },
   "outputs": [],
   "source": [
    "di={'Age':p_value}\n",
    "df=pd.DataFrame()\n",
    "df.append(di,ignore_index=True)"
   ]
  },
  {
   "cell_type": "code",
   "execution_count": null,
   "id": "6ce5039d",
   "metadata": {
    "id": "6ce5039d"
   },
   "outputs": [],
   "source": [
    "pd.options.display.float_format = '{:20,.2f}'.format"
   ]
  },
  {
   "cell_type": "code",
   "execution_count": null,
   "id": "d130b22a",
   "metadata": {
    "colab": {
     "base_uri": "https://localhost:8080/"
    },
    "executionInfo": {
     "elapsed": 74,
     "status": "ok",
     "timestamp": 1651139405968,
     "user": {
      "displayName": "Iqubal Hussain",
      "userId": "18357245883090445037"
     },
     "user_tz": -330
    },
    "id": "d130b22a",
    "outputId": "09ab6489-9c2f-470d-c1f5-8681899e9eb2"
   },
   "outputs": [],
   "source": [
    "###Chisq Test for Independence for all object fields\n",
    "col_list = list(data.columns)\n",
    "col_list.remove('y')\n",
    "df=pd.DataFrame(columns=['Feature','P-value'])\n",
    "\n",
    "for col in col_list:\n",
    "    if data[[col]][col].dtype == 'object': \n",
    "        dataset_table=pd.crosstab(data[col],data['y'])\n",
    "        Observed_Values = dataset_table.values \n",
    "        val=chi2_contingency(dataset_table)\n",
    "        Expected_Values=val[3]\n",
    "        chi_square=sum([(o-e)**2./e for o,e in zip(Observed_Values,Expected_Values)])\n",
    "        chi_square_statistic=chi_square[0]+chi_square[1]\n",
    "        no_of_rows=Observed_Values.shape[0]\n",
    "        no_of_columns=Observed_Values.shape[1]\n",
    "        ddof=(no_of_rows-1)*(no_of_columns-1)\n",
    "        alpha = 0.05\n",
    "        critical_value=scipy.stats.chi2.ppf(q=1-alpha,df=ddof)\n",
    "        p_value=1-chi2.cdf(x=chi_square_statistic,df=ddof)\n",
    "        df=df.append({'Feature':col, 'P-value': p_value}, ignore_index=True)\n",
    "        \n",
    "df"
   ]
  },
  {
   "cell_type": "raw",
   "id": "6e85e062",
   "metadata": {
    "id": "6e85e062"
   },
   "source": [
    "#so from above output we can see ,loan and housing attribute have p-value greater than alpha value so we'll be removing the attributes"
   ]
  },
  {
   "cell_type": "code",
   "execution_count": null,
   "id": "0be74c22",
   "metadata": {
    "id": "0be74c22"
   },
   "outputs": [],
   "source": [
    "df=pd.DataFrame(columns=['Feature','P-value'])"
   ]
  },
  {
   "cell_type": "code",
   "execution_count": null,
   "id": "ac62f667",
   "metadata": {
    "id": "ac62f667"
   },
   "outputs": [],
   "source": [
    "df=df.append({'Feature':col, 'P-value': p_value}, ignore_index=True)"
   ]
  },
  {
   "cell_type": "code",
   "execution_count": null,
   "id": "25ac284a",
   "metadata": {
    "colab": {
     "base_uri": "https://localhost:8080/"
    },
    "executionInfo": {
     "elapsed": 42,
     "status": "ok",
     "timestamp": 1651139406546,
     "user": {
      "displayName": "Iqubal Hussain",
      "userId": "18357245883090445037"
     },
     "user_tz": -330
    },
    "id": "25ac284a",
    "outputId": "49ce19b7-870e-4434-f5eb-767be8e442e1"
   },
   "outputs": [],
   "source": [
    "print(df)"
   ]
  },
  {
   "cell_type": "code",
   "execution_count": null,
   "id": "a233087a",
   "metadata": {
    "id": "a233087a"
   },
   "outputs": [],
   "source": [
    "data.drop(columns = ['loan','housing'],inplace = True)"
   ]
  },
  {
   "cell_type": "code",
   "execution_count": null,
   "id": "edbb0795",
   "metadata": {
    "colab": {
     "base_uri": "https://localhost:8080/"
    },
    "executionInfo": {
     "elapsed": 38,
     "status": "ok",
     "timestamp": 1651139406548,
     "user": {
      "displayName": "Iqubal Hussain",
      "userId": "18357245883090445037"
     },
     "user_tz": -330
    },
    "id": "edbb0795",
    "outputId": "07af5ab8-d31e-4939-a37f-2a570b3e496a"
   },
   "outputs": [],
   "source": [
    "data.head()"
   ]
  },
  {
   "cell_type": "code",
   "execution_count": null,
   "id": "3a3c5b30",
   "metadata": {
    "colab": {
     "base_uri": "https://localhost:8080/"
    },
    "executionInfo": {
     "elapsed": 38,
     "status": "ok",
     "timestamp": 1651139406549,
     "user": {
      "displayName": "Iqubal Hussain",
      "userId": "18357245883090445037"
     },
     "user_tz": -330
    },
    "id": "3a3c5b30",
    "outputId": "913ced4c-be3d-4ebc-dc34-2d317de0cc40"
   },
   "outputs": [],
   "source": [
    "data"
   ]
  },
  {
   "cell_type": "markdown",
   "id": "b0236dba",
   "metadata": {
    "id": "b0236dba"
   },
   "source": [
    "# IV analysis"
   ]
  },
  {
   "cell_type": "raw",
   "id": "ffb385a4",
   "metadata": {
    "id": "ffb385a4"
   },
   "source": [
    "# IV analysis\n",
    "\n",
    "IV analysis is done on features to check the predictive power of features(independent attributes) by binning the values and calculating the weight of eveidence and finaly computing IV-Score which gives you the predictive power based on predefined range of IV-Score. below are the range of data\n",
    "\n",
    "#Information Value \t        Predictive power\n",
    "\n",
    "#<0.02\t                     Useless \n",
    "\n",
    "#0.02 to 0.1\t             Weak predictors\n",
    "\n",
    "#0.1 to 0.3\t                 Medium Predictors \n",
    "\n",
    "#0.3 to 0.5\t                 Strong predictors\n",
    "\n",
    "#>0.5\t                     Suspicious\n",
    "\n",
    "Note:before calculating the weight of evidence make sure to bin the features if they are not categorical.and make sure each bin should have atleast 5% of data distributed in each bin\n",
    "\n"
   ]
  },
  {
   "cell_type": "code",
   "execution_count": null,
   "id": "4cd86dc4",
   "metadata": {
    "id": "4cd86dc4"
   },
   "outputs": [],
   "source": [
    "def calculate_woe_iv(dataset, feature, target):\n",
    "    lst = []\n",
    "    for i in range(dataset[feature].nunique()):\n",
    "        val = list(dataset[feature].unique())[i]\n",
    "        lst.append({\n",
    "            'Value': val,\n",
    "            'All': dataset[dataset[feature] == val].count()[feature],\n",
    "            'Good': dataset[(dataset[feature] == val) & (dataset[target] == 1)].count()[feature],\n",
    "            'Bad': dataset[(dataset[feature] == val) & (dataset[target] == 0)].count()[feature]\n",
    "        })\n",
    "        \n",
    "    dset = pd.DataFrame(lst)\n",
    "    dset['Distr_Good'] = dset['Good'] / dset['Good'].sum()\n",
    "    dset['Distr_Bad'] = dset['Bad'] / dset['Bad'].sum()\n",
    "    dset['WoE'] = np.log(dset['Distr_Good'] / dset['Distr_Bad'])\n",
    "    dset = dset.replace({'WoE': {np.inf: 0, -np.inf: 0}})\n",
    "    dset['IV'] = (dset['Distr_Good'] - dset['Distr_Bad']) * dset['WoE']\n",
    "    iv = dset['IV'].sum()\n",
    "    \n",
    "    dset = dset.sort_values(by='WoE')\n",
    "    \n",
    "    return dset, iv"
   ]
  },
  {
   "cell_type": "code",
   "execution_count": null,
   "id": "34af2f4d",
   "metadata": {
    "id": "34af2f4d"
   },
   "outputs": [],
   "source": []
  },
  {
   "cell_type": "code",
   "execution_count": null,
   "id": "f10cb25c",
   "metadata": {
    "colab": {
     "base_uri": "https://localhost:8080/"
    },
    "executionInfo": {
     "elapsed": 39,
     "status": "ok",
     "timestamp": 1651139406553,
     "user": {
      "displayName": "Iqubal Hussain",
      "userId": "18357245883090445037"
     },
     "user_tz": -330
    },
    "id": "f10cb25c",
    "outputId": "25a9c5dd-78a9-46b4-effe-aaa9f49081cb"
   },
   "outputs": [],
   "source": [
    "data"
   ]
  },
  {
   "cell_type": "code",
   "execution_count": null,
   "id": "3e13450a",
   "metadata": {
    "id": "3e13450a"
   },
   "outputs": [],
   "source": [
    "data['y'] = data['y'].astype(int)"
   ]
  },
  {
   "cell_type": "code",
   "execution_count": null,
   "id": "e41665e4",
   "metadata": {
    "id": "e41665e4"
   },
   "outputs": [],
   "source": [
    "df_new=pd.DataFrame(columns=['Feature','IV-Score'])"
   ]
  },
  {
   "cell_type": "code",
   "execution_count": null,
   "id": "c43b2424",
   "metadata": {
    "colab": {
     "base_uri": "https://localhost:8080/"
    },
    "executionInfo": {
     "elapsed": 45,
     "status": "ok",
     "timestamp": 1651139406561,
     "user": {
      "displayName": "Iqubal Hussain",
      "userId": "18357245883090445037"
     },
     "user_tz": -330
    },
    "id": "c43b2424",
    "outputId": "700b8685-87a1-4408-c85f-d87eea2691ba"
   },
   "outputs": [],
   "source": [
    "data"
   ]
  },
  {
   "cell_type": "code",
   "execution_count": null,
   "id": "92d512cd",
   "metadata": {
    "id": "92d512cd"
   },
   "outputs": [],
   "source": []
  },
  {
   "cell_type": "code",
   "execution_count": null,
   "id": "c33b0df3",
   "metadata": {
    "colab": {
     "base_uri": "https://localhost:8080/"
    },
    "executionInfo": {
     "elapsed": 2374,
     "status": "ok",
     "timestamp": 1651139408892,
     "user": {
      "displayName": "Iqubal Hussain",
      "userId": "18357245883090445037"
     },
     "user_tz": -330
    },
    "id": "c33b0df3",
    "outputId": "1f75bb61-af11-44c1-8c60-47df50859dae",
    "scrolled": true
   },
   "outputs": [],
   "source": [
    "col_list = list(data.columns)\n",
    "for col in col_list:\n",
    "    if col == 'y': \n",
    "        continue\n",
    "    elif data[col].dtype == 'object':\n",
    "        df, iv = calculate_woe_iv(data, col, 'y')\n",
    "        df_new=df_new.append({'Feature':col, 'IV-Score': iv}, ignore_index=True)\n",
    "df_new"
   ]
  },
  {
   "cell_type": "raw",
   "id": "042aef20",
   "metadata": {
    "id": "042aef20"
   },
   "source": [
    "\n",
    "You can observe that these features (age, marital,education,day_of_week) have less predictive power ,henceforth we will be  dropping those columns"
   ]
  },
  {
   "cell_type": "code",
   "execution_count": null,
   "id": "9ee55feb",
   "metadata": {
    "id": "9ee55feb"
   },
   "outputs": [],
   "source": [
    "###Drop fields with low IV\n",
    "data.drop(columns = ['age', 'marital', 'education', 'day_of_week'],inplace = True)"
   ]
  },
  {
   "cell_type": "code",
   "execution_count": null,
   "id": "ea23f2b4",
   "metadata": {
    "colab": {
     "base_uri": "https://localhost:8080/"
    },
    "executionInfo": {
     "elapsed": 37,
     "status": "ok",
     "timestamp": 1651139408895,
     "user": {
      "displayName": "Iqubal Hussain",
      "userId": "18357245883090445037"
     },
     "user_tz": -330
    },
    "id": "ea23f2b4",
    "outputId": "d15c52ad-7c2e-46a5-cec8-33645becd3f1"
   },
   "outputs": [],
   "source": [
    "data.columns"
   ]
  },
  {
   "cell_type": "code",
   "execution_count": null,
   "id": "1bca80db",
   "metadata": {
    "colab": {
     "base_uri": "https://localhost:8080/"
    },
    "executionInfo": {
     "elapsed": 37,
     "status": "ok",
     "timestamp": 1651139408897,
     "user": {
      "displayName": "Iqubal Hussain",
      "userId": "18357245883090445037"
     },
     "user_tz": -330
    },
    "id": "1bca80db",
    "outputId": "43e195f8-1f7a-45a2-8cc3-722985729546"
   },
   "outputs": [],
   "source": [
    "data.dtypes"
   ]
  },
  {
   "cell_type": "markdown",
   "id": "dbac721a",
   "metadata": {
    "id": "dbac721a"
   },
   "source": [
    "# Label encoding"
   ]
  },
  {
   "cell_type": "code",
   "execution_count": null,
   "id": "90251853",
   "metadata": {
    "id": "90251853"
   },
   "outputs": [],
   "source": [
    "col_list = []\n",
    "for col in data.columns:\n",
    "    if ((data[col].dtype == 'object') & (col != 'y') ):\n",
    "        col_list.append(col)\n",
    "from sklearn.preprocessing import LabelEncoder\n",
    "labelencoder = LabelEncoder()\n",
    "for i in col_list:\n",
    "    data[i]=labelencoder.fit_transform(data[i])"
   ]
  },
  {
   "cell_type": "code",
   "execution_count": null,
   "id": "6ba1fef3",
   "metadata": {
    "colab": {
     "base_uri": "https://localhost:8080/"
    },
    "executionInfo": {
     "elapsed": 36,
     "status": "ok",
     "timestamp": 1651139408899,
     "user": {
      "displayName": "Iqubal Hussain",
      "userId": "18357245883090445037"
     },
     "user_tz": -330
    },
    "id": "6ba1fef3",
    "outputId": "379289db-48d8-425e-b141-fbb0c4df9a4e"
   },
   "outputs": [],
   "source": [
    "data"
   ]
  },
  {
   "cell_type": "markdown",
   "id": "d96296ab",
   "metadata": {
    "id": "d96296ab"
   },
   "source": [
    "# 3.VIF\n",
    "\n",
    "A variance inflation factor (VIF) is  a measure of multicollinearity among the independent variables in a multiple regression model.\n",
    "\n",
    "\n",
    "Finding  multicollinearity is important because while multicollinearity does not reduce the explanatory power of the model, it does reduce the statistical significance of the independent variables. \n",
    "\n",
    "\n",
    "A large variance inflation factor (VIF) on an independent variable indicates a highly collinear relationship to the other variables that should be considered or adjusted for in the structure of the model and selection of independent variables.\n",
    "\n",
    "\n",
    "So we'll consider the VIF values <=5 ,rest all we'll remove the featuers with value >5.\n"
   ]
  },
  {
   "cell_type": "code",
   "execution_count": null,
   "id": "7e01c0a7",
   "metadata": {
    "colab": {
     "base_uri": "https://localhost:8080/"
    },
    "executionInfo": {
     "elapsed": 1727,
     "status": "ok",
     "timestamp": 1651139410592,
     "user": {
      "displayName": "Iqubal Hussain",
      "userId": "18357245883090445037"
     },
     "user_tz": -330
    },
    "id": "7e01c0a7",
    "outputId": "2a301c9d-fb3e-4288-9f49-c1bde6d38e85"
   },
   "outputs": [],
   "source": [
    "\n",
    "\n",
    "from statsmodels.stats.outliers_influence import variance_inflation_factor \n",
    "col_list = []\n",
    "for col in data.columns:\n",
    "    if ((data[col].dtype != 'object') & (col != 'y') ):\n",
    "        col_list.append(col)\n",
    "\n",
    "X = data[col_list]\n",
    "vif_data = pd.DataFrame() \n",
    "vif_data[\"feature\"] = X.columns \n",
    "vif_data[\"VIF\"] = [variance_inflation_factor(X.values, i) \n",
    "                          for i in range(len(X.columns))] \n",
    "print(vif_data)"
   ]
  },
  {
   "cell_type": "code",
   "execution_count": null,
   "id": "9147548e",
   "metadata": {
    "id": "9147548e"
   },
   "outputs": [],
   "source": [
    "data=data.drop(['nr.employed'], axis = 1)"
   ]
  },
  {
   "cell_type": "code",
   "execution_count": null,
   "id": "a0c43448",
   "metadata": {
    "colab": {
     "base_uri": "https://localhost:8080/"
    },
    "executionInfo": {
     "elapsed": 1228,
     "status": "ok",
     "timestamp": 1651139411811,
     "user": {
      "displayName": "Iqubal Hussain",
      "userId": "18357245883090445037"
     },
     "user_tz": -330
    },
    "id": "a0c43448",
    "outputId": "89ebb439-892c-4f1b-daa8-1c42cf3e051f"
   },
   "outputs": [],
   "source": [
    "col_list = []\n",
    "for col in data.columns:\n",
    "    if ((data[col].dtype != 'object') & (col != 'y') ):\n",
    "        col_list.append(col)\n",
    "\n",
    "X = data[col_list]\n",
    "vif_data = pd.DataFrame() \n",
    "vif_data[\"feature\"] = X.columns \n",
    "vif_data[\"VIF\"] = [variance_inflation_factor(X.values, i) \n",
    "                          for i in range(len(X.columns))] \n",
    "print(vif_data)"
   ]
  },
  {
   "cell_type": "code",
   "execution_count": null,
   "id": "263fa8ad",
   "metadata": {
    "id": "263fa8ad"
   },
   "outputs": [],
   "source": [
    "data=data.drop(['cons.price.idx'], axis = 1)"
   ]
  },
  {
   "cell_type": "code",
   "execution_count": null,
   "id": "26e35cae",
   "metadata": {
    "colab": {
     "base_uri": "https://localhost:8080/"
    },
    "executionInfo": {
     "elapsed": 623,
     "status": "ok",
     "timestamp": 1651139412429,
     "user": {
      "displayName": "Iqubal Hussain",
      "userId": "18357245883090445037"
     },
     "user_tz": -330
    },
    "id": "26e35cae",
    "outputId": "4ba1f16f-9e2a-4b97-890f-764e89e2fa96"
   },
   "outputs": [],
   "source": [
    "col_list = []\n",
    "for col in data.columns:\n",
    "    if ((data[col].dtype != 'object') & (col != 'y') ):\n",
    "        col_list.append(col)\n",
    "\n",
    "X = data[col_list]\n",
    "vif_data = pd.DataFrame() \n",
    "vif_data[\"feature\"] = X.columns \n",
    "vif_data[\"VIF\"] = [variance_inflation_factor(X.values, i) \n",
    "                          for i in range(len(X.columns))] \n",
    "print(vif_data)"
   ]
  },
  {
   "cell_type": "code",
   "execution_count": null,
   "id": "cfb08b33",
   "metadata": {
    "id": "cfb08b33"
   },
   "outputs": [],
   "source": [
    "data=data.drop(['euribor3m'], axis = 1)"
   ]
  },
  {
   "cell_type": "code",
   "execution_count": null,
   "id": "13f66b68",
   "metadata": {
    "colab": {
     "base_uri": "https://localhost:8080/"
    },
    "executionInfo": {
     "elapsed": 1502,
     "status": "ok",
     "timestamp": 1651139413927,
     "user": {
      "displayName": "Iqubal Hussain",
      "userId": "18357245883090445037"
     },
     "user_tz": -330
    },
    "id": "13f66b68",
    "outputId": "10930e9b-9a47-453f-9c1f-0e651ba17d21"
   },
   "outputs": [],
   "source": [
    "col_list = []\n",
    "for col in data.columns:\n",
    "    if ((data[col].dtype != 'object') & (col != 'y') ):\n",
    "        col_list.append(col)\n",
    "\n",
    "X = data[col_list]\n",
    "vif_data = pd.DataFrame() \n",
    "vif_data[\"feature\"] = X.columns \n",
    "vif_data[\"VIF\"] = [variance_inflation_factor(X.values, i) \n",
    "                          for i in range(len(X.columns))] \n",
    "print(vif_data)"
   ]
  },
  {
   "cell_type": "code",
   "execution_count": null,
   "id": "b44dc4a4",
   "metadata": {
    "id": "b44dc4a4"
   },
   "outputs": [],
   "source": [
    "data=data.drop(['cons.conf.idx'], axis = 1)"
   ]
  },
  {
   "cell_type": "code",
   "execution_count": null,
   "id": "54976525",
   "metadata": {
    "colab": {
     "base_uri": "https://localhost:8080/"
    },
    "executionInfo": {
     "elapsed": 722,
     "status": "ok",
     "timestamp": 1651139414643,
     "user": {
      "displayName": "Iqubal Hussain",
      "userId": "18357245883090445037"
     },
     "user_tz": -330
    },
    "id": "54976525",
    "outputId": "64ad172a-97ed-46f8-c4b6-ffc3c6694a21"
   },
   "outputs": [],
   "source": [
    "col_list = []\n",
    "for col in data.columns:\n",
    "    if ((data[col].dtype != 'object') & (col != 'y') ):\n",
    "        col_list.append(col)\n",
    "\n",
    "X = data[col_list]\n",
    "vif_data = pd.DataFrame() \n",
    "vif_data[\"feature\"] = X.columns \n",
    "vif_data[\"VIF\"] = [variance_inflation_factor(X.values, i) \n",
    "                          for i in range(len(X.columns))] \n",
    "print(vif_data)"
   ]
  },
  {
   "cell_type": "code",
   "execution_count": null,
   "id": "6c72e58c",
   "metadata": {
    "colab": {
     "base_uri": "https://localhost:8080/",
     "height": 423
    },
    "executionInfo": {
     "elapsed": 18,
     "status": "ok",
     "timestamp": 1651139414645,
     "user": {
      "displayName": "Iqubal Hussain",
      "userId": "18357245883090445037"
     },
     "user_tz": -330
    },
    "id": "6c72e58c",
    "outputId": "2c44fa15-a0c6-4060-88ed-738e635cc6e8"
   },
   "outputs": [],
   "source": [
    "data"
   ]
  },
  {
   "cell_type": "markdown",
   "id": "db62817b",
   "metadata": {
    "id": "db62817b"
   },
   "source": [
    "# Model building"
   ]
  },
  {
   "cell_type": "code",
   "execution_count": null,
   "id": "fe904399",
   "metadata": {
    "id": "fe904399"
   },
   "outputs": [],
   "source": [
    "Ind_Features = list(data.columns)\n",
    "Ind_Features.remove('y')\n",
    "x = data[Ind_Features]\n",
    "y = data['y']"
   ]
  },
  {
   "cell_type": "code",
   "execution_count": null,
   "id": "73df3d8c",
   "metadata": {
    "colab": {
     "base_uri": "https://localhost:8080/",
     "height": 423
    },
    "executionInfo": {
     "elapsed": 456,
     "status": "ok",
     "timestamp": 1651139473401,
     "user": {
      "displayName": "Iqubal Hussain",
      "userId": "18357245883090445037"
     },
     "user_tz": -330
    },
    "id": "73df3d8c",
    "outputId": "21172f93-8fec-4b02-cc19-77f0514c51ee"
   },
   "outputs": [],
   "source": [
    "data"
   ]
  },
  {
   "cell_type": "code",
   "execution_count": null,
   "id": "be227de6",
   "metadata": {
    "colab": {
     "base_uri": "https://localhost:8080/"
    },
    "executionInfo": {
     "elapsed": 382,
     "status": "ok",
     "timestamp": 1651139476139,
     "user": {
      "displayName": "Iqubal Hussain",
      "userId": "18357245883090445037"
     },
     "user_tz": -330
    },
    "id": "be227de6",
    "outputId": "bbf6b547-141f-4b5b-f8cc-c39bc723ea4a"
   },
   "outputs": [],
   "source": [
    "y"
   ]
  },
  {
   "cell_type": "code",
   "execution_count": null,
   "id": "4959db9a",
   "metadata": {
    "colab": {
     "base_uri": "https://localhost:8080/",
     "height": 423
    },
    "executionInfo": {
     "elapsed": 370,
     "status": "ok",
     "timestamp": 1651139477760,
     "user": {
      "displayName": "Iqubal Hussain",
      "userId": "18357245883090445037"
     },
     "user_tz": -330
    },
    "id": "4959db9a",
    "outputId": "498795bc-f6b8-4300-822f-763d343f2d71",
    "scrolled": true
   },
   "outputs": [],
   "source": [
    "x"
   ]
  },
  {
   "cell_type": "code",
   "execution_count": null,
   "id": "1f17578f",
   "metadata": {
    "id": "1f17578f"
   },
   "outputs": [],
   "source": [
    "from sklearn.model_selection import train_test_split\n",
    "x_train, x_test, y_train, y_test = train_test_split(x, y, test_size=0.25, random_state=0)"
   ]
  },
  {
   "cell_type": "code",
   "execution_count": null,
   "id": "58863ba5",
   "metadata": {
    "id": "58863ba5"
   },
   "outputs": [],
   "source": [
    "from sklearn.preprocessing import StandardScaler\n",
    "\n",
    "SC=StandardScaler()\n",
    "x_train=SC.fit_transform(x_train)\n",
    "x_test=SC.transform(x_test)\n"
   ]
  },
  {
   "cell_type": "code",
   "execution_count": null,
   "id": "b4c927aa",
   "metadata": {
    "colab": {
     "base_uri": "https://localhost:8080/",
     "height": 423
    },
    "executionInfo": {
     "elapsed": 59,
     "status": "ok",
     "timestamp": 1651139485052,
     "user": {
      "displayName": "Iqubal Hussain",
      "userId": "18357245883090445037"
     },
     "user_tz": -330
    },
    "id": "b4c927aa",
    "outputId": "b81162bd-269e-4dd2-8565-da5d6a8d295f"
   },
   "outputs": [],
   "source": [
    "pd.DataFrame(x_train)"
   ]
  },
  {
   "cell_type": "code",
   "execution_count": null,
   "id": "86627833",
   "metadata": {
    "colab": {
     "base_uri": "https://localhost:8080/",
     "height": 423
    },
    "executionInfo": {
     "elapsed": 451,
     "status": "ok",
     "timestamp": 1651139487943,
     "user": {
      "displayName": "Iqubal Hussain",
      "userId": "18357245883090445037"
     },
     "user_tz": -330
    },
    "id": "86627833",
    "outputId": "4f5f8400-177c-4181-d051-6485d89b186d"
   },
   "outputs": [],
   "source": [
    "pd.DataFrame(x_test)"
   ]
  },
  {
   "cell_type": "code",
   "execution_count": null,
   "id": "5de4d187",
   "metadata": {
    "colab": {
     "base_uri": "https://localhost:8080/"
    },
    "executionInfo": {
     "elapsed": 409,
     "status": "ok",
     "timestamp": 1651139493453,
     "user": {
      "displayName": "Iqubal Hussain",
      "userId": "18357245883090445037"
     },
     "user_tz": -330
    },
    "id": "5de4d187",
    "outputId": "348e6e12-5d8b-47ed-c83f-b4e0932280fd"
   },
   "outputs": [],
   "source": [
    "y_train"
   ]
  },
  {
   "cell_type": "code",
   "execution_count": null,
   "id": "f86a0849",
   "metadata": {
    "id": "f86a0849"
   },
   "outputs": [],
   "source": [
    "from sklearn.linear_model import LogisticRegression"
   ]
  },
  {
   "cell_type": "code",
   "execution_count": null,
   "id": "6105b770",
   "metadata": {
    "id": "6105b770"
   },
   "outputs": [],
   "source": [
    "logisticRegr = LogisticRegression()"
   ]
  },
  {
   "cell_type": "code",
   "execution_count": null,
   "id": "fb22b409",
   "metadata": {
    "colab": {
     "base_uri": "https://localhost:8080/"
    },
    "executionInfo": {
     "elapsed": 6,
     "status": "ok",
     "timestamp": 1651139498942,
     "user": {
      "displayName": "Iqubal Hussain",
      "userId": "18357245883090445037"
     },
     "user_tz": -330
    },
    "id": "fb22b409",
    "outputId": "46770b65-4280-4432-d97b-3b40dd898cff"
   },
   "outputs": [],
   "source": [
    "#####Model Fitting/Training###\n",
    "logisticRegr.fit(x_train, y_train)"
   ]
  },
  {
   "cell_type": "code",
   "execution_count": null,
   "id": "6f9470c6",
   "metadata": {
    "id": "6f9470c6"
   },
   "outputs": [],
   "source": [
    "test_pred = logisticRegr.predict(x_test)"
   ]
  },
  {
   "cell_type": "code",
   "execution_count": null,
   "id": "b828836b",
   "metadata": {
    "colab": {
     "base_uri": "https://localhost:8080/"
    },
    "executionInfo": {
     "elapsed": 6,
     "status": "ok",
     "timestamp": 1651139502183,
     "user": {
      "displayName": "Iqubal Hussain",
      "userId": "18357245883090445037"
     },
     "user_tz": -330
    },
    "id": "b828836b",
    "outputId": "642b0a54-4b4d-40c0-d0cf-a9a6a713f971"
   },
   "outputs": [],
   "source": [
    "test_pred"
   ]
  },
  {
   "cell_type": "markdown",
   "id": "a2642a4a",
   "metadata": {
    "id": "a2642a4a"
   },
   "source": [
    "# predict proba"
   ]
  },
  {
   "cell_type": "code",
   "execution_count": null,
   "id": "d0f72867",
   "metadata": {
    "id": "d0f72867"
   },
   "outputs": [],
   "source": [
    "#predict proba\n",
    "proba_valid = pd.DataFrame(logisticRegr.predict_proba(x_test)[:, 1])"
   ]
  },
  {
   "cell_type": "code",
   "execution_count": null,
   "id": "7b654443",
   "metadata": {
    "colab": {
     "base_uri": "https://localhost:8080/"
    },
    "executionInfo": {
     "elapsed": 9,
     "status": "ok",
     "timestamp": 1651139508324,
     "user": {
      "displayName": "Iqubal Hussain",
      "userId": "18357245883090445037"
     },
     "user_tz": -330
    },
    "id": "7b654443",
    "outputId": "3f6cc87a-4576-4cf0-b945-6b3dd1c249f9"
   },
   "outputs": [],
   "source": [
    "x_test"
   ]
  },
  {
   "cell_type": "code",
   "execution_count": null,
   "id": "131cf062",
   "metadata": {
    "colab": {
     "base_uri": "https://localhost:8080/"
    },
    "executionInfo": {
     "elapsed": 436,
     "status": "ok",
     "timestamp": 1651139510040,
     "user": {
      "displayName": "Iqubal Hussain",
      "userId": "18357245883090445037"
     },
     "user_tz": -330
    },
    "id": "131cf062",
    "outputId": "49d6cc97-c356-491d-9f68-35e70b9437d7",
    "scrolled": true
   },
   "outputs": [],
   "source": [
    "logisticRegr.predict_proba(x_test)"
   ]
  },
  {
   "cell_type": "code",
   "execution_count": null,
   "id": "324dc1ab",
   "metadata": {
    "colab": {
     "base_uri": "https://localhost:8080/",
     "height": 423
    },
    "executionInfo": {
     "elapsed": 18,
     "status": "ok",
     "timestamp": 1651139511485,
     "user": {
      "displayName": "Iqubal Hussain",
      "userId": "18357245883090445037"
     },
     "user_tz": -330
    },
    "id": "324dc1ab",
    "outputId": "d5f37a10-e3de-4d44-a361-a1702284dab1"
   },
   "outputs": [],
   "source": [
    "proba_valid"
   ]
  },
  {
   "cell_type": "code",
   "execution_count": null,
   "id": "d1949196",
   "metadata": {
    "id": "d1949196"
   },
   "outputs": [],
   "source": [
    "df_new=pd.DataFrame({'Predictions':test_pred})"
   ]
  },
  {
   "cell_type": "code",
   "execution_count": null,
   "id": "31fc3e0f",
   "metadata": {
    "colab": {
     "base_uri": "https://localhost:8080/",
     "height": 423
    },
    "executionInfo": {
     "elapsed": 387,
     "status": "ok",
     "timestamp": 1651139514849,
     "user": {
      "displayName": "Iqubal Hussain",
      "userId": "18357245883090445037"
     },
     "user_tz": -330
    },
    "id": "31fc3e0f",
    "outputId": "4ff28334-59db-463f-d1f6-019d0a29caaf"
   },
   "outputs": [],
   "source": [
    "df_new"
   ]
  },
  {
   "cell_type": "code",
   "execution_count": null,
   "id": "2527a998",
   "metadata": {
    "id": "2527a998"
   },
   "outputs": [],
   "source": [
    "df_new.insert(1, \"Y_predict_proba\", proba_valid)"
   ]
  },
  {
   "cell_type": "code",
   "execution_count": null,
   "id": "02712586",
   "metadata": {
    "colab": {
     "base_uri": "https://localhost:8080/",
     "height": 423
    },
    "executionInfo": {
     "elapsed": 21,
     "status": "ok",
     "timestamp": 1651139517928,
     "user": {
      "displayName": "Iqubal Hussain",
      "userId": "18357245883090445037"
     },
     "user_tz": -330
    },
    "id": "02712586",
    "outputId": "0439120d-253e-4f90-bbbe-b002fe68189f"
   },
   "outputs": [],
   "source": [
    "df_new"
   ]
  },
  {
   "cell_type": "code",
   "execution_count": null,
   "id": "7645ddf5",
   "metadata": {
    "id": "7645ddf5"
   },
   "outputs": [],
   "source": []
  },
  {
   "cell_type": "code",
   "execution_count": null,
   "id": "3ee1645d",
   "metadata": {
    "id": "3ee1645d"
   },
   "outputs": [],
   "source": [
    "df_new['Y_pred_0.1']=np.where((df_new['Y_predict_proba']>0.1), 1,0)"
   ]
  },
  {
   "cell_type": "code",
   "execution_count": null,
   "id": "9a156dbb",
   "metadata": {
    "colab": {
     "base_uri": "https://localhost:8080/",
     "height": 423
    },
    "executionInfo": {
     "elapsed": 29,
     "status": "ok",
     "timestamp": 1651139522640,
     "user": {
      "displayName": "Iqubal Hussain",
      "userId": "18357245883090445037"
     },
     "user_tz": -330
    },
    "id": "9a156dbb",
    "outputId": "1fd2a445-0274-48bf-f0d3-8e4aa5d4de0f"
   },
   "outputs": [],
   "source": [
    "df_new"
   ]
  },
  {
   "cell_type": "code",
   "execution_count": null,
   "id": "9ba25a48",
   "metadata": {
    "id": "9ba25a48"
   },
   "outputs": [],
   "source": [
    "df_new['Y_pred_0.2']=np.where(df_new['Y_predict_proba']>0.2,1,0)\n",
    "df_new['Y_pred_0.3']=np.where(df_new['Y_predict_proba']>0.3, 1,0)\n",
    "df_new['Y_pred_0.4']=np.where(df_new['Y_predict_proba']>0.4, 1,0)\n",
    "df_new['Y_pred_0.5']=np.where(df_new['Y_predict_proba']>0.5, 1,0)\n",
    "df_new['Y_pred_0.6']=np.where(df_new['Y_predict_proba']>0.6, 1,0)\n",
    "df_new['Y_pred_0.7']=np.where(df_new['Y_predict_proba']>0.7, 1,0)\n",
    "df_new['Y_pred_0.8']=np.where(df_new['Y_predict_proba']>0.8, 1,0)\n",
    "df_new['Y_pred_0.9']=np.where(df_new['Y_predict_proba']>0.9, 1,0)"
   ]
  },
  {
   "cell_type": "code",
   "execution_count": null,
   "id": "50201084",
   "metadata": {
    "colab": {
     "base_uri": "https://localhost:8080/",
     "height": 488
    },
    "executionInfo": {
     "elapsed": 25,
     "status": "ok",
     "timestamp": 1651139525608,
     "user": {
      "displayName": "Iqubal Hussain",
      "userId": "18357245883090445037"
     },
     "user_tz": -330
    },
    "id": "50201084",
    "outputId": "dd4bb0ed-e61a-4bc9-be74-b0a2e97e0872"
   },
   "outputs": [],
   "source": [
    "df_new"
   ]
  },
  {
   "cell_type": "code",
   "execution_count": null,
   "id": "f171842b",
   "metadata": {
    "id": "f171842b"
   },
   "outputs": [],
   "source": [
    "from sklearn.metrics import confusion_matrix"
   ]
  },
  {
   "cell_type": "code",
   "execution_count": null,
   "id": "7273a5bf",
   "metadata": {
    "id": "7273a5bf"
   },
   "outputs": [],
   "source": [
    "c1=confusion_matrix(df_new.loc[:,'Predictions'],df_new.loc[:,'Y_pred_0.5'])"
   ]
  },
  {
   "cell_type": "code",
   "execution_count": null,
   "id": "5de495c9",
   "metadata": {
    "colab": {
     "base_uri": "https://localhost:8080/"
    },
    "executionInfo": {
     "elapsed": 18,
     "status": "ok",
     "timestamp": 1651139530436,
     "user": {
      "displayName": "Iqubal Hussain",
      "userId": "18357245883090445037"
     },
     "user_tz": -330
    },
    "id": "5de495c9",
    "outputId": "f2c82ea4-e63c-43f2-ad6d-ce188764cd2d"
   },
   "outputs": [],
   "source": [
    "c1"
   ]
  },
  {
   "cell_type": "raw",
   "id": "0f6ab512",
   "metadata": {
    "id": "0f6ab512"
   },
   "source": [
    "'''\n",
    "Predicted   P\tN\n",
    "                0   1\n",
    "                y  n\n",
    "                \n",
    "                \n",
    "Actual  0  Py \tTP\tFN\n",
    "        1 Nn\tFP\tTN\n",
    "        \n",
    "        \n",
    "        \n",
    "          \n",
    "          #Sensitivity=TP/TP+FN\n",
    "          #Specificity=TN/TN+FP\n",
    "          \n",
    "          \n",
    "Sensitivity: the ability of a test to correctly identify as yes\n",
    "\n",
    "Specificity: the ability of a test to correctly identify as no\n",
    "''' "
   ]
  },
  {
   "cell_type": "code",
   "execution_count": null,
   "id": "69a5892f",
   "metadata": {
    "colab": {
     "base_uri": "https://localhost:8080/"
    },
    "executionInfo": {
     "elapsed": 372,
     "status": "ok",
     "timestamp": 1651139533447,
     "user": {
      "displayName": "Iqubal Hussain",
      "userId": "18357245883090445037"
     },
     "user_tz": -330
    },
    "id": "69a5892f",
    "outputId": "88c485b9-31f4-4210-dec7-ab5804756f76"
   },
   "outputs": [],
   "source": [
    "sen=c1[0,0]/(c1[0,0]+c1[0,1])\n",
    "sen"
   ]
  },
  {
   "cell_type": "code",
   "execution_count": null,
   "id": "54c9ab8c",
   "metadata": {
    "colab": {
     "base_uri": "https://localhost:8080/"
    },
    "executionInfo": {
     "elapsed": 5,
     "status": "ok",
     "timestamp": 1651139535117,
     "user": {
      "displayName": "Iqubal Hussain",
      "userId": "18357245883090445037"
     },
     "user_tz": -330
    },
    "id": "54c9ab8c",
    "outputId": "a98c047c-3414-4035-ec83-c614ca6ffdc9"
   },
   "outputs": [],
   "source": [
    "sep=c1[1,1]/(c1[1,1]+c1[1,0])\n",
    "sep"
   ]
  },
  {
   "cell_type": "code",
   "execution_count": null,
   "id": "15d7bc3a",
   "metadata": {
    "id": "15d7bc3a"
   },
   "outputs": [],
   "source": [
    "d11=pd.DataFrame(columns=['cutoff','Sensitivity','Specificity'])"
   ]
  },
  {
   "cell_type": "code",
   "execution_count": null,
   "id": "e8608910",
   "metadata": {
    "id": "e8608910"
   },
   "outputs": [],
   "source": [
    "d11=d11.append({'cutoff':0.2, 'Sensitivity': sen,'Specificity':sep}, ignore_index=True)"
   ]
  },
  {
   "cell_type": "code",
   "execution_count": null,
   "id": "df3bf85b",
   "metadata": {
    "id": "df3bf85b"
   },
   "outputs": [],
   "source": [
    "c1=confusion_matrix(df_new.loc[:,'Predictions'],df_new.loc[:,'Y_pred_0.1'])\n",
    "c2=confusion_matrix(df_new.loc[:,'Predictions'],df_new.loc[:,'Y_pred_0.2'])\n",
    "c3=confusion_matrix(df_new.loc[:,'Predictions'],df_new.loc[:,'Y_pred_0.3'])\n",
    "c4=confusion_matrix(df_new.loc[:,'Predictions'],df_new.loc[:,'Y_pred_0.4'])\n",
    "c5=confusion_matrix(df_new.loc[:,'Predictions'],df_new.loc[:,'Y_pred_0.5'])\n",
    "c6=confusion_matrix(df_new.loc[:,'Predictions'],df_new.loc[:,'Y_pred_0.6'])\n",
    "c7=confusion_matrix(df_new.loc[:,'Predictions'],df_new.loc[:,'Y_pred_0.7'])\n",
    "c8=confusion_matrix(df_new.loc[:,'Predictions'],df_new.loc[:,'Y_pred_0.8'])\n",
    "c9=confusion_matrix(df_new.loc[:,'Predictions'],df_new.loc[:,'Y_pred_0.9'])"
   ]
  },
  {
   "cell_type": "code",
   "execution_count": null,
   "id": "74b45291",
   "metadata": {
    "id": "74b45291"
   },
   "outputs": [],
   "source": [
    "sen1=c1[0,0]/(c1[0,0]+c1[0,1])\n",
    "sen2=c2[0,0]/(c2[0,0]+c2[0,1])\n",
    "sen3=c3[0,0]/(c3[0,0]+c3[0,1])\n",
    "sen4=c4[0,0]/(c4[0,0]+c4[0,1])\n",
    "sen5=c5[0,0]/(c5[0,0]+c5[0,1])\n",
    "sen6=c6[0,0]/(c6[0,0]+c6[0,1])\n",
    "sen7=c7[0,0]/(c7[0,0]+c7[0,1])\n",
    "sen8=c8[0,0]/(c8[0,0]+c8[0,1])\n",
    "sen9=c9[0,0]/(c9[0,0]+c9[0,1])"
   ]
  },
  {
   "cell_type": "code",
   "execution_count": null,
   "id": "b60275ac",
   "metadata": {
    "id": "b60275ac"
   },
   "outputs": [],
   "source": [
    "sep1=c1[1,1]/(c1[1,1]+c1[1,0])\n",
    "sep2=c2[1,1]/(c2[1,1]+c2[1,0])\n",
    "sep3=c3[1,1]/(c3[1,1]+c3[1,0])\n",
    "sep4=c4[1,1]/(c4[1,1]+c4[1,0])\n",
    "sep5=c5[1,1]/(c5[1,1]+c5[1,0])\n",
    "sep6=c6[1,1]/(c6[1,1]+c6[1,0])\n",
    "sep7=c7[1,1]/(c7[1,1]+c7[1,0])\n",
    "sep8=c8[1,1]/(c8[1,1]+c8[1,0])\n",
    "sep9=c9[1,1]/(c9[1,1]+c9[1,0])"
   ]
  },
  {
   "cell_type": "code",
   "execution_count": null,
   "id": "0b2cf4c8",
   "metadata": {
    "id": "0b2cf4c8"
   },
   "outputs": [],
   "source": [
    "d_cutoff_value=pd.DataFrame(columns=['cutoff','Sensitivity','Specificity'])"
   ]
  },
  {
   "cell_type": "code",
   "execution_count": null,
   "id": "2d327d7b",
   "metadata": {
    "colab": {
     "base_uri": "https://localhost:8080/",
     "height": 49
    },
    "executionInfo": {
     "elapsed": 52,
     "status": "ok",
     "timestamp": 1651139546857,
     "user": {
      "displayName": "Iqubal Hussain",
      "userId": "18357245883090445037"
     },
     "user_tz": -330
    },
    "id": "2d327d7b",
    "outputId": "b65e189a-ac7b-4e8e-82e3-9d1969224581"
   },
   "outputs": [],
   "source": [
    "d_cutoff_value"
   ]
  },
  {
   "cell_type": "code",
   "execution_count": null,
   "id": "3a1e463a",
   "metadata": {
    "colab": {
     "base_uri": "https://localhost:8080/",
     "height": 332
    },
    "executionInfo": {
     "elapsed": 32,
     "status": "ok",
     "timestamp": 1651139548009,
     "user": {
      "displayName": "Iqubal Hussain",
      "userId": "18357245883090445037"
     },
     "user_tz": -330
    },
    "id": "3a1e463a",
    "outputId": "46efff28-a1e3-4b02-db99-d422f08d7386"
   },
   "outputs": [],
   "source": [
    "d_cutoff_value=d_cutoff_value.append({'cutoff':0.1, 'Sensitivity': sen1,'Specificity':sep1}, ignore_index=True)\n",
    "d_cutoff_value=d_cutoff_value.append({'cutoff':0.2, 'Sensitivity': sen2,'Specificity':sep2}, ignore_index=True)\n",
    "d_cutoff_value=d_cutoff_value.append({'cutoff':0.3, 'Sensitivity': sen3,'Specificity':sep3}, ignore_index=True)\n",
    "d_cutoff_value=d_cutoff_value.append({'cutoff':0.4, 'Sensitivity': sen4,'Specificity':sep4}, ignore_index=True)\n",
    "d_cutoff_value=d_cutoff_value.append({'cutoff':0.5, 'Sensitivity': sen5,'Specificity':sep5}, ignore_index=True)\n",
    "d_cutoff_value=d_cutoff_value.append({'cutoff':0.6, 'Sensitivity': sen6,'Specificity':sep6}, ignore_index=True)\n",
    "d_cutoff_value=d_cutoff_value.append({'cutoff':0.7, 'Sensitivity': sen7,'Specificity':sep7}, ignore_index=True)\n",
    "d_cutoff_value=d_cutoff_value.append({'cutoff':0.8, 'Sensitivity': sen8,'Specificity':sep8}, ignore_index=True)\n",
    "d_cutoff_value=d_cutoff_value.append({'cutoff':0.9, 'Sensitivity': sen9,'Specificity':sep9}, ignore_index=True)\n",
    "d_cutoff_value"
   ]
  },
  {
   "cell_type": "code",
   "execution_count": null,
   "id": "1ab864f1",
   "metadata": {
    "id": "1ab864f1"
   },
   "outputs": [],
   "source": [
    "for i in range(9):\n",
    "    \n",
    "    d_cutoff_value.loc[i,'Total_val']=d_cutoff_value.loc[i,'Sensitivity']+d_cutoff_value.loc[i,'Specificity']"
   ]
  },
  {
   "cell_type": "code",
   "execution_count": null,
   "id": "413a4815",
   "metadata": {
    "colab": {
     "base_uri": "https://localhost:8080/",
     "height": 332
    },
    "executionInfo": {
     "elapsed": 413,
     "status": "ok",
     "timestamp": 1651139555708,
     "user": {
      "displayName": "Iqubal Hussain",
      "userId": "18357245883090445037"
     },
     "user_tz": -330
    },
    "id": "413a4815",
    "outputId": "503535a7-7676-4044-8140-b1393d2cc3a6"
   },
   "outputs": [],
   "source": [
    "d_cutoff_value\n"
   ]
  },
  {
   "cell_type": "code",
   "execution_count": null,
   "id": "bdb6c4d9",
   "metadata": {
    "id": "bdb6c4d9"
   },
   "outputs": [],
   "source": [
    "import matplotlib.pyplot as plt\n",
    "import seaborn as sns\n",
    "from sklearn import metrics"
   ]
  },
  {
   "cell_type": "code",
   "execution_count": null,
   "id": "d4a008f3",
   "metadata": {
    "colab": {
     "base_uri": "https://localhost:8080/"
    },
    "executionInfo": {
     "elapsed": 16,
     "status": "ok",
     "timestamp": 1651139558645,
     "user": {
      "displayName": "Iqubal Hussain",
      "userId": "18357245883090445037"
     },
     "user_tz": -330
    },
    "id": "d4a008f3",
    "outputId": "5e38ad7c-e885-4a96-d56f-e0b71bf2643d"
   },
   "outputs": [],
   "source": [
    "test_pred_prob = logisticRegr.predict_proba(x_test)\n",
    "test_pred_prob"
   ]
  },
  {
   "cell_type": "markdown",
   "id": "b3367c53",
   "metadata": {
    "id": "b3367c53"
   },
   "source": [
    "# roc curve and auc"
   ]
  },
  {
   "cell_type": "code",
   "execution_count": null,
   "id": "f1ea83df",
   "metadata": {
    "colab": {
     "base_uri": "https://localhost:8080/",
     "height": 297
    },
    "executionInfo": {
     "elapsed": 441,
     "status": "ok",
     "timestamp": 1651139562228,
     "user": {
      "displayName": "Iqubal Hussain",
      "userId": "18357245883090445037"
     },
     "user_tz": -330
    },
    "id": "f1ea83df",
    "outputId": "a2764b69-1415-47fb-dc4e-634ad67cb4a3"
   },
   "outputs": [],
   "source": [
    "# roc curve and auc\n",
    "#Receiver Operator Characteristic (ROC) curve is an evaluation metric for binary classification problems.\n",
    "from sklearn.datasets import make_classification\n",
    "from sklearn.linear_model import LogisticRegression\n",
    "from sklearn.model_selection import train_test_split\n",
    "from sklearn.metrics import roc_curve\n",
    "from sklearn.metrics import roc_auc_score\n",
    "from matplotlib import pyplot\n",
    "\n",
    "# calculate scores->how much data has been understood by the model\n",
    "auc = roc_auc_score(np.array(y_test), test_pred_prob[:, 1])\n",
    "\n",
    "# summarize scores\n",
    "\n",
    "print('Logistic: ROC AUC=%.3f' % (auc))\n",
    "\n",
    "# calculate roc curves\n",
    "\n",
    "fpr, tpr, threshold = roc_curve(np.array(y_test), test_pred_prob[:, 1])\n",
    "# plot the roc curve for the model\n",
    "\n",
    "pyplot.plot(fpr, tpr, marker='.', label='Logistic')\n",
    "# axis labels\n",
    "pyplot.xlabel('False Positive Rate')\n",
    "pyplot.ylabel('True Positive Rate')\n",
    "# show the legend\n",
    "pyplot.legend()\n",
    "# show the plot\n",
    "pyplot.show()"
   ]
  },
  {
   "cell_type": "raw",
   "id": "7d64f427",
   "metadata": {
    "id": "7d64f427"
   },
   "source": [
    "It is a probability curve that plots the TPR against FPR at various threshold values and essentially separates the ‘signal’ from the ‘noise’. The Area Under the Curve (AUC) is the measure of the ability of a classifier to distinguish between classes and is used as a summary of the ROC curve.\n",
    "\n",
    "The higher the AUC, the better the performance of the model at distinguishing between the positive and negative classes.\n",
    "\n",
    "When AUC = 1, then the classifier is able to perfectly distinguish between all the Positive and the Negative class points correctly. If, however, the AUC had been 0, then the classifier would be predicting all Negatives as Positives, and all Positives as Negatives.\n",
    "\n",
    "\n",
    "When 0.5<AUC<1, there is a high chance that the classifier will be able to distinguish the positive class values from the negative class values. This is so because the classifier is able to detect more numbers of True positives and True negatives than False negatives and False positives.\n",
    "\n",
    "\n",
    "When AUC=0.5, then the classifier is not able to distinguish between Positive and Negative class points. Meaning either the classifier is predicting random class or constant class for all the data points.\n",
    "\n",
    "So, the higher the AUC value for a classifier, the better its ability to distinguish between positive and negative classes.\n",
    "\n",
    "\n",
    "\n",
    "In a ROC curve, a higher X-axis value indicates a higher number of False positives than True negatives. While a higher Y-axis value indicates a higher number of True positives than False negatives. So, the choice of the threshold depends on the ability to balance between False positives and False negatives."
   ]
  },
  {
   "cell_type": "code",
   "execution_count": null,
   "id": "f23d17ae",
   "metadata": {
    "id": "f23d17ae"
   },
   "outputs": [],
   "source": []
  },
  {
   "cell_type": "code",
   "execution_count": null,
   "id": "7629cb30",
   "metadata": {
    "id": "7629cb30"
   },
   "outputs": [],
   "source": []
  }
 ],
 "metadata": {
  "colab": {
   "name": "LOGISTIC_Regression_notebook.ipynb",
   "provenance": []
  },
  "kernelspec": {
   "display_name": "Python 3 (ipykernel)",
   "language": "python",
   "name": "python3"
  },
  "language_info": {
   "codemirror_mode": {
    "name": "ipython",
    "version": 3
   },
   "file_extension": ".py",
   "mimetype": "text/x-python",
   "name": "python",
   "nbconvert_exporter": "python",
   "pygments_lexer": "ipython3",
   "version": "3.9.12"
  }
 },
 "nbformat": 4,
 "nbformat_minor": 5
}

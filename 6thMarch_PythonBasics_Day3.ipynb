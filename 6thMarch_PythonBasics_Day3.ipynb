{
  "nbformat": 4,
  "nbformat_minor": 0,
  "metadata": {
    "colab": {
      "name": "6thMarch_PythonBasics_Day3.ipynb",
      "provenance": [],
      "collapsed_sections": []
    },
    "kernelspec": {
      "name": "python3",
      "display_name": "Python 3"
    },
    "language_info": {
      "name": "python"
    }
  },
  "cells": [
    {
      "cell_type": "code",
      "execution_count": 1,
      "metadata": {
        "colab": {
          "base_uri": "https://localhost:8080/"
        },
        "id": "xSKnmSA6o21A",
        "outputId": "e57bea7c-e9f3-459d-b12a-1b6c724dc4b3"
      },
      "outputs": [
        {
          "output_type": "stream",
          "name": "stdout",
          "text": [
            "6th March Python Basics Day 3\n"
          ]
        }
      ],
      "source": [
        "print(\"6th March Python Basics Day 3\")"
      ]
    },
    {
      "cell_type": "code",
      "source": [
        "list1 = [[0,2,3,4],{0,1,2},{\"Apple\":1,\"Banana\":2},(1,2,3),3,4,6,6]"
      ],
      "metadata": {
        "id": "oqhlsyv-pO1U"
      },
      "execution_count": 10,
      "outputs": []
    },
    {
      "cell_type": "code",
      "source": [
        "type(list1[0])"
      ],
      "metadata": {
        "colab": {
          "base_uri": "https://localhost:8080/"
        },
        "id": "ek4WuI13rAL9",
        "outputId": "59a137a2-c88e-4d7d-afc6-fd5ee410ed5f"
      },
      "execution_count": 11,
      "outputs": [
        {
          "output_type": "execute_result",
          "data": {
            "text/plain": [
              "list"
            ]
          },
          "metadata": {},
          "execution_count": 11
        }
      ]
    },
    {
      "cell_type": "code",
      "source": [
        "list1[0]"
      ],
      "metadata": {
        "colab": {
          "base_uri": "https://localhost:8080/"
        },
        "id": "z2SXrXUprDLV",
        "outputId": "f4d88519-1217-4605-af56-a2b62224ed1e"
      },
      "execution_count": 12,
      "outputs": [
        {
          "output_type": "execute_result",
          "data": {
            "text/plain": [
              "[0, 2, 3, 4]"
            ]
          },
          "metadata": {},
          "execution_count": 12
        }
      ]
    },
    {
      "cell_type": "code",
      "source": [
        "#Conditional Statements\n",
        "# 1. Simple if \n",
        "# 2. If else\n",
        "# 3. Else if \n",
        "# 4. Nested if "
      ],
      "metadata": {
        "id": "rvsUffr-rQ2t"
      },
      "execution_count": 17,
      "outputs": []
    },
    {
      "cell_type": "code",
      "source": [
        "a = 10\n",
        "b = 15"
      ],
      "metadata": {
        "id": "fckzO_GHtvtE"
      },
      "execution_count": 18,
      "outputs": []
    },
    {
      "cell_type": "code",
      "source": [
        "#Simple if \n",
        "\n",
        "if a>b:  #False\n",
        "    print(\"A is less than B.\") #Indentation\n",
        "    print(\"Sample\")\n",
        "\n",
        "\n",
        "print(\"This statement is outside condition\")"
      ],
      "metadata": {
        "colab": {
          "base_uri": "https://localhost:8080/"
        },
        "id": "c09S8ZOXr9Gi",
        "outputId": "cf70725d-dd19-4a6f-cc6f-f482a5e3a966"
      },
      "execution_count": 27,
      "outputs": [
        {
          "output_type": "stream",
          "name": "stdout",
          "text": [
            "This statement is outside condition\n"
          ]
        }
      ]
    },
    {
      "cell_type": "code",
      "source": [
        "print(a<b)"
      ],
      "metadata": {
        "colab": {
          "base_uri": "https://localhost:8080/"
        },
        "id": "6IH45OXGzAdW",
        "outputId": "24b6c7b8-b37a-435b-e17e-95abf9538e91"
      },
      "execution_count": 32,
      "outputs": [
        {
          "output_type": "stream",
          "name": "stdout",
          "text": [
            "True\n"
          ]
        }
      ]
    },
    {
      "cell_type": "code",
      "source": [
        "#If Else:\n",
        "\n",
        "if a<b: #False\n",
        "  print(\"A is less than B.\")\n",
        "else:\n",
        "  print(\"A is Greater than B.\")\n",
        "\n",
        "print(\"This statement is outside condition\")"
      ],
      "metadata": {
        "colab": {
          "base_uri": "https://localhost:8080/"
        },
        "id": "6Pxukmk2sIMc",
        "outputId": "44d83145-b142-464e-f403-b8314632c2ba"
      },
      "execution_count": 31,
      "outputs": [
        {
          "output_type": "stream",
          "name": "stdout",
          "text": [
            "A is less than B.\n",
            "This statement is outside condition\n"
          ]
        }
      ]
    },
    {
      "cell_type": "code",
      "source": [
        "# Else if \n",
        "\n",
        "if False or True: # Condition 1\n",
        "  print(\"Condition 1\")\n",
        "elif True: \n",
        "  print(\"Condition 2\")\n",
        "elif False:\n",
        "  print(\"Condition 3\")\n",
        "elif False:\n",
        "  print(\"Condition 4\")\n",
        "else:\n",
        "  print(\"This is Else block\")\n",
        "\n",
        "\n",
        "print(\"Outside Condition\")"
      ],
      "metadata": {
        "colab": {
          "base_uri": "https://localhost:8080/"
        },
        "id": "V42h1TcCsKJO",
        "outputId": "0afffa46-8b18-49cd-c963-d992648fa747"
      },
      "execution_count": 36,
      "outputs": [
        {
          "output_type": "stream",
          "name": "stdout",
          "text": [
            "Condition 1\n",
            "Outside Condition\n"
          ]
        }
      ]
    },
    {
      "cell_type": "code",
      "source": [
        "\n",
        "AND \n",
        "\n",
        "exp1 exp2 Result\n",
        "True True True\n",
        "True False False\n",
        "False True False \n",
        "False False False\n",
        "\n",
        "OR \n",
        "\n",
        "\n",
        "exp1 exp2 Result\n",
        "True True True\n",
        "True False True\n",
        "False True  True \n",
        "False False False\n",
        "\n",
        "\n",
        "NOT \n",
        "\n",
        "exp1 exp2 Result\n",
        "True True False\n",
        "True False True\n",
        "False True True \n",
        "False False True\n",
        "\n",
        "\n"
      ],
      "metadata": {
        "id": "lhYJpDyZ0Sgz"
      },
      "execution_count": null,
      "outputs": []
    },
    {
      "cell_type": "code",
      "source": [
        "#Nested If \n",
        "\n",
        "if False:\n",
        "  print(\"Condition 1\")\n",
        "  if True:\n",
        "    print(\"Condition 1-1\")\n",
        "  else:\n",
        "    print(\"Else of Condition 1-1\")\n",
        "else:\n",
        "  print(\"Else of Condition 1\")\n",
        "  if False:\n",
        "    print(\"If in Else part\")\n",
        "  else:\n",
        "    print(\"Else of condition 1 in else.\")"
      ],
      "metadata": {
        "colab": {
          "base_uri": "https://localhost:8080/"
        },
        "id": "d8mZmkeK27zO",
        "outputId": "5a649e8b-d5d4-454d-8fed-8a8d15999a48"
      },
      "execution_count": 39,
      "outputs": [
        {
          "output_type": "stream",
          "name": "stdout",
          "text": [
            "Else of Condition 1\n",
            "Else of condition 1 in else.\n"
          ]
        }
      ]
    },
    {
      "cell_type": "code",
      "source": [
        "#Looping Statements\n",
        "\n",
        "print(\"Hello\") #10\n"
      ],
      "metadata": {
        "id": "bGNBtGdr4ZKy"
      },
      "execution_count": null,
      "outputs": []
    },
    {
      "cell_type": "code",
      "source": [
        "# 1. For \n",
        "# 2. While"
      ],
      "metadata": {
        "id": "dFtSXrv_9DLP"
      },
      "execution_count": null,
      "outputs": []
    },
    {
      "cell_type": "code",
      "source": [
        "#1. For \n",
        "\n",
        "for i in range(0,100):\n",
        "  print(\"Hello\")"
      ],
      "metadata": {
        "colab": {
          "base_uri": "https://localhost:8080/"
        },
        "id": "ortcWFNY9JSr",
        "outputId": "8b948884-35ee-4ae1-f1b1-982e0fb8c435"
      },
      "execution_count": 41,
      "outputs": [
        {
          "output_type": "stream",
          "name": "stdout",
          "text": [
            "Hello\n",
            "Hello\n",
            "Hello\n",
            "Hello\n",
            "Hello\n",
            "Hello\n",
            "Hello\n",
            "Hello\n",
            "Hello\n",
            "Hello\n",
            "Hello\n",
            "Hello\n",
            "Hello\n",
            "Hello\n",
            "Hello\n",
            "Hello\n",
            "Hello\n",
            "Hello\n",
            "Hello\n",
            "Hello\n",
            "Hello\n",
            "Hello\n",
            "Hello\n",
            "Hello\n",
            "Hello\n",
            "Hello\n",
            "Hello\n",
            "Hello\n",
            "Hello\n",
            "Hello\n",
            "Hello\n",
            "Hello\n",
            "Hello\n",
            "Hello\n",
            "Hello\n",
            "Hello\n",
            "Hello\n",
            "Hello\n",
            "Hello\n",
            "Hello\n",
            "Hello\n",
            "Hello\n",
            "Hello\n",
            "Hello\n",
            "Hello\n",
            "Hello\n",
            "Hello\n",
            "Hello\n",
            "Hello\n",
            "Hello\n",
            "Hello\n",
            "Hello\n",
            "Hello\n",
            "Hello\n",
            "Hello\n",
            "Hello\n",
            "Hello\n",
            "Hello\n",
            "Hello\n",
            "Hello\n",
            "Hello\n",
            "Hello\n",
            "Hello\n",
            "Hello\n",
            "Hello\n",
            "Hello\n",
            "Hello\n",
            "Hello\n",
            "Hello\n",
            "Hello\n",
            "Hello\n",
            "Hello\n",
            "Hello\n",
            "Hello\n",
            "Hello\n",
            "Hello\n",
            "Hello\n",
            "Hello\n",
            "Hello\n",
            "Hello\n",
            "Hello\n",
            "Hello\n",
            "Hello\n",
            "Hello\n",
            "Hello\n",
            "Hello\n",
            "Hello\n",
            "Hello\n",
            "Hello\n",
            "Hello\n",
            "Hello\n",
            "Hello\n",
            "Hello\n",
            "Hello\n",
            "Hello\n",
            "Hello\n",
            "Hello\n",
            "Hello\n",
            "Hello\n",
            "Hello\n"
          ]
        }
      ]
    },
    {
      "cell_type": "markdown",
      "source": [
        "eo"
      ],
      "metadata": {
        "id": "WB41WTxd93OU"
      }
    },
    {
      "cell_type": "code",
      "source": [
        "for i in range(0,10,3): #(lowerlimit,upperlimit,step)\n",
        "  print(i)"
      ],
      "metadata": {
        "colab": {
          "base_uri": "https://localhost:8080/"
        },
        "id": "jzx7B06j9RlE",
        "outputId": "06c11ca0-e82e-4af3-99f3-8e7ab7225b4d"
      },
      "execution_count": 44,
      "outputs": [
        {
          "output_type": "stream",
          "name": "stdout",
          "text": [
            "0\n",
            "3\n",
            "6\n",
            "9\n"
          ]
        }
      ]
    },
    {
      "cell_type": "code",
      "source": [
        "Namelist = []"
      ],
      "metadata": {
        "id": "HZt_YSkl9h6p"
      },
      "execution_count": 45,
      "outputs": []
    },
    {
      "cell_type": "code",
      "source": [
        "Namelist"
      ],
      "metadata": {
        "colab": {
          "base_uri": "https://localhost:8080/"
        },
        "id": "VevMezw8-H4y",
        "outputId": "eb1c157d-cd35-4b70-d94b-a8b552590be6"
      },
      "execution_count": 46,
      "outputs": [
        {
          "output_type": "execute_result",
          "data": {
            "text/plain": [
              "[]"
            ]
          },
          "metadata": {},
          "execution_count": 46
        }
      ]
    },
    {
      "cell_type": "code",
      "source": [
        "#list\n",
        "#user defined input\n",
        "#looping statement\n",
        "num = int(input(\"Enter number of names you want to enter in a list:\"))\n",
        "for i in range(0,num):\n",
        "  name = input(\"Enter Name:\")\n",
        "  Namelist.append(name)\n",
        "  \n"
      ],
      "metadata": {
        "colab": {
          "base_uri": "https://localhost:8080/"
        },
        "id": "3-nAj46I-I6R",
        "outputId": "45c45a81-4ac7-4b0d-a51d-21fe5902e0ea"
      },
      "execution_count": 47,
      "outputs": [
        {
          "name": "stdout",
          "output_type": "stream",
          "text": [
            "Enter number of names you want to enter in a list:4\n",
            "Enter Name:John\n",
            "Enter Name:Jane\n",
            "Enter Name:Jenny\n",
            "Enter Name:Bob\n"
          ]
        }
      ]
    },
    {
      "cell_type": "code",
      "source": [
        "Namelist =['John', 'Jane', 'Jenny', 'Bob','Rob','Jonny','Tony','Jack','Juliet','jonny','jack','juliet']"
      ],
      "metadata": {
        "id": "KtPRaT02-plr"
      },
      "execution_count": 53,
      "outputs": []
    },
    {
      "cell_type": "code",
      "source": [
        "#loop\n",
        "#Condition\n",
        "#String slicing\n",
        "\n",
        "#Task: List names which are starting from 'J'"
      ],
      "metadata": {
        "id": "KGIKSVLU-yDc"
      },
      "execution_count": 51,
      "outputs": []
    },
    {
      "cell_type": "code",
      "source": [
        "for i in Namelist:\n",
        "  if i[0].lower() == 'j':\n",
        "    print(i)"
      ],
      "metadata": {
        "colab": {
          "base_uri": "https://localhost:8080/"
        },
        "id": "ScC5chnZ_hTl",
        "outputId": "c44d5829-fd46-4c05-d8b9-9b49e425cec2"
      },
      "execution_count": 66,
      "outputs": [
        {
          "output_type": "stream",
          "name": "stdout",
          "text": [
            "John\n",
            "Jane\n",
            "Jenny\n",
            "Jonny\n",
            "Jack\n",
            "Juliet\n",
            "jonny\n",
            "jack\n",
            "juliet\n"
          ]
        }
      ]
    },
    {
      "cell_type": "code",
      "source": [
        "for i in Namelist:\n",
        "  print(type(i))"
      ],
      "metadata": {
        "colab": {
          "base_uri": "https://localhost:8080/"
        },
        "id": "R-XRzDqmBzKQ",
        "outputId": "ccefe5bd-1371-428a-b2e8-33c4c40ee2bd"
      },
      "execution_count": 57,
      "outputs": [
        {
          "output_type": "stream",
          "name": "stdout",
          "text": [
            "<class 'str'>\n",
            "<class 'str'>\n",
            "<class 'str'>\n",
            "<class 'str'>\n",
            "<class 'str'>\n",
            "<class 'str'>\n",
            "<class 'str'>\n",
            "<class 'str'>\n",
            "<class 'str'>\n",
            "<class 'str'>\n",
            "<class 'str'>\n",
            "<class 'str'>\n"
          ]
        }
      ]
    },
    {
      "cell_type": "code",
      "source": [
        "name1='John'"
      ],
      "metadata": {
        "id": "oHUr9wfwCg5Q"
      },
      "execution_count": 58,
      "outputs": []
    },
    {
      "cell_type": "code",
      "source": [
        "name1[0]"
      ],
      "metadata": {
        "colab": {
          "base_uri": "https://localhost:8080/",
          "height": 35
        },
        "id": "qDP2B63wCpv5",
        "outputId": "d440feb1-437d-455a-a69d-7b969954e972"
      },
      "execution_count": 59,
      "outputs": [
        {
          "output_type": "execute_result",
          "data": {
            "application/vnd.google.colaboratory.intrinsic+json": {
              "type": "string"
            },
            "text/plain": [
              "'J'"
            ]
          },
          "metadata": {},
          "execution_count": 59
        }
      ]
    },
    {
      "cell_type": "code",
      "source": [
        "name1.lower()"
      ],
      "metadata": {
        "colab": {
          "base_uri": "https://localhost:8080/",
          "height": 35
        },
        "id": "aLZtM27WCrHC",
        "outputId": "2cda3ad8-d073-4e0a-e2de-165fbb3ee4a7"
      },
      "execution_count": 61,
      "outputs": [
        {
          "output_type": "execute_result",
          "data": {
            "application/vnd.google.colaboratory.intrinsic+json": {
              "type": "string"
            },
            "text/plain": [
              "'john'"
            ]
          },
          "metadata": {},
          "execution_count": 61
        }
      ]
    },
    {
      "cell_type": "code",
      "source": [
        "name1.upper()"
      ],
      "metadata": {
        "colab": {
          "base_uri": "https://localhost:8080/",
          "height": 35
        },
        "id": "Kn8udAPhDOxq",
        "outputId": "8169af5b-9ce6-42ba-9dd6-8a02f3d3d051"
      },
      "execution_count": 62,
      "outputs": [
        {
          "output_type": "execute_result",
          "data": {
            "application/vnd.google.colaboratory.intrinsic+json": {
              "type": "string"
            },
            "text/plain": [
              "'JOHN'"
            ]
          },
          "metadata": {},
          "execution_count": 62
        }
      ]
    },
    {
      "cell_type": "code",
      "source": [
        "for name in Namelist:\n",
        "  print(name)"
      ],
      "metadata": {
        "colab": {
          "base_uri": "https://localhost:8080/"
        },
        "id": "Emay6XlYDSy3",
        "outputId": "7b30f4b9-1f4b-4632-85a5-12974169d01c"
      },
      "execution_count": 67,
      "outputs": [
        {
          "output_type": "stream",
          "name": "stdout",
          "text": [
            "John\n",
            "Jane\n",
            "Jenny\n",
            "Bob\n",
            "Rob\n",
            "Jonny\n",
            "Tony\n",
            "Jack\n",
            "Juliet\n",
            "jonny\n",
            "jack\n",
            "juliet\n"
          ]
        }
      ]
    },
    {
      "cell_type": "code",
      "source": [
        "#While loop\n",
        "\n",
        "#while(condition):\n",
        "#Statement\n",
        "#increment or decrement \n"
      ],
      "metadata": {
        "id": "7yvpIaHSEdrQ"
      },
      "execution_count": 68,
      "outputs": []
    },
    {
      "cell_type": "code",
      "source": [
        "i = 0\n",
        "\n",
        "while(i<10):\n",
        "  print(i)\n",
        "  i+=2\n"
      ],
      "metadata": {
        "colab": {
          "base_uri": "https://localhost:8080/"
        },
        "id": "ob5ngnauEyMS",
        "outputId": "99b65e92-839e-47e9-cc9d-307a2f92aa74"
      },
      "execution_count": 2,
      "outputs": [
        {
          "output_type": "stream",
          "name": "stdout",
          "text": [
            "0\n",
            "2\n",
            "4\n",
            "6\n",
            "8\n"
          ]
        }
      ]
    },
    {
      "cell_type": "code",
      "source": [
        "\n",
        "#Task: Take number as user input Print table of that number for and while loop"
      ],
      "metadata": {
        "id": "MI6p_NkNE4G5"
      },
      "execution_count": 3,
      "outputs": []
    },
    {
      "cell_type": "code",
      "source": [
        "#For loop\n",
        "num = int(input(\"Enter Number:\"))\n",
        "for i in range(1,11):\n",
        "  print(num,i,num*i)"
      ],
      "metadata": {
        "colab": {
          "base_uri": "https://localhost:8080/"
        },
        "id": "r2Bo2fjJGn79",
        "outputId": "77052f6e-bb9a-4bd7-c08c-290389b9ebf3"
      },
      "execution_count": 13,
      "outputs": [
        {
          "output_type": "stream",
          "name": "stdout",
          "text": [
            "Enter Number:101\n",
            "101 1 101\n",
            "101 2 202\n",
            "101 3 303\n",
            "101 4 404\n",
            "101 5 505\n",
            "101 6 606\n",
            "101 7 707\n",
            "101 8 808\n",
            "101 9 909\n",
            "101 10 1010\n"
          ]
        }
      ]
    },
    {
      "cell_type": "code",
      "source": [
        "i = 1\n",
        "num = int(input(\"Enter number of choice:\"))\n",
        "while(i<=10):\n",
        "  print(num,\"x\",i,\"=\",num*i)\n",
        "  i+=1\n",
        "\n"
      ],
      "metadata": {
        "colab": {
          "base_uri": "https://localhost:8080/"
        },
        "id": "lqnarBVOJF4S",
        "outputId": "d7aef603-e5d7-49d8-c7ae-1fa145c0f354"
      },
      "execution_count": 7,
      "outputs": [
        {
          "output_type": "stream",
          "name": "stdout",
          "text": [
            "Enter number of choice:11\n",
            "11 x 1 = 11\n",
            "11 x 2 = 22\n",
            "11 x 3 = 33\n",
            "11 x 4 = 44\n",
            "11 x 5 = 55\n",
            "11 x 6 = 66\n",
            "11 x 7 = 77\n",
            "11 x 8 = 88\n",
            "11 x 9 = 99\n",
            "11 x 10 = 110\n"
          ]
        }
      ]
    },
    {
      "cell_type": "code",
      "source": [
        "\n",
        "num = int(input())\n",
        "for i in range (1,11):\n",
        "  print(num, \"x\", i,\"=\", num*i)\n"
      ],
      "metadata": {
        "colab": {
          "base_uri": "https://localhost:8080/"
        },
        "id": "2YXmypbXJRYj",
        "outputId": "73a28410-198d-430c-f03f-041b9b045c77"
      },
      "execution_count": 10,
      "outputs": [
        {
          "output_type": "stream",
          "name": "stdout",
          "text": [
            "11\n",
            "11 x 1 = 11\n",
            "11 x 2 = 22\n",
            "11 x 3 = 33\n",
            "11 x 4 = 44\n",
            "11 x 5 = 55\n",
            "11 x 6 = 66\n",
            "11 x 7 = 77\n",
            "11 x 8 = 88\n",
            "11 x 9 = 99\n",
            "11 x 10 = 110\n"
          ]
        }
      ]
    },
    {
      "cell_type": "code",
      "source": [
        "#User Defined Functions\n"
      ],
      "metadata": {
        "id": "ezoPsulnKnCJ"
      },
      "execution_count": 14,
      "outputs": []
    },
    {
      "cell_type": "code",
      "source": [
        "#Function\n",
        "\n",
        "print(\"Hello\")\n",
        "\n",
        "list12 = [1,2,3,45,5,6]"
      ],
      "metadata": {
        "colab": {
          "base_uri": "https://localhost:8080/"
        },
        "id": "NUSDkXKeM1z0",
        "outputId": "9ae4e9d6-216c-437b-8820-c76dda63d370"
      },
      "execution_count": 16,
      "outputs": [
        {
          "output_type": "stream",
          "name": "stdout",
          "text": [
            "Hello\n"
          ]
        }
      ]
    },
    {
      "cell_type": "code",
      "source": [
        "len(list12)"
      ],
      "metadata": {
        "colab": {
          "base_uri": "https://localhost:8080/"
        },
        "id": "tVDRs-B3NRdR",
        "outputId": "da8e8431-3d4e-4ffc-d88c-51b07ecb6ed7"
      },
      "execution_count": 17,
      "outputs": [
        {
          "output_type": "execute_result",
          "data": {
            "text/plain": [
              "6"
            ]
          },
          "metadata": {},
          "execution_count": 17
        }
      ]
    },
    {
      "cell_type": "code",
      "source": [
        "#User Defined Function\n",
        "\n",
        "def add1(a,b):\n",
        "  print(a+b)\n"
      ],
      "metadata": {
        "id": "VQoF03obNWX6"
      },
      "execution_count": 18,
      "outputs": []
    },
    {
      "cell_type": "code",
      "source": [
        "add1(10,11)"
      ],
      "metadata": {
        "colab": {
          "base_uri": "https://localhost:8080/"
        },
        "id": "yHrBkpPFOYAi",
        "outputId": "df0b4b98-6fc2-4aa0-c20f-da06833fb648"
      },
      "execution_count": 19,
      "outputs": [
        {
          "output_type": "stream",
          "name": "stdout",
          "text": [
            "21\n"
          ]
        }
      ]
    },
    {
      "cell_type": "code",
      "source": [
        "lmb = lambda x:x*2+5 #one liner function"
      ],
      "metadata": {
        "id": "7hfjH-qwOinX"
      },
      "execution_count": 22,
      "outputs": []
    },
    {
      "cell_type": "code",
      "source": [
        "lmb(10)"
      ],
      "metadata": {
        "colab": {
          "base_uri": "https://localhost:8080/"
        },
        "id": "7Jagy4erO7p5",
        "outputId": "19c9a468-93f8-4a15-8b73-360d563b2067"
      },
      "execution_count": 23,
      "outputs": [
        {
          "output_type": "execute_result",
          "data": {
            "text/plain": [
              "25"
            ]
          },
          "metadata": {},
          "execution_count": 23
        }
      ]
    },
    {
      "cell_type": "code",
      "source": [
        ""
      ],
      "metadata": {
        "id": "gdTc8WYjO-BD"
      },
      "execution_count": null,
      "outputs": []
    }
  ]
}
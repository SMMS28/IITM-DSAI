{
 "cells": [
  {
   "cell_type": "code",
   "execution_count": null,
   "id": "898e82b9",
   "metadata": {},
   "outputs": [],
   "source": [
    "string = \"https://www.flipkart.com/search?q={}&as=on&as-show=on&otracker=AS_Query_HistoryAutoSuggest_1_2_na_na_na&otracker1=AS_Query_HistoryAutoSuggest_1_2_na_na_na&as-pos=1&as-type=HISTORY&suggestionId=laptops&requestId=870ca917-da70-41d8-8237-6d768437ae41&as-searchtext=la\""
   ]
  },
  {

   "cell_type": "code",
   "execution_count": null,
   "id": "1fec2edf",
   "metadata": {},
   "outputs": [],
   "source": [
    "string.format(\"fruit juicer\").replace(\" \", \"%20\")"
   ]
  },
  {
   "cell_type": "code",
   "execution_count": null,
   "id": "754705c4",
   "metadata": {},
   "outputs": [],
   "source": [
    "list_of_queries = ['fruit juicer', 'hp laptop', 'gaming cd']\n",
    "\n",
    "for i in list_of_queries:\n",
    "    print(string.format(i).replace(\" \", \"%20\"))"
   ]
  },
  {
   "cell_type": "code",
   "execution_count": null,
   "id": "4f99ed6a",
   "metadata": {},
   "outputs": [],
   "source": [
    "# CRAWLING FLIPKART.COM"
   ]
  },
  {
   "cell_type": "code",
   "execution_count": null,
   "id": "259c0475",
   "metadata": {},
   "outputs": [],
   "source": [
    "# !pip install selenium\n",
    "# !pip install webdriver-manager"
   ]
  },
  {
   "cell_type": "code",
   "execution_count": 3,
   "id": "4067ec1d",
   "metadata": {},
   "outputs": [],
   "source": [
    "from selenium import webdriver\n",
    "from bs4 import BeautifulSoup\n",
    "import pandas as pd"
   ]
  },
  {
   "cell_type": "code",
   "execution_count": null,
   "id": "bc534364",
   "metadata": {},
   "outputs": [],
   "source": [
    "from webdriver_manager.chrome import ChromeDriverManager"
   ]
  },
  {
   "cell_type": "code",
   "execution_count": null,
   "id": "62b691ba",
   "metadata": {},
   "outputs": [],
   "source": [
    "driver = webdriver.Chrome(ChromeDriverManager().install())"
   ]
  },
  {
   "cell_type": "code",
   "execution_count": null,
   "id": "d094ed41",
   "metadata": {},
   "outputs": [],
   "source": [
    "driver"
   ]
  },
  {
   "cell_type": "code",
   "execution_count": null,
   "id": "f595db86",
   "metadata": {},
   "outputs": [],
   "source": [
    "products = []\n",
    "\n",
    "prices = []\n",
    "\n",
    "driver.get(\"https://www.flipkart.com/search?q=Laptops&otracker=search&otracker1=search&marketplace=FLIPKART&as-show=off&as=off&as-pos=1&as-type=HISTORY&as-backfill=on\")\n",
    "\n",
    "content = driver.page_source"
   ]
  },
  {
   "cell_type": "code",
   "execution_count": null,
   "id": "6354aec9",
   "metadata": {},
   "outputs": [],
   "source": [
    "soup = BeautifulSoup(content)"
   ]
  },
  {
   "cell_type": "code",
   "execution_count": null,
   "id": "a5106f66",
   "metadata": {},
   "outputs": [],
   "source": [
    "for a in soup.findAll(attrs={'class': '_13oc-S'}):\n",
    "    name = a.find('div', attrs={'class': '_4rR01T'})\n",
    "    price = a.find('div', attrs={'class': '_30jeq3 _1_WHN1'})\n",
    "    products.append(name.text)\n",
    "    prices.append(price.text)"
   ]
  },
  {
   "cell_type": "code",
   "execution_count": null,
   "id": "cdd5932f",
   "metadata": {
    "scrolled": true
   },
   "outputs": [],
   "source": [
    "name"
   ]
  },
  {
   "cell_type": "code",
   "execution_count": null,
   "id": "5ebd9483",
   "metadata": {},
   "outputs": [],
   "source": [
    "name.text"
   ]
  },
  {
   "cell_type": "code",
   "execution_count": null,
   "id": "302c17d3",
   "metadata": {},
   "outputs": [],
   "source": [
    "prices"
   ]
  },
  {
   "cell_type": "code",
   "execution_count": null,
   "id": "feefaf53",
   "metadata": {},
   "outputs": [],
   "source": [
    "len(products)"
   ]
  },
  {
   "cell_type": "code",
   "execution_count": null,
   "id": "c27fc7d0",
   "metadata": {},
   "outputs": [],
   "source": [
    "len(prices)"
   ]
  },
  {
   "cell_type": "code",
   "execution_count": null,
   "id": "02ecc6ba",
   "metadata": {},
   "outputs": [],
   "source": [
    "df = pd.DataFrame({\"ProductName\": products, \"Price\": prices})"
   ]
  },
  {
   "cell_type": "code",
   "execution_count": null,
   "id": "7bce356e",
   "metadata": {},
   "outputs": [],
   "source": [
    "df"
   ]
  },
  {
   "cell_type": "code",
   "execution_count": null,
   "id": "113ae8b7",
   "metadata": {},
   "outputs": [],
   "source": [
    "# WRITE A SCRIPT TO LOG IN "
   ]
  },
  {
   "cell_type": "code",
   "execution_count": 4,
   "id": "3c845d2e",
   "metadata": {},
   "outputs": [],
   "source": [
    "from selenium.webdriver.support.ui import WebDriverWait\n",
    "from selenium.webdriver.support import expected_conditions as EC\n",
    "from selenium.webdriver.common.by import By"
   ]
  },
  {
   "cell_type": "code",
   "execution_count": 6,
   "id": "0f752632",
   "metadata": {},
   "outputs": [
    {
     "name": "stdout",
     "output_type": "stream",
     "text": [
      "\n"
     ]
    },
    {
     "name": "stderr",
     "output_type": "stream",
     "text": [
      "[WDM] - ====== WebDriver manager ======\n",
      "[WDM] - Current google-chrome version is 102.0.5005\n",
      "[WDM] - Get LATEST chromedriver version for 102.0.5005 google-chrome\n",
      "[WDM] - Driver [/Users/vishwath.p/.wdm/drivers/chromedriver/mac64/102.0.5005.61/chromedriver] found in cache\n",
      "<ipython-input-6-f069bde79808>:3: DeprecationWarning: executable_path has been deprecated, please pass in a Service object\n",
      "  driver = webdriver.Chrome(ChromeDriverManager().install())\n"
     ]
    }
   ],
   "source": [
    "from webdriver_manager.chrome import ChromeDriverManager\n",
    "\n",
    "driver = webdriver.Chrome(ChromeDriverManager().install())\n",
    "driver.get(\"https://seekingalpha.com/login\")\n",
    "\n",
    "wait = WebDriverWait(driver, 5)"
   ]
  },
  {
   "cell_type": "code",
   "execution_count": 7,
   "id": "e63edc4d",
   "metadata": {},
   "outputs": [],
   "source": [
    "wait.until(EC.element_to_be_clickable((By.NAME, \"email\"))).send_keys(\"vishwathvice@gmail.com\")\n",
    "wait.until(EC.element_to_be_clickable((By.ID, \"signInPasswordField\"))).send_keys(\"asldkhfadslkjfadsjlf\")"
   ]
  },
  {
   "cell_type": "code",
   "execution_count": 8,
   "id": "a4a87a1a",
   "metadata": {},
   "outputs": [
    {
     "name": "stderr",
     "output_type": "stream",
     "text": [
      "<ipython-input-8-de8537193160>:1: DeprecationWarning: find_element_by_xpath is deprecated. Please use find_element(by=By.XPATH, value=xpath) instead\n",
      "  driver.find_element_by_xpath('//*[@id=\"content\"]/div[2]/div/div/form/button').click()\n"
     ]
    }
   ],
   "source": [
    "driver.find_element_by_xpath('//*[@id=\"content\"]/div[2]/div/div/form/button').click()"
   ]
  }
 ],
 "metadata": {
  "kernelspec": {
   "display_name": "Python 3",
   "language": "python",
   "name": "python3"
  },
  "language_info": {
   "codemirror_mode": {
    "name": "ipython",
    "version": 3
   },
   "file_extension": ".py",
   "mimetype": "text/x-python",
   "name": "python",
   "nbconvert_exporter": "python",
   "pygments_lexer": "ipython3",
   "version": "3.8.8"
  }
 },
 "nbformat": 4,
 "nbformat_minor": 5
}

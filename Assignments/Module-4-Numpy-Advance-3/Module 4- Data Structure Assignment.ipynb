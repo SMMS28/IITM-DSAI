{
 "cells": [
  {
   "cell_type": "markdown",
   "id": "0bd50ccc",
   "metadata": {},
   "source": [
    "# Numpy Advance Assignment\n",
    "\n",
    "## Module 4: Data Structure Assignment\n",
    "\n",
    "#### Problem Statement:\n",
    "You work in XYZ Corporation as a Data Analyst. Your corporation has told you to work with the \n",
    "structure of the Data.\n",
    "\n",
    "### Tasks to be performed:\n",
    "\n",
    "1. Create a list named ‘myList’ that is having the following elements: 10,20,30,’apple’, True, 8.10.\n",
    "        a. Now in the ‘myList’, append th\n",
    "        \n",
    "        ese values: 30,40 \n",
    "        b. After that reverse the elements of the ‘myList’ and store that in ‘reversedList’\n",
    "    "
   ]
  },
  {
   "cell_type": "code",
   "execution_count": 3,
   "id": "fc63f8da",
   "metadata": {},
   "outputs": [
    {
     "data": {
      "text/plain": [
       "[10, 20, 30, 'apple', True, 8, 10]"
      ]
     },
     "execution_count": 3,
     "metadata": {},
     "output_type": "execute_result"
    }
   ],
   "source": [
    "myList=[10,20,30,'apple',True,8,10]\n",
    "myList\n"
   ]
  },
  {
   "cell_type": "code",
   "execution_count": 4,
   "id": "91917547",
   "metadata": {},
   "outputs": [
    {
     "data": {
      "text/plain": [
       "[10, 20, 30, 'apple', True, 8, 10, 30]"
      ]
     },
     "execution_count": 4,
     "metadata": {},
     "output_type": "execute_result"
    }
   ],
   "source": [
    "myList.append(30)\n",
    "myList"
   ]
  },
  {
   "cell_type": "code",
   "execution_count": 5,
   "id": "d5f3c4c2",
   "metadata": {},
   "outputs": [
    {
     "data": {
      "text/plain": [
       "[10, 20, 30, 'apple', True, 8, 10, 30, 40]"
      ]
     },
     "execution_count": 5,
     "metadata": {},
     "output_type": "execute_result"
    }
   ],
   "source": [
    "myList.append(40)\n",
    "myList"
   ]
  },
  {
   "cell_type": "code",
   "execution_count": 7,
   "id": "a478202d",
   "metadata": {},
   "outputs": [
    {
     "name": "stdout",
     "output_type": "stream",
     "text": [
      "None\n"
     ]
    }
   ],
   "source": [
    "reversedList=myList.reverse()\n",
    "print(reversedList)"
   ]
  },
  {
   "cell_type": "markdown",
   "id": "5b3b23f2",
   "metadata": {},
   "source": [
    "### Tasks to be performed:\n",
    "\n",
    "2. Create a dictonary with key values as 1,2,3 and the values as ‘data’,’information’, and ‘text’.\n",
    "        a. After that eliminate the ‘text’ value form the dictonary.\n",
    "        b. Add ‘features’ in the dictonary.\n",
    "        c. Fetch the ‘data’ element from the dictonary and display it in the output.\n"
   ]
  },
  {
   "cell_type": "code",
   "execution_count": 9,
   "id": "fbd1f1e1",
   "metadata": {},
   "outputs": [
    {
     "name": "stdout",
     "output_type": "stream",
     "text": [
      "{1: 'Data', 2: 'Information', 3: 'Text'}\n"
     ]
    }
   ],
   "source": [
    "Dict = {1: 'Data', 2: 'Information', 3: 'Text'}\n",
    "print(Dict)"
   ]
  },
  {
   "cell_type": "code",
   "execution_count": 11,
   "id": "541b67a3",
   "metadata": {},
   "outputs": [
    {
     "name": "stdout",
     "output_type": "stream",
     "text": [
      "{1: 'Data', 2: 'Information'}\n"
     ]
    }
   ],
   "source": [
    "del Dict[3]\n",
    "print(Dict)"
   ]
  },
  {
   "cell_type": "code",
   "execution_count": 13,
   "id": "aa178f57",
   "metadata": {},
   "outputs": [
    {
     "name": "stdout",
     "output_type": "stream",
     "text": [
      "{1: 'Data', 2: 'Information', 31: 'features'}\n"
     ]
    }
   ],
   "source": [
    "Dict[31] = 'features'\n",
    "print(Dict)"
   ]
  },
  {
   "cell_type": "code",
   "execution_count": 14,
   "id": "ab25a969",
   "metadata": {},
   "outputs": [
    {
     "data": {
      "text/plain": [
       "'Data'"
      ]
     },
     "execution_count": 14,
     "metadata": {},
     "output_type": "execute_result"
    }
   ],
   "source": [
    "Dict[1]"
   ]
  },
  {
   "cell_type": "markdown",
   "id": "b5eea5b7",
   "metadata": {},
   "source": [
    "### Tasks to be performed:\n",
    "    \n",
    "3. Create a tuple and add these elements 1,2,3,apple,mango in ‘my_tuple"
   ]
  },
  {
   "cell_type": "code",
   "execution_count": 16,
   "id": "ff8e2b72",
   "metadata": {},
   "outputs": [
    {
     "name": "stdout",
     "output_type": "stream",
     "text": [
      "(1, 2, 3, 'apple', 'mango')\n"
     ]
    }
   ],
   "source": [
    "my_tuple = ( 1, 2, 3, 'apple', 'mango')\n",
    "\n",
    "print(my_tuple)"
   ]
  },
  {
   "cell_type": "markdown",
   "id": "98b9a71a",
   "metadata": {},
   "source": [
    "### Tasks to be performed:\n",
    "\n",
    "4. Create another tuple named numeric_tuple consisting of only integer values 10,20,30,40,50\n",
    "        a. Find the minimum value from the numeric_tuple.\n",
    "        b. Concatenate my_tuple with numeric_tuple and store the result in r1.\n",
    "        c. Duplicate the tuple named my_tuple 2 times and store that in ‘newdupli’."
   ]
  },
  {
   "cell_type": "code",
   "execution_count": 17,
   "id": "51347c79",
   "metadata": {},
   "outputs": [
    {
     "data": {
      "text/plain": [
       "10"
      ]
     },
     "execution_count": 17,
     "metadata": {},
     "output_type": "execute_result"
    }
   ],
   "source": [
    "numeric_tuple = (10, 20, 30, 40, 50)\n",
    "min(numeric_tuple) "
   ]
  },
  {
   "cell_type": "code",
   "execution_count": 18,
   "id": "be45390d",
   "metadata": {},
   "outputs": [
    {
     "data": {
      "text/plain": [
       "(10, 20, 30, 40, 50, 1, 2, 3, 'apple', 'mango')"
      ]
     },
     "execution_count": 18,
     "metadata": {},
     "output_type": "execute_result"
    }
   ],
   "source": [
    "r1 = numeric_tuple + my_tuple\n",
    "r1"
   ]
  },
  {
   "cell_type": "code",
   "execution_count": 19,
   "id": "204c0b8d",
   "metadata": {},
   "outputs": [
    {
     "data": {
      "text/plain": [
       "(1, 2, 3, 'apple', 'mango', 1, 2, 3, 'apple', 'mango')"
      ]
     },
     "execution_count": 19,
     "metadata": {},
     "output_type": "execute_result"
    }
   ],
   "source": [
    "newdupli = ((my_tuple)*2)\n",
    "newdupli"
   ]
  },
  {
   "cell_type": "markdown",
   "id": "330e5991",
   "metadata": {},
   "source": [
    "### Tasks to be performed:\n",
    "\n",
    "5. Create 2 sets with name set1 and set2, where set1 contains{1,2,3,4,5} and set2 to contains{2,3,7,6,1}\n",
    "        a. Perform the below operation:\n",
    "            a. set1 union set2\n",
    "            b. set1 intersection set2 \n",
    "            c. set1 difference set2"
   ]
  },
  {
   "cell_type": "code",
   "execution_count": 22,
   "id": "64ee3425",
   "metadata": {},
   "outputs": [
    {
     "data": {
      "text/plain": [
       "{1, 2, 3, 4, 5, 6, 7}"
      ]
     },
     "execution_count": 22,
     "metadata": {},
     "output_type": "execute_result"
    }
   ],
   "source": [
    "set1 = {1,2,3,4,5}\n",
    "set2 = {2,3,7,6,1}\n",
    "\n",
    "res1 = set1.union(set2)\n",
    "res1"
   ]
  },
  {
   "cell_type": "code",
   "execution_count": 23,
   "id": "132ddb13",
   "metadata": {},
   "outputs": [
    {
     "data": {
      "text/plain": [
       "{1, 2, 3}"
      ]
     },
     "execution_count": 23,
     "metadata": {},
     "output_type": "execute_result"
    }
   ],
   "source": [
    "res2 = set1.intersection(set2)\n",
    "res2"
   ]
  },
  {
   "cell_type": "code",
   "execution_count": 25,
   "id": "ca3b082d",
   "metadata": {},
   "outputs": [
    {
     "data": {
      "text/plain": [
       "{4, 5}"
      ]
     },
     "execution_count": 25,
     "metadata": {},
     "output_type": "execute_result"
    }
   ],
   "source": [
    "res3 = set1.difference(set2)\n",
    "res3"
   ]
  }
 ],
 "metadata": {
  "kernelspec": {
   "display_name": "Python 3 (ipykernel)",
   "language": "python",
   "name": "python3"
  },
  "language_info": {
   "codemirror_mode": {
    "name": "ipython",
    "version": 3
   },
   "file_extension": ".py",
   "mimetype": "text/x-python",
   "name": "python",
   "nbconvert_exporter": "python",
   "pygments_lexer": "ipython3",
   "version": "3.9.7"
  }
 },
 "nbformat": 4,
 "nbformat_minor": 5
}

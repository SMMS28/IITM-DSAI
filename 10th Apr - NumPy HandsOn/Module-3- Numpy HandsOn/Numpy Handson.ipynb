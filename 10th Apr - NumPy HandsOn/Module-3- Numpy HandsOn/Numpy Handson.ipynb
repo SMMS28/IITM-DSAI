{
 "cells": [
  {
   "cell_type": "code",
   "execution_count": 59,
   "id": "d26e98d1",
   "metadata": {},
   "outputs": [],
   "source": [
    "#Empty tuple will provide you type as tuple only\n",
    "#But if there is single element you are putting at the time of assigning the tuple.\n",
    "#Then it is must to provide comma after that, because without comma if single element will be there,\n",
    "#It will consider the data type of that element and not create a tuple.\n",
    "\n",
    "t = (1,)"
   ]
  },
  {
   "cell_type": "code",
   "execution_count": 60,
   "id": "338afc24",
   "metadata": {},
   "outputs": [
    {
     "data": {
      "text/plain": [
       "tuple"
      ]
     },
     "execution_count": 60,
     "metadata": {},
     "output_type": "execute_result"
    }
   ],
   "source": [
    "type(t)"
   ]
  },
  {
   "cell_type": "code",
   "execution_count": 61,
   "id": "5ca1f7b6",
   "metadata": {},
   "outputs": [
    {
     "name": "stdout",
     "output_type": "stream",
     "text": [
      "(1,)\n"
     ]
    }
   ],
   "source": [
    "print(t)"
   ]
  },
  {
   "cell_type": "code",
   "execution_count": null,
   "id": "e35b34c1",
   "metadata": {},
   "outputs": [],
   "source": [
    "pip install numpy"
   ]
  },
  {
   "cell_type": "code",
   "execution_count": 137,
   "id": "feaeeee9",
   "metadata": {},
   "outputs": [],
   "source": [
    "# Create a numpy array with numpy.array module and with a data type integer and float.\n",
    "\n",
    "import numpy as np\n",
    "\n",
    "arr = np.array([1,2,3,4,5.5,6.5])"
   ]
  },
  {
   "cell_type": "code",
   "execution_count": 138,
   "id": "72f8faa4",
   "metadata": {},
   "outputs": [
    {
     "name": "stdout",
     "output_type": "stream",
     "text": [
      "[1.  2.  3.  4.  5.5 6.5]\n"
     ]
    }
   ],
   "source": [
    "print(arr)"
   ]
  },
  {
   "cell_type": "code",
   "execution_count": 139,
   "id": "c00870db",
   "metadata": {},
   "outputs": [
    {
     "name": "stdout",
     "output_type": "stream",
     "text": [
      "float64\n"
     ]
    }
   ],
   "source": [
    "print(arr.dtype)"
   ]
  },
  {
   "cell_type": "code",
   "execution_count": 17,
   "id": "2661a3b7",
   "metadata": {},
   "outputs": [],
   "source": [
    "arr1 = np.array([1,2,3,4,5,6.2])"
   ]
  },
  {
   "cell_type": "code",
   "execution_count": 18,
   "id": "710e95aa",
   "metadata": {},
   "outputs": [
    {
     "name": "stdout",
     "output_type": "stream",
     "text": [
      "[1.  2.  3.  4.  5.  6.2]\n"
     ]
    }
   ],
   "source": [
    "print(arr1)"
   ]
  },
  {
   "cell_type": "code",
   "execution_count": 21,
   "id": "47e5d017",
   "metadata": {},
   "outputs": [
    {
     "name": "stdout",
     "output_type": "stream",
     "text": [
      "[1 2 3 4 5 6]\n"
     ]
    }
   ],
   "source": [
    "arr3 = np.array([1,2,3,4,5,6])\n",
    "print(arr3)\n",
    "\n",
    "a = arr3.astype('f')"
   ]
  },
  {
   "cell_type": "code",
   "execution_count": 20,
   "id": "bc86c32e",
   "metadata": {},
   "outputs": [
    {
     "name": "stdout",
     "output_type": "stream",
     "text": [
      "[1. 2. 3. 4. 5. 6.]\n"
     ]
    }
   ],
   "source": [
    "print(a)"
   ]
  },
  {
   "cell_type": "code",
   "execution_count": 186,
   "id": "b4499746",
   "metadata": {},
   "outputs": [
    {
     "name": "stdout",
     "output_type": "stream",
     "text": [
      "[2 4 5 6 7 8]\n"
     ]
    }
   ],
   "source": [
    "arr4 = np.array([2,4.2,5,6.6,7.3,8], dtype='i')\n",
    "print(arr4)"
   ]
  },
  {
   "cell_type": "code",
   "execution_count": 38,
   "id": "f5bd9f91",
   "metadata": {},
   "outputs": [
    {
     "name": "stdout",
     "output_type": "stream",
     "text": [
      "122\n"
     ]
    }
   ],
   "source": [
    "# Create numpy arrays that have zero, one, two, three, Four dimensions respectively.\n",
    "# Also, print the shape and dimensions of the numpy arrays created above.\n",
    "\n",
    "'''\n",
    "0d, 1d, 2d, 3d, 4d\n",
    "\n",
    "() - Zero Dimension\n",
    "\n",
    "(2) - One Dimension\n",
    "\n",
    "(2, 3)  - Two Dimension\n",
    "\n",
    "(2, 3, 4)  - Three Dimension\n",
    "\n",
    "(2, 3, 4, 5) - Four Dimension\n",
    "'''\n",
    "\n",
    "#Zero Dimension\n",
    "ar1 = np.array(122)\n",
    "print(ar1)"
   ]
  },
  {
   "cell_type": "code",
   "execution_count": 39,
   "id": "4895939a",
   "metadata": {},
   "outputs": [
    {
     "name": "stdout",
     "output_type": "stream",
     "text": [
      "Shape : ()\n"
     ]
    }
   ],
   "source": [
    "print(\"Shape :\",ar1.shape)"
   ]
  },
  {
   "cell_type": "code",
   "execution_count": 40,
   "id": "b7ae50eb",
   "metadata": {},
   "outputs": [
    {
     "name": "stdout",
     "output_type": "stream",
     "text": [
      "Dimension : 0\n"
     ]
    }
   ],
   "source": [
    "print(\"Dimension :\",ar1.ndim)"
   ]
  },
  {
   "cell_type": "code",
   "execution_count": 44,
   "id": "32a28066",
   "metadata": {},
   "outputs": [
    {
     "name": "stdout",
     "output_type": "stream",
     "text": [
      "[ 2  4  8 10 45]\n"
     ]
    }
   ],
   "source": [
    "#One Dimension\n",
    "ar1 = np.array([2,4,8,10,45])\n",
    "print(ar1)"
   ]
  },
  {
   "cell_type": "code",
   "execution_count": 45,
   "id": "d602e06f",
   "metadata": {},
   "outputs": [
    {
     "name": "stdout",
     "output_type": "stream",
     "text": [
      "Shape : (5,)\n"
     ]
    }
   ],
   "source": [
    "print(\"Shape :\",ar1.shape)"
   ]
  },
  {
   "cell_type": "code",
   "execution_count": 46,
   "id": "b47b929b",
   "metadata": {},
   "outputs": [
    {
     "name": "stdout",
     "output_type": "stream",
     "text": [
      "Dimension : 1\n"
     ]
    }
   ],
   "source": [
    "print(\"Dimension :\",ar1.ndim)"
   ]
  },
  {
   "cell_type": "code",
   "execution_count": 47,
   "id": "d96edb65",
   "metadata": {},
   "outputs": [
    {
     "name": "stdout",
     "output_type": "stream",
     "text": [
      "[[2 4 8]\n",
      " [3 6 9]]\n"
     ]
    }
   ],
   "source": [
    "#Two Dimension\n",
    "ar1 = np.array([[2,4,8],[3,6,9]])\n",
    "print(ar1)"
   ]
  },
  {
   "cell_type": "code",
   "execution_count": 48,
   "id": "25b8f52c",
   "metadata": {},
   "outputs": [
    {
     "name": "stdout",
     "output_type": "stream",
     "text": [
      "Shape : (2, 3)\n"
     ]
    }
   ],
   "source": [
    "print(\"Shape :\",ar1.shape)"
   ]
  },
  {
   "cell_type": "code",
   "execution_count": 49,
   "id": "9ecbe0c1",
   "metadata": {},
   "outputs": [
    {
     "name": "stdout",
     "output_type": "stream",
     "text": [
      "Dimension : 2\n"
     ]
    }
   ],
   "source": [
    "print(\"Dimension :\",ar1.ndim)"
   ]
  },
  {
   "cell_type": "code",
   "execution_count": 67,
   "id": "f1a991d9",
   "metadata": {},
   "outputs": [
    {
     "name": "stdout",
     "output_type": "stream",
     "text": [
      "[[[ 2  4  8]\n",
      "  [ 3  6  9]\n",
      "  [ 4  8 12]]]\n"
     ]
    }
   ],
   "source": [
    "#Three Dimension\n",
    "ar1 = np.array([[[2,4,8],[3,6,9],[4,8,12]]])\n",
    "print(ar1)"
   ]
  },
  {
   "cell_type": "code",
   "execution_count": 68,
   "id": "50811f2b",
   "metadata": {},
   "outputs": [
    {
     "name": "stdout",
     "output_type": "stream",
     "text": [
      "Shape : (1, 3, 3)\n"
     ]
    }
   ],
   "source": [
    "print(\"Shape :\",ar1.shape)"
   ]
  },
  {
   "cell_type": "code",
   "execution_count": 69,
   "id": "9507eb7e",
   "metadata": {},
   "outputs": [
    {
     "name": "stdout",
     "output_type": "stream",
     "text": [
      "Dimension : 3\n"
     ]
    }
   ],
   "source": [
    "print(\"Dimension :\",ar1.ndim)"
   ]
  },
  {
   "cell_type": "code",
   "execution_count": 102,
   "id": "be165ac6",
   "metadata": {},
   "outputs": [
    {
     "name": "stdout",
     "output_type": "stream",
     "text": [
      "[[[1233]]]\n"
     ]
    }
   ],
   "source": [
    "#Three Dimension\n",
    "ar1 = np.array([1233],ndmin = 3)\n",
    "print(ar1)"
   ]
  },
  {
   "cell_type": "code",
   "execution_count": 103,
   "id": "41409a6b",
   "metadata": {},
   "outputs": [
    {
     "name": "stdout",
     "output_type": "stream",
     "text": [
      "(1, 1, 1)\n"
     ]
    }
   ],
   "source": [
    "print(ar1.shape)"
   ]
  },
  {
   "cell_type": "code",
   "execution_count": 104,
   "id": "59846c44",
   "metadata": {},
   "outputs": [
    {
     "name": "stdout",
     "output_type": "stream",
     "text": [
      "Dimension : 3\n"
     ]
    }
   ],
   "source": [
    "print(\"Dimension :\",ar1.ndim)"
   ]
  },
  {
   "cell_type": "code",
   "execution_count": 98,
   "id": "031e0c50",
   "metadata": {},
   "outputs": [
    {
     "name": "stdout",
     "output_type": "stream",
     "text": [
      "[[[[1233]]]]\n"
     ]
    }
   ],
   "source": [
    "#Four Dimension\n",
    "ar1 = np.array([[[[1233]]]])\n",
    "print(ar1)"
   ]
  },
  {
   "cell_type": "code",
   "execution_count": 99,
   "id": "cfa78a85",
   "metadata": {},
   "outputs": [
    {
     "name": "stdout",
     "output_type": "stream",
     "text": [
      "Dimension : 4\n"
     ]
    }
   ],
   "source": [
    "print(\"Dimension :\",ar1.ndim)"
   ]
  },
  {
   "cell_type": "code",
   "execution_count": 100,
   "id": "703d1a7f",
   "metadata": {},
   "outputs": [
    {
     "name": "stdout",
     "output_type": "stream",
     "text": [
      "Shape : (1, 1, 1, 1)\n"
     ]
    }
   ],
   "source": [
    "print(\"Shape :\",ar1.shape)"
   ]
  },
  {
   "cell_type": "code",
   "execution_count": 108,
   "id": "6336a346",
   "metadata": {},
   "outputs": [],
   "source": [
    "# Create a 2x2, 3x3, and 4x4 identity matrix using numpy.\n",
    "\n",
    "arr1 = np.identity(2, dtype=\"i\")"
   ]
  },
  {
   "cell_type": "code",
   "execution_count": 109,
   "id": "b6605615",
   "metadata": {},
   "outputs": [
    {
     "name": "stdout",
     "output_type": "stream",
     "text": [
      "[[1 0]\n",
      " [0 1]]\n"
     ]
    }
   ],
   "source": [
    "print(arr1)"
   ]
  },
  {
   "cell_type": "code",
   "execution_count": 110,
   "id": "c55e41ac",
   "metadata": {},
   "outputs": [
    {
     "name": "stdout",
     "output_type": "stream",
     "text": [
      "int32\n"
     ]
    }
   ],
   "source": [
    "print(arr1.dtype)"
   ]
  },
  {
   "cell_type": "code",
   "execution_count": 111,
   "id": "bc3581c1",
   "metadata": {},
   "outputs": [],
   "source": [
    "arr1 = np.identity(3, dtype=\"i\")"
   ]
  },
  {
   "cell_type": "code",
   "execution_count": 112,
   "id": "ccc24560",
   "metadata": {},
   "outputs": [
    {
     "name": "stdout",
     "output_type": "stream",
     "text": [
      "[[1 0 0]\n",
      " [0 1 0]\n",
      " [0 0 1]]\n"
     ]
    }
   ],
   "source": [
    "print(arr1)"
   ]
  },
  {
   "cell_type": "code",
   "execution_count": 113,
   "id": "13e6412c",
   "metadata": {},
   "outputs": [],
   "source": [
    "arr1 = np.identity(4, dtype=\"i\")"
   ]
  },
  {
   "cell_type": "code",
   "execution_count": 115,
   "id": "89bef57f",
   "metadata": {},
   "outputs": [
    {
     "name": "stdout",
     "output_type": "stream",
     "text": [
      "[[1 0 0 0]\n",
      " [0 1 0 0]\n",
      " [0 0 1 0]\n",
      " [0 0 0 1]]\n"
     ]
    }
   ],
   "source": [
    "print(arr1)"
   ]
  },
  {
   "cell_type": "code",
   "execution_count": 124,
   "id": "18166814",
   "metadata": {},
   "outputs": [],
   "source": [
    "# Create a numpy array with shape 2x5 that has all the elements as zero.\n",
    "\n",
    "a = np.zeros((2,5), dtype='i')"
   ]
  },
  {
   "cell_type": "code",
   "execution_count": 125,
   "id": "445e2ab8",
   "metadata": {},
   "outputs": [
    {
     "name": "stdout",
     "output_type": "stream",
     "text": [
      "[[0 0 0 0 0]\n",
      " [0 0 0 0 0]]\n"
     ]
    }
   ],
   "source": [
    "print(a)"
   ]
  },
  {
   "cell_type": "code",
   "execution_count": 126,
   "id": "cc23b62e",
   "metadata": {},
   "outputs": [],
   "source": [
    "a = np.array([[0, 0, 0, 0, 0], [0,0 ,0, 0,0]])"
   ]
  },
  {
   "cell_type": "code",
   "execution_count": 127,
   "id": "3e211dbf",
   "metadata": {},
   "outputs": [
    {
     "name": "stdout",
     "output_type": "stream",
     "text": [
      "[[0 0 0 0 0]\n",
      " [0 0 0 0 0]]\n"
     ]
    }
   ],
   "source": [
    "print(a)"
   ]
  },
  {
   "cell_type": "code",
   "execution_count": 167,
   "id": "54035ee7",
   "metadata": {},
   "outputs": [],
   "source": [
    "# Create a numpy array that has the shape 3x5 and all the elements are 5.\n",
    "\n",
    "arr1 = np.full((3,5), 5)"
   ]
  },
  {
   "cell_type": "code",
   "execution_count": 168,
   "id": "ae9d27f1",
   "metadata": {},
   "outputs": [
    {
     "name": "stdout",
     "output_type": "stream",
     "text": [
      "[[5 5 5 5 5]\n",
      " [5 5 5 5 5]\n",
      " [5 5 5 5 5]]\n"
     ]
    }
   ],
   "source": [
    "print(arr1)"
   ]
  },
  {
   "cell_type": "code",
   "execution_count": 169,
   "id": "7b66a2eb",
   "metadata": {},
   "outputs": [
    {
     "name": "stdout",
     "output_type": "stream",
     "text": [
      "int32\n"
     ]
    }
   ],
   "source": [
    "print(arr1.dtype)"
   ]
  },
  {
   "cell_type": "code",
   "execution_count": 207,
   "id": "05ee2cbc",
   "metadata": {},
   "outputs": [],
   "source": [
    "#To convert dtype in String\n",
    "\n",
    "arr1 = np.full((3,5), \"ABCD\", dtype=\"S\")"
   ]
  },
  {
   "cell_type": "code",
   "execution_count": 208,
   "id": "09b85d5b",
   "metadata": {},
   "outputs": [
    {
     "name": "stdout",
     "output_type": "stream",
     "text": [
      "[[b'A' b'A' b'A' b'A' b'A']\n",
      " [b'A' b'A' b'A' b'A' b'A']\n",
      " [b'A' b'A' b'A' b'A' b'A']]\n"
     ]
    }
   ],
   "source": [
    "print(arr1)"
   ]
  },
  {
   "cell_type": "code",
   "execution_count": 172,
   "id": "c66d1d3f",
   "metadata": {},
   "outputs": [
    {
     "name": "stdout",
     "output_type": "stream",
     "text": [
      "|S1\n"
     ]
    }
   ],
   "source": [
    "print(arr1.dtype)"
   ]
  },
  {
   "cell_type": "code",
   "execution_count": 209,
   "id": "5863c4a9",
   "metadata": {},
   "outputs": [
    {
     "name": "stdout",
     "output_type": "stream",
     "text": [
      "[['A' 'A' 'A' 'A' 'A']\n",
      " ['A' 'A' 'A' 'A' 'A']\n",
      " ['A' 'A' 'A' 'A' 'A']]\n",
      "<U1\n"
     ]
    }
   ],
   "source": [
    "#To convert dtype in unicode string\n",
    "\n",
    "arr1 = np.full((3,5), \"ABC\", dtype=\"U\")\n",
    "\n",
    "print(arr1)\n",
    "\n",
    "print(arr1.dtype)"
   ]
  },
  {
   "cell_type": "code",
   "execution_count": 210,
   "id": "8b9e44d1",
   "metadata": {},
   "outputs": [
    {
     "name": "stdout",
     "output_type": "stream",
     "text": [
      "[[5. 5. 5. 5. 5.]\n",
      " [5. 5. 5. 5. 5.]\n",
      " [5. 5. 5. 5. 5.]]\n",
      "float32\n"
     ]
    }
   ],
   "source": [
    "#To convert dtype in float\n",
    "\n",
    "arr1 = np.full((3,5), 5, dtype=\"f\")\n",
    "\n",
    "print(arr1)\n",
    "\n",
    "print(arr1.dtype)"
   ]
  },
  {
   "cell_type": "code",
   "execution_count": 197,
   "id": "f56cab8d",
   "metadata": {},
   "outputs": [
    {
     "name": "stdout",
     "output_type": "stream",
     "text": [
      "[[5 5 5 5 5]\n",
      " [5 5 5 5 5]\n",
      " [5 5 5 5 5]]\n",
      "int8\n"
     ]
    }
   ],
   "source": [
    "#To convert dtype in boolean we use 'b'\n",
    "\n",
    "arr1 = np.full((3,5), 5, dtype=\"b\")\n",
    "\n",
    "print(arr1)\n",
    "\n",
    "print(arr1.dtype)"
   ]
  },
  {
   "cell_type": "code",
   "execution_count": 203,
   "id": "037c0100",
   "metadata": {},
   "outputs": [
    {
     "name": "stdout",
     "output_type": "stream",
     "text": [
      "[[b'a' b'a' b'a' b'a' b'a']\n",
      " [b'a' b'a' b'a' b'a' b'a']\n",
      " [b'a' b'a' b'a' b'a' b'a']]\n",
      "|S1\n"
     ]
    }
   ],
   "source": [
    "#To convert dtype in complex we use 'c'\n",
    "\n",
    "arr1 = np.full((3,5), 'a', dtype=\"c\")\n",
    "\n",
    "print(arr1)\n",
    "\n",
    "print(arr1.dtype)"
   ]
  },
  {
   "cell_type": "code",
   "execution_count": 212,
   "id": "7007688d",
   "metadata": {},
   "outputs": [],
   "source": [
    "#Create a numpy array with random integers in the range 0-100, and the sample size should be 25.\n",
    "\n",
    "#b=np.arange(0,100,4)"
   ]
  },
  {
   "cell_type": "code",
   "execution_count": 234,
   "id": "43b59185",
   "metadata": {},
   "outputs": [],
   "source": [
    "#print(b)"
   ]
  },
  {
   "cell_type": "code",
   "execution_count": 239,
   "id": "6a5ebf2e",
   "metadata": {},
   "outputs": [],
   "source": [
    "arr = np.random.randint(0,100,25)"
   ]
  },
  {
   "cell_type": "code",
   "execution_count": 240,
   "id": "50489fac",
   "metadata": {},
   "outputs": [
    {
     "name": "stdout",
     "output_type": "stream",
     "text": [
      "[62 45 58 71 24 79  3 48 46  4 96 89 85 36 34 43 79 99 58 42 91 72  4 83\n",
      " 38]\n"
     ]
    }
   ],
   "source": [
    "print(arr)"
   ]
  },
  {
   "cell_type": "code",
   "execution_count": 243,
   "id": "c8f6621d",
   "metadata": {},
   "outputs": [],
   "source": [
    "# Create a numpy array with a shape 3x3 that has all elements as 1.\n",
    "\n",
    "arr = np.ones((3,3), dtype=\"i\")"
   ]
  },
  {
   "cell_type": "code",
   "execution_count": 244,
   "id": "8a738fcf",
   "metadata": {},
   "outputs": [
    {
     "name": "stdout",
     "output_type": "stream",
     "text": [
      "[[1 1 1]\n",
      " [1 1 1]\n",
      " [1 1 1]]\n"
     ]
    }
   ],
   "source": [
    "print(arr)"
   ]
  },
  {
   "cell_type": "code",
   "execution_count": 245,
   "id": "d9962026",
   "metadata": {},
   "outputs": [],
   "source": [
    "arr1 = np.full((3,3), 1)"
   ]
  },
  {
   "cell_type": "code",
   "execution_count": 246,
   "id": "8845aacd",
   "metadata": {},
   "outputs": [
    {
     "name": "stdout",
     "output_type": "stream",
     "text": [
      "[[1 1 1]\n",
      " [1 1 1]\n",
      " [1 1 1]]\n"
     ]
    }
   ],
   "source": [
    "print(arr1)"
   ]
  },
  {
   "cell_type": "code",
   "execution_count": 248,
   "id": "11bcc364",
   "metadata": {},
   "outputs": [],
   "source": [
    "# Create a numpy array in the shape 2x3 with random integers in the range 0-100.\n",
    "# Reshape the array in the shape 3x2 and print the updated shape of the resultant array\n",
    "\n",
    "arr1 = np.random.randint(0,100,(2,3))"
   ]
  },
  {
   "cell_type": "code",
   "execution_count": 249,
   "id": "4dde681d",
   "metadata": {},
   "outputs": [
    {
     "name": "stdout",
     "output_type": "stream",
     "text": [
      "[[52 47 21]\n",
      " [26 80 65]]\n"
     ]
    }
   ],
   "source": [
    "print(arr1)"
   ]
  },
  {
   "cell_type": "code",
   "execution_count": 251,
   "id": "7e5ff8b1",
   "metadata": {},
   "outputs": [],
   "source": [
    "a = arr1.reshape(3,2)"
   ]
  },
  {
   "cell_type": "code",
   "execution_count": 252,
   "id": "f246e674",
   "metadata": {},
   "outputs": [
    {
     "name": "stdout",
     "output_type": "stream",
     "text": [
      "[[52 47]\n",
      " [21 26]\n",
      " [80 65]]\n"
     ]
    }
   ],
   "source": [
    "#Updated Shape of the resultant array\n",
    "\n",
    "print(a)"
   ]
  },
  {
   "cell_type": "code",
   "execution_count": 253,
   "id": "3c23538c",
   "metadata": {},
   "outputs": [
    {
     "name": "stdout",
     "output_type": "stream",
     "text": [
      "(3, 2)\n"
     ]
    }
   ],
   "source": [
    "print(a.shape)"
   ]
  },
  {
   "cell_type": "code",
   "execution_count": 267,
   "id": "d2c78edc",
   "metadata": {},
   "outputs": [],
   "source": [
    "'''\n",
    "Create a numpy array, with the range 0-1000, with a step 2. Perform the\n",
    "following operations on the same.\n",
    "\n",
    "a. Print the first ten elements of the array.\n",
    "b. Print the last ten elements of the array\n",
    "c. Print the elements from the indexes 10-25\n",
    "d. Print the element at the index 22\n",
    "e. Print the array using negative indexing.\n",
    "#f. Print the last ten elements of the array, using negative indexing\n",
    "'''\n",
    "\n",
    "arr1 = np.arange(0, 1000, 2) #Here start = 0, stop = 1000, step = 2"
   ]
  },
  {
   "cell_type": "code",
   "execution_count": 268,
   "id": "96ce64fa",
   "metadata": {},
   "outputs": [
    {
     "name": "stdout",
     "output_type": "stream",
     "text": [
      "[  0   2   4   6   8  10  12  14  16  18  20  22  24  26  28  30  32  34\n",
      "  36  38  40  42  44  46  48  50  52  54  56  58  60  62  64  66  68  70\n",
      "  72  74  76  78  80  82  84  86  88  90  92  94  96  98 100 102 104 106\n",
      " 108 110 112 114 116 118 120 122 124 126 128 130 132 134 136 138 140 142\n",
      " 144 146 148 150 152 154 156 158 160 162 164 166 168 170 172 174 176 178\n",
      " 180 182 184 186 188 190 192 194 196 198 200 202 204 206 208 210 212 214\n",
      " 216 218 220 222 224 226 228 230 232 234 236 238 240 242 244 246 248 250\n",
      " 252 254 256 258 260 262 264 266 268 270 272 274 276 278 280 282 284 286\n",
      " 288 290 292 294 296 298 300 302 304 306 308 310 312 314 316 318 320 322\n",
      " 324 326 328 330 332 334 336 338 340 342 344 346 348 350 352 354 356 358\n",
      " 360 362 364 366 368 370 372 374 376 378 380 382 384 386 388 390 392 394\n",
      " 396 398 400 402 404 406 408 410 412 414 416 418 420 422 424 426 428 430\n",
      " 432 434 436 438 440 442 444 446 448 450 452 454 456 458 460 462 464 466\n",
      " 468 470 472 474 476 478 480 482 484 486 488 490 492 494 496 498 500 502\n",
      " 504 506 508 510 512 514 516 518 520 522 524 526 528 530 532 534 536 538\n",
      " 540 542 544 546 548 550 552 554 556 558 560 562 564 566 568 570 572 574\n",
      " 576 578 580 582 584 586 588 590 592 594 596 598 600 602 604 606 608 610\n",
      " 612 614 616 618 620 622 624 626 628 630 632 634 636 638 640 642 644 646\n",
      " 648 650 652 654 656 658 660 662 664 666 668 670 672 674 676 678 680 682\n",
      " 684 686 688 690 692 694 696 698 700 702 704 706 708 710 712 714 716 718\n",
      " 720 722 724 726 728 730 732 734 736 738 740 742 744 746 748 750 752 754\n",
      " 756 758 760 762 764 766 768 770 772 774 776 778 780 782 784 786 788 790\n",
      " 792 794 796 798 800 802 804 806 808 810 812 814 816 818 820 822 824 826\n",
      " 828 830 832 834 836 838 840 842 844 846 848 850 852 854 856 858 860 862\n",
      " 864 866 868 870 872 874 876 878 880 882 884 886 888 890 892 894 896 898\n",
      " 900 902 904 906 908 910 912 914 916 918 920 922 924 926 928 930 932 934\n",
      " 936 938 940 942 944 946 948 950 952 954 956 958 960 962 964 966 968 970\n",
      " 972 974 976 978 980 982 984 986 988 990 992 994 996 998]\n"
     ]
    }
   ],
   "source": [
    "print(arr1)"
   ]
  },
  {
   "cell_type": "code",
   "execution_count": 270,
   "id": "23fc2bf6",
   "metadata": {},
   "outputs": [
    {
     "name": "stdout",
     "output_type": "stream",
     "text": [
      "[ 0  2  4  6  8 10 12 14 16 18]\n"
     ]
    }
   ],
   "source": [
    "print(arr1[0:10])"
   ]
  },
  {
   "cell_type": "code",
   "execution_count": 283,
   "id": "aea4e8b7",
   "metadata": {},
   "outputs": [
    {
     "name": "stdout",
     "output_type": "stream",
     "text": [
      "[980 982 984 986 988 990 992 994 996 998]\n",
      "[998 996 994 992 990 988 986 984 982 980]\n"
     ]
    }
   ],
   "source": [
    "print(arr1[-10:])\n",
    "print(arr1[-1:-11:-1]) #Last 10 digits"
   ]
  },
  {
   "cell_type": "code",
   "execution_count": 278,
   "id": "0e65fd30",
   "metadata": {},
   "outputs": [
    {
     "name": "stdout",
     "output_type": "stream",
     "text": [
      "[20 22 24 26 28 30 32 34 36 38 40 42 44 46 48 50]\n"
     ]
    }
   ],
   "source": [
    "print(arr1[10:26]) #stop is 26, it will go till 25th index"
   ]
  },
  {
   "cell_type": "code",
   "execution_count": 279,
   "id": "1b262f49",
   "metadata": {},
   "outputs": [
    {
     "name": "stdout",
     "output_type": "stream",
     "text": [
      "44\n"
     ]
    }
   ],
   "source": [
    "print(arr1[22])"
   ]
  },
  {
   "cell_type": "code",
   "execution_count": 288,
   "id": "4eae1e0c",
   "metadata": {},
   "outputs": [
    {
     "name": "stdout",
     "output_type": "stream",
     "text": [
      "[998 996 994 992 990 988 986 984 982 980 978 976 974 972 970 968 966 964\n",
      " 962 960 958 956 954 952 950 948 946 944 942 940 938 936 934 932 930 928\n",
      " 926 924 922 920 918 916 914 912 910 908 906 904 902 900 898 896 894 892\n",
      " 890 888 886 884 882 880 878 876 874 872 870 868 866 864 862 860 858 856\n",
      " 854 852 850 848 846 844 842 840 838 836 834 832 830 828 826 824 822 820\n",
      " 818 816 814 812 810 808 806 804 802 800 798 796 794 792 790 788 786 784\n",
      " 782 780 778 776 774 772 770 768 766 764 762 760 758 756 754 752 750 748\n",
      " 746 744 742 740 738 736 734 732 730 728 726 724 722 720 718 716 714 712\n",
      " 710 708 706 704 702 700 698 696 694 692 690 688 686 684 682 680 678 676\n",
      " 674 672 670 668 666 664 662 660 658 656 654 652 650 648 646 644 642 640\n",
      " 638 636 634 632 630 628 626 624 622 620 618 616 614 612 610 608 606 604\n",
      " 602 600 598 596 594 592 590 588 586 584 582 580 578 576 574 572 570 568\n",
      " 566 564 562 560 558 556 554 552 550 548 546 544 542 540 538 536 534 532\n",
      " 530 528 526 524 522 520 518 516 514 512 510 508 506 504 502 500 498 496\n",
      " 494 492 490 488 486 484 482 480 478 476 474 472 470 468 466 464 462 460\n",
      " 458 456 454 452 450 448 446 444 442 440 438 436 434 432 430 428 426 424\n",
      " 422 420 418 416 414 412 410 408 406 404 402 400 398 396 394 392 390 388\n",
      " 386 384 382 380 378 376 374 372 370 368 366 364 362 360 358 356 354 352\n",
      " 350 348 346 344 342 340 338 336 334 332 330 328 326 324 322 320 318 316\n",
      " 314 312 310 308 306 304 302 300 298 296 294 292 290 288 286 284 282 280\n",
      " 278 276 274 272 270 268 266 264 262 260 258 256 254 252 250 248 246 244\n",
      " 242 240 238 236 234 232 230 228 226 224 222 220 218 216 214 212 210 208\n",
      " 206 204 202 200 198 196 194 192 190 188 186 184 182 180 178 176 174 172\n",
      " 170 168 166 164 162 160 158 156 154 152 150 148 146 144 142 140 138 136\n",
      " 134 132 130 128 126 124 122 120 118 116 114 112 110 108 106 104 102 100\n",
      "  98  96  94  92  90  88  86  84  82  80  78  76  74  72  70  68  66  64\n",
      "  62  60  58  56  54  52  50  48  46  44  42  40  38  36  34  32  30  28\n",
      "  26  24  22  20  18  16  14  12  10   8   6   4   2   0]\n"
     ]
    }
   ],
   "source": [
    "print(arr1[-1::-1]) #Here first -1 is start and last -1 is your step"
   ]
  },
  {
   "cell_type": "code",
   "execution_count": 290,
   "id": "0ff4d018",
   "metadata": {},
   "outputs": [
    {
     "name": "stdout",
     "output_type": "stream",
     "text": [
      "[  0   2   4   6   8  10  12  14  16  18  20  22  24  26  28  30  32  34\n",
      "  36  38  40  42  44  46  48  50  52  54  56  58  60  62  64  66  68  70\n",
      "  72  74  76  78  80  82  84  86  88  90  92  94  96  98 100 102 104 106\n",
      " 108 110 112 114 116 118 120 122 124 126 128 130 132 134 136 138 140 142\n",
      " 144 146 148 150 152 154 156 158 160 162 164 166 168 170 172 174 176 178\n",
      " 180 182 184 186 188 190 192 194 196 198 200 202 204 206 208 210 212 214\n",
      " 216 218 220 222 224 226 228 230 232 234 236 238 240 242 244 246 248 250\n",
      " 252 254 256 258 260 262 264 266 268 270 272 274 276 278 280 282 284 286\n",
      " 288 290 292 294 296 298 300 302 304 306 308 310 312 314 316 318 320 322\n",
      " 324 326 328 330 332 334 336 338 340 342 344 346 348 350 352 354 356 358\n",
      " 360 362 364 366 368 370 372 374 376 378 380 382 384 386 388 390 392 394\n",
      " 396 398 400 402 404 406 408 410 412 414 416 418 420 422 424 426 428 430\n",
      " 432 434 436 438 440 442 444 446 448 450 452 454 456 458 460 462 464 466\n",
      " 468 470 472 474 476 478 480 482 484 486 488 490 492 494 496 498 500 502\n",
      " 504 506 508 510 512 514 516 518 520 522 524 526 528 530 532 534 536 538\n",
      " 540 542 544 546 548 550 552 554 556 558 560 562 564 566 568 570 572 574\n",
      " 576 578 580 582 584 586 588 590 592 594 596 598 600 602 604 606 608 610\n",
      " 612 614 616 618 620 622 624 626 628 630 632 634 636 638 640 642 644 646\n",
      " 648 650 652 654 656 658 660 662 664 666 668 670 672 674 676 678 680 682\n",
      " 684 686 688 690 692 694 696 698 700 702 704 706 708 710 712 714 716 718\n",
      " 720 722 724 726 728 730 732 734 736 738 740 742 744 746 748 750 752 754\n",
      " 756 758 760 762 764 766 768 770 772 774 776 778 780 782 784 786 788 790\n",
      " 792 794 796 798 800 802 804 806 808 810 812 814 816 818 820 822 824 826\n",
      " 828 830 832 834 836 838 840 842 844 846 848 850 852 854 856 858 860 862\n",
      " 864 866 868 870 872 874 876 878 880 882 884 886 888 890 892 894 896 898\n",
      " 900 902 904 906 908 910 912 914 916 918 920 922 924 926 928 930 932 934\n",
      " 936 938 940 942 944 946 948 950 952 954 956 958 960 962 964 966 968 970\n",
      " 972 974 976 978 980 982 984 986 988 990 992 994 996 998]\n"
     ]
    }
   ],
   "source": [
    "print(arr1[:])"
   ]
  },
  {
   "cell_type": "code",
   "execution_count": 291,
   "id": "22a37df9",
   "metadata": {},
   "outputs": [],
   "source": [
    "'''\n",
    "Given a numpy array that has values = [1,2,3,4,5]. Perform the following operations.\n",
    "a. Insert the element 6 at the end of the array.\n",
    "b. Insert the element 10 at the beginning of the array.\n",
    "c. Insert the element 30, before 4.\n",
    "d. Update the element 5 as 50.\n",
    "e. Delete the element 50 in the updated array.\n",
    "f. Create a function to search for the element 30.\n",
    "g. Sort the array in ascending order.\n",
    "'''\n",
    "\n",
    "arr = np.array([1,2,3,4,5])"
   ]
  },
  {
   "cell_type": "code",
   "execution_count": 292,
   "id": "ef336a3d",
   "metadata": {},
   "outputs": [
    {
     "name": "stdout",
     "output_type": "stream",
     "text": [
      "[1 2 3 4 5]\n"
     ]
    }
   ],
   "source": [
    "print(arr)"
   ]
  },
  {
   "cell_type": "code",
   "execution_count": 293,
   "id": "79fbf4e3",
   "metadata": {},
   "outputs": [],
   "source": [
    "# Insert the element 6 at the end of the array.\n",
    "arr1 = np.append(arr,6)"
   ]
  },
  {
   "cell_type": "code",
   "execution_count": 294,
   "id": "42b47599",
   "metadata": {},
   "outputs": [
    {
     "name": "stdout",
     "output_type": "stream",
     "text": [
      "[1 2 3 4 5 6]\n"
     ]
    }
   ],
   "source": [
    "print(arr1)"
   ]
  },
  {
   "cell_type": "code",
   "execution_count": 295,
   "id": "ad972148",
   "metadata": {},
   "outputs": [],
   "source": [
    "# Insert the element 10 at the beginning of the array.\n",
    "arr1 = np.insert(arr1,0,10)"
   ]
  },
  {
   "cell_type": "code",
   "execution_count": 296,
   "id": "89215640",
   "metadata": {},
   "outputs": [
    {
     "name": "stdout",
     "output_type": "stream",
     "text": [
      "[10  1  2  3  4  5  6]\n"
     ]
    }
   ],
   "source": [
    "print(arr1)"
   ]
  },
  {
   "cell_type": "code",
   "execution_count": 297,
   "id": "24b67b63",
   "metadata": {},
   "outputs": [],
   "source": [
    "# Insert the element 30, before 4.\n",
    "\n",
    "arr1 = np.insert(arr1, 4, 30)"
   ]
  },
  {
   "cell_type": "code",
   "execution_count": 298,
   "id": "0adb99aa",
   "metadata": {},
   "outputs": [
    {
     "name": "stdout",
     "output_type": "stream",
     "text": [
      "[10  1  2  3 30  4  5  6]\n"
     ]
    }
   ],
   "source": [
    "print(arr1)"
   ]
  },
  {
   "cell_type": "code",
   "execution_count": 303,
   "id": "4fe7e1ed",
   "metadata": {},
   "outputs": [],
   "source": [
    "# Update the element 5 as 50.\n",
    "\n",
    "arr1[6] = 50"
   ]
  },
  {
   "cell_type": "code",
   "execution_count": 304,
   "id": "3bcaaa5b",
   "metadata": {},
   "outputs": [
    {
     "name": "stdout",
     "output_type": "stream",
     "text": [
      "[10  1  2  3 30  4 50  6]\n"
     ]
    }
   ],
   "source": [
    "print(arr1)"
   ]
  },
  {
   "cell_type": "code",
   "execution_count": 306,
   "id": "28d5bd5d",
   "metadata": {},
   "outputs": [],
   "source": [
    "# Delete the element 50 in the updated array.\n",
    "\n",
    "arr1 = np.delete(arr1,6)"
   ]
  },
  {
   "cell_type": "code",
   "execution_count": 307,
   "id": "027747bf",
   "metadata": {},
   "outputs": [
    {
     "name": "stdout",
     "output_type": "stream",
     "text": [
      "[10  1  2  3 30  4  6]\n"
     ]
    }
   ],
   "source": [
    "print(arr1)"
   ]
  },
  {
   "cell_type": "code",
   "execution_count": 312,
   "id": "5e2346e7",
   "metadata": {},
   "outputs": [
    {
     "name": "stdout",
     "output_type": "stream",
     "text": [
      "Searched 30\n"
     ]
    }
   ],
   "source": [
    "# Create a function to search for the element 30.\n",
    "\n",
    "for i in arr1:\n",
    "    if i == 30:\n",
    "        print(\"Searched\",i)"
   ]
  },
  {
   "cell_type": "code",
   "execution_count": 313,
   "id": "f5841548",
   "metadata": {},
   "outputs": [
    {
     "name": "stdout",
     "output_type": "stream",
     "text": [
      "[ 1  2  3  4  6 10 30]\n"
     ]
    }
   ],
   "source": [
    "#Sort the array in ascending order.\n",
    "\n",
    "print(np.sort(arr1))"
   ]
  },
  {
   "cell_type": "code",
   "execution_count": 316,
   "id": "288d0c3e",
   "metadata": {},
   "outputs": [],
   "source": [
    "#For Descending Order\n",
    "arr2 = np.sort(arr1) [::-1]"
   ]
  },
  {
   "cell_type": "code",
   "execution_count": 317,
   "id": "31f10b11",
   "metadata": {},
   "outputs": [
    {
     "name": "stdout",
     "output_type": "stream",
     "text": [
      "[30 10  6  4  3  2  1]\n"
     ]
    }
   ],
   "source": [
    "print(arr2)"
   ]
  },
  {
   "cell_type": "code",
   "execution_count": null,
   "id": "8ceb3670",
   "metadata": {},
   "outputs": [],
   "source": []
  }
 ],
 "metadata": {
  "kernelspec": {
   "display_name": "Python 3 (ipykernel)",
   "language": "python",
   "name": "python3"
  },
  "language_info": {
   "codemirror_mode": {
    "name": "ipython",
    "version": 3
   },
   "file_extension": ".py",
   "mimetype": "text/x-python",
   "name": "python",
   "nbconvert_exporter": "python",
   "pygments_lexer": "ipython3",
   "version": "3.9.7"
  }
 },
 "nbformat": 4,
 "nbformat_minor": 5
}

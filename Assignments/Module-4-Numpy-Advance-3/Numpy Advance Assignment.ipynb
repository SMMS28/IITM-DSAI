{
 "cells": [
  {
   "cell_type": "markdown",
   "id": "8dde74f7",
   "metadata": {},
   "source": [
    "# Numpy Advance Assignment\n",
    "\n",
    "## Module-4-Numpy-Advance-3\n",
    "\n",
    "### Module 4: Numpy Assignment\n",
    "\n",
    "#### Problem Statement:\n",
    "\n",
    "You work in XYZ Company as a Python. The company officials want you to build a python program.\n",
    "\n",
    "#### Tasks to be performed:\n",
    "1. Create a function that takes dimensions as tuples e.g.(3, 3) and a numeric value and returns a Numpy array of the given dimension filled with the given value e.g.: solve((3, 3), 5) will return \n",
    "[\n",
    " [5, 5, 5],\n",
    " [5, 5, 5],\n",
    " [5, 5, 5]\n",
    "]\n",
    "\n",
    "\n",
    "2. Create a method that takes n Numpy arrays of same dimensions sums them and return the answer.\n",
    "\n",
    "\n",
    "3. Given a 2 D Array of N X M Dimension, Write a function that accepts this array as well as two numbers N and M. The method should return the top-left N X M sub matrix e.g:\n",
    " [\n",
    " [1, 2, 3],\n",
    " [4, 5, 6],\n",
    " [7, 8, 9],\n",
    " ]\n",
    "top_left_sub_matrix (matrix, 2, 2) -> should return:\n",
    " [\n",
    " [1, 2]\n",
    " [4, 5]\n",
    " ]\n",
    "\n",
    "\n",
    "4. Given a 2 D Array of N X M Dimension, Write a function that accepts this array as well as two \n",
    "numbers N and M The method should return the bottom-right N X M sub matrix e.g.:\n",
    " [\n",
    " [1, 2, 3],\n",
    " [4, 5, 6],\n",
    " [7, 8, 9],\n",
    " ]\n",
    "sub_matrix(matrix, 1, 1) -> should return : (Keep in mind these arrays are zero indexed)\n",
    " [\n",
    " [5, 6]\n",
    " [8, 9]\n",
    " ]\n",
    "\n",
    "\n",
    "5. Given a 1 D Numpy Array. Write a function that accepts this array as parameters. The method \n",
    "should return a dictionary with 'mean' and 'std_dev' as key and array's mean and array's \n",
    "standard deviation as values:\n",
    " [1, 1, 1]\n",
    "solution(arr) -> should return :\n",
    " {'mean': 1.0, 'std_dev': 0.0)"
   ]
  },
  {
   "cell_type": "code",
   "execution_count": 4,
   "id": "df118b59",
   "metadata": {},
   "outputs": [
    {
     "name": "stdout",
     "output_type": "stream",
     "text": [
      "[[5 5 5]\n",
      " [5 5 5]\n",
      " [5 5 5]]\n"
     ]
    }
   ],
   "source": [
    "# Taking tuple in function argument and generate an array\n",
    "\n",
    "import numpy as np\n",
    "\n",
    "def solve(dim_tuple,fillnumber):\n",
    "\n",
    "    return np.full(dim_tuple,fillnumber)\n",
    "\n",
    "x= solve((3,3),5)\n",
    "\n",
    "print(x)"
   ]
  },
  {
   "cell_type": "code",
   "execution_count": 37,
   "id": "7da2283a",
   "metadata": {},
   "outputs": [
    {
     "name": "stdout",
     "output_type": "stream",
     "text": [
      "Result after adding:\n",
      "\n",
      "[60, 26, 16, 300, 90]\n"
     ]
    }
   ],
   "source": [
    "# NumPy 1D Array Sums\n",
    "\n",
    "from numpy import *\n",
    "\n",
    "arr1 = array([5,10,15,20,30])\n",
    "arr2 = array([55,16,1,280,60])\n",
    "\n",
    "def add(*arr):\n",
    "    arr3 = ([])\n",
    "    k =0\n",
    "    for num1 in arr1:\n",
    "        num3 = num1 + arr2[k]\n",
    "        arr3.append(num3)\n",
    "        k +=1\n",
    "    print(\"Result after adding:\\n\")    \n",
    "    print(arr3)\n",
    "    \n",
    "add(arr1, arr2)"
   ]
  },
  {
   "cell_type": "code",
   "execution_count": 8,
   "id": "ef3e4b0f",
   "metadata": {},
   "outputs": [
    {
     "name": "stdout",
     "output_type": "stream",
     "text": [
      "Enter no of Rows: 3\n",
      "Enter no of Columns: 3\n",
      "Enter element: 1\n",
      "Enter element: 2\n",
      "Enter element: 3\n",
      "Enter element: 4\n",
      "Enter element: 5\n",
      "Enter element: 6\n",
      "Enter element: 7\n",
      "Enter element: 8\n",
      "Enter element: 9\n",
      "Input Matrix:\n",
      " [[1 2 3]\n",
      " [4 5 6]\n",
      " [7 8 9]]\n",
      "\n",
      " Shape of Input Matrix:  (3, 3)\n",
      "\n",
      "Slicing Matrix:\n",
      " [[1 2]\n",
      " [4 5]]\n",
      "\n",
      "Shape of Slicing Matrix:  (2, 2)\n"
     ]
    }
   ],
   "source": [
    "# Numpy 2D array User input & Top left corner slicing matrix\n",
    "\n",
    "from numpy import *\n",
    "import numpy as np\n",
    "\n",
    "def sliceMatrix():\n",
    "    \n",
    "    m = int(input(\"Enter no of Rows: \"))\n",
    "    n = int(input(\"Enter no of Columns: \"))\n",
    "    # Initialize Matrix by zeros\n",
    "    a = zeros((m,n), dtype=int)\n",
    "    u=len(a)\n",
    "    \n",
    "    # Taking input from User \n",
    "    for i in range(u):\n",
    "            for j in range(len(a[i])):\n",
    "                x= int(input(\"Enter element: \"))\n",
    "                a[i][j] = x\n",
    "                \n",
    "    print(\"Input Matrix:\\n\",a)\n",
    "    print(\"\\n Shape of Input Matrix: \",a.shape)\n",
    "    \n",
    "    b = a[:m-1,:n-1]\n",
    "    print(\"\\nSlicing Matrix:\\n\", b)\n",
    "    print(\"\\nShape of Slicing Matrix: \",b.shape)\n",
    "    \n",
    "sliceMatrix()"
   ]
  },
  {
   "cell_type": "code",
   "execution_count": 9,
   "id": "e352fc29",
   "metadata": {},
   "outputs": [
    {
     "name": "stdout",
     "output_type": "stream",
     "text": [
      "Enter no of Rows: 3\n",
      "Enter no of Columns: 3\n",
      "Enter element: 1\n",
      "Enter element: 2\n",
      "Enter element: 3\n",
      "Enter element: 4\n",
      "Enter element: 5\n",
      "Enter element: 6\n",
      "Enter element: 7\n",
      "Enter element: 8\n",
      "Enter element: 9\n",
      "Input Matrix:\n",
      " [[1 2 3]\n",
      " [4 5 6]\n",
      " [7 8 9]]\n",
      "\n",
      " Shape of Input Matrix:  (3, 3)\n",
      "\n",
      "Slicing Matrix:\n",
      " [[5 6]\n",
      " [8 9]]\n",
      "\n",
      "Shape of Slicing Matrix:  (2, 2)\n"
     ]
    }
   ],
   "source": [
    "# Numpy 2D array User input & Bottom Right corner slicing matrix\n",
    "\n",
    "from numpy import *\n",
    "import numpy as np\n",
    "\n",
    "def BsliceMatrix():\n",
    "    \n",
    "    m = int(input(\"Enter no of Rows: \"))\n",
    "    n = int(input(\"Enter no of Columns: \"))\n",
    "    # Initialize Matrix by zeros\n",
    "    a = zeros((m,n), dtype=int)\n",
    "    u=len(a)\n",
    "    \n",
    "    # Taking input from User \n",
    "    for i in range(u):\n",
    "            for j in range(len(a[i])):\n",
    "                x= int(input(\"Enter element: \"))\n",
    "                a[i][j] = x\n",
    "                \n",
    "    print(\"Input Matrix:\\n\",a)\n",
    "    print(\"\\n Shape of Input Matrix: \",a.shape)\n",
    "    \n",
    "    b = a[m-2:,n-2:]\n",
    "    print(\"\\nSlicing Matrix:\\n\", b)\n",
    "    print(\"\\nShape of Slicing Matrix: \",b.shape)\n",
    "    \n",
    "BsliceMatrix()"
   ]
  },
  {
   "cell_type": "code",
   "execution_count": 20,
   "id": "3a198685",
   "metadata": {},
   "outputs": [
    {
     "name": "stdout",
     "output_type": "stream",
     "text": [
      "Enter number of elements : 3\n",
      "Enter Elemnt: 1\n",
      "Enter Elemnt: 1\n",
      "Enter Elemnt: 1\n",
      "Your entered 1D Array:  [1 1 1]\n",
      "\n",
      "Mean:  1.0\n",
      "Std_Div:  0.0\n"
     ]
    }
   ],
   "source": [
    "# Using User defined 1D array to calculate Mean & Standard Deviation\n",
    "\n",
    "from numpy import *\n",
    "import numpy as np\n",
    "\n",
    "def getArray():\n",
    "    lst = []\n",
    "    \n",
    "    # number of elements as input\n",
    "    n = int(input(\"Enter number of elements : \"))\n",
    "    \n",
    "    # iterating till the range\n",
    "    for i in range(0, n):\n",
    "        ele = int(input(\"Enter Elemnt: \"))\n",
    "        lst.append(ele)\n",
    "    \n",
    "    # Converting List to Array\n",
    "    a = np.array(lst)\n",
    "    print(\"Your entered 1D Array: \", a)\n",
    "    \n",
    "    # Calculating Mean & Std_Dev\n",
    "    r1 = np.mean(a)\n",
    "    print(\"\\nMean: \", r1)\n",
    "    \n",
    "    r2 = np.std(a)\n",
    "    print(\"Std_Dev: \", r2)\n",
    "    \n",
    "getArray()\n"
   ]
  }
 ],
 "metadata": {
  "kernelspec": {
   "display_name": "Python 3 (ipykernel)",
   "language": "python",
   "name": "python3"
  },
  "language_info": {
   "codemirror_mode": {
    "name": "ipython",
    "version": 3
   },
   "file_extension": ".py",
   "mimetype": "text/x-python",
   "name": "python",
   "nbconvert_exporter": "python",
   "pygments_lexer": "ipython3",
   "version": "3.9.7"
  }
 },
 "nbformat": 4,
 "nbformat_minor": 5
}
